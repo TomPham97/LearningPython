{
 "cells": [
  {
   "cell_type": "markdown",
   "id": "a019c8be",
   "metadata": {
    "papermill": {
     "duration": 0.034764,
     "end_time": "2022-04-21T16:02:50.836967",
     "exception": false,
     "start_time": "2022-04-21T16:02:50.802203",
     "status": "completed"
    },
    "tags": []
   },
   "source": [
    "**This notebook is an exercise in the [Python](https://www.kaggle.com/learn/python) course.  You can reference the tutorial at [this link](https://www.kaggle.com/colinmorris/booleans-and-conditionals).**\n",
    "\n",
    "---\n"
   ]
  },
  {
   "cell_type": "markdown",
   "id": "403f4e3b",
   "metadata": {
    "papermill": {
     "duration": 0.032771,
     "end_time": "2022-04-21T16:02:50.905173",
     "exception": false,
     "start_time": "2022-04-21T16:02:50.872402",
     "status": "completed"
    },
    "tags": []
   },
   "source": [
    "In this exercise, you'll put to work what you have learned about booleans and conditionals.\n",
    "\n",
    "To get started, **run the setup code below** before writing your own code (and if you leave this notebook and come back later, don't forget to run the setup code again)."
   ]
  },
  {
   "cell_type": "code",
   "execution_count": 1,
   "id": "de31a03d",
   "metadata": {
    "execution": {
     "iopub.execute_input": "2022-04-21T16:02:50.973675Z",
     "iopub.status.busy": "2022-04-21T16:02:50.973284Z",
     "iopub.status.idle": "2022-04-21T16:02:51.015703Z",
     "shell.execute_reply": "2022-04-21T16:02:51.014614Z"
    },
    "papermill": {
     "duration": 0.079655,
     "end_time": "2022-04-21T16:02:51.018022",
     "exception": false,
     "start_time": "2022-04-21T16:02:50.938367",
     "status": "completed"
    },
    "tags": []
   },
   "outputs": [
    {
     "name": "stdout",
     "output_type": "stream",
     "text": [
      "Setup complete.\n"
     ]
    }
   ],
   "source": [
    "from learntools.core import binder; binder.bind(globals())\n",
    "from learntools.python.ex3 import *\n",
    "print('Setup complete.')"
   ]
  },
  {
   "cell_type": "markdown",
   "id": "ccea6822",
   "metadata": {
    "papermill": {
     "duration": 0.033908,
     "end_time": "2022-04-21T16:02:51.086416",
     "exception": false,
     "start_time": "2022-04-21T16:02:51.052508",
     "status": "completed"
    },
    "tags": []
   },
   "source": [
    "# 1.\n",
    "\n",
    "Many programming languages have [`sign`](https://en.wikipedia.org/wiki/Sign_function) available as a built-in function. Python doesn't, but we can define our own!\n",
    "\n",
    "In the cell below, define a function called `sign` which takes a numerical argument and returns -1 if it's negative, 1 if it's positive, and 0 if it's 0."
   ]
  },
  {
   "cell_type": "code",
   "execution_count": 2,
   "id": "b868fd32",
   "metadata": {
    "execution": {
     "iopub.execute_input": "2022-04-21T16:02:51.169373Z",
     "iopub.status.busy": "2022-04-21T16:02:51.168798Z",
     "iopub.status.idle": "2022-04-21T16:02:51.178220Z",
     "shell.execute_reply": "2022-04-21T16:02:51.177686Z"
    },
    "papermill": {
     "duration": 0.054783,
     "end_time": "2022-04-21T16:02:51.180009",
     "exception": false,
     "start_time": "2022-04-21T16:02:51.125226",
     "status": "completed"
    },
    "tags": []
   },
   "outputs": [
    {
     "data": {
      "application/javascript": [
       "parent.postMessage({\"jupyterEvent\": \"custom.exercise_interaction\", \"data\": {\"outcomeType\": 1, \"valueTowardsCompletion\": 0.2, \"interactionType\": 1, \"questionType\": 2, \"questionId\": \"1_SignFunctionProblem\", \"learnToolsVersion\": \"0.3.4\", \"failureMessage\": \"\", \"exceptionClass\": \"\", \"trace\": \"\"}}, \"*\")"
      ],
      "text/plain": [
       "<IPython.core.display.Javascript object>"
      ]
     },
     "metadata": {},
     "output_type": "display_data"
    },
    {
     "data": {
      "text/markdown": [
       "<span style=\"color:#33cc33\">Correct</span>"
      ],
      "text/plain": [
       "Correct"
      ]
     },
     "metadata": {},
     "output_type": "display_data"
    }
   ],
   "source": [
    "# Your code goes here. Define a function called 'sign'\n",
    "def sign(x):\n",
    "    \"\"\" Takes a numerical argument and returns -1 if it's negative,\n",
    "    1 if it's positive,\n",
    "    and 0 if it's 0.\n",
    "    \n",
    "    >>> sign(-4)\n",
    "    -1\n",
    "    \"\"\"\n",
    "    if x > 0:\n",
    "        return 1\n",
    "    elif x < 0:\n",
    "        return -1\n",
    "    else:\n",
    "        return 0\n",
    "\n",
    "# Check your answer\n",
    "q1.check()"
   ]
  },
  {
   "cell_type": "code",
   "execution_count": 3,
   "id": "5687c93d",
   "metadata": {
    "execution": {
     "iopub.execute_input": "2022-04-21T16:02:51.251146Z",
     "iopub.status.busy": "2022-04-21T16:02:51.250653Z",
     "iopub.status.idle": "2022-04-21T16:02:51.253753Z",
     "shell.execute_reply": "2022-04-21T16:02:51.253266Z"
    },
    "papermill": {
     "duration": 0.040835,
     "end_time": "2022-04-21T16:02:51.255531",
     "exception": false,
     "start_time": "2022-04-21T16:02:51.214696",
     "status": "completed"
    },
    "tags": []
   },
   "outputs": [],
   "source": [
    "#q1.solution()"
   ]
  },
  {
   "cell_type": "markdown",
   "id": "69c1ec98",
   "metadata": {
    "papermill": {
     "duration": 0.035849,
     "end_time": "2022-04-21T16:02:51.327063",
     "exception": false,
     "start_time": "2022-04-21T16:02:51.291214",
     "status": "completed"
    },
    "tags": []
   },
   "source": [
    "# 2.\n",
    "\n",
    "We've decided to add \"logging\" to our `to_smash` function from the previous exercise."
   ]
  },
  {
   "cell_type": "code",
   "execution_count": 4,
   "id": "a161b761",
   "metadata": {
    "execution": {
     "iopub.execute_input": "2022-04-21T16:02:51.399511Z",
     "iopub.status.busy": "2022-04-21T16:02:51.399002Z",
     "iopub.status.idle": "2022-04-21T16:02:51.406209Z",
     "shell.execute_reply": "2022-04-21T16:02:51.405457Z"
    },
    "papermill": {
     "duration": 0.046332,
     "end_time": "2022-04-21T16:02:51.408569",
     "exception": false,
     "start_time": "2022-04-21T16:02:51.362237",
     "status": "completed"
    },
    "tags": []
   },
   "outputs": [
    {
     "name": "stdout",
     "output_type": "stream",
     "text": [
      "Splitting 91 candies\n"
     ]
    },
    {
     "data": {
      "text/plain": [
       "1"
      ]
     },
     "execution_count": 4,
     "metadata": {},
     "output_type": "execute_result"
    }
   ],
   "source": [
    "def to_smash(total_candies):\n",
    "    \"\"\"Return the number of leftover candies that must be smashed after distributing\n",
    "    the given number of candies evenly between 3 friends.\n",
    "    \n",
    "    >>> to_smash(91)\n",
    "    1\n",
    "    \"\"\"\n",
    "    print(\"Splitting\", total_candies, \"candies\")\n",
    "    return total_candies % 3\n",
    "\n",
    "to_smash(91)"
   ]
  },
  {
   "cell_type": "markdown",
   "id": "c98e3c4a",
   "metadata": {
    "papermill": {
     "duration": 0.035329,
     "end_time": "2022-04-21T16:02:51.480352",
     "exception": false,
     "start_time": "2022-04-21T16:02:51.445023",
     "status": "completed"
    },
    "tags": []
   },
   "source": [
    "What happens if we call it with `total_candies = 1`?"
   ]
  },
  {
   "cell_type": "code",
   "execution_count": 5,
   "id": "47663771",
   "metadata": {
    "execution": {
     "iopub.execute_input": "2022-04-21T16:02:51.559405Z",
     "iopub.status.busy": "2022-04-21T16:02:51.558889Z",
     "iopub.status.idle": "2022-04-21T16:02:51.566824Z",
     "shell.execute_reply": "2022-04-21T16:02:51.566100Z"
    },
    "papermill": {
     "duration": 0.053158,
     "end_time": "2022-04-21T16:02:51.569120",
     "exception": false,
     "start_time": "2022-04-21T16:02:51.515962",
     "status": "completed"
    },
    "tags": []
   },
   "outputs": [
    {
     "name": "stdout",
     "output_type": "stream",
     "text": [
      "Splitting 1 candies\n"
     ]
    },
    {
     "data": {
      "text/plain": [
       "1"
      ]
     },
     "execution_count": 5,
     "metadata": {},
     "output_type": "execute_result"
    }
   ],
   "source": [
    "to_smash(1)"
   ]
  },
  {
   "cell_type": "markdown",
   "id": "ebc84c1e",
   "metadata": {
    "papermill": {
     "duration": 0.038973,
     "end_time": "2022-04-21T16:02:51.650310",
     "exception": false,
     "start_time": "2022-04-21T16:02:51.611337",
     "status": "completed"
    },
    "tags": []
   },
   "source": [
    "That isn't great grammar!\n",
    "\n",
    "Modify the definition in the cell below to correct the grammar of our print statement. (If there's only one candy, we should use the singular \"candy\" instead of the plural \"candies\")"
   ]
  },
  {
   "cell_type": "code",
   "execution_count": 6,
   "id": "d12920e2",
   "metadata": {
    "execution": {
     "iopub.execute_input": "2022-04-21T16:02:51.725051Z",
     "iopub.status.busy": "2022-04-21T16:02:51.724769Z",
     "iopub.status.idle": "2022-04-21T16:02:51.732928Z",
     "shell.execute_reply": "2022-04-21T16:02:51.731927Z"
    },
    "papermill": {
     "duration": 0.048558,
     "end_time": "2022-04-21T16:02:51.735290",
     "exception": false,
     "start_time": "2022-04-21T16:02:51.686732",
     "status": "completed"
    },
    "tags": []
   },
   "outputs": [
    {
     "name": "stdout",
     "output_type": "stream",
     "text": [
      "Splitting 91 candies\n",
      "Splitting 1 candy\n"
     ]
    },
    {
     "data": {
      "text/plain": [
       "1"
      ]
     },
     "execution_count": 6,
     "metadata": {},
     "output_type": "execute_result"
    }
   ],
   "source": [
    "def to_smash(total_candies):\n",
    "    \"\"\"Return the number of leftover candies that must be smashed after distributing\n",
    "    the given number of candies evenly between 3 friends.\n",
    "    \n",
    "    >>> to_smash(91)\n",
    "    1\n",
    "    \"\"\"\n",
    "    print(\"Splitting\", total_candies,\n",
    "          \"candies\" if total_candies >= 2\n",
    "          else \"candy\")\n",
    "    return total_candies % 3\n",
    "\n",
    "to_smash(91)\n",
    "to_smash(1)"
   ]
  },
  {
   "cell_type": "markdown",
   "id": "93901f0b",
   "metadata": {
    "papermill": {
     "duration": 0.037166,
     "end_time": "2022-04-21T16:02:51.809953",
     "exception": false,
     "start_time": "2022-04-21T16:02:51.772787",
     "status": "completed"
    },
    "tags": []
   },
   "source": [
    "To get credit for completing this problem, and to see the official answer, run the code cell below."
   ]
  },
  {
   "cell_type": "code",
   "execution_count": 7,
   "id": "4509bd4e",
   "metadata": {
    "execution": {
     "iopub.execute_input": "2022-04-21T16:02:51.886711Z",
     "iopub.status.busy": "2022-04-21T16:02:51.886182Z",
     "iopub.status.idle": "2022-04-21T16:02:51.892380Z",
     "shell.execute_reply": "2022-04-21T16:02:51.891825Z"
    },
    "papermill": {
     "duration": 0.046657,
     "end_time": "2022-04-21T16:02:51.894157",
     "exception": false,
     "start_time": "2022-04-21T16:02:51.847500",
     "status": "completed"
    },
    "tags": []
   },
   "outputs": [
    {
     "data": {
      "application/javascript": [
       "parent.postMessage({\"jupyterEvent\": \"custom.exercise_interaction\", \"data\": {\"interactionType\": 3, \"questionType\": 4, \"questionId\": \"2_PluralizationProblem\", \"learnToolsVersion\": \"0.3.4\", \"valueTowardsCompletion\": 0.0, \"failureMessage\": \"\", \"exceptionClass\": \"\", \"trace\": \"\", \"outcomeType\": 4}}, \"*\")"
      ],
      "text/plain": [
       "<IPython.core.display.Javascript object>"
      ]
     },
     "metadata": {},
     "output_type": "display_data"
    },
    {
     "data": {
      "text/markdown": [
       "<span style=\"color:#33cc99\">Solution:</span> A straightforward (and totally fine) solution is to replace the original `print` call with:\n",
       "\n",
       "```python\n",
       "if total_candies == 1:\n",
       "    print(\"Splitting 1 candy\")\n",
       "else:\n",
       "    print(\"Splitting\", total_candies, \"candies\")\n",
       "```\n",
       "\n",
       "Here's a slightly more succinct solution using a conditional expression:\n",
       "\n",
       "```python\n",
       "print(\"Splitting\", total_candies, \"candy\" if total_candies == 1 else \"candies\")\n",
       "```"
      ],
      "text/plain": [
       "Solution: A straightforward (and totally fine) solution is to replace the original `print` call with:\n",
       "\n",
       "```python\n",
       "if total_candies == 1:\n",
       "    print(\"Splitting 1 candy\")\n",
       "else:\n",
       "    print(\"Splitting\", total_candies, \"candies\")\n",
       "```\n",
       "\n",
       "Here's a slightly more succinct solution using a conditional expression:\n",
       "\n",
       "```python\n",
       "print(\"Splitting\", total_candies, \"candy\" if total_candies == 1 else \"candies\")\n",
       "```"
      ]
     },
     "metadata": {},
     "output_type": "display_data"
    }
   ],
   "source": [
    "# Check your answer (Run this code cell to receive credit!)\n",
    "q2.solution()"
   ]
  },
  {
   "cell_type": "markdown",
   "id": "e5925ab4",
   "metadata": {
    "papermill": {
     "duration": 0.038643,
     "end_time": "2022-04-21T16:02:51.971578",
     "exception": false,
     "start_time": "2022-04-21T16:02:51.932935",
     "status": "completed"
    },
    "tags": []
   },
   "source": [
    "# 3. <span title=\"A bit spicy\" style=\"color: darkgreen \">🌶️</span>\n",
    "\n",
    "In the tutorial, we talked about deciding whether we're prepared for the weather. I said that I'm safe from today's weather if...\n",
    "- I have an umbrella...\n",
    "- or if the rain isn't too heavy and I have a hood...\n",
    "- otherwise, I'm still fine unless it's raining *and* it's a workday\n",
    "\n",
    "The function below uses our first attempt at turning this logic into a Python expression. I claimed that there was a bug in that code. Can you find it?\n",
    "\n",
    "To prove that `prepared_for_weather` is buggy, come up with a set of inputs where either:\n",
    "- the function returns `False` (but should have returned `True`), or\n",
    "- the function returned `True` (but should have returned `False`).\n",
    "\n",
    "To get credit for completing this question, your code should return a <font color='#33cc33'>Correct</font> result."
   ]
  },
  {
   "cell_type": "code",
   "execution_count": 8,
   "id": "bb9e7668",
   "metadata": {
    "execution": {
     "iopub.execute_input": "2022-04-21T16:02:52.059112Z",
     "iopub.status.busy": "2022-04-21T16:02:52.058615Z",
     "iopub.status.idle": "2022-04-21T16:02:52.068076Z",
     "shell.execute_reply": "2022-04-21T16:02:52.067531Z"
    },
    "papermill": {
     "duration": 0.057879,
     "end_time": "2022-04-21T16:02:52.070793",
     "exception": false,
     "start_time": "2022-04-21T16:02:52.012914",
     "status": "completed"
    },
    "tags": []
   },
   "outputs": [
    {
     "name": "stdout",
     "output_type": "stream",
     "text": [
      "True\n"
     ]
    },
    {
     "data": {
      "application/javascript": [
       "parent.postMessage({\"jupyterEvent\": \"custom.exercise_interaction\", \"data\": {\"outcomeType\": 2, \"failureMessage\": \"Given `have_umbrella=True`, `rain_level=0.0`, `have_hood=True`, `is_workday=True`, `prepared_for_weather` returned `True`. But I think that's correct. (We want inputs that lead to an incorrect result from `prepared_for_weather`.)\", \"interactionType\": 1, \"questionType\": 1, \"questionId\": \"3_WeatherDebug\", \"learnToolsVersion\": \"0.3.4\", \"valueTowardsCompletion\": 0.0, \"exceptionClass\": \"\", \"trace\": \"\"}}, \"*\")"
      ],
      "text/plain": [
       "<IPython.core.display.Javascript object>"
      ]
     },
     "metadata": {},
     "output_type": "display_data"
    },
    {
     "data": {
      "text/markdown": [
       "<span style=\"color:#cc3333\">Incorrect:</span> Given `have_umbrella=True`, `rain_level=0.0`, `have_hood=True`, `is_workday=True`, `prepared_for_weather` returned `True`. But I think that's correct. (We want inputs that lead to an incorrect result from `prepared_for_weather`.)"
      ],
      "text/plain": [
       "Incorrect: Given `have_umbrella=True`, `rain_level=0.0`, `have_hood=True`, `is_workday=True`, `prepared_for_weather` returned `True`. But I think that's correct. (We want inputs that lead to an incorrect result from `prepared_for_weather`.)"
      ]
     },
     "metadata": {},
     "output_type": "display_data"
    }
   ],
   "source": [
    "def prepared_for_weather(have_umbrella, rain_level, have_hood, is_workday):\n",
    "    # Don't change this code. Our goal is just to find the bug, not fix it!\n",
    "    return have_umbrella or rain_level < 5 and have_hood or not rain_level > 0 and is_workday\n",
    "\n",
    "# Change the values of these inputs so they represent a case where prepared_for_weather\n",
    "# returns the wrong answer.\n",
    "have_umbrella = True\n",
    "rain_level = 0.0\n",
    "have_hood = True\n",
    "is_workday = True\n",
    "\n",
    "# Check what the function returns given the current values of the variables above\n",
    "actual = prepared_for_weather(have_umbrella, rain_level, have_hood, is_workday)\n",
    "print(actual)\n",
    "\n",
    "# Check your answer\n",
    "q3.check()"
   ]
  },
  {
   "cell_type": "code",
   "execution_count": 9,
   "id": "6abb887c",
   "metadata": {
    "execution": {
     "iopub.execute_input": "2022-04-21T16:02:52.157545Z",
     "iopub.status.busy": "2022-04-21T16:02:52.156860Z",
     "iopub.status.idle": "2022-04-21T16:02:52.162734Z",
     "shell.execute_reply": "2022-04-21T16:02:52.162212Z"
    },
    "papermill": {
     "duration": 0.048922,
     "end_time": "2022-04-21T16:02:52.164305",
     "exception": false,
     "start_time": "2022-04-21T16:02:52.115383",
     "status": "completed"
    },
    "tags": []
   },
   "outputs": [
    {
     "data": {
      "application/javascript": [
       "parent.postMessage({\"jupyterEvent\": \"custom.exercise_interaction\", \"data\": {\"interactionType\": 2, \"questionType\": 1, \"questionId\": \"3_WeatherDebug\", \"learnToolsVersion\": \"0.3.4\", \"valueTowardsCompletion\": 0.0, \"failureMessage\": \"\", \"exceptionClass\": \"\", \"trace\": \"\", \"outcomeType\": 4}}, \"*\")"
      ],
      "text/plain": [
       "<IPython.core.display.Javascript object>"
      ]
     },
     "metadata": {},
     "output_type": "display_data"
    },
    {
     "data": {
      "text/markdown": [
       "<span style=\"color:#3366cc\">Hint:</span> Take a look at how we fixed our original expression in the main lesson. We added parentheses around certain subexpressions. The bug in this code is caused by Python evaluating certain operations in the \"wrong\" order."
      ],
      "text/plain": [
       "Hint: Take a look at how we fixed our original expression in the main lesson. We added parentheses around certain subexpressions. The bug in this code is caused by Python evaluating certain operations in the \"wrong\" order."
      ]
     },
     "metadata": {},
     "output_type": "display_data"
    }
   ],
   "source": [
    "q3.hint()\n",
    "#q3.solution()"
   ]
  },
  {
   "cell_type": "markdown",
   "id": "5ad5939f",
   "metadata": {
    "papermill": {
     "duration": 0.040666,
     "end_time": "2022-04-21T16:02:52.245868",
     "exception": false,
     "start_time": "2022-04-21T16:02:52.205202",
     "status": "completed"
    },
    "tags": []
   },
   "source": [
    "# 4.\n",
    "\n",
    "The function `is_negative` below is implemented correctly - it returns True if the given number is negative and False otherwise.\n",
    "\n",
    "However, it's more verbose than it needs to be. We can actually reduce the number of lines of code in this function by *75%* while keeping the same behaviour. \n",
    "\n",
    "See if you can come up with an equivalent body that uses just **one line** of code, and put it in the function `concise_is_negative`. (HINT: you don't even need Python's ternary syntax)"
   ]
  },
  {
   "cell_type": "code",
   "execution_count": 10,
   "id": "8abb64ba",
   "metadata": {
    "execution": {
     "iopub.execute_input": "2022-04-21T16:02:52.330970Z",
     "iopub.status.busy": "2022-04-21T16:02:52.330483Z",
     "iopub.status.idle": "2022-04-21T16:02:52.337182Z",
     "shell.execute_reply": "2022-04-21T16:02:52.336577Z"
    },
    "papermill": {
     "duration": 0.05084,
     "end_time": "2022-04-21T16:02:52.338854",
     "exception": false,
     "start_time": "2022-04-21T16:02:52.288014",
     "status": "completed"
    },
    "tags": []
   },
   "outputs": [
    {
     "data": {
      "application/javascript": [
       "parent.postMessage({\"jupyterEvent\": \"custom.exercise_interaction\", \"data\": {\"outcomeType\": 1, \"valueTowardsCompletion\": 0.2, \"interactionType\": 1, \"questionType\": 2, \"questionId\": \"4_ConciseIsNegative\", \"learnToolsVersion\": \"0.3.4\", \"failureMessage\": \"\", \"exceptionClass\": \"\", \"trace\": \"\"}}, \"*\")"
      ],
      "text/plain": [
       "<IPython.core.display.Javascript object>"
      ]
     },
     "metadata": {},
     "output_type": "display_data"
    },
    {
     "data": {
      "text/markdown": [
       "<span style=\"color:#33cc33\">Correct</span>"
      ],
      "text/plain": [
       "Correct"
      ]
     },
     "metadata": {},
     "output_type": "display_data"
    }
   ],
   "source": [
    "def is_negative(number):\n",
    "    if number < 0:\n",
    "        return True\n",
    "    else:\n",
    "        return False\n",
    "\n",
    "def concise_is_negative(number):\n",
    "    return number < 0\n",
    "\n",
    "# Check your answer\n",
    "q4.check()"
   ]
  },
  {
   "cell_type": "code",
   "execution_count": 11,
   "id": "811474c0",
   "metadata": {
    "execution": {
     "iopub.execute_input": "2022-04-21T16:02:52.425524Z",
     "iopub.status.busy": "2022-04-21T16:02:52.425084Z",
     "iopub.status.idle": "2022-04-21T16:02:52.435405Z",
     "shell.execute_reply": "2022-04-21T16:02:52.434661Z"
    },
    "papermill": {
     "duration": 0.056023,
     "end_time": "2022-04-21T16:02:52.437411",
     "exception": false,
     "start_time": "2022-04-21T16:02:52.381388",
     "status": "completed"
    },
    "tags": []
   },
   "outputs": [
    {
     "data": {
      "application/javascript": [
       "parent.postMessage({\"jupyterEvent\": \"custom.exercise_interaction\", \"data\": {\"interactionType\": 2, \"questionType\": 2, \"questionId\": \"4_ConciseIsNegative\", \"learnToolsVersion\": \"0.3.4\", \"valueTowardsCompletion\": 0.0, \"failureMessage\": \"\", \"exceptionClass\": \"\", \"trace\": \"\", \"outcomeType\": 4}}, \"*\")"
      ],
      "text/plain": [
       "<IPython.core.display.Javascript object>"
      ]
     },
     "metadata": {},
     "output_type": "display_data"
    },
    {
     "data": {
      "text/markdown": [
       "<span style=\"color:#3366cc\">Hint:</span> If the value of the expression `number < 0` is `True`, then we return `True`. If it's `False`, then we return `False`..."
      ],
      "text/plain": [
       "Hint: If the value of the expression `number < 0` is `True`, then we return `True`. If it's `False`, then we return `False`..."
      ]
     },
     "metadata": {},
     "output_type": "display_data"
    },
    {
     "data": {
      "application/javascript": [
       "parent.postMessage({\"jupyterEvent\": \"custom.exercise_interaction\", \"data\": {\"interactionType\": 3, \"questionType\": 2, \"questionId\": \"4_ConciseIsNegative\", \"learnToolsVersion\": \"0.3.4\", \"valueTowardsCompletion\": 0.0, \"failureMessage\": \"\", \"exceptionClass\": \"\", \"trace\": \"\", \"outcomeType\": 4}}, \"*\")"
      ],
      "text/plain": [
       "<IPython.core.display.Javascript object>"
      ]
     },
     "metadata": {},
     "output_type": "display_data"
    },
    {
     "data": {
      "text/markdown": [
       "<span style=\"color:#33cc99\">Solution:</span> \n",
       "```python\n",
       "return number < 0\n",
       "```"
      ],
      "text/plain": [
       "Solution: \n",
       "```python\n",
       "return number < 0\n",
       "```"
      ]
     },
     "metadata": {},
     "output_type": "display_data"
    }
   ],
   "source": [
    "q4.hint()\n",
    "q4.solution()"
   ]
  },
  {
   "cell_type": "markdown",
   "id": "536c9d6e",
   "metadata": {
    "papermill": {
     "duration": 0.04453,
     "end_time": "2022-04-21T16:02:52.527008",
     "exception": false,
     "start_time": "2022-04-21T16:02:52.482478",
     "status": "completed"
    },
    "tags": []
   },
   "source": [
    "# 5a.\n",
    "\n",
    "The boolean variables `ketchup`, `mustard` and `onion` represent whether a customer wants a particular topping on their hot dog. We want to implement a number of boolean functions that correspond to some yes-or-no questions about the customer's order. For example:"
   ]
  },
  {
   "cell_type": "code",
   "execution_count": 12,
   "id": "f7ac7b07",
   "metadata": {
    "execution": {
     "iopub.execute_input": "2022-04-21T16:02:52.618498Z",
     "iopub.status.busy": "2022-04-21T16:02:52.617778Z",
     "iopub.status.idle": "2022-04-21T16:02:52.621921Z",
     "shell.execute_reply": "2022-04-21T16:02:52.621199Z"
    },
    "papermill": {
     "duration": 0.051598,
     "end_time": "2022-04-21T16:02:52.623588",
     "exception": false,
     "start_time": "2022-04-21T16:02:52.571990",
     "status": "completed"
    },
    "tags": []
   },
   "outputs": [],
   "source": [
    "def onionless(ketchup, mustard, onion):\n",
    "    \"\"\"Return whether the customer doesn't want onions.\n",
    "    \"\"\"\n",
    "    return not onion"
   ]
  },
  {
   "cell_type": "code",
   "execution_count": 13,
   "id": "1aa790aa",
   "metadata": {
    "execution": {
     "iopub.execute_input": "2022-04-21T16:02:52.715279Z",
     "iopub.status.busy": "2022-04-21T16:02:52.715032Z",
     "iopub.status.idle": "2022-04-21T16:02:52.722103Z",
     "shell.execute_reply": "2022-04-21T16:02:52.721329Z"
    },
    "papermill": {
     "duration": 0.055231,
     "end_time": "2022-04-21T16:02:52.724080",
     "exception": false,
     "start_time": "2022-04-21T16:02:52.668849",
     "status": "completed"
    },
    "tags": []
   },
   "outputs": [
    {
     "data": {
      "application/javascript": [
       "parent.postMessage({\"jupyterEvent\": \"custom.exercise_interaction\", \"data\": {\"outcomeType\": 1, \"valueTowardsCompletion\": 0.2, \"interactionType\": 1, \"questionType\": 2, \"questionId\": \"5.1_AllToppings\", \"learnToolsVersion\": \"0.3.4\", \"failureMessage\": \"\", \"exceptionClass\": \"\", \"trace\": \"\"}}, \"*\")"
      ],
      "text/plain": [
       "<IPython.core.display.Javascript object>"
      ]
     },
     "metadata": {},
     "output_type": "display_data"
    },
    {
     "data": {
      "text/markdown": [
       "<span style=\"color:#33cc33\">Correct</span>"
      ],
      "text/plain": [
       "Correct"
      ]
     },
     "metadata": {},
     "output_type": "display_data"
    }
   ],
   "source": [
    "def wants_all_toppings(ketchup, mustard, onion):\n",
    "    \"\"\"Return whether the customer wants \"the works\" (all 3 toppings)\n",
    "    \"\"\"\n",
    "    return ketchup and mustard and onion\n",
    "\n",
    "# Check your answer\n",
    "q5.a.check()"
   ]
  },
  {
   "cell_type": "code",
   "execution_count": 14,
   "id": "6220d4a8",
   "metadata": {
    "execution": {
     "iopub.execute_input": "2022-04-21T16:02:52.817795Z",
     "iopub.status.busy": "2022-04-21T16:02:52.817218Z",
     "iopub.status.idle": "2022-04-21T16:02:52.821101Z",
     "shell.execute_reply": "2022-04-21T16:02:52.820253Z"
    },
    "papermill": {
     "duration": 0.052827,
     "end_time": "2022-04-21T16:02:52.822983",
     "exception": false,
     "start_time": "2022-04-21T16:02:52.770156",
     "status": "completed"
    },
    "tags": []
   },
   "outputs": [],
   "source": [
    "#q5.a.hint()\n",
    "#q5.a.solution()"
   ]
  },
  {
   "cell_type": "markdown",
   "id": "a54f7617",
   "metadata": {
    "papermill": {
     "duration": 0.046274,
     "end_time": "2022-04-21T16:02:52.915886",
     "exception": false,
     "start_time": "2022-04-21T16:02:52.869612",
     "status": "completed"
    },
    "tags": []
   },
   "source": [
    "# 5b.\n",
    "\n",
    "For the next function, fill in the body to match the English description in the docstring. "
   ]
  },
  {
   "cell_type": "code",
   "execution_count": 15,
   "id": "79c42f35",
   "metadata": {
    "execution": {
     "iopub.execute_input": "2022-04-21T16:02:53.011365Z",
     "iopub.status.busy": "2022-04-21T16:02:53.010586Z",
     "iopub.status.idle": "2022-04-21T16:02:53.017240Z",
     "shell.execute_reply": "2022-04-21T16:02:53.016731Z"
    },
    "papermill": {
     "duration": 0.057115,
     "end_time": "2022-04-21T16:02:53.019035",
     "exception": false,
     "start_time": "2022-04-21T16:02:52.961920",
     "status": "completed"
    },
    "tags": []
   },
   "outputs": [
    {
     "data": {
      "application/javascript": [
       "parent.postMessage({\"jupyterEvent\": \"custom.exercise_interaction\", \"data\": {\"outcomeType\": 1, \"valueTowardsCompletion\": 0.2, \"interactionType\": 1, \"questionType\": 2, \"questionId\": \"5.2_PlainDog\", \"learnToolsVersion\": \"0.3.4\", \"failureMessage\": \"\", \"exceptionClass\": \"\", \"trace\": \"\"}}, \"*\")"
      ],
      "text/plain": [
       "<IPython.core.display.Javascript object>"
      ]
     },
     "metadata": {},
     "output_type": "display_data"
    },
    {
     "data": {
      "text/markdown": [
       "<span style=\"color:#33cc33\">Correct:</span> \n",
       "\n",
       "One solution looks like:\n",
       "```python\n",
       "return not ketchup and not mustard and not onion\n",
       "```\n",
       "\n",
       "We can also [\"factor out\" the nots](https://en.wikipedia.org/wiki/De_Morgan%27s_laws) to get:\n",
       "\n",
       "```python\n",
       "return not (ketchup or mustard or onion)\n",
       "```"
      ],
      "text/plain": [
       "Correct: \n",
       "\n",
       "One solution looks like:\n",
       "```python\n",
       "return not ketchup and not mustard and not onion\n",
       "```\n",
       "\n",
       "We can also [\"factor out\" the nots](https://en.wikipedia.org/wiki/De_Morgan%27s_laws) to get:\n",
       "\n",
       "```python\n",
       "return not (ketchup or mustard or onion)\n",
       "```"
      ]
     },
     "metadata": {},
     "output_type": "display_data"
    }
   ],
   "source": [
    "def wants_plain_hotdog(ketchup, mustard, onion):\n",
    "    \"\"\"Return whether the customer wants a plain hot dog with no toppings.\n",
    "    \"\"\"\n",
    "    return not (ketchup or mustard or onion)\n",
    "\n",
    "# Check your answer\n",
    "q5.b.check()"
   ]
  },
  {
   "cell_type": "code",
   "execution_count": 16,
   "id": "e2483fd0",
   "metadata": {
    "execution": {
     "iopub.execute_input": "2022-04-21T16:02:53.122091Z",
     "iopub.status.busy": "2022-04-21T16:02:53.121479Z",
     "iopub.status.idle": "2022-04-21T16:02:53.127702Z",
     "shell.execute_reply": "2022-04-21T16:02:53.126511Z"
    },
    "papermill": {
     "duration": 0.063274,
     "end_time": "2022-04-21T16:02:53.130248",
     "exception": false,
     "start_time": "2022-04-21T16:02:53.066974",
     "status": "completed"
    },
    "tags": []
   },
   "outputs": [],
   "source": [
    "#q5.b.hint()\n",
    "#q5.b.solution()"
   ]
  },
  {
   "cell_type": "markdown",
   "id": "f6453458",
   "metadata": {
    "papermill": {
     "duration": 0.046563,
     "end_time": "2022-04-21T16:02:53.231167",
     "exception": false,
     "start_time": "2022-04-21T16:02:53.184604",
     "status": "completed"
    },
    "tags": []
   },
   "source": [
    "# 5c.\n",
    "\n",
    "You know what to do: for the next function, fill in the body to match the English description in the docstring."
   ]
  },
  {
   "cell_type": "code",
   "execution_count": 17,
   "id": "419148c5",
   "metadata": {
    "execution": {
     "iopub.execute_input": "2022-04-21T16:02:53.328407Z",
     "iopub.status.busy": "2022-04-21T16:02:53.327909Z",
     "iopub.status.idle": "2022-04-21T16:02:53.336848Z",
     "shell.execute_reply": "2022-04-21T16:02:53.336255Z"
    },
    "papermill": {
     "duration": 0.059667,
     "end_time": "2022-04-21T16:02:53.338665",
     "exception": false,
     "start_time": "2022-04-21T16:02:53.278998",
     "status": "completed"
    },
    "tags": []
   },
   "outputs": [
    {
     "data": {
      "application/javascript": [
       "parent.postMessage({\"jupyterEvent\": \"custom.exercise_interaction\", \"data\": {\"outcomeType\": 1, \"valueTowardsCompletion\": 0.2, \"interactionType\": 1, \"questionType\": 2, \"questionId\": \"5.3_OneSauce\", \"learnToolsVersion\": \"0.3.4\", \"failureMessage\": \"\", \"exceptionClass\": \"\", \"trace\": \"\"}}, \"*\")"
      ],
      "text/plain": [
       "<IPython.core.display.Javascript object>"
      ]
     },
     "metadata": {},
     "output_type": "display_data"
    },
    {
     "data": {
      "text/markdown": [
       "<span style=\"color:#33cc33\">Correct</span>"
      ],
      "text/plain": [
       "Correct"
      ]
     },
     "metadata": {},
     "output_type": "display_data"
    }
   ],
   "source": [
    "def exactly_one_sauce(ketchup, mustard, onion):\n",
    "    \"\"\"Return whether the customer wants either ketchup or mustard, but not both.\n",
    "    (You may be familiar with this operation under the name \"exclusive or\")\n",
    "    \"\"\"\n",
    "    if ketchup and mustard == True:\n",
    "        return False\n",
    "    elif (ketchup or mustard == True) and ketchup != mustard:\n",
    "        return True\n",
    "    else:\n",
    "        return False\n",
    "\n",
    "# Check your answer\n",
    "q5.c.check()"
   ]
  },
  {
   "cell_type": "code",
   "execution_count": 18,
   "id": "d5504251",
   "metadata": {
    "execution": {
     "iopub.execute_input": "2022-04-21T16:02:53.437926Z",
     "iopub.status.busy": "2022-04-21T16:02:53.437348Z",
     "iopub.status.idle": "2022-04-21T16:02:53.448381Z",
     "shell.execute_reply": "2022-04-21T16:02:53.447639Z"
    },
    "papermill": {
     "duration": 0.063155,
     "end_time": "2022-04-21T16:02:53.450347",
     "exception": false,
     "start_time": "2022-04-21T16:02:53.387192",
     "status": "completed"
    },
    "tags": []
   },
   "outputs": [
    {
     "data": {
      "application/javascript": [
       "parent.postMessage({\"jupyterEvent\": \"custom.exercise_interaction\", \"data\": {\"interactionType\": 2, \"questionType\": 2, \"questionId\": \"5.3_OneSauce\", \"learnToolsVersion\": \"0.3.4\", \"valueTowardsCompletion\": 0.0, \"failureMessage\": \"\", \"exceptionClass\": \"\", \"trace\": \"\", \"outcomeType\": 4}}, \"*\")"
      ],
      "text/plain": [
       "<IPython.core.display.Javascript object>"
      ]
     },
     "metadata": {},
     "output_type": "display_data"
    },
    {
     "data": {
      "text/markdown": [
       "<span style=\"color:#3366cc\">Hint:</span> There are exactly two ways to set ketchup and mustard to make this true. What are they?"
      ],
      "text/plain": [
       "Hint: There are exactly two ways to set ketchup and mustard to make this true. What are they?"
      ]
     },
     "metadata": {},
     "output_type": "display_data"
    },
    {
     "data": {
      "application/javascript": [
       "parent.postMessage({\"jupyterEvent\": \"custom.exercise_interaction\", \"data\": {\"interactionType\": 3, \"questionType\": 2, \"questionId\": \"5.3_OneSauce\", \"learnToolsVersion\": \"0.3.4\", \"valueTowardsCompletion\": 0.0, \"failureMessage\": \"\", \"exceptionClass\": \"\", \"trace\": \"\", \"outcomeType\": 4}}, \"*\")"
      ],
      "text/plain": [
       "<IPython.core.display.Javascript object>"
      ]
     },
     "metadata": {},
     "output_type": "display_data"
    },
    {
     "data": {
      "text/markdown": [
       "<span style=\"color:#33cc99\">Solution:</span> \n",
       "```python\n",
       "return (ketchup and not mustard) or (mustard and not ketchup)\n",
       "```"
      ],
      "text/plain": [
       "Solution: \n",
       "```python\n",
       "return (ketchup and not mustard) or (mustard and not ketchup)\n",
       "```"
      ]
     },
     "metadata": {},
     "output_type": "display_data"
    }
   ],
   "source": [
    "q5.c.hint()\n",
    "q5.c.solution()"
   ]
  },
  {
   "cell_type": "markdown",
   "id": "4babc62f",
   "metadata": {
    "papermill": {
     "duration": 0.050648,
     "end_time": "2022-04-21T16:02:53.552482",
     "exception": false,
     "start_time": "2022-04-21T16:02:53.501834",
     "status": "completed"
    },
    "tags": []
   },
   "source": [
    "# 6. <span title=\"A bit spicy\" style=\"color: darkgreen \">🌶️</span>\n",
    "\n",
    "We’ve seen that calling `bool()` on an integer returns `False` if it’s equal to 0 and `True` otherwise. What happens if we call `int()` on a bool? Try it out in the notebook cell below.\n",
    "\n",
    "Can you take advantage of this to write a succinct function that corresponds to the English sentence \"does the customer want exactly one topping?\"?"
   ]
  },
  {
   "cell_type": "code",
   "execution_count": 19,
   "id": "963e1da7",
   "metadata": {
    "execution": {
     "iopub.execute_input": "2022-04-21T16:02:53.656798Z",
     "iopub.status.busy": "2022-04-21T16:02:53.656255Z",
     "iopub.status.idle": "2022-04-21T16:02:53.664006Z",
     "shell.execute_reply": "2022-04-21T16:02:53.663444Z"
    },
    "papermill": {
     "duration": 0.062073,
     "end_time": "2022-04-21T16:02:53.665824",
     "exception": false,
     "start_time": "2022-04-21T16:02:53.603751",
     "status": "completed"
    },
    "tags": []
   },
   "outputs": [
    {
     "data": {
      "application/javascript": [
       "parent.postMessage({\"jupyterEvent\": \"custom.exercise_interaction\", \"data\": {\"outcomeType\": 4, \"interactionType\": 1, \"questionType\": 2, \"questionId\": \"6_OneTopping\", \"learnToolsVersion\": \"0.3.4\", \"valueTowardsCompletion\": 0.0, \"failureMessage\": \"\", \"exceptionClass\": \"\", \"trace\": \"\"}}, \"*\")"
      ],
      "text/plain": [
       "<IPython.core.display.Javascript object>"
      ]
     },
     "metadata": {},
     "output_type": "display_data"
    },
    {
     "data": {
      "text/markdown": [
       "<span style=\"color:#ccaa33\">Check:</span> When you've updated the starter code, `check()` will tell you whether your code is correct. "
      ],
      "text/plain": [
       "Check: When you've updated the starter code, `check()` will tell you whether your code is correct. "
      ]
     },
     "metadata": {},
     "output_type": "display_data"
    }
   ],
   "source": [
    "def exactly_one_topping(ketchup, mustard, onion):\n",
    "    \"\"\"Return whether the customer wants exactly one of the three available toppings\n",
    "    on their hot dog.\n",
    "    \"\"\"\n",
    "    pass\n",
    "\n",
    "# Check your answer\n",
    "q6.check()"
   ]
  },
  {
   "cell_type": "code",
   "execution_count": 20,
   "id": "124e202d",
   "metadata": {
    "execution": {
     "iopub.execute_input": "2022-04-21T16:02:53.773360Z",
     "iopub.status.busy": "2022-04-21T16:02:53.772859Z",
     "iopub.status.idle": "2022-04-21T16:02:53.776185Z",
     "shell.execute_reply": "2022-04-21T16:02:53.775633Z"
    },
    "papermill": {
     "duration": 0.058741,
     "end_time": "2022-04-21T16:02:53.777997",
     "exception": false,
     "start_time": "2022-04-21T16:02:53.719256",
     "status": "completed"
    },
    "tags": []
   },
   "outputs": [],
   "source": [
    "#q6.hint()\n",
    "#q6.solution()"
   ]
  },
  {
   "cell_type": "markdown",
   "id": "c049bcdf",
   "metadata": {
    "papermill": {
     "duration": 0.053897,
     "end_time": "2022-04-21T16:02:53.884831",
     "exception": false,
     "start_time": "2022-04-21T16:02:53.830934",
     "status": "completed"
    },
    "tags": []
   },
   "source": [
    "# 7. <span title=\"A bit spicy\" style=\"color: darkgreen \">🌶️</span> (Optional)\n",
    "\n",
    "In this problem we'll be working with a simplified version of [blackjack](https://en.wikipedia.org/wiki/Blackjack) (aka twenty-one). In this version there is one player (who you'll control) and a dealer. Play proceeds as follows:\n",
    "\n",
    "- The player is dealt two face-up cards. The dealer is dealt one face-up card.\n",
    "- The player may ask to be dealt another card ('hit') as many times as they wish. If the sum of their cards exceeds 21, they lose the round immediately.\n",
    "- The dealer then deals additional cards to himself until either:\n",
    "    - the sum of the dealer's cards exceeds 21, in which case the player wins the round\n",
    "    - the sum of the dealer's cards is greater than or equal to 17. If the player's total is greater than the dealer's, the player wins. Otherwise, the dealer wins (even in case of a tie).\n",
    "    \n",
    "When calculating the sum of cards, Jack, Queen, and King count for 10. Aces can count as 1 or 11 (when referring to a player's \"total\" above, we mean the largest total that can be made without exceeding 21. So e.g. A+8 = 19, A+8+8 = 17)\n",
    "\n",
    "For this problem, you'll write a function representing the player's decision-making strategy in this game. We've provided a very unintelligent implementation below:"
   ]
  },
  {
   "cell_type": "code",
   "execution_count": 21,
   "id": "67626ffd",
   "metadata": {
    "execution": {
     "iopub.execute_input": "2022-04-21T16:02:53.994448Z",
     "iopub.status.busy": "2022-04-21T16:02:53.993917Z",
     "iopub.status.idle": "2022-04-21T16:02:53.998748Z",
     "shell.execute_reply": "2022-04-21T16:02:53.998212Z"
    },
    "papermill": {
     "duration": 0.061621,
     "end_time": "2022-04-21T16:02:54.000569",
     "exception": false,
     "start_time": "2022-04-21T16:02:53.938948",
     "status": "completed"
    },
    "tags": []
   },
   "outputs": [],
   "source": [
    "def should_hit(dealer_total, player_total, player_low_aces, player_high_aces):\n",
    "    \"\"\"Return True if the player should hit (request another card) given the current game\n",
    "    state, or False if the player should stay.\n",
    "    When calculating a hand's total value, we count aces as \"high\" (with value 11) if doing so\n",
    "    doesn't bring the total above 21, otherwise we count them as low (with value 1). \n",
    "    For example, if the player's hand is {A, A, A, 7}, we will count it as 11 + 1 + 1 + 7,\n",
    "    and therefore set player_total=20, player_low_aces=2, player_high_aces=1.\n",
    "    \"\"\"\n",
    "    return False"
   ]
  },
  {
   "cell_type": "markdown",
   "id": "debc2057",
   "metadata": {
    "papermill": {
     "duration": 0.052943,
     "end_time": "2022-04-21T16:02:54.107271",
     "exception": false,
     "start_time": "2022-04-21T16:02:54.054328",
     "status": "completed"
    },
    "tags": []
   },
   "source": [
    "This very conservative agent *always* sticks with the hand of two cards that they're dealt.\n",
    "\n",
    "We'll be simulating games between your player agent and our own dealer agent by calling your function.\n",
    "\n",
    "Try running the function below to see an example of a simulated game:"
   ]
  },
  {
   "cell_type": "code",
   "execution_count": 22,
   "id": "85b12586",
   "metadata": {
    "execution": {
     "iopub.execute_input": "2022-04-21T16:02:54.216636Z",
     "iopub.status.busy": "2022-04-21T16:02:54.215923Z",
     "iopub.status.idle": "2022-04-21T16:02:54.222613Z",
     "shell.execute_reply": "2022-04-21T16:02:54.221667Z"
    },
    "papermill": {
     "duration": 0.063409,
     "end_time": "2022-04-21T16:02:54.224642",
     "exception": false,
     "start_time": "2022-04-21T16:02:54.161233",
     "status": "completed"
    },
    "tags": []
   },
   "outputs": [
    {
     "name": "stdout",
     "output_type": "stream",
     "text": [
      "Player starts with 9 and 4 (total = 13)\n",
      "Dealer starts with 4\n",
      "\n",
      "__Player's turn__\n",
      "Player stays\n",
      "\n",
      "__Dealer's turn__\n",
      "Dealer hits and receives Q. (total = 14)\n",
      "Dealer hits and receives 6. (total = 20)\n",
      "Dealer stands.\n",
      "Dealer wins. 20 >= 13\n"
     ]
    }
   ],
   "source": [
    "q7.simulate_one_game()"
   ]
  },
  {
   "cell_type": "markdown",
   "id": "6e6c8841",
   "metadata": {
    "papermill": {
     "duration": 0.053725,
     "end_time": "2022-04-21T16:02:54.332536",
     "exception": false,
     "start_time": "2022-04-21T16:02:54.278811",
     "status": "completed"
    },
    "tags": []
   },
   "source": [
    "The real test of your agent's mettle is their average win rate over many games. Try calling the function below to simulate 50000 games of blackjack (it may take a couple seconds):"
   ]
  },
  {
   "cell_type": "code",
   "execution_count": 23,
   "id": "39f20f10",
   "metadata": {
    "execution": {
     "iopub.execute_input": "2022-04-21T16:02:54.440376Z",
     "iopub.status.busy": "2022-04-21T16:02:54.439969Z",
     "iopub.status.idle": "2022-04-21T16:02:56.367769Z",
     "shell.execute_reply": "2022-04-21T16:02:56.366766Z"
    },
    "papermill": {
     "duration": 1.98483,
     "end_time": "2022-04-21T16:02:56.369818",
     "exception": false,
     "start_time": "2022-04-21T16:02:54.384988",
     "status": "completed"
    },
    "tags": []
   },
   "outputs": [
    {
     "name": "stdout",
     "output_type": "stream",
     "text": [
      "Player won 19059 out of 50000 games (win rate = 38.1%)\n"
     ]
    }
   ],
   "source": [
    "q7.simulate(n_games=50000)"
   ]
  },
  {
   "cell_type": "markdown",
   "id": "0a9bf6d4",
   "metadata": {
    "papermill": {
     "duration": 0.054942,
     "end_time": "2022-04-21T16:02:56.479168",
     "exception": false,
     "start_time": "2022-04-21T16:02:56.424226",
     "status": "completed"
    },
    "tags": []
   },
   "source": [
    "Our dumb agent that completely ignores the game state still manages to win shockingly often!\n",
    "\n",
    "Try adding some more smarts to the `should_hit` function and see how it affects the results."
   ]
  },
  {
   "cell_type": "code",
   "execution_count": 24,
   "id": "6ba7b6b6",
   "metadata": {
    "execution": {
     "iopub.execute_input": "2022-04-21T16:02:56.588983Z",
     "iopub.status.busy": "2022-04-21T16:02:56.588703Z",
     "iopub.status.idle": "2022-04-21T16:02:58.537658Z",
     "shell.execute_reply": "2022-04-21T16:02:58.536463Z"
    },
    "papermill": {
     "duration": 2.007204,
     "end_time": "2022-04-21T16:02:58.540395",
     "exception": false,
     "start_time": "2022-04-21T16:02:56.533191",
     "status": "completed"
    },
    "tags": []
   },
   "outputs": [
    {
     "name": "stdout",
     "output_type": "stream",
     "text": [
      "Player won 19042 out of 50000 games (win rate = 38.1%)\n"
     ]
    }
   ],
   "source": [
    "def should_hit(dealer_total, player_total, player_low_aces, player_high_aces):\n",
    "    \"\"\"Return True if the player should hit (request another card) given the current game\n",
    "    state, or False if the player should stay.\n",
    "    When calculating a hand's total value, we count aces as \"high\" (with value 11) if doing so\n",
    "    doesn't bring the total above 21, otherwise we count them as low (with value 1). \n",
    "    For example, if the player's hand is {A, A, A, 7}, we will count it as 11 + 1 + 1 + 7,\n",
    "    and therefore set player_total=20, player_low_aces=2, player_high_aces=1.\n",
    "    \"\"\"\n",
    "    return False\n",
    "\n",
    "q7.simulate(n_games=50000)"
   ]
  },
  {
   "cell_type": "markdown",
   "id": "5970cfef",
   "metadata": {
    "papermill": {
     "duration": 0.054351,
     "end_time": "2022-04-21T16:02:58.649726",
     "exception": false,
     "start_time": "2022-04-21T16:02:58.595375",
     "status": "completed"
    },
    "tags": []
   },
   "source": [
    "# Keep Going\n",
    "\n",
    "Learn about **[lists and tuples](https://www.kaggle.com/colinmorris/lists)** to handle multiple items of data in a systematic way."
   ]
  },
  {
   "cell_type": "markdown",
   "id": "785d6b09",
   "metadata": {
    "papermill": {
     "duration": 0.054453,
     "end_time": "2022-04-21T16:02:58.758720",
     "exception": false,
     "start_time": "2022-04-21T16:02:58.704267",
     "status": "completed"
    },
    "tags": []
   },
   "source": [
    "---\n",
    "\n",
    "\n",
    "\n",
    "\n",
    "*Have questions or comments? Visit the [course discussion forum](https://www.kaggle.com/learn/python/discussion) to chat with other learners.*"
   ]
  }
 ],
 "metadata": {
  "kernelspec": {
   "display_name": "Python 3",
   "language": "python",
   "name": "python3"
  },
  "language_info": {
   "codemirror_mode": {
    "name": "ipython",
    "version": 3
   },
   "file_extension": ".py",
   "mimetype": "text/x-python",
   "name": "python",
   "nbconvert_exporter": "python",
   "pygments_lexer": "ipython3",
   "version": "3.7.12"
  },
  "papermill": {
   "default_parameters": {},
   "duration": 17.579093,
   "end_time": "2022-04-21T16:02:59.432612",
   "environment_variables": {},
   "exception": null,
   "input_path": "__notebook__.ipynb",
   "output_path": "__notebook__.ipynb",
   "parameters": {},
   "start_time": "2022-04-21T16:02:41.853519",
   "version": "2.3.4"
  }
 },
 "nbformat": 4,
 "nbformat_minor": 5
}
