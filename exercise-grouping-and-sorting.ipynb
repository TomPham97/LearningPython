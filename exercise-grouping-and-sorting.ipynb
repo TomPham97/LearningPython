{
 "cells": [
  {
   "cell_type": "markdown",
   "id": "ee7d6d73",
   "metadata": {
    "papermill": {
     "duration": 0.00576,
     "end_time": "2022-06-28T21:54:49.490328",
     "exception": false,
     "start_time": "2022-06-28T21:54:49.484568",
     "status": "completed"
    },
    "tags": []
   },
   "source": [
    "**This notebook is an exercise in the [Pandas](https://www.kaggle.com/learn/pandas) course.  You can reference the tutorial at [this link](https://www.kaggle.com/residentmario/grouping-and-sorting).**\n",
    "\n",
    "---\n"
   ]
  },
  {
   "cell_type": "markdown",
   "id": "a05cad1e",
   "metadata": {
    "papermill": {
     "duration": 0.004318,
     "end_time": "2022-06-28T21:54:49.499585",
     "exception": false,
     "start_time": "2022-06-28T21:54:49.495267",
     "status": "completed"
    },
    "tags": []
   },
   "source": [
    "# Introduction\n",
    "\n",
    "In these exercises we'll apply groupwise analysis to our dataset.\n",
    "\n",
    "Run the code cell below to load the data before running the exercises."
   ]
  },
  {
   "cell_type": "code",
   "execution_count": 1,
   "id": "3abd7d97",
   "metadata": {
    "execution": {
     "iopub.execute_input": "2022-06-28T21:54:49.511064Z",
     "iopub.status.busy": "2022-06-28T21:54:49.510320Z",
     "iopub.status.idle": "2022-06-28T21:54:52.176941Z",
     "shell.execute_reply": "2022-06-28T21:54:52.175763Z"
    },
    "papermill": {
     "duration": 2.675302,
     "end_time": "2022-06-28T21:54:52.179465",
     "exception": false,
     "start_time": "2022-06-28T21:54:49.504163",
     "status": "completed"
    },
    "tags": []
   },
   "outputs": [
    {
     "name": "stdout",
     "output_type": "stream",
     "text": [
      "Setup complete.\n"
     ]
    }
   ],
   "source": [
    "import pandas as pd\n",
    "\n",
    "reviews = pd.read_csv(\"../input/wine-reviews/winemag-data-130k-v2.csv\", index_col=0)\n",
    "#pd.set_option(\"display.max_rows\", 5)\n",
    "\n",
    "from learntools.core import binder; binder.bind(globals())\n",
    "from learntools.pandas.grouping_and_sorting import *\n",
    "print(\"Setup complete.\")"
   ]
  },
  {
   "cell_type": "markdown",
   "id": "d3d72b95",
   "metadata": {
    "papermill": {
     "duration": 0.00438,
     "end_time": "2022-06-28T21:54:52.188704",
     "exception": false,
     "start_time": "2022-06-28T21:54:52.184324",
     "status": "completed"
    },
    "tags": []
   },
   "source": [
    "# Exercises"
   ]
  },
  {
   "cell_type": "markdown",
   "id": "d698fe3f",
   "metadata": {
    "papermill": {
     "duration": 0.004288,
     "end_time": "2022-06-28T21:54:52.197514",
     "exception": false,
     "start_time": "2022-06-28T21:54:52.193226",
     "status": "completed"
    },
    "tags": []
   },
   "source": [
    "## 1.\n",
    "Who are the most common wine reviewers in the dataset? Create a `Series` whose index is the `taster_twitter_handle` category from the dataset, and whose values count how many reviews each person wrote."
   ]
  },
  {
   "cell_type": "code",
   "execution_count": 2,
   "id": "1258e3c8",
   "metadata": {
    "execution": {
     "iopub.execute_input": "2022-06-28T21:54:52.207920Z",
     "iopub.status.busy": "2022-06-28T21:54:52.207518Z",
     "iopub.status.idle": "2022-06-28T21:54:52.233823Z",
     "shell.execute_reply": "2022-06-28T21:54:52.233109Z"
    },
    "papermill": {
     "duration": 0.033686,
     "end_time": "2022-06-28T21:54:52.235573",
     "exception": false,
     "start_time": "2022-06-28T21:54:52.201887",
     "status": "completed"
    },
    "tags": []
   },
   "outputs": [
    {
     "data": {
      "application/javascript": [
       "parent.postMessage({\"jupyterEvent\": \"custom.exercise_interaction\", \"data\": {\"outcomeType\": 1, \"valueTowardsCompletion\": 0.16666666666666666, \"interactionType\": 1, \"questionType\": 1, \"questionId\": \"1_ReviewsWritten\", \"learnToolsVersion\": \"0.3.4\", \"failureMessage\": \"\", \"exceptionClass\": \"\", \"trace\": \"\"}}, \"*\")"
      ],
      "text/plain": [
       "<IPython.core.display.Javascript object>"
      ]
     },
     "metadata": {},
     "output_type": "display_data"
    },
    {
     "data": {
      "text/markdown": [
       "<span style=\"color:#33cc33\">Correct:</span> \n",
       "\n",
       "\n",
       "```python\n",
       "reviews_written = reviews.groupby('taster_twitter_handle').size()\n",
       "```\n",
       "or\n",
       "```python\n",
       "reviews_written = reviews.groupby('taster_twitter_handle').taster_twitter_handle.count()\n",
       "```\n"
      ],
      "text/plain": [
       "Correct: \n",
       "\n",
       "\n",
       "```python\n",
       "reviews_written = reviews.groupby('taster_twitter_handle').size()\n",
       "```\n",
       "or\n",
       "```python\n",
       "reviews_written = reviews.groupby('taster_twitter_handle').taster_twitter_handle.count()\n",
       "```"
      ]
     },
     "metadata": {},
     "output_type": "display_data"
    }
   ],
   "source": [
    "# Your code here\n",
    "reviews_written = reviews.groupby('taster_twitter_handle').taster_twitter_handle.count()\n",
    "\n",
    "# Check your answer\n",
    "q1.check()"
   ]
  },
  {
   "cell_type": "code",
   "execution_count": 3,
   "id": "08e22cc6",
   "metadata": {
    "execution": {
     "iopub.execute_input": "2022-06-28T21:54:52.247488Z",
     "iopub.status.busy": "2022-06-28T21:54:52.246624Z",
     "iopub.status.idle": "2022-06-28T21:54:52.251078Z",
     "shell.execute_reply": "2022-06-28T21:54:52.249998Z"
    },
    "papermill": {
     "duration": 0.012943,
     "end_time": "2022-06-28T21:54:52.253451",
     "exception": false,
     "start_time": "2022-06-28T21:54:52.240508",
     "status": "completed"
    },
    "tags": []
   },
   "outputs": [],
   "source": [
    "#q1.hint()\n",
    "#q1.solution()"
   ]
  },
  {
   "cell_type": "markdown",
   "id": "03328685",
   "metadata": {
    "papermill": {
     "duration": 0.005702,
     "end_time": "2022-06-28T21:54:52.264411",
     "exception": false,
     "start_time": "2022-06-28T21:54:52.258709",
     "status": "completed"
    },
    "tags": []
   },
   "source": [
    "## 2.\n",
    "What is the best wine I can buy for a given amount of money? Create a `Series` whose index is wine prices and whose values is the maximum number of points a wine costing that much was given in a review. Sort the values by price, ascending (so that `4.0` dollars is at the top and `3300.0` dollars is at the bottom)."
   ]
  },
  {
   "cell_type": "code",
   "execution_count": 4,
   "id": "21f87245",
   "metadata": {
    "execution": {
     "iopub.execute_input": "2022-06-28T21:54:52.277349Z",
     "iopub.status.busy": "2022-06-28T21:54:52.276710Z",
     "iopub.status.idle": "2022-06-28T21:54:52.288292Z",
     "shell.execute_reply": "2022-06-28T21:54:52.287531Z"
    },
    "papermill": {
     "duration": 0.020529,
     "end_time": "2022-06-28T21:54:52.290020",
     "exception": false,
     "start_time": "2022-06-28T21:54:52.269491",
     "status": "completed"
    },
    "tags": []
   },
   "outputs": [
    {
     "data": {
      "application/javascript": [
       "parent.postMessage({\"jupyterEvent\": \"custom.exercise_interaction\", \"data\": {\"outcomeType\": 1, \"valueTowardsCompletion\": 0.16666666666666666, \"interactionType\": 1, \"questionType\": 1, \"questionId\": \"2_BestRatingPerPrice\", \"learnToolsVersion\": \"0.3.4\", \"failureMessage\": \"\", \"exceptionClass\": \"\", \"trace\": \"\"}}, \"*\")"
      ],
      "text/plain": [
       "<IPython.core.display.Javascript object>"
      ]
     },
     "metadata": {},
     "output_type": "display_data"
    },
    {
     "data": {
      "text/markdown": [
       "<span style=\"color:#33cc33\">Correct</span>"
      ],
      "text/plain": [
       "Correct"
      ]
     },
     "metadata": {},
     "output_type": "display_data"
    }
   ],
   "source": [
    "best_rating_per_price = reviews.groupby('price').points.max()\n",
    "\n",
    "# Check your answer\n",
    "q2.check()"
   ]
  },
  {
   "cell_type": "code",
   "execution_count": 5,
   "id": "65e678d1",
   "metadata": {
    "execution": {
     "iopub.execute_input": "2022-06-28T21:54:52.301782Z",
     "iopub.status.busy": "2022-06-28T21:54:52.301203Z",
     "iopub.status.idle": "2022-06-28T21:54:52.304544Z",
     "shell.execute_reply": "2022-06-28T21:54:52.303800Z"
    },
    "papermill": {
     "duration": 0.011213,
     "end_time": "2022-06-28T21:54:52.306338",
     "exception": false,
     "start_time": "2022-06-28T21:54:52.295125",
     "status": "completed"
    },
    "tags": []
   },
   "outputs": [],
   "source": [
    "#q2.hint()\n",
    "#q2.solution()"
   ]
  },
  {
   "cell_type": "markdown",
   "id": "d1ca218d",
   "metadata": {
    "papermill": {
     "duration": 0.004972,
     "end_time": "2022-06-28T21:54:52.316386",
     "exception": false,
     "start_time": "2022-06-28T21:54:52.311414",
     "status": "completed"
    },
    "tags": []
   },
   "source": [
    "## 3.\n",
    "What are the minimum and maximum prices for each `variety` of wine? Create a `DataFrame` whose index is the `variety` category from the dataset and whose values are the `min` and `max` values thereof."
   ]
  },
  {
   "cell_type": "code",
   "execution_count": 6,
   "id": "72e0a840",
   "metadata": {
    "execution": {
     "iopub.execute_input": "2022-06-28T21:54:52.328309Z",
     "iopub.status.busy": "2022-06-28T21:54:52.327668Z",
     "iopub.status.idle": "2022-06-28T21:54:52.349798Z",
     "shell.execute_reply": "2022-06-28T21:54:52.349036Z"
    },
    "papermill": {
     "duration": 0.030069,
     "end_time": "2022-06-28T21:54:52.351582",
     "exception": false,
     "start_time": "2022-06-28T21:54:52.321513",
     "status": "completed"
    },
    "tags": []
   },
   "outputs": [
    {
     "data": {
      "application/javascript": [
       "parent.postMessage({\"jupyterEvent\": \"custom.exercise_interaction\", \"data\": {\"outcomeType\": 1, \"valueTowardsCompletion\": 0.16666666666666666, \"interactionType\": 1, \"questionType\": 1, \"questionId\": \"3_PriceExtremes\", \"learnToolsVersion\": \"0.3.4\", \"failureMessage\": \"\", \"exceptionClass\": \"\", \"trace\": \"\"}}, \"*\")"
      ],
      "text/plain": [
       "<IPython.core.display.Javascript object>"
      ]
     },
     "metadata": {},
     "output_type": "display_data"
    },
    {
     "data": {
      "text/markdown": [
       "<span style=\"color:#33cc33\">Correct</span>"
      ],
      "text/plain": [
       "Correct"
      ]
     },
     "metadata": {},
     "output_type": "display_data"
    }
   ],
   "source": [
    "price_extremes = reviews.groupby('variety').price.agg([min, max])\n",
    "\n",
    "# Check your answer\n",
    "q3.check()"
   ]
  },
  {
   "cell_type": "code",
   "execution_count": 7,
   "id": "2b9fde79",
   "metadata": {
    "execution": {
     "iopub.execute_input": "2022-06-28T21:54:52.364273Z",
     "iopub.status.busy": "2022-06-28T21:54:52.363365Z",
     "iopub.status.idle": "2022-06-28T21:54:52.367702Z",
     "shell.execute_reply": "2022-06-28T21:54:52.366720Z"
    },
    "papermill": {
     "duration": 0.012832,
     "end_time": "2022-06-28T21:54:52.369745",
     "exception": false,
     "start_time": "2022-06-28T21:54:52.356913",
     "status": "completed"
    },
    "tags": []
   },
   "outputs": [],
   "source": [
    "#q3.hint()\n",
    "#q3.solution()"
   ]
  },
  {
   "cell_type": "markdown",
   "id": "53621b12",
   "metadata": {
    "papermill": {
     "duration": 0.005175,
     "end_time": "2022-06-28T21:54:52.380269",
     "exception": false,
     "start_time": "2022-06-28T21:54:52.375094",
     "status": "completed"
    },
    "tags": []
   },
   "source": [
    "## 4.\n",
    "What are the most expensive wine varieties? Create a variable `sorted_varieties` containing a copy of the dataframe from the previous question where varieties are sorted in descending order based on minimum price, then on maximum price (to break ties)."
   ]
  },
  {
   "cell_type": "code",
   "execution_count": 8,
   "id": "f066c6a6",
   "metadata": {
    "execution": {
     "iopub.execute_input": "2022-06-28T21:54:52.393393Z",
     "iopub.status.busy": "2022-06-28T21:54:52.392976Z",
     "iopub.status.idle": "2022-06-28T21:54:52.403195Z",
     "shell.execute_reply": "2022-06-28T21:54:52.402403Z"
    },
    "papermill": {
     "duration": 0.019345,
     "end_time": "2022-06-28T21:54:52.405038",
     "exception": false,
     "start_time": "2022-06-28T21:54:52.385693",
     "status": "completed"
    },
    "tags": []
   },
   "outputs": [
    {
     "data": {
      "application/javascript": [
       "parent.postMessage({\"jupyterEvent\": \"custom.exercise_interaction\", \"data\": {\"outcomeType\": 1, \"valueTowardsCompletion\": 0.16666666666666666, \"interactionType\": 1, \"questionType\": 1, \"questionId\": \"4_SortedVarieties\", \"learnToolsVersion\": \"0.3.4\", \"failureMessage\": \"\", \"exceptionClass\": \"\", \"trace\": \"\"}}, \"*\")"
      ],
      "text/plain": [
       "<IPython.core.display.Javascript object>"
      ]
     },
     "metadata": {},
     "output_type": "display_data"
    },
    {
     "data": {
      "text/markdown": [
       "<span style=\"color:#33cc33\">Correct</span>"
      ],
      "text/plain": [
       "Correct"
      ]
     },
     "metadata": {},
     "output_type": "display_data"
    }
   ],
   "source": [
    "sorted_varieties = price_extremes.sort_values(by=['min', 'max'], ascending=False)\n",
    "\n",
    "# Check your answer\n",
    "q4.check()"
   ]
  },
  {
   "cell_type": "code",
   "execution_count": 9,
   "id": "fbcb2a74",
   "metadata": {
    "execution": {
     "iopub.execute_input": "2022-06-28T21:54:52.417909Z",
     "iopub.status.busy": "2022-06-28T21:54:52.417347Z",
     "iopub.status.idle": "2022-06-28T21:54:52.426289Z",
     "shell.execute_reply": "2022-06-28T21:54:52.425583Z"
    },
    "papermill": {
     "duration": 0.017361,
     "end_time": "2022-06-28T21:54:52.427983",
     "exception": false,
     "start_time": "2022-06-28T21:54:52.410622",
     "status": "completed"
    },
    "tags": []
   },
   "outputs": [
    {
     "data": {
      "application/javascript": [
       "parent.postMessage({\"jupyterEvent\": \"custom.exercise_interaction\", \"data\": {\"interactionType\": 2, \"questionType\": 1, \"questionId\": \"4_SortedVarieties\", \"learnToolsVersion\": \"0.3.4\", \"valueTowardsCompletion\": 0.0, \"failureMessage\": \"\", \"exceptionClass\": \"\", \"trace\": \"\", \"outcomeType\": 4}}, \"*\")"
      ],
      "text/plain": [
       "<IPython.core.display.Javascript object>"
      ]
     },
     "metadata": {},
     "output_type": "display_data"
    },
    {
     "data": {
      "text/markdown": [
       "<span style=\"color:#3366cc\">Hint:</span> Use `sort_values()`, and provide a list of names to sort by."
      ],
      "text/plain": [
       "Hint: Use `sort_values()`, and provide a list of names to sort by."
      ]
     },
     "metadata": {},
     "output_type": "display_data"
    },
    {
     "data": {
      "application/javascript": [
       "parent.postMessage({\"jupyterEvent\": \"custom.exercise_interaction\", \"data\": {\"interactionType\": 3, \"questionType\": 1, \"questionId\": \"4_SortedVarieties\", \"learnToolsVersion\": \"0.3.4\", \"valueTowardsCompletion\": 0.0, \"failureMessage\": \"\", \"exceptionClass\": \"\", \"trace\": \"\", \"outcomeType\": 4}}, \"*\")"
      ],
      "text/plain": [
       "<IPython.core.display.Javascript object>"
      ]
     },
     "metadata": {},
     "output_type": "display_data"
    },
    {
     "data": {
      "text/markdown": [
       "<span style=\"color:#33cc99\">Solution:</span> \n",
       "```python\n",
       "sorted_varieties = price_extremes.sort_values(by=['min', 'max'], ascending=False)\n",
       "```"
      ],
      "text/plain": [
       "Solution: \n",
       "```python\n",
       "sorted_varieties = price_extremes.sort_values(by=['min', 'max'], ascending=False)\n",
       "```"
      ]
     },
     "metadata": {},
     "output_type": "display_data"
    }
   ],
   "source": [
    "q4.hint()\n",
    "q4.solution()"
   ]
  },
  {
   "cell_type": "markdown",
   "id": "f4c6a38f",
   "metadata": {
    "papermill": {
     "duration": 0.005604,
     "end_time": "2022-06-28T21:54:52.439560",
     "exception": false,
     "start_time": "2022-06-28T21:54:52.433956",
     "status": "completed"
    },
    "tags": []
   },
   "source": [
    "## 5.\n",
    "Create a `Series` whose index is reviewers and whose values is the average review score given out by that reviewer. Hint: you will need the `taster_name` and `points` columns."
   ]
  },
  {
   "cell_type": "code",
   "execution_count": 10,
   "id": "2ce54b77",
   "metadata": {
    "execution": {
     "iopub.execute_input": "2022-06-28T21:54:52.453405Z",
     "iopub.status.busy": "2022-06-28T21:54:52.452806Z",
     "iopub.status.idle": "2022-06-28T21:54:52.472199Z",
     "shell.execute_reply": "2022-06-28T21:54:52.470839Z"
    },
    "papermill": {
     "duration": 0.030009,
     "end_time": "2022-06-28T21:54:52.475517",
     "exception": false,
     "start_time": "2022-06-28T21:54:52.445508",
     "status": "completed"
    },
    "tags": []
   },
   "outputs": [
    {
     "data": {
      "application/javascript": [
       "parent.postMessage({\"jupyterEvent\": \"custom.exercise_interaction\", \"data\": {\"outcomeType\": 1, \"valueTowardsCompletion\": 0.16666666666666666, \"interactionType\": 1, \"questionType\": 1, \"questionId\": \"5_ReviewerMeanRatings\", \"learnToolsVersion\": \"0.3.4\", \"failureMessage\": \"\", \"exceptionClass\": \"\", \"trace\": \"\"}}, \"*\")"
      ],
      "text/plain": [
       "<IPython.core.display.Javascript object>"
      ]
     },
     "metadata": {},
     "output_type": "display_data"
    },
    {
     "data": {
      "text/markdown": [
       "<span style=\"color:#33cc33\">Correct</span>"
      ],
      "text/plain": [
       "Correct"
      ]
     },
     "metadata": {},
     "output_type": "display_data"
    }
   ],
   "source": [
    "reviewer_mean_ratings = reviews.groupby('taster_name').points.mean()\n",
    "\n",
    "# Check your answer\n",
    "q5.check()"
   ]
  },
  {
   "cell_type": "code",
   "execution_count": 11,
   "id": "dcb10696",
   "metadata": {
    "execution": {
     "iopub.execute_input": "2022-06-28T21:54:52.491645Z",
     "iopub.status.busy": "2022-06-28T21:54:52.490982Z",
     "iopub.status.idle": "2022-06-28T21:54:52.495442Z",
     "shell.execute_reply": "2022-06-28T21:54:52.494309Z"
    },
    "papermill": {
     "duration": 0.014064,
     "end_time": "2022-06-28T21:54:52.497649",
     "exception": false,
     "start_time": "2022-06-28T21:54:52.483585",
     "status": "completed"
    },
    "tags": []
   },
   "outputs": [],
   "source": [
    "#q5.hint()\n",
    "#q5.solution()"
   ]
  },
  {
   "cell_type": "markdown",
   "id": "fb976f4a",
   "metadata": {
    "papermill": {
     "duration": 0.005999,
     "end_time": "2022-06-28T21:54:52.509938",
     "exception": false,
     "start_time": "2022-06-28T21:54:52.503939",
     "status": "completed"
    },
    "tags": []
   },
   "source": [
    "Are there significant differences in the average scores assigned by the various reviewers? Run the cell below to use the `describe()` method to see a summary of the range of values."
   ]
  },
  {
   "cell_type": "code",
   "execution_count": 12,
   "id": "36ca4093",
   "metadata": {
    "execution": {
     "iopub.execute_input": "2022-06-28T21:54:52.524276Z",
     "iopub.status.busy": "2022-06-28T21:54:52.523558Z",
     "iopub.status.idle": "2022-06-28T21:54:52.535656Z",
     "shell.execute_reply": "2022-06-28T21:54:52.534925Z"
    },
    "papermill": {
     "duration": 0.021273,
     "end_time": "2022-06-28T21:54:52.537545",
     "exception": false,
     "start_time": "2022-06-28T21:54:52.516272",
     "status": "completed"
    },
    "tags": []
   },
   "outputs": [
    {
     "data": {
      "text/plain": [
       "count    19.000000\n",
       "mean     88.233026\n",
       "std       1.243610\n",
       "min      85.855422\n",
       "25%      87.323501\n",
       "50%      88.536235\n",
       "75%      88.975256\n",
       "max      90.562551\n",
       "Name: points, dtype: float64"
      ]
     },
     "execution_count": 12,
     "metadata": {},
     "output_type": "execute_result"
    }
   ],
   "source": [
    "reviewer_mean_ratings.describe()"
   ]
  },
  {
   "cell_type": "markdown",
   "id": "dd12920f",
   "metadata": {
    "papermill": {
     "duration": 0.006249,
     "end_time": "2022-06-28T21:54:52.550292",
     "exception": false,
     "start_time": "2022-06-28T21:54:52.544043",
     "status": "completed"
    },
    "tags": []
   },
   "source": [
    "## 6.\n",
    "What combination of countries and varieties are most common? Create a `Series` whose index is a `MultiIndex`of `{country, variety}` pairs. For example, a pinot noir produced in the US should map to `{\"US\", \"Pinot Noir\"}`. Sort the values in the `Series` in descending order based on wine count."
   ]
  },
  {
   "cell_type": "code",
   "execution_count": 13,
   "id": "f59a908c",
   "metadata": {
    "execution": {
     "iopub.execute_input": "2022-06-28T21:54:52.564870Z",
     "iopub.status.busy": "2022-06-28T21:54:52.564260Z",
     "iopub.status.idle": "2022-06-28T21:54:52.595243Z",
     "shell.execute_reply": "2022-06-28T21:54:52.594484Z"
    },
    "papermill": {
     "duration": 0.040544,
     "end_time": "2022-06-28T21:54:52.597095",
     "exception": false,
     "start_time": "2022-06-28T21:54:52.556551",
     "status": "completed"
    },
    "tags": []
   },
   "outputs": [
    {
     "data": {
      "text/plain": [
       "<bound method Series.sort_index of country    variety                   \n",
       "Argentina  Barbera                         1\n",
       "           Bonarda                       105\n",
       "           Bordeaux-style Red Blend       89\n",
       "           Bordeaux-style White Blend      1\n",
       "           Cabernet Blend                  8\n",
       "                                        ... \n",
       "Uruguay    Tannat-Cabernet Franc           2\n",
       "           Tannat-Merlot                   6\n",
       "           Tannat-Syrah                    1\n",
       "           Tempranillo-Tannat              1\n",
       "           White Blend                     1\n",
       "Length: 1612, dtype: int64>"
      ]
     },
     "execution_count": 13,
     "metadata": {},
     "output_type": "execute_result"
    }
   ],
   "source": [
    "country_variety = reviews.groupby(['country', 'variety']).size()\n",
    "country_variety.sort_index"
   ]
  },
  {
   "cell_type": "code",
   "execution_count": 14,
   "id": "3ed67a0d",
   "metadata": {
    "execution": {
     "iopub.execute_input": "2022-06-28T21:54:52.611626Z",
     "iopub.status.busy": "2022-06-28T21:54:52.611092Z",
     "iopub.status.idle": "2022-06-28T21:54:52.642287Z",
     "shell.execute_reply": "2022-06-28T21:54:52.641267Z"
    },
    "papermill": {
     "duration": 0.040857,
     "end_time": "2022-06-28T21:54:52.644479",
     "exception": false,
     "start_time": "2022-06-28T21:54:52.603622",
     "status": "completed"
    },
    "tags": []
   },
   "outputs": [
    {
     "data": {
      "application/javascript": [
       "parent.postMessage({\"jupyterEvent\": \"custom.exercise_interaction\", \"data\": {\"outcomeType\": 1, \"valueTowardsCompletion\": 0.16666666666666666, \"interactionType\": 1, \"questionType\": 1, \"questionId\": \"6_GroupbyCountryVariety\", \"learnToolsVersion\": \"0.3.4\", \"failureMessage\": \"\", \"exceptionClass\": \"\", \"trace\": \"\"}}, \"*\")"
      ],
      "text/plain": [
       "<IPython.core.display.Javascript object>"
      ]
     },
     "metadata": {},
     "output_type": "display_data"
    },
    {
     "data": {
      "text/markdown": [
       "<span style=\"color:#33cc33\">Correct</span>"
      ],
      "text/plain": [
       "Correct"
      ]
     },
     "metadata": {},
     "output_type": "display_data"
    }
   ],
   "source": [
    "country_variety = reviews.groupby(['country', 'variety']).size()\n",
    "country_variety_counts = country_variety.sort_values(ascending=False)\n",
    "\n",
    "# Check your answer\n",
    "q6.check()"
   ]
  },
  {
   "cell_type": "code",
   "execution_count": 15,
   "id": "3b6725ef",
   "metadata": {
    "execution": {
     "iopub.execute_input": "2022-06-28T21:54:52.660445Z",
     "iopub.status.busy": "2022-06-28T21:54:52.659876Z",
     "iopub.status.idle": "2022-06-28T21:54:52.663916Z",
     "shell.execute_reply": "2022-06-28T21:54:52.662905Z"
    },
    "papermill": {
     "duration": 0.014803,
     "end_time": "2022-06-28T21:54:52.665916",
     "exception": false,
     "start_time": "2022-06-28T21:54:52.651113",
     "status": "completed"
    },
    "tags": []
   },
   "outputs": [],
   "source": [
    "#q6.hint()\n",
    "#q6.solution()"
   ]
  },
  {
   "cell_type": "markdown",
   "id": "5dee9927",
   "metadata": {
    "papermill": {
     "duration": 0.0064,
     "end_time": "2022-06-28T21:54:52.678933",
     "exception": false,
     "start_time": "2022-06-28T21:54:52.672533",
     "status": "completed"
    },
    "tags": []
   },
   "source": [
    "# Keep going\n",
    "\n",
    "Move on to the [**data types and missing data**](https://www.kaggle.com/residentmario/data-types-and-missing-values)."
   ]
  },
  {
   "cell_type": "markdown",
   "id": "826e306c",
   "metadata": {
    "papermill": {
     "duration": 0.006267,
     "end_time": "2022-06-28T21:54:52.691874",
     "exception": false,
     "start_time": "2022-06-28T21:54:52.685607",
     "status": "completed"
    },
    "tags": []
   },
   "source": [
    "---\n",
    "\n",
    "\n",
    "\n",
    "\n",
    "*Have questions or comments? Visit the [course discussion forum](https://www.kaggle.com/learn/pandas/discussion) to chat with other learners.*"
   ]
  }
 ],
 "metadata": {
  "kernelspec": {
   "display_name": "Python 3",
   "language": "python",
   "name": "python3"
  },
  "language_info": {
   "codemirror_mode": {
    "name": "ipython",
    "version": 3
   },
   "file_extension": ".py",
   "mimetype": "text/x-python",
   "name": "python",
   "nbconvert_exporter": "python",
   "pygments_lexer": "ipython3",
   "version": "3.7.12"
  },
  "papermill": {
   "default_parameters": {},
   "duration": 12.306755,
   "end_time": "2022-06-28T21:54:53.319066",
   "environment_variables": {},
   "exception": null,
   "input_path": "__notebook__.ipynb",
   "output_path": "__notebook__.ipynb",
   "parameters": {},
   "start_time": "2022-06-28T21:54:41.012311",
   "version": "2.3.4"
  }
 },
 "nbformat": 4,
 "nbformat_minor": 5
}
