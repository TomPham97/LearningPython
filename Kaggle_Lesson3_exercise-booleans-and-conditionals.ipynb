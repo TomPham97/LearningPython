{
 "cells": [
  {
   "cell_type": "markdown",
   "id": "43f7f1db",
   "metadata": {
    "papermill": {
     "duration": 0.029277,
     "end_time": "2022-04-21T22:55:20.885781",
     "exception": false,
     "start_time": "2022-04-21T22:55:20.856504",
     "status": "completed"
    },
    "tags": []
   },
   "source": [
    "**This notebook is an exercise in the [Python](https://www.kaggle.com/learn/python) course.  You can reference the tutorial at [this link](https://www.kaggle.com/colinmorris/booleans-and-conditionals).**\n",
    "\n",
    "---\n"
   ]
  },
  {
   "cell_type": "markdown",
   "id": "5b84f50a",
   "metadata": {
    "papermill": {
     "duration": 0.025411,
     "end_time": "2022-04-21T22:55:20.937815",
     "exception": false,
     "start_time": "2022-04-21T22:55:20.912404",
     "status": "completed"
    },
    "tags": []
   },
   "source": [
    "In this exercise, you'll put to work what you have learned about booleans and conditionals.\n",
    "\n",
    "To get started, **run the setup code below** before writing your own code (and if you leave this notebook and come back later, don't forget to run the setup code again)."
   ]
  },
  {
   "cell_type": "code",
   "execution_count": 1,
   "id": "e6697ea8",
   "metadata": {
    "execution": {
     "iopub.execute_input": "2022-04-21T22:55:20.991398Z",
     "iopub.status.busy": "2022-04-21T22:55:20.990864Z",
     "iopub.status.idle": "2022-04-21T22:55:21.031949Z",
     "shell.execute_reply": "2022-04-21T22:55:21.031409Z"
    },
    "papermill": {
     "duration": 0.070501,
     "end_time": "2022-04-21T22:55:21.033937",
     "exception": false,
     "start_time": "2022-04-21T22:55:20.963436",
     "status": "completed"
    },
    "tags": []
   },
   "outputs": [
    {
     "name": "stdout",
     "output_type": "stream",
     "text": [
      "Setup complete.\n"
     ]
    }
   ],
   "source": [
    "from learntools.core import binder; binder.bind(globals())\n",
    "from learntools.python.ex3 import *\n",
    "print('Setup complete.')"
   ]
  },
  {
   "cell_type": "markdown",
   "id": "5e137ee9",
   "metadata": {
    "papermill": {
     "duration": 0.025622,
     "end_time": "2022-04-21T22:55:21.085974",
     "exception": false,
     "start_time": "2022-04-21T22:55:21.060352",
     "status": "completed"
    },
    "tags": []
   },
   "source": [
    "# 1.\n",
    "\n",
    "Many programming languages have [`sign`](https://en.wikipedia.org/wiki/Sign_function) available as a built-in function. Python doesn't, but we can define our own!\n",
    "\n",
    "In the cell below, define a function called `sign` which takes a numerical argument and returns -1 if it's negative, 1 if it's positive, and 0 if it's 0."
   ]
  },
  {
   "cell_type": "code",
   "execution_count": 2,
   "id": "ce023c25",
   "metadata": {
    "execution": {
     "iopub.execute_input": "2022-04-21T22:55:21.142326Z",
     "iopub.status.busy": "2022-04-21T22:55:21.141930Z",
     "iopub.status.idle": "2022-04-21T22:55:21.149834Z",
     "shell.execute_reply": "2022-04-21T22:55:21.149329Z"
    },
    "papermill": {
     "duration": 0.038712,
     "end_time": "2022-04-21T22:55:21.151323",
     "exception": false,
     "start_time": "2022-04-21T22:55:21.112611",
     "status": "completed"
    },
    "tags": []
   },
   "outputs": [
    {
     "data": {
      "application/javascript": [
       "parent.postMessage({\"jupyterEvent\": \"custom.exercise_interaction\", \"data\": {\"outcomeType\": 1, \"valueTowardsCompletion\": 0.2, \"interactionType\": 1, \"questionType\": 2, \"questionId\": \"1_SignFunctionProblem\", \"learnToolsVersion\": \"0.3.4\", \"failureMessage\": \"\", \"exceptionClass\": \"\", \"trace\": \"\"}}, \"*\")"
      ],
      "text/plain": [
       "<IPython.core.display.Javascript object>"
      ]
     },
     "metadata": {},
     "output_type": "display_data"
    },
    {
     "data": {
      "text/markdown": [
       "<span style=\"color:#33cc33\">Correct</span>"
      ],
      "text/plain": [
       "Correct"
      ]
     },
     "metadata": {},
     "output_type": "display_data"
    }
   ],
   "source": [
    "# Your code goes here. Define a function called 'sign'\n",
    "def sign(x):\n",
    "    \"\"\" Takes a numerical argument and returns -1 if it's negative,\n",
    "    1 if it's positive,\n",
    "    and 0 if it's 0.\n",
    "    \n",
    "    >>> sign(-4)\n",
    "    -1\n",
    "    \"\"\"\n",
    "    if x > 0:\n",
    "        return 1\n",
    "    elif x < 0:\n",
    "        return -1\n",
    "    else:\n",
    "        return 0\n",
    "\n",
    "# Check your answer\n",
    "q1.check()"
   ]
  },
  {
   "cell_type": "code",
   "execution_count": 3,
   "id": "293437c4",
   "metadata": {
    "execution": {
     "iopub.execute_input": "2022-04-21T22:55:21.206652Z",
     "iopub.status.busy": "2022-04-21T22:55:21.206217Z",
     "iopub.status.idle": "2022-04-21T22:55:21.209131Z",
     "shell.execute_reply": "2022-04-21T22:55:21.208654Z"
    },
    "papermill": {
     "duration": 0.032404,
     "end_time": "2022-04-21T22:55:21.210699",
     "exception": false,
     "start_time": "2022-04-21T22:55:21.178295",
     "status": "completed"
    },
    "tags": []
   },
   "outputs": [],
   "source": [
    "#q1.solution()"
   ]
  },
  {
   "cell_type": "markdown",
   "id": "f5d0fc2c",
   "metadata": {
    "papermill": {
     "duration": 0.030709,
     "end_time": "2022-04-21T22:55:21.268481",
     "exception": false,
     "start_time": "2022-04-21T22:55:21.237772",
     "status": "completed"
    },
    "tags": []
   },
   "source": [
    "# 2.\n",
    "\n",
    "We've decided to add \"logging\" to our `to_smash` function from the previous exercise."
   ]
  },
  {
   "cell_type": "code",
   "execution_count": 4,
   "id": "377799c4",
   "metadata": {
    "execution": {
     "iopub.execute_input": "2022-04-21T22:55:21.334726Z",
     "iopub.status.busy": "2022-04-21T22:55:21.334282Z",
     "iopub.status.idle": "2022-04-21T22:55:21.341134Z",
     "shell.execute_reply": "2022-04-21T22:55:21.340386Z"
    },
    "papermill": {
     "duration": 0.041944,
     "end_time": "2022-04-21T22:55:21.343111",
     "exception": false,
     "start_time": "2022-04-21T22:55:21.301167",
     "status": "completed"
    },
    "tags": []
   },
   "outputs": [
    {
     "name": "stdout",
     "output_type": "stream",
     "text": [
      "Splitting 91 candies\n"
     ]
    },
    {
     "data": {
      "text/plain": [
       "1"
      ]
     },
     "execution_count": 4,
     "metadata": {},
     "output_type": "execute_result"
    }
   ],
   "source": [
    "def to_smash(total_candies):\n",
    "    \"\"\"Return the number of leftover candies that must be smashed after distributing\n",
    "    the given number of candies evenly between 3 friends.\n",
    "    \n",
    "    >>> to_smash(91)\n",
    "    1\n",
    "    \"\"\"\n",
    "    print(\"Splitting\", total_candies, \"candies\")\n",
    "    return total_candies % 3\n",
    "\n",
    "to_smash(91)"
   ]
  },
  {
   "cell_type": "markdown",
   "id": "77de8a77",
   "metadata": {
    "papermill": {
     "duration": 0.027759,
     "end_time": "2022-04-21T22:55:21.400630",
     "exception": false,
     "start_time": "2022-04-21T22:55:21.372871",
     "status": "completed"
    },
    "tags": []
   },
   "source": [
    "What happens if we call it with `total_candies = 1`?"
   ]
  },
  {
   "cell_type": "code",
   "execution_count": 5,
   "id": "ab5cb752",
   "metadata": {
    "execution": {
     "iopub.execute_input": "2022-04-21T22:55:21.457696Z",
     "iopub.status.busy": "2022-04-21T22:55:21.457143Z",
     "iopub.status.idle": "2022-04-21T22:55:21.464156Z",
     "shell.execute_reply": "2022-04-21T22:55:21.462945Z"
    },
    "papermill": {
     "duration": 0.038159,
     "end_time": "2022-04-21T22:55:21.466487",
     "exception": false,
     "start_time": "2022-04-21T22:55:21.428328",
     "status": "completed"
    },
    "tags": []
   },
   "outputs": [
    {
     "name": "stdout",
     "output_type": "stream",
     "text": [
      "Splitting 1 candies\n"
     ]
    },
    {
     "data": {
      "text/plain": [
       "1"
      ]
     },
     "execution_count": 5,
     "metadata": {},
     "output_type": "execute_result"
    }
   ],
   "source": [
    "to_smash(1)"
   ]
  },
  {
   "cell_type": "markdown",
   "id": "c846c27c",
   "metadata": {
    "papermill": {
     "duration": 0.027862,
     "end_time": "2022-04-21T22:55:21.523059",
     "exception": false,
     "start_time": "2022-04-21T22:55:21.495197",
     "status": "completed"
    },
    "tags": []
   },
   "source": [
    "That isn't great grammar!\n",
    "\n",
    "Modify the definition in the cell below to correct the grammar of our print statement. (If there's only one candy, we should use the singular \"candy\" instead of the plural \"candies\")"
   ]
  },
  {
   "cell_type": "code",
   "execution_count": 6,
   "id": "4ad33ee5",
   "metadata": {
    "execution": {
     "iopub.execute_input": "2022-04-21T22:55:21.582078Z",
     "iopub.status.busy": "2022-04-21T22:55:21.581559Z",
     "iopub.status.idle": "2022-04-21T22:55:21.589793Z",
     "shell.execute_reply": "2022-04-21T22:55:21.588646Z"
    },
    "papermill": {
     "duration": 0.039948,
     "end_time": "2022-04-21T22:55:21.592041",
     "exception": false,
     "start_time": "2022-04-21T22:55:21.552093",
     "status": "completed"
    },
    "tags": []
   },
   "outputs": [
    {
     "name": "stdout",
     "output_type": "stream",
     "text": [
      "Splitting 91 candies\n",
      "Splitting 1 candy\n"
     ]
    },
    {
     "data": {
      "text/plain": [
       "1"
      ]
     },
     "execution_count": 6,
     "metadata": {},
     "output_type": "execute_result"
    }
   ],
   "source": [
    "def to_smash(total_candies):\n",
    "    \"\"\"Return the number of leftover candies that must be smashed after distributing\n",
    "    the given number of candies evenly between 3 friends.\n",
    "    \n",
    "    >>> to_smash(91)\n",
    "    1\n",
    "    \"\"\"\n",
    "    print(\"Splitting\", total_candies,\n",
    "          \"candies\" if total_candies >= 2\n",
    "          else \"candy\")\n",
    "    return total_candies % 3\n",
    "\n",
    "to_smash(91)\n",
    "to_smash(1)"
   ]
  },
  {
   "cell_type": "markdown",
   "id": "a96f2802",
   "metadata": {
    "papermill": {
     "duration": 0.02852,
     "end_time": "2022-04-21T22:55:21.649762",
     "exception": false,
     "start_time": "2022-04-21T22:55:21.621242",
     "status": "completed"
    },
    "tags": []
   },
   "source": [
    "To get credit for completing this problem, and to see the official answer, run the code cell below."
   ]
  },
  {
   "cell_type": "code",
   "execution_count": 7,
   "id": "5a85fb67",
   "metadata": {
    "execution": {
     "iopub.execute_input": "2022-04-21T22:55:21.715539Z",
     "iopub.status.busy": "2022-04-21T22:55:21.714816Z",
     "iopub.status.idle": "2022-04-21T22:55:21.722569Z",
     "shell.execute_reply": "2022-04-21T22:55:21.722026Z"
    },
    "papermill": {
     "duration": 0.045794,
     "end_time": "2022-04-21T22:55:21.724201",
     "exception": false,
     "start_time": "2022-04-21T22:55:21.678407",
     "status": "completed"
    },
    "tags": []
   },
   "outputs": [
    {
     "data": {
      "application/javascript": [
       "parent.postMessage({\"jupyterEvent\": \"custom.exercise_interaction\", \"data\": {\"interactionType\": 3, \"questionType\": 4, \"questionId\": \"2_PluralizationProblem\", \"learnToolsVersion\": \"0.3.4\", \"valueTowardsCompletion\": 0.0, \"failureMessage\": \"\", \"exceptionClass\": \"\", \"trace\": \"\", \"outcomeType\": 4}}, \"*\")"
      ],
      "text/plain": [
       "<IPython.core.display.Javascript object>"
      ]
     },
     "metadata": {},
     "output_type": "display_data"
    },
    {
     "data": {
      "text/markdown": [
       "<span style=\"color:#33cc99\">Solution:</span> A straightforward (and totally fine) solution is to replace the original `print` call with:\n",
       "\n",
       "```python\n",
       "if total_candies == 1:\n",
       "    print(\"Splitting 1 candy\")\n",
       "else:\n",
       "    print(\"Splitting\", total_candies, \"candies\")\n",
       "```\n",
       "\n",
       "Here's a slightly more succinct solution using a conditional expression:\n",
       "\n",
       "```python\n",
       "print(\"Splitting\", total_candies, \"candy\" if total_candies == 1 else \"candies\")\n",
       "```"
      ],
      "text/plain": [
       "Solution: A straightforward (and totally fine) solution is to replace the original `print` call with:\n",
       "\n",
       "```python\n",
       "if total_candies == 1:\n",
       "    print(\"Splitting 1 candy\")\n",
       "else:\n",
       "    print(\"Splitting\", total_candies, \"candies\")\n",
       "```\n",
       "\n",
       "Here's a slightly more succinct solution using a conditional expression:\n",
       "\n",
       "```python\n",
       "print(\"Splitting\", total_candies, \"candy\" if total_candies == 1 else \"candies\")\n",
       "```"
      ]
     },
     "metadata": {},
     "output_type": "display_data"
    }
   ],
   "source": [
    "# Check your answer (Run this code cell to receive credit!)\n",
    "q2.solution()"
   ]
  },
  {
   "cell_type": "markdown",
   "id": "ad73719c",
   "metadata": {
    "papermill": {
     "duration": 0.029899,
     "end_time": "2022-04-21T22:55:21.784607",
     "exception": false,
     "start_time": "2022-04-21T22:55:21.754708",
     "status": "completed"
    },
    "tags": []
   },
   "source": [
    "# 3. <span title=\"A bit spicy\" style=\"color: darkgreen \">🌶️</span>\n",
    "\n",
    "In the tutorial, we talked about deciding whether we're prepared for the weather. I said that I'm safe from today's weather if...\n",
    "- I have an umbrella...\n",
    "- or if the rain isn't too heavy and I have a hood...\n",
    "- otherwise, I'm still fine unless it's raining *and* it's a workday\n",
    "\n",
    "The function below uses our first attempt at turning this logic into a Python expression. I claimed that there was a bug in that code. Can you find it?\n",
    "\n",
    "To prove that `prepared_for_weather` is buggy, come up with a set of inputs where either:\n",
    "- the function returns `False` (but should have returned `True`), or\n",
    "- the function returned `True` (but should have returned `False`).\n",
    "\n",
    "To get credit for completing this question, your code should return a <font color='#33cc33'>Correct</font> result."
   ]
  },
  {
   "cell_type": "code",
   "execution_count": 8,
   "id": "92dd2e8d",
   "metadata": {
    "execution": {
     "iopub.execute_input": "2022-04-21T22:55:21.846676Z",
     "iopub.status.busy": "2022-04-21T22:55:21.846278Z",
     "iopub.status.idle": "2022-04-21T22:55:21.855720Z",
     "shell.execute_reply": "2022-04-21T22:55:21.854934Z"
    },
    "papermill": {
     "duration": 0.041851,
     "end_time": "2022-04-21T22:55:21.857425",
     "exception": false,
     "start_time": "2022-04-21T22:55:21.815574",
     "status": "completed"
    },
    "tags": []
   },
   "outputs": [
    {
     "name": "stdout",
     "output_type": "stream",
     "text": [
      "True\n"
     ]
    },
    {
     "data": {
      "application/javascript": [
       "parent.postMessage({\"jupyterEvent\": \"custom.exercise_interaction\", \"data\": {\"outcomeType\": 2, \"failureMessage\": \"Given `have_umbrella=True`, `rain_level=0.0`, `have_hood=True`, `is_workday=True`, `prepared_for_weather` returned `True`. But I think that's correct. (We want inputs that lead to an incorrect result from `prepared_for_weather`.)\", \"interactionType\": 1, \"questionType\": 1, \"questionId\": \"3_WeatherDebug\", \"learnToolsVersion\": \"0.3.4\", \"valueTowardsCompletion\": 0.0, \"exceptionClass\": \"\", \"trace\": \"\"}}, \"*\")"
      ],
      "text/plain": [
       "<IPython.core.display.Javascript object>"
      ]
     },
     "metadata": {},
     "output_type": "display_data"
    },
    {
     "data": {
      "text/markdown": [
       "<span style=\"color:#cc3333\">Incorrect:</span> Given `have_umbrella=True`, `rain_level=0.0`, `have_hood=True`, `is_workday=True`, `prepared_for_weather` returned `True`. But I think that's correct. (We want inputs that lead to an incorrect result from `prepared_for_weather`.)"
      ],
      "text/plain": [
       "Incorrect: Given `have_umbrella=True`, `rain_level=0.0`, `have_hood=True`, `is_workday=True`, `prepared_for_weather` returned `True`. But I think that's correct. (We want inputs that lead to an incorrect result from `prepared_for_weather`.)"
      ]
     },
     "metadata": {},
     "output_type": "display_data"
    }
   ],
   "source": [
    "def prepared_for_weather(have_umbrella, rain_level, have_hood, is_workday):\n",
    "    # Don't change this code. Our goal is just to find the bug, not fix it!\n",
    "    return have_umbrella or rain_level < 5 and have_hood or not rain_level > 0 and is_workday\n",
    "\n",
    "# Change the values of these inputs so they represent a case where prepared_for_weather\n",
    "# returns the wrong answer.\n",
    "have_umbrella = True\n",
    "rain_level = 0.0\n",
    "have_hood = True\n",
    "is_workday = True\n",
    "\n",
    "# Check what the function returns given the current values of the variables above\n",
    "actual = prepared_for_weather(have_umbrella, rain_level, have_hood, is_workday)\n",
    "print(actual)\n",
    "\n",
    "# Check your answer\n",
    "q3.check()"
   ]
  },
  {
   "cell_type": "code",
   "execution_count": 9,
   "id": "5d435135",
   "metadata": {
    "execution": {
     "iopub.execute_input": "2022-04-21T22:55:21.921225Z",
     "iopub.status.busy": "2022-04-21T22:55:21.920747Z",
     "iopub.status.idle": "2022-04-21T22:55:21.926708Z",
     "shell.execute_reply": "2022-04-21T22:55:21.926222Z"
    },
    "papermill": {
     "duration": 0.039747,
     "end_time": "2022-04-21T22:55:21.928209",
     "exception": false,
     "start_time": "2022-04-21T22:55:21.888462",
     "status": "completed"
    },
    "tags": []
   },
   "outputs": [
    {
     "data": {
      "application/javascript": [
       "parent.postMessage({\"jupyterEvent\": \"custom.exercise_interaction\", \"data\": {\"interactionType\": 2, \"questionType\": 1, \"questionId\": \"3_WeatherDebug\", \"learnToolsVersion\": \"0.3.4\", \"valueTowardsCompletion\": 0.0, \"failureMessage\": \"\", \"exceptionClass\": \"\", \"trace\": \"\", \"outcomeType\": 4}}, \"*\")"
      ],
      "text/plain": [
       "<IPython.core.display.Javascript object>"
      ]
     },
     "metadata": {},
     "output_type": "display_data"
    },
    {
     "data": {
      "text/markdown": [
       "<span style=\"color:#3366cc\">Hint:</span> Take a look at how we fixed our original expression in the main lesson. We added parentheses around certain subexpressions. The bug in this code is caused by Python evaluating certain operations in the \"wrong\" order."
      ],
      "text/plain": [
       "Hint: Take a look at how we fixed our original expression in the main lesson. We added parentheses around certain subexpressions. The bug in this code is caused by Python evaluating certain operations in the \"wrong\" order."
      ]
     },
     "metadata": {},
     "output_type": "display_data"
    }
   ],
   "source": [
    "q3.hint()\n",
    "#q3.solution()"
   ]
  },
  {
   "cell_type": "markdown",
   "id": "739dd6d3",
   "metadata": {
    "papermill": {
     "duration": 0.032009,
     "end_time": "2022-04-21T22:55:21.992023",
     "exception": false,
     "start_time": "2022-04-21T22:55:21.960014",
     "status": "completed"
    },
    "tags": []
   },
   "source": [
    "# 4.\n",
    "\n",
    "The function `is_negative` below is implemented correctly - it returns True if the given number is negative and False otherwise.\n",
    "\n",
    "However, it's more verbose than it needs to be. We can actually reduce the number of lines of code in this function by *75%* while keeping the same behaviour. \n",
    "\n",
    "See if you can come up with an equivalent body that uses just **one line** of code, and put it in the function `concise_is_negative`. (HINT: you don't even need Python's ternary syntax)"
   ]
  },
  {
   "cell_type": "code",
   "execution_count": 10,
   "id": "4aa49c91",
   "metadata": {
    "execution": {
     "iopub.execute_input": "2022-04-21T22:55:22.060246Z",
     "iopub.status.busy": "2022-04-21T22:55:22.059716Z",
     "iopub.status.idle": "2022-04-21T22:55:22.066978Z",
     "shell.execute_reply": "2022-04-21T22:55:22.066231Z"
    },
    "papermill": {
     "duration": 0.04334,
     "end_time": "2022-04-21T22:55:22.068729",
     "exception": false,
     "start_time": "2022-04-21T22:55:22.025389",
     "status": "completed"
    },
    "tags": []
   },
   "outputs": [
    {
     "data": {
      "application/javascript": [
       "parent.postMessage({\"jupyterEvent\": \"custom.exercise_interaction\", \"data\": {\"outcomeType\": 1, \"valueTowardsCompletion\": 0.2, \"interactionType\": 1, \"questionType\": 2, \"questionId\": \"4_ConciseIsNegative\", \"learnToolsVersion\": \"0.3.4\", \"failureMessage\": \"\", \"exceptionClass\": \"\", \"trace\": \"\"}}, \"*\")"
      ],
      "text/plain": [
       "<IPython.core.display.Javascript object>"
      ]
     },
     "metadata": {},
     "output_type": "display_data"
    },
    {
     "data": {
      "text/markdown": [
       "<span style=\"color:#33cc33\">Correct</span>"
      ],
      "text/plain": [
       "Correct"
      ]
     },
     "metadata": {},
     "output_type": "display_data"
    }
   ],
   "source": [
    "def is_negative(number):\n",
    "    if number < 0:\n",
    "        return True\n",
    "    else:\n",
    "        return False\n",
    "\n",
    "def concise_is_negative(number):\n",
    "    return number < 0\n",
    "\n",
    "# Check your answer\n",
    "q4.check()"
   ]
  },
  {
   "cell_type": "code",
   "execution_count": 11,
   "id": "769f1951",
   "metadata": {
    "execution": {
     "iopub.execute_input": "2022-04-21T22:55:22.136388Z",
     "iopub.status.busy": "2022-04-21T22:55:22.136101Z",
     "iopub.status.idle": "2022-04-21T22:55:22.144046Z",
     "shell.execute_reply": "2022-04-21T22:55:22.143540Z"
    },
    "papermill": {
     "duration": 0.044068,
     "end_time": "2022-04-21T22:55:22.145594",
     "exception": false,
     "start_time": "2022-04-21T22:55:22.101526",
     "status": "completed"
    },
    "tags": []
   },
   "outputs": [
    {
     "data": {
      "application/javascript": [
       "parent.postMessage({\"jupyterEvent\": \"custom.exercise_interaction\", \"data\": {\"interactionType\": 2, \"questionType\": 2, \"questionId\": \"4_ConciseIsNegative\", \"learnToolsVersion\": \"0.3.4\", \"valueTowardsCompletion\": 0.0, \"failureMessage\": \"\", \"exceptionClass\": \"\", \"trace\": \"\", \"outcomeType\": 4}}, \"*\")"
      ],
      "text/plain": [
       "<IPython.core.display.Javascript object>"
      ]
     },
     "metadata": {},
     "output_type": "display_data"
    },
    {
     "data": {
      "text/markdown": [
       "<span style=\"color:#3366cc\">Hint:</span> If the value of the expression `number < 0` is `True`, then we return `True`. If it's `False`, then we return `False`..."
      ],
      "text/plain": [
       "Hint: If the value of the expression `number < 0` is `True`, then we return `True`. If it's `False`, then we return `False`..."
      ]
     },
     "metadata": {},
     "output_type": "display_data"
    },
    {
     "data": {
      "application/javascript": [
       "parent.postMessage({\"jupyterEvent\": \"custom.exercise_interaction\", \"data\": {\"interactionType\": 3, \"questionType\": 2, \"questionId\": \"4_ConciseIsNegative\", \"learnToolsVersion\": \"0.3.4\", \"valueTowardsCompletion\": 0.0, \"failureMessage\": \"\", \"exceptionClass\": \"\", \"trace\": \"\", \"outcomeType\": 4}}, \"*\")"
      ],
      "text/plain": [
       "<IPython.core.display.Javascript object>"
      ]
     },
     "metadata": {},
     "output_type": "display_data"
    },
    {
     "data": {
      "text/markdown": [
       "<span style=\"color:#33cc99\">Solution:</span> \n",
       "```python\n",
       "return number < 0\n",
       "```"
      ],
      "text/plain": [
       "Solution: \n",
       "```python\n",
       "return number < 0\n",
       "```"
      ]
     },
     "metadata": {},
     "output_type": "display_data"
    }
   ],
   "source": [
    "q4.hint()\n",
    "q4.solution()"
   ]
  },
  {
   "cell_type": "markdown",
   "id": "512621ed",
   "metadata": {
    "papermill": {
     "duration": 0.036308,
     "end_time": "2022-04-21T22:55:22.219050",
     "exception": false,
     "start_time": "2022-04-21T22:55:22.182742",
     "status": "completed"
    },
    "tags": []
   },
   "source": [
    "# 5a.\n",
    "\n",
    "The boolean variables `ketchup`, `mustard` and `onion` represent whether a customer wants a particular topping on their hot dog. We want to implement a number of boolean functions that correspond to some yes-or-no questions about the customer's order. For example:"
   ]
  },
  {
   "cell_type": "code",
   "execution_count": 12,
   "id": "2f145475",
   "metadata": {
    "execution": {
     "iopub.execute_input": "2022-04-21T22:55:22.290793Z",
     "iopub.status.busy": "2022-04-21T22:55:22.290270Z",
     "iopub.status.idle": "2022-04-21T22:55:22.293744Z",
     "shell.execute_reply": "2022-04-21T22:55:22.293207Z"
    },
    "papermill": {
     "duration": 0.041092,
     "end_time": "2022-04-21T22:55:22.295326",
     "exception": false,
     "start_time": "2022-04-21T22:55:22.254234",
     "status": "completed"
    },
    "tags": []
   },
   "outputs": [],
   "source": [
    "def onionless(ketchup, mustard, onion):\n",
    "    \"\"\"Return whether the customer doesn't want onions.\n",
    "    \"\"\"\n",
    "    return not onion"
   ]
  },
  {
   "cell_type": "code",
   "execution_count": 13,
   "id": "5b7f1995",
   "metadata": {
    "execution": {
     "iopub.execute_input": "2022-04-21T22:55:22.365936Z",
     "iopub.status.busy": "2022-04-21T22:55:22.365480Z",
     "iopub.status.idle": "2022-04-21T22:55:22.371524Z",
     "shell.execute_reply": "2022-04-21T22:55:22.370875Z"
    },
    "papermill": {
     "duration": 0.04321,
     "end_time": "2022-04-21T22:55:22.373057",
     "exception": false,
     "start_time": "2022-04-21T22:55:22.329847",
     "status": "completed"
    },
    "tags": []
   },
   "outputs": [
    {
     "data": {
      "application/javascript": [
       "parent.postMessage({\"jupyterEvent\": \"custom.exercise_interaction\", \"data\": {\"outcomeType\": 1, \"valueTowardsCompletion\": 0.2, \"interactionType\": 1, \"questionType\": 2, \"questionId\": \"5.1_AllToppings\", \"learnToolsVersion\": \"0.3.4\", \"failureMessage\": \"\", \"exceptionClass\": \"\", \"trace\": \"\"}}, \"*\")"
      ],
      "text/plain": [
       "<IPython.core.display.Javascript object>"
      ]
     },
     "metadata": {},
     "output_type": "display_data"
    },
    {
     "data": {
      "text/markdown": [
       "<span style=\"color:#33cc33\">Correct</span>"
      ],
      "text/plain": [
       "Correct"
      ]
     },
     "metadata": {},
     "output_type": "display_data"
    }
   ],
   "source": [
    "def wants_all_toppings(ketchup, mustard, onion):\n",
    "    \"\"\"Return whether the customer wants \"the works\" (all 3 toppings)\n",
    "    \"\"\"\n",
    "    return ketchup and mustard and onion\n",
    "\n",
    "# Check your answer\n",
    "q5.a.check()"
   ]
  },
  {
   "cell_type": "code",
   "execution_count": 14,
   "id": "d719ea0d",
   "metadata": {
    "execution": {
     "iopub.execute_input": "2022-04-21T22:55:22.445439Z",
     "iopub.status.busy": "2022-04-21T22:55:22.444969Z",
     "iopub.status.idle": "2022-04-21T22:55:22.447604Z",
     "shell.execute_reply": "2022-04-21T22:55:22.447138Z"
    },
    "papermill": {
     "duration": 0.040568,
     "end_time": "2022-04-21T22:55:22.449045",
     "exception": false,
     "start_time": "2022-04-21T22:55:22.408477",
     "status": "completed"
    },
    "tags": []
   },
   "outputs": [],
   "source": [
    "#q5.a.hint()\n",
    "#q5.a.solution()"
   ]
  },
  {
   "cell_type": "markdown",
   "id": "2eee5b7b",
   "metadata": {
    "papermill": {
     "duration": 0.035135,
     "end_time": "2022-04-21T22:55:22.519721",
     "exception": false,
     "start_time": "2022-04-21T22:55:22.484586",
     "status": "completed"
    },
    "tags": []
   },
   "source": [
    "# 5b.\n",
    "\n",
    "For the next function, fill in the body to match the English description in the docstring. "
   ]
  },
  {
   "cell_type": "code",
   "execution_count": 15,
   "id": "491961f5",
   "metadata": {
    "execution": {
     "iopub.execute_input": "2022-04-21T22:55:22.592331Z",
     "iopub.status.busy": "2022-04-21T22:55:22.591893Z",
     "iopub.status.idle": "2022-04-21T22:55:22.597632Z",
     "shell.execute_reply": "2022-04-21T22:55:22.597200Z"
    },
    "papermill": {
     "duration": 0.043918,
     "end_time": "2022-04-21T22:55:22.599086",
     "exception": false,
     "start_time": "2022-04-21T22:55:22.555168",
     "status": "completed"
    },
    "tags": []
   },
   "outputs": [
    {
     "data": {
      "application/javascript": [
       "parent.postMessage({\"jupyterEvent\": \"custom.exercise_interaction\", \"data\": {\"outcomeType\": 1, \"valueTowardsCompletion\": 0.2, \"interactionType\": 1, \"questionType\": 2, \"questionId\": \"5.2_PlainDog\", \"learnToolsVersion\": \"0.3.4\", \"failureMessage\": \"\", \"exceptionClass\": \"\", \"trace\": \"\"}}, \"*\")"
      ],
      "text/plain": [
       "<IPython.core.display.Javascript object>"
      ]
     },
     "metadata": {},
     "output_type": "display_data"
    },
    {
     "data": {
      "text/markdown": [
       "<span style=\"color:#33cc33\">Correct:</span> \n",
       "\n",
       "One solution looks like:\n",
       "```python\n",
       "return not ketchup and not mustard and not onion\n",
       "```\n",
       "\n",
       "We can also [\"factor out\" the nots](https://en.wikipedia.org/wiki/De_Morgan%27s_laws) to get:\n",
       "\n",
       "```python\n",
       "return not (ketchup or mustard or onion)\n",
       "```"
      ],
      "text/plain": [
       "Correct: \n",
       "\n",
       "One solution looks like:\n",
       "```python\n",
       "return not ketchup and not mustard and not onion\n",
       "```\n",
       "\n",
       "We can also [\"factor out\" the nots](https://en.wikipedia.org/wiki/De_Morgan%27s_laws) to get:\n",
       "\n",
       "```python\n",
       "return not (ketchup or mustard or onion)\n",
       "```"
      ]
     },
     "metadata": {},
     "output_type": "display_data"
    }
   ],
   "source": [
    "def wants_plain_hotdog(ketchup, mustard, onion):\n",
    "    \"\"\"Return whether the customer wants a plain hot dog with no toppings.\n",
    "    \"\"\"\n",
    "    return not (ketchup or mustard or onion)\n",
    "\n",
    "# Check your answer\n",
    "q5.b.check()"
   ]
  },
  {
   "cell_type": "code",
   "execution_count": 16,
   "id": "d33cffda",
   "metadata": {
    "execution": {
     "iopub.execute_input": "2022-04-21T22:55:22.673022Z",
     "iopub.status.busy": "2022-04-21T22:55:22.672578Z",
     "iopub.status.idle": "2022-04-21T22:55:22.675146Z",
     "shell.execute_reply": "2022-04-21T22:55:22.674662Z"
    },
    "papermill": {
     "duration": 0.041521,
     "end_time": "2022-04-21T22:55:22.676699",
     "exception": false,
     "start_time": "2022-04-21T22:55:22.635178",
     "status": "completed"
    },
    "tags": []
   },
   "outputs": [],
   "source": [
    "#q5.b.hint()\n",
    "#q5.b.solution()"
   ]
  },
  {
   "cell_type": "markdown",
   "id": "eea6f68a",
   "metadata": {
    "papermill": {
     "duration": 0.036394,
     "end_time": "2022-04-21T22:55:22.749452",
     "exception": false,
     "start_time": "2022-04-21T22:55:22.713058",
     "status": "completed"
    },
    "tags": []
   },
   "source": [
    "# 5c.\n",
    "\n",
    "You know what to do: for the next function, fill in the body to match the English description in the docstring."
   ]
  },
  {
   "cell_type": "code",
   "execution_count": 17,
   "id": "b5b1293b",
   "metadata": {
    "execution": {
     "iopub.execute_input": "2022-04-21T22:55:22.824042Z",
     "iopub.status.busy": "2022-04-21T22:55:22.823625Z",
     "iopub.status.idle": "2022-04-21T22:55:22.830077Z",
     "shell.execute_reply": "2022-04-21T22:55:22.829323Z"
    },
    "papermill": {
     "duration": 0.045932,
     "end_time": "2022-04-21T22:55:22.831890",
     "exception": false,
     "start_time": "2022-04-21T22:55:22.785958",
     "status": "completed"
    },
    "tags": []
   },
   "outputs": [
    {
     "data": {
      "application/javascript": [
       "parent.postMessage({\"jupyterEvent\": \"custom.exercise_interaction\", \"data\": {\"outcomeType\": 1, \"valueTowardsCompletion\": 0.2, \"interactionType\": 1, \"questionType\": 2, \"questionId\": \"5.3_OneSauce\", \"learnToolsVersion\": \"0.3.4\", \"failureMessage\": \"\", \"exceptionClass\": \"\", \"trace\": \"\"}}, \"*\")"
      ],
      "text/plain": [
       "<IPython.core.display.Javascript object>"
      ]
     },
     "metadata": {},
     "output_type": "display_data"
    },
    {
     "data": {
      "text/markdown": [
       "<span style=\"color:#33cc33\">Correct</span>"
      ],
      "text/plain": [
       "Correct"
      ]
     },
     "metadata": {},
     "output_type": "display_data"
    }
   ],
   "source": [
    "def exactly_one_sauce(ketchup, mustard, onion):\n",
    "    \"\"\"Return whether the customer wants either ketchup or mustard, but not both.\n",
    "    (You may be familiar with this operation under the name \"exclusive or\")\n",
    "    \"\"\"\n",
    "    if ketchup and mustard == True:\n",
    "        return False\n",
    "    elif (ketchup or mustard == True) and ketchup != mustard:\n",
    "        return True\n",
    "    else:\n",
    "        return False\n",
    "\n",
    "# Check your answer\n",
    "q5.c.check()"
   ]
  },
  {
   "cell_type": "code",
   "execution_count": 18,
   "id": "fd251a9e",
   "metadata": {
    "execution": {
     "iopub.execute_input": "2022-04-21T22:55:22.911685Z",
     "iopub.status.busy": "2022-04-21T22:55:22.911437Z",
     "iopub.status.idle": "2022-04-21T22:55:22.921107Z",
     "shell.execute_reply": "2022-04-21T22:55:22.920320Z"
    },
    "papermill": {
     "duration": 0.052426,
     "end_time": "2022-04-21T22:55:22.922747",
     "exception": false,
     "start_time": "2022-04-21T22:55:22.870321",
     "status": "completed"
    },
    "tags": []
   },
   "outputs": [
    {
     "data": {
      "application/javascript": [
       "parent.postMessage({\"jupyterEvent\": \"custom.exercise_interaction\", \"data\": {\"interactionType\": 2, \"questionType\": 2, \"questionId\": \"5.3_OneSauce\", \"learnToolsVersion\": \"0.3.4\", \"valueTowardsCompletion\": 0.0, \"failureMessage\": \"\", \"exceptionClass\": \"\", \"trace\": \"\", \"outcomeType\": 4}}, \"*\")"
      ],
      "text/plain": [
       "<IPython.core.display.Javascript object>"
      ]
     },
     "metadata": {},
     "output_type": "display_data"
    },
    {
     "data": {
      "text/markdown": [
       "<span style=\"color:#3366cc\">Hint:</span> There are exactly two ways to set ketchup and mustard to make this true. What are they?"
      ],
      "text/plain": [
       "Hint: There are exactly two ways to set ketchup and mustard to make this true. What are they?"
      ]
     },
     "metadata": {},
     "output_type": "display_data"
    },
    {
     "data": {
      "application/javascript": [
       "parent.postMessage({\"jupyterEvent\": \"custom.exercise_interaction\", \"data\": {\"interactionType\": 3, \"questionType\": 2, \"questionId\": \"5.3_OneSauce\", \"learnToolsVersion\": \"0.3.4\", \"valueTowardsCompletion\": 0.0, \"failureMessage\": \"\", \"exceptionClass\": \"\", \"trace\": \"\", \"outcomeType\": 4}}, \"*\")"
      ],
      "text/plain": [
       "<IPython.core.display.Javascript object>"
      ]
     },
     "metadata": {},
     "output_type": "display_data"
    },
    {
     "data": {
      "text/markdown": [
       "<span style=\"color:#33cc99\">Solution:</span> \n",
       "```python\n",
       "return (ketchup and not mustard) or (mustard and not ketchup)\n",
       "```"
      ],
      "text/plain": [
       "Solution: \n",
       "```python\n",
       "return (ketchup and not mustard) or (mustard and not ketchup)\n",
       "```"
      ]
     },
     "metadata": {},
     "output_type": "display_data"
    }
   ],
   "source": [
    "q5.c.hint()\n",
    "q5.c.solution()"
   ]
  },
  {
   "cell_type": "markdown",
   "id": "dfabd7c1",
   "metadata": {
    "papermill": {
     "duration": 0.038979,
     "end_time": "2022-04-21T22:55:23.000985",
     "exception": false,
     "start_time": "2022-04-21T22:55:22.962006",
     "status": "completed"
    },
    "tags": []
   },
   "source": [
    "# 6. <span title=\"A bit spicy\" style=\"color: darkgreen \">🌶️</span>\n",
    "\n",
    "We’ve seen that calling `bool()` on an integer returns `False` if it’s equal to 0 and `True` otherwise. What happens if we call `int()` on a bool? Try it out in the notebook cell below.\n",
    "\n",
    "Can you take advantage of this to write a succinct function that corresponds to the English sentence \"does the customer want exactly one topping?\"?"
   ]
  },
  {
   "cell_type": "code",
   "execution_count": 19,
   "id": "888a6e3f",
   "metadata": {
    "execution": {
     "iopub.execute_input": "2022-04-21T22:55:23.080797Z",
     "iopub.status.busy": "2022-04-21T22:55:23.080545Z",
     "iopub.status.idle": "2022-04-21T22:55:23.085238Z",
     "shell.execute_reply": "2022-04-21T22:55:23.084494Z"
    },
    "papermill": {
     "duration": 0.046875,
     "end_time": "2022-04-21T22:55:23.086993",
     "exception": false,
     "start_time": "2022-04-21T22:55:23.040118",
     "status": "completed"
    },
    "tags": []
   },
   "outputs": [
    {
     "data": {
      "text/plain": [
       "0"
      ]
     },
     "execution_count": 19,
     "metadata": {},
     "output_type": "execute_result"
    }
   ],
   "source": [
    "int(True)\n",
    "int(False)"
   ]
  },
  {
   "cell_type": "code",
   "execution_count": 20,
   "id": "3e553a16",
   "metadata": {
    "execution": {
     "iopub.execute_input": "2022-04-21T22:55:23.167432Z",
     "iopub.status.busy": "2022-04-21T22:55:23.166868Z",
     "iopub.status.idle": "2022-04-21T22:55:23.174160Z",
     "shell.execute_reply": "2022-04-21T22:55:23.173421Z"
    },
    "papermill": {
     "duration": 0.049593,
     "end_time": "2022-04-21T22:55:23.175866",
     "exception": false,
     "start_time": "2022-04-21T22:55:23.126273",
     "status": "completed"
    },
    "tags": []
   },
   "outputs": [
    {
     "data": {
      "application/javascript": [
       "parent.postMessage({\"jupyterEvent\": \"custom.exercise_interaction\", \"data\": {\"outcomeType\": 1, \"valueTowardsCompletion\": 0.2, \"interactionType\": 1, \"questionType\": 2, \"questionId\": \"6_OneTopping\", \"learnToolsVersion\": \"0.3.4\", \"failureMessage\": \"\", \"exceptionClass\": \"\", \"trace\": \"\"}}, \"*\")"
      ],
      "text/plain": [
       "<IPython.core.display.Javascript object>"
      ]
     },
     "metadata": {},
     "output_type": "display_data"
    },
    {
     "data": {
      "text/markdown": [
       "<span style=\"color:#33cc33\">Correct:</span> \n",
       "\n",
       "This condition would be pretty complicated to express using just `and`, `or` and `not`, but using boolean-to-integer conversion gives us this short solution:\n",
       "```python\n",
       "return (int(ketchup) + int(mustard) + int(onion)) == 1\n",
       "```\n",
       "\n",
       "Fun fact: we don't technically need to call `int` on the arguments. Just by doing addition with booleans, Python implicitly does the integer conversion. So we could also write...\n",
       "\n",
       "```python\n",
       "return (ketchup + mustard + onion) == 1\n",
       "```"
      ],
      "text/plain": [
       "Correct: \n",
       "\n",
       "This condition would be pretty complicated to express using just `and`, `or` and `not`, but using boolean-to-integer conversion gives us this short solution:\n",
       "```python\n",
       "return (int(ketchup) + int(mustard) + int(onion)) == 1\n",
       "```\n",
       "\n",
       "Fun fact: we don't technically need to call `int` on the arguments. Just by doing addition with booleans, Python implicitly does the integer conversion. So we could also write...\n",
       "\n",
       "```python\n",
       "return (ketchup + mustard + onion) == 1\n",
       "```"
      ]
     },
     "metadata": {},
     "output_type": "display_data"
    }
   ],
   "source": [
    "def exactly_one_topping(ketchup, mustard, onion):\n",
    "    \"\"\"Return whether the customer wants exactly one of the three available toppings\n",
    "    on their hot dog.\n",
    "    \"\"\"\n",
    "    if (ketchup + mustard + onion) == 1:\n",
    "        return True\n",
    "    else:\n",
    "        return False\n",
    "\n",
    "# Check your answer\n",
    "q6.check()"
   ]
  },
  {
   "cell_type": "code",
   "execution_count": 21,
   "id": "64ed9ca7",
   "metadata": {
    "execution": {
     "iopub.execute_input": "2022-04-21T22:55:23.258937Z",
     "iopub.status.busy": "2022-04-21T22:55:23.258239Z",
     "iopub.status.idle": "2022-04-21T22:55:23.269781Z",
     "shell.execute_reply": "2022-04-21T22:55:23.268452Z"
    },
    "papermill": {
     "duration": 0.0558,
     "end_time": "2022-04-21T22:55:23.272156",
     "exception": false,
     "start_time": "2022-04-21T22:55:23.216356",
     "status": "completed"
    },
    "tags": []
   },
   "outputs": [
    {
     "data": {
      "application/javascript": [
       "parent.postMessage({\"jupyterEvent\": \"custom.exercise_interaction\", \"data\": {\"interactionType\": 2, \"questionType\": 2, \"questionId\": \"6_OneTopping\", \"learnToolsVersion\": \"0.3.4\", \"valueTowardsCompletion\": 0.0, \"failureMessage\": \"\", \"exceptionClass\": \"\", \"trace\": \"\", \"outcomeType\": 4}}, \"*\")"
      ],
      "text/plain": [
       "<IPython.core.display.Javascript object>"
      ]
     },
     "metadata": {},
     "output_type": "display_data"
    },
    {
     "data": {
      "text/markdown": [
       "<span style=\"color:#3366cc\">Hint:</span> You may have already found that `int(True)` is 1, and `int(False)` is 0. Think about what kinds of basic arithmetic operations you might want to perform on `ketchup`, `mustard`, and `onion` after converting them to integers."
      ],
      "text/plain": [
       "Hint: You may have already found that `int(True)` is 1, and `int(False)` is 0. Think about what kinds of basic arithmetic operations you might want to perform on `ketchup`, `mustard`, and `onion` after converting them to integers."
      ]
     },
     "metadata": {},
     "output_type": "display_data"
    },
    {
     "data": {
      "application/javascript": [
       "parent.postMessage({\"jupyterEvent\": \"custom.exercise_interaction\", \"data\": {\"interactionType\": 3, \"questionType\": 2, \"questionId\": \"6_OneTopping\", \"learnToolsVersion\": \"0.3.4\", \"valueTowardsCompletion\": 0.0, \"failureMessage\": \"\", \"exceptionClass\": \"\", \"trace\": \"\", \"outcomeType\": 4}}, \"*\")"
      ],
      "text/plain": [
       "<IPython.core.display.Javascript object>"
      ]
     },
     "metadata": {},
     "output_type": "display_data"
    },
    {
     "data": {
      "text/markdown": [
       "<span style=\"color:#33cc99\">Solution:</span> This condition would be pretty complicated to express using just `and`, `or` and `not`, but using boolean-to-integer conversion gives us this short solution:\n",
       "```python\n",
       "return (int(ketchup) + int(mustard) + int(onion)) == 1\n",
       "```\n",
       "\n",
       "Fun fact: we don't technically need to call `int` on the arguments. Just by doing addition with booleans, Python implicitly does the integer conversion. So we could also write...\n",
       "\n",
       "```python\n",
       "return (ketchup + mustard + onion) == 1\n",
       "```"
      ],
      "text/plain": [
       "Solution: This condition would be pretty complicated to express using just `and`, `or` and `not`, but using boolean-to-integer conversion gives us this short solution:\n",
       "```python\n",
       "return (int(ketchup) + int(mustard) + int(onion)) == 1\n",
       "```\n",
       "\n",
       "Fun fact: we don't technically need to call `int` on the arguments. Just by doing addition with booleans, Python implicitly does the integer conversion. So we could also write...\n",
       "\n",
       "```python\n",
       "return (ketchup + mustard + onion) == 1\n",
       "```"
      ]
     },
     "metadata": {},
     "output_type": "display_data"
    }
   ],
   "source": [
    "q6.hint()\n",
    "q6.solution()"
   ]
  },
  {
   "cell_type": "markdown",
   "id": "5b1e0446",
   "metadata": {
    "papermill": {
     "duration": 0.056844,
     "end_time": "2022-04-21T22:55:23.376715",
     "exception": false,
     "start_time": "2022-04-21T22:55:23.319871",
     "status": "completed"
    },
    "tags": []
   },
   "source": [
    "# 7. <span title=\"A bit spicy\" style=\"color: darkgreen \">🌶️</span> (Optional)\n",
    "\n",
    "In this problem we'll be working with a simplified version of [blackjack](https://en.wikipedia.org/wiki/Blackjack) (aka twenty-one). In this version there is one player (who you'll control) and a dealer. Play proceeds as follows:\n",
    "\n",
    "- The player is dealt two face-up cards. The dealer is dealt one face-up card.\n",
    "- The player may ask to be dealt another card ('hit') as many times as they wish. If the sum of their cards exceeds 21, they lose the round immediately.\n",
    "- The dealer then deals additional cards to himself until either:\n",
    "    - the sum of the dealer's cards exceeds 21, in which case the player wins the round\n",
    "    - the sum of the dealer's cards is greater than or equal to 17. If the player's total is greater than the dealer's, the player wins. Otherwise, the dealer wins (even in case of a tie).\n",
    "    \n",
    "When calculating the sum of cards, Jack, Queen, and King count for 10. Aces can count as 1 or 11 (when referring to a player's \"total\" above, we mean the largest total that can be made without exceeding 21. So e.g. A+8 = 19, A+8+8 = 17)\n",
    "\n",
    "For this problem, you'll write a function representing the player's decision-making strategy in this game. We've provided a very unintelligent implementation below:"
   ]
  },
  {
   "cell_type": "code",
   "execution_count": 22,
   "id": "06127e14",
   "metadata": {
    "execution": {
     "iopub.execute_input": "2022-04-21T22:55:23.466358Z",
     "iopub.status.busy": "2022-04-21T22:55:23.465568Z",
     "iopub.status.idle": "2022-04-21T22:55:23.469595Z",
     "shell.execute_reply": "2022-04-21T22:55:23.468984Z"
    },
    "papermill": {
     "duration": 0.048868,
     "end_time": "2022-04-21T22:55:23.471248",
     "exception": false,
     "start_time": "2022-04-21T22:55:23.422380",
     "status": "completed"
    },
    "tags": []
   },
   "outputs": [],
   "source": [
    "def should_hit(dealer_total, player_total, player_low_aces, player_high_aces):\n",
    "    \"\"\"Return True if the player should hit (request another card) given the current game\n",
    "    state, or False if the player should stay.\n",
    "    When calculating a hand's total value, we count aces as \"high\" (with value 11) if doing so\n",
    "    doesn't bring the total above 21, otherwise we count them as low (with value 1). \n",
    "    For example, if the player's hand is {A, A, A, 7}, we will count it as 11 + 1 + 1 + 7,\n",
    "    and therefore set player_total=20, player_low_aces=2, player_high_aces=1.\n",
    "    \"\"\"\n",
    "    return False"
   ]
  },
  {
   "cell_type": "markdown",
   "id": "e8b98e5e",
   "metadata": {
    "papermill": {
     "duration": 0.042042,
     "end_time": "2022-04-21T22:55:23.555953",
     "exception": false,
     "start_time": "2022-04-21T22:55:23.513911",
     "status": "completed"
    },
    "tags": []
   },
   "source": [
    "This very conservative agent *always* sticks with the hand of two cards that they're dealt.\n",
    "\n",
    "We'll be simulating games between your player agent and our own dealer agent by calling your function.\n",
    "\n",
    "Try running the function below to see an example of a simulated game:"
   ]
  },
  {
   "cell_type": "code",
   "execution_count": 23,
   "id": "d67a920f",
   "metadata": {
    "execution": {
     "iopub.execute_input": "2022-04-21T22:55:23.642096Z",
     "iopub.status.busy": "2022-04-21T22:55:23.641857Z",
     "iopub.status.idle": "2022-04-21T22:55:23.647029Z",
     "shell.execute_reply": "2022-04-21T22:55:23.645864Z"
    },
    "papermill": {
     "duration": 0.05065,
     "end_time": "2022-04-21T22:55:23.649053",
     "exception": false,
     "start_time": "2022-04-21T22:55:23.598403",
     "status": "completed"
    },
    "tags": []
   },
   "outputs": [
    {
     "name": "stdout",
     "output_type": "stream",
     "text": [
      "Player starts with 8 and 7 (total = 15)\n",
      "Dealer starts with 4\n",
      "\n",
      "__Player's turn__\n",
      "Player stays\n",
      "\n",
      "__Dealer's turn__\n",
      "Dealer hits and receives 4. (total = 8)\n",
      "Dealer hits and receives 6. (total = 14)\n",
      "Dealer hits and receives Q. (total = 24)\n",
      "Dealer busts! Player wins.\n"
     ]
    }
   ],
   "source": [
    "q7.simulate_one_game()"
   ]
  },
  {
   "cell_type": "markdown",
   "id": "2cff1731",
   "metadata": {
    "papermill": {
     "duration": 0.042701,
     "end_time": "2022-04-21T22:55:23.735746",
     "exception": false,
     "start_time": "2022-04-21T22:55:23.693045",
     "status": "completed"
    },
    "tags": []
   },
   "source": [
    "The real test of your agent's mettle is their average win rate over many games. Try calling the function below to simulate 50000 games of blackjack (it may take a couple seconds):"
   ]
  },
  {
   "cell_type": "code",
   "execution_count": 24,
   "id": "e7209820",
   "metadata": {
    "execution": {
     "iopub.execute_input": "2022-04-21T22:55:23.822934Z",
     "iopub.status.busy": "2022-04-21T22:55:23.822475Z",
     "iopub.status.idle": "2022-04-21T22:55:25.057654Z",
     "shell.execute_reply": "2022-04-21T22:55:25.056780Z"
    },
    "papermill": {
     "duration": 1.28106,
     "end_time": "2022-04-21T22:55:25.059714",
     "exception": false,
     "start_time": "2022-04-21T22:55:23.778654",
     "status": "completed"
    },
    "tags": []
   },
   "outputs": [
    {
     "name": "stdout",
     "output_type": "stream",
     "text": [
      "Player won 18874 out of 50000 games (win rate = 37.7%)\n"
     ]
    }
   ],
   "source": [
    "q7.simulate(n_games=50000)"
   ]
  },
  {
   "cell_type": "markdown",
   "id": "06c6d412",
   "metadata": {
    "papermill": {
     "duration": 0.043773,
     "end_time": "2022-04-21T22:55:25.147536",
     "exception": false,
     "start_time": "2022-04-21T22:55:25.103763",
     "status": "completed"
    },
    "tags": []
   },
   "source": [
    "Our dumb agent that completely ignores the game state still manages to win shockingly often!\n",
    "\n",
    "Try adding some more smarts to the `should_hit` function and see how it affects the results."
   ]
  },
  {
   "cell_type": "code",
   "execution_count": 25,
   "id": "2cc78c7a",
   "metadata": {
    "execution": {
     "iopub.execute_input": "2022-04-21T22:55:25.235781Z",
     "iopub.status.busy": "2022-04-21T22:55:25.235359Z",
     "iopub.status.idle": "2022-04-21T22:55:26.451337Z",
     "shell.execute_reply": "2022-04-21T22:55:26.450642Z"
    },
    "papermill": {
     "duration": 1.262685,
     "end_time": "2022-04-21T22:55:26.453628",
     "exception": false,
     "start_time": "2022-04-21T22:55:25.190943",
     "status": "completed"
    },
    "tags": []
   },
   "outputs": [
    {
     "name": "stdout",
     "output_type": "stream",
     "text": [
      "Player won 19096 out of 50000 games (win rate = 38.2%)\n"
     ]
    }
   ],
   "source": [
    "def should_hit(dealer_total, player_total, player_low_aces, player_high_aces):\n",
    "    \"\"\"Return True if the player should hit (request another card) given the current game\n",
    "    state, or False if the player should stay.\n",
    "    When calculating a hand's total value, we count aces as \"high\" (with value 11) if doing so\n",
    "    doesn't bring the total above 21, otherwise we count them as low (with value 1). \n",
    "    For example, if the player's hand is {A, A, A, 7}, we will count it as 11 + 1 + 1 + 7,\n",
    "    and therefore set player_total=20, player_low_aces=2, player_high_aces=1.\n",
    "    \"\"\"\n",
    "    return False\n",
    "\n",
    "q7.simulate(n_games=50000)"
   ]
  },
  {
   "cell_type": "markdown",
   "id": "f40c9410",
   "metadata": {
    "papermill": {
     "duration": 0.043885,
     "end_time": "2022-04-21T22:55:26.541683",
     "exception": false,
     "start_time": "2022-04-21T22:55:26.497798",
     "status": "completed"
    },
    "tags": []
   },
   "source": [
    "# Keep Going\n",
    "\n",
    "Learn about **[lists and tuples](https://www.kaggle.com/colinmorris/lists)** to handle multiple items of data in a systematic way."
   ]
  },
  {
   "cell_type": "markdown",
   "id": "85098387",
   "metadata": {
    "papermill": {
     "duration": 0.043672,
     "end_time": "2022-04-21T22:55:26.629286",
     "exception": false,
     "start_time": "2022-04-21T22:55:26.585614",
     "status": "completed"
    },
    "tags": []
   },
   "source": [
    "---\n",
    "\n",
    "\n",
    "\n",
    "\n",
    "*Have questions or comments? Visit the [course discussion forum](https://www.kaggle.com/learn/python/discussion) to chat with other learners.*"
   ]
  }
 ],
 "metadata": {
  "kernelspec": {
   "display_name": "Python 3",
   "language": "python",
   "name": "python3"
  },
  "language_info": {
   "codemirror_mode": {
    "name": "ipython",
    "version": 3
   },
   "file_extension": ".py",
   "mimetype": "text/x-python",
   "name": "python",
   "nbconvert_exporter": "python",
   "pygments_lexer": "ipython3",
   "version": "3.7.12"
  },
  "papermill": {
   "default_parameters": {},
   "duration": 14.510324,
   "end_time": "2022-04-21T22:55:27.191419",
   "environment_variables": {},
   "exception": null,
   "input_path": "__notebook__.ipynb",
   "output_path": "__notebook__.ipynb",
   "parameters": {},
   "start_time": "2022-04-21T22:55:12.681095",
   "version": "2.3.4"
  }
 },
 "nbformat": 4,
 "nbformat_minor": 5
}
