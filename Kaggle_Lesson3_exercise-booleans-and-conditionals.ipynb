{
 "cells": [
  {
   "cell_type": "markdown",
   "id": "b7718461",
   "metadata": {
    "papermill": {
     "duration": 0.046387,
     "end_time": "2022-04-22T22:34:55.475353",
     "exception": false,
     "start_time": "2022-04-22T22:34:55.428966",
     "status": "completed"
    },
    "tags": []
   },
   "source": [
    "**This notebook is an exercise in the [Python](https://www.kaggle.com/learn/python) course.  You can reference the tutorial at [this link](https://www.kaggle.com/colinmorris/booleans-and-conditionals).**\n",
    "\n",
    "---\n"
   ]
  },
  {
   "cell_type": "markdown",
   "id": "b6d78779",
   "metadata": {
    "papermill": {
     "duration": 0.045526,
     "end_time": "2022-04-22T22:34:55.566706",
     "exception": false,
     "start_time": "2022-04-22T22:34:55.521180",
     "status": "completed"
    },
    "tags": []
   },
   "source": [
    "In this exercise, you'll put to work what you have learned about booleans and conditionals.\n",
    "\n",
    "To get started, **run the setup code below** before writing your own code (and if you leave this notebook and come back later, don't forget to run the setup code again)."
   ]
  },
  {
   "cell_type": "code",
   "execution_count": 1,
   "id": "d395f382",
   "metadata": {
    "execution": {
     "iopub.execute_input": "2022-04-22T22:34:55.659577Z",
     "iopub.status.busy": "2022-04-22T22:34:55.659065Z",
     "iopub.status.idle": "2022-04-22T22:34:55.707504Z",
     "shell.execute_reply": "2022-04-22T22:34:55.706707Z"
    },
    "papermill": {
     "duration": 0.09919,
     "end_time": "2022-04-22T22:34:55.710912",
     "exception": false,
     "start_time": "2022-04-22T22:34:55.611722",
     "status": "completed"
    },
    "tags": []
   },
   "outputs": [
    {
     "name": "stdout",
     "output_type": "stream",
     "text": [
      "Setup complete.\n"
     ]
    }
   ],
   "source": [
    "from learntools.core import binder; binder.bind(globals())\n",
    "from learntools.python.ex3 import *\n",
    "print('Setup complete.')"
   ]
  },
  {
   "cell_type": "markdown",
   "id": "a0c0e190",
   "metadata": {
    "papermill": {
     "duration": 0.046106,
     "end_time": "2022-04-22T22:34:55.806384",
     "exception": false,
     "start_time": "2022-04-22T22:34:55.760278",
     "status": "completed"
    },
    "tags": []
   },
   "source": [
    "# 1.\n",
    "\n",
    "Many programming languages have [`sign`](https://en.wikipedia.org/wiki/Sign_function) available as a built-in function. Python doesn't, but we can define our own!\n",
    "\n",
    "In the cell below, define a function called `sign` which takes a numerical argument and returns -1 if it's negative, 1 if it's positive, and 0 if it's 0."
   ]
  },
  {
   "cell_type": "code",
   "execution_count": 2,
   "id": "a09bc531",
   "metadata": {
    "execution": {
     "iopub.execute_input": "2022-04-22T22:34:55.900909Z",
     "iopub.status.busy": "2022-04-22T22:34:55.900500Z",
     "iopub.status.idle": "2022-04-22T22:34:55.908802Z",
     "shell.execute_reply": "2022-04-22T22:34:55.908089Z"
    },
    "papermill": {
     "duration": 0.059401,
     "end_time": "2022-04-22T22:34:55.911882",
     "exception": false,
     "start_time": "2022-04-22T22:34:55.852481",
     "status": "completed"
    },
    "tags": []
   },
   "outputs": [
    {
     "data": {
      "application/javascript": [
       "parent.postMessage({\"jupyterEvent\": \"custom.exercise_interaction\", \"data\": {\"outcomeType\": 1, \"valueTowardsCompletion\": 0.2, \"interactionType\": 1, \"questionType\": 2, \"questionId\": \"1_SignFunctionProblem\", \"learnToolsVersion\": \"0.3.4\", \"failureMessage\": \"\", \"exceptionClass\": \"\", \"trace\": \"\"}}, \"*\")"
      ],
      "text/plain": [
       "<IPython.core.display.Javascript object>"
      ]
     },
     "metadata": {},
     "output_type": "display_data"
    },
    {
     "data": {
      "text/markdown": [
       "<span style=\"color:#33cc33\">Correct</span>"
      ],
      "text/plain": [
       "Correct"
      ]
     },
     "metadata": {},
     "output_type": "display_data"
    }
   ],
   "source": [
    "# Your code goes here. Define a function called 'sign'\n",
    "def sign(x):\n",
    "    \"\"\" Takes a numerical argument and returns -1 if it's negative,\n",
    "    1 if it's positive,\n",
    "    and 0 if it's 0.\n",
    "    \n",
    "    >>> sign(-4)\n",
    "    -1\n",
    "    \"\"\"\n",
    "    if x > 0:\n",
    "        return 1\n",
    "    elif x < 0:\n",
    "        return -1\n",
    "    else:\n",
    "        return 0\n",
    "\n",
    "# Check your answer\n",
    "q1.check()"
   ]
  },
  {
   "cell_type": "code",
   "execution_count": 3,
   "id": "45b8f791",
   "metadata": {
    "execution": {
     "iopub.execute_input": "2022-04-22T22:34:56.012290Z",
     "iopub.status.busy": "2022-04-22T22:34:56.011684Z",
     "iopub.status.idle": "2022-04-22T22:34:56.015731Z",
     "shell.execute_reply": "2022-04-22T22:34:56.014617Z"
    },
    "papermill": {
     "duration": 0.05755,
     "end_time": "2022-04-22T22:34:56.017835",
     "exception": false,
     "start_time": "2022-04-22T22:34:55.960285",
     "status": "completed"
    },
    "tags": []
   },
   "outputs": [],
   "source": [
    "#q1.solution()"
   ]
  },
  {
   "cell_type": "markdown",
   "id": "147b2cdf",
   "metadata": {
    "papermill": {
     "duration": 0.04871,
     "end_time": "2022-04-22T22:34:56.122080",
     "exception": false,
     "start_time": "2022-04-22T22:34:56.073370",
     "status": "completed"
    },
    "tags": []
   },
   "source": [
    "# 2.\n",
    "\n",
    "We've decided to add \"logging\" to our `to_smash` function from the previous exercise."
   ]
  },
  {
   "cell_type": "code",
   "execution_count": 4,
   "id": "fccb3a20",
   "metadata": {
    "execution": {
     "iopub.execute_input": "2022-04-22T22:34:56.219860Z",
     "iopub.status.busy": "2022-04-22T22:34:56.219053Z",
     "iopub.status.idle": "2022-04-22T22:34:56.228500Z",
     "shell.execute_reply": "2022-04-22T22:34:56.226801Z"
    },
    "papermill": {
     "duration": 0.059832,
     "end_time": "2022-04-22T22:34:56.230295",
     "exception": false,
     "start_time": "2022-04-22T22:34:56.170463",
     "status": "completed"
    },
    "tags": []
   },
   "outputs": [
    {
     "name": "stdout",
     "output_type": "stream",
     "text": [
      "Splitting 91 candies\n"
     ]
    },
    {
     "data": {
      "text/plain": [
       "1"
      ]
     },
     "execution_count": 4,
     "metadata": {},
     "output_type": "execute_result"
    }
   ],
   "source": [
    "def to_smash(total_candies):\n",
    "    \"\"\"Return the number of leftover candies that must be smashed after distributing\n",
    "    the given number of candies evenly between 3 friends.\n",
    "    \n",
    "    >>> to_smash(91)\n",
    "    1\n",
    "    \"\"\"\n",
    "    print(\"Splitting\", total_candies, \"candies\")\n",
    "    return total_candies % 3\n",
    "\n",
    "to_smash(91)"
   ]
  },
  {
   "cell_type": "markdown",
   "id": "59c63279",
   "metadata": {
    "papermill": {
     "duration": 0.035865,
     "end_time": "2022-04-22T22:34:56.301220",
     "exception": false,
     "start_time": "2022-04-22T22:34:56.265355",
     "status": "completed"
    },
    "tags": []
   },
   "source": [
    "What happens if we call it with `total_candies = 1`?"
   ]
  },
  {
   "cell_type": "code",
   "execution_count": 5,
   "id": "3f63f0ff",
   "metadata": {
    "execution": {
     "iopub.execute_input": "2022-04-22T22:34:56.371695Z",
     "iopub.status.busy": "2022-04-22T22:34:56.371425Z",
     "iopub.status.idle": "2022-04-22T22:34:56.379450Z",
     "shell.execute_reply": "2022-04-22T22:34:56.378236Z"
    },
    "papermill": {
     "duration": 0.044937,
     "end_time": "2022-04-22T22:34:56.381693",
     "exception": false,
     "start_time": "2022-04-22T22:34:56.336756",
     "status": "completed"
    },
    "tags": []
   },
   "outputs": [
    {
     "name": "stdout",
     "output_type": "stream",
     "text": [
      "Splitting 1 candies\n"
     ]
    },
    {
     "data": {
      "text/plain": [
       "1"
      ]
     },
     "execution_count": 5,
     "metadata": {},
     "output_type": "execute_result"
    }
   ],
   "source": [
    "to_smash(1)"
   ]
  },
  {
   "cell_type": "markdown",
   "id": "b741d0a6",
   "metadata": {
    "papermill": {
     "duration": 0.032262,
     "end_time": "2022-04-22T22:34:56.447648",
     "exception": false,
     "start_time": "2022-04-22T22:34:56.415386",
     "status": "completed"
    },
    "tags": []
   },
   "source": [
    "That isn't great grammar!\n",
    "\n",
    "Modify the definition in the cell below to correct the grammar of our print statement. (If there's only one candy, we should use the singular \"candy\" instead of the plural \"candies\")"
   ]
  },
  {
   "cell_type": "code",
   "execution_count": 6,
   "id": "1cba1e9d",
   "metadata": {
    "execution": {
     "iopub.execute_input": "2022-04-22T22:34:56.513959Z",
     "iopub.status.busy": "2022-04-22T22:34:56.513387Z",
     "iopub.status.idle": "2022-04-22T22:34:56.521676Z",
     "shell.execute_reply": "2022-04-22T22:34:56.520375Z"
    },
    "papermill": {
     "duration": 0.044489,
     "end_time": "2022-04-22T22:34:56.524064",
     "exception": false,
     "start_time": "2022-04-22T22:34:56.479575",
     "status": "completed"
    },
    "tags": []
   },
   "outputs": [
    {
     "name": "stdout",
     "output_type": "stream",
     "text": [
      "Splitting 91 candies\n",
      "Splitting 1 candy\n"
     ]
    },
    {
     "data": {
      "text/plain": [
       "1"
      ]
     },
     "execution_count": 6,
     "metadata": {},
     "output_type": "execute_result"
    }
   ],
   "source": [
    "def to_smash(total_candies):\n",
    "    \"\"\"Return the number of leftover candies that must be smashed after distributing\n",
    "    the given number of candies evenly between 3 friends.\n",
    "    \n",
    "    >>> to_smash(91)\n",
    "    1\n",
    "    \"\"\"\n",
    "    print(\"Splitting\", total_candies,\n",
    "          \"candies\" if total_candies >= 2\n",
    "          else \"candy\")\n",
    "    return total_candies % 3\n",
    "\n",
    "to_smash(91)\n",
    "to_smash(1)"
   ]
  },
  {
   "cell_type": "markdown",
   "id": "67157a6f",
   "metadata": {
    "papermill": {
     "duration": 0.034531,
     "end_time": "2022-04-22T22:34:56.593524",
     "exception": false,
     "start_time": "2022-04-22T22:34:56.558993",
     "status": "completed"
    },
    "tags": []
   },
   "source": [
    "To get credit for completing this problem, and to see the official answer, run the code cell below."
   ]
  },
  {
   "cell_type": "code",
   "execution_count": 7,
   "id": "d759cb9a",
   "metadata": {
    "execution": {
     "iopub.execute_input": "2022-04-22T22:34:56.663751Z",
     "iopub.status.busy": "2022-04-22T22:34:56.663236Z",
     "iopub.status.idle": "2022-04-22T22:34:56.672091Z",
     "shell.execute_reply": "2022-04-22T22:34:56.670957Z"
    },
    "papermill": {
     "duration": 0.046769,
     "end_time": "2022-04-22T22:34:56.674471",
     "exception": false,
     "start_time": "2022-04-22T22:34:56.627702",
     "status": "completed"
    },
    "tags": []
   },
   "outputs": [
    {
     "data": {
      "application/javascript": [
       "parent.postMessage({\"jupyterEvent\": \"custom.exercise_interaction\", \"data\": {\"interactionType\": 3, \"questionType\": 4, \"questionId\": \"2_PluralizationProblem\", \"learnToolsVersion\": \"0.3.4\", \"valueTowardsCompletion\": 0.0, \"failureMessage\": \"\", \"exceptionClass\": \"\", \"trace\": \"\", \"outcomeType\": 4}}, \"*\")"
      ],
      "text/plain": [
       "<IPython.core.display.Javascript object>"
      ]
     },
     "metadata": {},
     "output_type": "display_data"
    },
    {
     "data": {
      "text/markdown": [
       "<span style=\"color:#33cc99\">Solution:</span> A straightforward (and totally fine) solution is to replace the original `print` call with:\n",
       "\n",
       "```python\n",
       "if total_candies == 1:\n",
       "    print(\"Splitting 1 candy\")\n",
       "else:\n",
       "    print(\"Splitting\", total_candies, \"candies\")\n",
       "```\n",
       "\n",
       "Here's a slightly more succinct solution using a conditional expression:\n",
       "\n",
       "```python\n",
       "print(\"Splitting\", total_candies, \"candy\" if total_candies == 1 else \"candies\")\n",
       "```"
      ],
      "text/plain": [
       "Solution: A straightforward (and totally fine) solution is to replace the original `print` call with:\n",
       "\n",
       "```python\n",
       "if total_candies == 1:\n",
       "    print(\"Splitting 1 candy\")\n",
       "else:\n",
       "    print(\"Splitting\", total_candies, \"candies\")\n",
       "```\n",
       "\n",
       "Here's a slightly more succinct solution using a conditional expression:\n",
       "\n",
       "```python\n",
       "print(\"Splitting\", total_candies, \"candy\" if total_candies == 1 else \"candies\")\n",
       "```"
      ]
     },
     "metadata": {},
     "output_type": "display_data"
    }
   ],
   "source": [
    "# Check your answer (Run this code cell to receive credit!)\n",
    "q2.solution()"
   ]
  },
  {
   "cell_type": "markdown",
   "id": "755cce31",
   "metadata": {
    "papermill": {
     "duration": 0.035771,
     "end_time": "2022-04-22T22:34:56.746970",
     "exception": false,
     "start_time": "2022-04-22T22:34:56.711199",
     "status": "completed"
    },
    "tags": []
   },
   "source": [
    "# 3. <span title=\"A bit spicy\" style=\"color: darkgreen \">🌶️</span>\n",
    "\n",
    "In the tutorial, we talked about deciding whether we're prepared for the weather. I said that I'm safe from today's weather if...\n",
    "- I have an umbrella...\n",
    "- or if the rain isn't too heavy and I have a hood...\n",
    "- otherwise, I'm still fine unless it's raining *and* it's a workday\n",
    "\n",
    "The function below uses our first attempt at turning this logic into a Python expression. I claimed that there was a bug in that code. Can you find it?\n",
    "\n",
    "To prove that `prepared_for_weather` is buggy, come up with a set of inputs where either:\n",
    "- the function returns `False` (but should have returned `True`), or\n",
    "- the function returned `True` (but should have returned `False`).\n",
    "\n",
    "To get credit for completing this question, your code should return a <font color='#33cc33'>Correct</font> result."
   ]
  },
  {
   "cell_type": "code",
   "execution_count": 8,
   "id": "7b5808d3",
   "metadata": {
    "execution": {
     "iopub.execute_input": "2022-04-22T22:34:56.818688Z",
     "iopub.status.busy": "2022-04-22T22:34:56.818438Z",
     "iopub.status.idle": "2022-04-22T22:34:56.829191Z",
     "shell.execute_reply": "2022-04-22T22:34:56.828319Z"
    },
    "papermill": {
     "duration": 0.049248,
     "end_time": "2022-04-22T22:34:56.831407",
     "exception": false,
     "start_time": "2022-04-22T22:34:56.782159",
     "status": "completed"
    },
    "tags": []
   },
   "outputs": [
    {
     "name": "stdout",
     "output_type": "stream",
     "text": [
      "False\n"
     ]
    },
    {
     "data": {
      "application/javascript": [
       "parent.postMessage({\"jupyterEvent\": \"custom.exercise_interaction\", \"data\": {\"outcomeType\": 1, \"valueTowardsCompletion\": 0.2, \"interactionType\": 1, \"questionType\": 1, \"questionId\": \"3_WeatherDebug\", \"learnToolsVersion\": \"0.3.4\", \"failureMessage\": \"\", \"exceptionClass\": \"\", \"trace\": \"\"}}, \"*\")"
      ],
      "text/plain": [
       "<IPython.core.display.Javascript object>"
      ]
     },
     "metadata": {},
     "output_type": "display_data"
    },
    {
     "data": {
      "text/markdown": [
       "<span style=\"color:#33cc33\">Correct:</span> \n",
       "\n",
       "One example of a failing test case is:\n",
       "\n",
       "```python\n",
       "have_umbrella = False\n",
       "rain_level = 0.0\n",
       "have_hood = False\n",
       "is_workday = False\n",
       "```\n",
       "\n",
       "Clearly we're prepared for the weather in this case. It's not raining. Not only that, it's not a workday, so we don't even need to leave the house! But our function will return False on these inputs.\n",
       "\n",
       "The key problem is that Python implictly parenthesizes the last part as:\n",
       "\n",
       "```python\n",
       "(not (rain_level > 0)) and is_workday\n",
       "```\n",
       "\n",
       "Whereas what we were trying to express would look more like:\n",
       "\n",
       "```python\n",
       "not (rain_level > 0 and is_workday)\n",
       "```\n"
      ],
      "text/plain": [
       "Correct: \n",
       "\n",
       "One example of a failing test case is:\n",
       "\n",
       "```python\n",
       "have_umbrella = False\n",
       "rain_level = 0.0\n",
       "have_hood = False\n",
       "is_workday = False\n",
       "```\n",
       "\n",
       "Clearly we're prepared for the weather in this case. It's not raining. Not only that, it's not a workday, so we don't even need to leave the house! But our function will return False on these inputs.\n",
       "\n",
       "The key problem is that Python implictly parenthesizes the last part as:\n",
       "\n",
       "```python\n",
       "(not (rain_level > 0)) and is_workday\n",
       "```\n",
       "\n",
       "Whereas what we were trying to express would look more like:\n",
       "\n",
       "```python\n",
       "not (rain_level > 0 and is_workday)\n",
       "```"
      ]
     },
     "metadata": {},
     "output_type": "display_data"
    }
   ],
   "source": [
    "def prepared_for_weather(have_umbrella, rain_level, have_hood, is_workday):\n",
    "    # Don't change this code. Our goal is just to find the bug, not fix it!\n",
    "    return have_umbrella or rain_level < 5 and have_hood or not rain_level > 0 and is_workday\n",
    "\n",
    "# Change the values of these inputs so they represent a case where prepared_for_weather\n",
    "# returns the wrong answer.\n",
    "have_umbrella = False\n",
    "rain_level = 0.0\n",
    "have_hood = False\n",
    "is_workday = False\n",
    "\n",
    "# Check what the function returns given the current values of the variables above\n",
    "actual = prepared_for_weather(have_umbrella, rain_level, have_hood, is_workday)\n",
    "print(actual)\n",
    "\n",
    "# Check your answer\n",
    "q3.check()"
   ]
  },
  {
   "cell_type": "code",
   "execution_count": 9,
   "id": "cdd9079f",
   "metadata": {
    "execution": {
     "iopub.execute_input": "2022-04-22T22:34:56.906943Z",
     "iopub.status.busy": "2022-04-22T22:34:56.906443Z",
     "iopub.status.idle": "2022-04-22T22:34:56.912802Z",
     "shell.execute_reply": "2022-04-22T22:34:56.912262Z"
    },
    "papermill": {
     "duration": 0.045979,
     "end_time": "2022-04-22T22:34:56.914314",
     "exception": false,
     "start_time": "2022-04-22T22:34:56.868335",
     "status": "completed"
    },
    "tags": []
   },
   "outputs": [
    {
     "data": {
      "application/javascript": [
       "parent.postMessage({\"jupyterEvent\": \"custom.exercise_interaction\", \"data\": {\"interactionType\": 2, \"questionType\": 1, \"questionId\": \"3_WeatherDebug\", \"learnToolsVersion\": \"0.3.4\", \"valueTowardsCompletion\": 0.0, \"failureMessage\": \"\", \"exceptionClass\": \"\", \"trace\": \"\", \"outcomeType\": 4}}, \"*\")"
      ],
      "text/plain": [
       "<IPython.core.display.Javascript object>"
      ]
     },
     "metadata": {},
     "output_type": "display_data"
    },
    {
     "data": {
      "text/markdown": [
       "<span style=\"color:#3366cc\">Hint:</span> Take a look at how we fixed our original expression in the main lesson. We added parentheses around certain subexpressions. The bug in this code is caused by Python evaluating certain operations in the \"wrong\" order."
      ],
      "text/plain": [
       "Hint: Take a look at how we fixed our original expression in the main lesson. We added parentheses around certain subexpressions. The bug in this code is caused by Python evaluating certain operations in the \"wrong\" order."
      ]
     },
     "metadata": {},
     "output_type": "display_data"
    }
   ],
   "source": [
    "q3.hint()\n",
    "#q3.solution()"
   ]
  },
  {
   "cell_type": "markdown",
   "id": "c5365289",
   "metadata": {
    "papermill": {
     "duration": 0.037292,
     "end_time": "2022-04-22T22:34:56.989612",
     "exception": false,
     "start_time": "2022-04-22T22:34:56.952320",
     "status": "completed"
    },
    "tags": []
   },
   "source": [
    "# 4.\n",
    "\n",
    "The function `is_negative` below is implemented correctly - it returns True if the given number is negative and False otherwise.\n",
    "\n",
    "However, it's more verbose than it needs to be. We can actually reduce the number of lines of code in this function by *75%* while keeping the same behaviour. \n",
    "\n",
    "See if you can come up with an equivalent body that uses just **one line** of code, and put it in the function `concise_is_negative`. (HINT: you don't even need Python's ternary syntax)"
   ]
  },
  {
   "cell_type": "code",
   "execution_count": 10,
   "id": "408e2df1",
   "metadata": {
    "execution": {
     "iopub.execute_input": "2022-04-22T22:34:57.065525Z",
     "iopub.status.busy": "2022-04-22T22:34:57.064706Z",
     "iopub.status.idle": "2022-04-22T22:34:57.073994Z",
     "shell.execute_reply": "2022-04-22T22:34:57.072980Z"
    },
    "papermill": {
     "duration": 0.048722,
     "end_time": "2022-04-22T22:34:57.075464",
     "exception": false,
     "start_time": "2022-04-22T22:34:57.026742",
     "status": "completed"
    },
    "tags": []
   },
   "outputs": [
    {
     "data": {
      "application/javascript": [
       "parent.postMessage({\"jupyterEvent\": \"custom.exercise_interaction\", \"data\": {\"outcomeType\": 1, \"valueTowardsCompletion\": 0.2, \"interactionType\": 1, \"questionType\": 2, \"questionId\": \"4_ConciseIsNegative\", \"learnToolsVersion\": \"0.3.4\", \"failureMessage\": \"\", \"exceptionClass\": \"\", \"trace\": \"\"}}, \"*\")"
      ],
      "text/plain": [
       "<IPython.core.display.Javascript object>"
      ]
     },
     "metadata": {},
     "output_type": "display_data"
    },
    {
     "data": {
      "text/markdown": [
       "<span style=\"color:#33cc33\">Correct</span>"
      ],
      "text/plain": [
       "Correct"
      ]
     },
     "metadata": {},
     "output_type": "display_data"
    }
   ],
   "source": [
    "def is_negative(number):\n",
    "    if number < 0:\n",
    "        return True\n",
    "    else:\n",
    "        return False\n",
    "\n",
    "def concise_is_negative(number):\n",
    "    return number < 0\n",
    "\n",
    "# Check your answer\n",
    "q4.check()"
   ]
  },
  {
   "cell_type": "code",
   "execution_count": 11,
   "id": "4ea1a0a8",
   "metadata": {
    "execution": {
     "iopub.execute_input": "2022-04-22T22:34:57.153185Z",
     "iopub.status.busy": "2022-04-22T22:34:57.152713Z",
     "iopub.status.idle": "2022-04-22T22:34:57.165285Z",
     "shell.execute_reply": "2022-04-22T22:34:57.164227Z"
    },
    "papermill": {
     "duration": 0.054313,
     "end_time": "2022-04-22T22:34:57.167164",
     "exception": false,
     "start_time": "2022-04-22T22:34:57.112851",
     "status": "completed"
    },
    "tags": []
   },
   "outputs": [
    {
     "data": {
      "application/javascript": [
       "parent.postMessage({\"jupyterEvent\": \"custom.exercise_interaction\", \"data\": {\"interactionType\": 2, \"questionType\": 2, \"questionId\": \"4_ConciseIsNegative\", \"learnToolsVersion\": \"0.3.4\", \"valueTowardsCompletion\": 0.0, \"failureMessage\": \"\", \"exceptionClass\": \"\", \"trace\": \"\", \"outcomeType\": 4}}, \"*\")"
      ],
      "text/plain": [
       "<IPython.core.display.Javascript object>"
      ]
     },
     "metadata": {},
     "output_type": "display_data"
    },
    {
     "data": {
      "text/markdown": [
       "<span style=\"color:#3366cc\">Hint:</span> If the value of the expression `number < 0` is `True`, then we return `True`. If it's `False`, then we return `False`..."
      ],
      "text/plain": [
       "Hint: If the value of the expression `number < 0` is `True`, then we return `True`. If it's `False`, then we return `False`..."
      ]
     },
     "metadata": {},
     "output_type": "display_data"
    },
    {
     "data": {
      "application/javascript": [
       "parent.postMessage({\"jupyterEvent\": \"custom.exercise_interaction\", \"data\": {\"interactionType\": 3, \"questionType\": 2, \"questionId\": \"4_ConciseIsNegative\", \"learnToolsVersion\": \"0.3.4\", \"valueTowardsCompletion\": 0.0, \"failureMessage\": \"\", \"exceptionClass\": \"\", \"trace\": \"\", \"outcomeType\": 4}}, \"*\")"
      ],
      "text/plain": [
       "<IPython.core.display.Javascript object>"
      ]
     },
     "metadata": {},
     "output_type": "display_data"
    },
    {
     "data": {
      "text/markdown": [
       "<span style=\"color:#33cc99\">Solution:</span> \n",
       "```python\n",
       "return number < 0\n",
       "```"
      ],
      "text/plain": [
       "Solution: \n",
       "```python\n",
       "return number < 0\n",
       "```"
      ]
     },
     "metadata": {},
     "output_type": "display_data"
    }
   ],
   "source": [
    "q4.hint()\n",
    "q4.solution()"
   ]
  },
  {
   "cell_type": "markdown",
   "id": "4cf4cb20",
   "metadata": {
    "papermill": {
     "duration": 0.039462,
     "end_time": "2022-04-22T22:34:57.247856",
     "exception": false,
     "start_time": "2022-04-22T22:34:57.208394",
     "status": "completed"
    },
    "tags": []
   },
   "source": [
    "# 5a.\n",
    "\n",
    "The boolean variables `ketchup`, `mustard` and `onion` represent whether a customer wants a particular topping on their hot dog. We want to implement a number of boolean functions that correspond to some yes-or-no questions about the customer's order. For example:"
   ]
  },
  {
   "cell_type": "code",
   "execution_count": 12,
   "id": "d8c34504",
   "metadata": {
    "execution": {
     "iopub.execute_input": "2022-04-22T22:34:57.330778Z",
     "iopub.status.busy": "2022-04-22T22:34:57.330008Z",
     "iopub.status.idle": "2022-04-22T22:34:57.335542Z",
     "shell.execute_reply": "2022-04-22T22:34:57.334535Z"
    },
    "papermill": {
     "duration": 0.049356,
     "end_time": "2022-04-22T22:34:57.337732",
     "exception": false,
     "start_time": "2022-04-22T22:34:57.288376",
     "status": "completed"
    },
    "tags": []
   },
   "outputs": [],
   "source": [
    "def onionless(ketchup, mustard, onion):\n",
    "    \"\"\"Return whether the customer doesn't want onions.\n",
    "    \"\"\"\n",
    "    return not onion"
   ]
  },
  {
   "cell_type": "code",
   "execution_count": 13,
   "id": "8be20c72",
   "metadata": {
    "execution": {
     "iopub.execute_input": "2022-04-22T22:34:57.419963Z",
     "iopub.status.busy": "2022-04-22T22:34:57.419702Z",
     "iopub.status.idle": "2022-04-22T22:34:57.427739Z",
     "shell.execute_reply": "2022-04-22T22:34:57.427095Z"
    },
    "papermill": {
     "duration": 0.050982,
     "end_time": "2022-04-22T22:34:57.429630",
     "exception": false,
     "start_time": "2022-04-22T22:34:57.378648",
     "status": "completed"
    },
    "tags": []
   },
   "outputs": [
    {
     "data": {
      "application/javascript": [
       "parent.postMessage({\"jupyterEvent\": \"custom.exercise_interaction\", \"data\": {\"outcomeType\": 1, \"valueTowardsCompletion\": 0.2, \"interactionType\": 1, \"questionType\": 2, \"questionId\": \"5.1_AllToppings\", \"learnToolsVersion\": \"0.3.4\", \"failureMessage\": \"\", \"exceptionClass\": \"\", \"trace\": \"\"}}, \"*\")"
      ],
      "text/plain": [
       "<IPython.core.display.Javascript object>"
      ]
     },
     "metadata": {},
     "output_type": "display_data"
    },
    {
     "data": {
      "text/markdown": [
       "<span style=\"color:#33cc33\">Correct</span>"
      ],
      "text/plain": [
       "Correct"
      ]
     },
     "metadata": {},
     "output_type": "display_data"
    }
   ],
   "source": [
    "def wants_all_toppings(ketchup, mustard, onion):\n",
    "    \"\"\"Return whether the customer wants \"the works\" (all 3 toppings)\n",
    "    \"\"\"\n",
    "    return ketchup and mustard and onion\n",
    "\n",
    "# Check your answer\n",
    "q5.a.check()"
   ]
  },
  {
   "cell_type": "code",
   "execution_count": 14,
   "id": "a30fd215",
   "metadata": {
    "execution": {
     "iopub.execute_input": "2022-04-22T22:34:57.554373Z",
     "iopub.status.busy": "2022-04-22T22:34:57.553446Z",
     "iopub.status.idle": "2022-04-22T22:34:57.557165Z",
     "shell.execute_reply": "2022-04-22T22:34:57.556347Z"
    },
    "papermill": {
     "duration": 0.068296,
     "end_time": "2022-04-22T22:34:57.559512",
     "exception": false,
     "start_time": "2022-04-22T22:34:57.491216",
     "status": "completed"
    },
    "tags": []
   },
   "outputs": [],
   "source": [
    "#q5.a.hint()\n",
    "#q5.a.solution()"
   ]
  },
  {
   "cell_type": "markdown",
   "id": "9283235d",
   "metadata": {
    "papermill": {
     "duration": 0.062848,
     "end_time": "2022-04-22T22:34:57.684226",
     "exception": false,
     "start_time": "2022-04-22T22:34:57.621378",
     "status": "completed"
    },
    "tags": []
   },
   "source": [
    "# 5b.\n",
    "\n",
    "For the next function, fill in the body to match the English description in the docstring. "
   ]
  },
  {
   "cell_type": "code",
   "execution_count": 15,
   "id": "8408b4bb",
   "metadata": {
    "execution": {
     "iopub.execute_input": "2022-04-22T22:34:57.814225Z",
     "iopub.status.busy": "2022-04-22T22:34:57.813087Z",
     "iopub.status.idle": "2022-04-22T22:34:57.822808Z",
     "shell.execute_reply": "2022-04-22T22:34:57.821804Z"
    },
    "papermill": {
     "duration": 0.075933,
     "end_time": "2022-04-22T22:34:57.824623",
     "exception": false,
     "start_time": "2022-04-22T22:34:57.748690",
     "status": "completed"
    },
    "tags": []
   },
   "outputs": [
    {
     "data": {
      "application/javascript": [
       "parent.postMessage({\"jupyterEvent\": \"custom.exercise_interaction\", \"data\": {\"outcomeType\": 1, \"valueTowardsCompletion\": 0.2, \"interactionType\": 1, \"questionType\": 2, \"questionId\": \"5.2_PlainDog\", \"learnToolsVersion\": \"0.3.4\", \"failureMessage\": \"\", \"exceptionClass\": \"\", \"trace\": \"\"}}, \"*\")"
      ],
      "text/plain": [
       "<IPython.core.display.Javascript object>"
      ]
     },
     "metadata": {},
     "output_type": "display_data"
    },
    {
     "data": {
      "text/markdown": [
       "<span style=\"color:#33cc33\">Correct:</span> \n",
       "\n",
       "One solution looks like:\n",
       "```python\n",
       "return not ketchup and not mustard and not onion\n",
       "```\n",
       "\n",
       "We can also [\"factor out\" the nots](https://en.wikipedia.org/wiki/De_Morgan%27s_laws) to get:\n",
       "\n",
       "```python\n",
       "return not (ketchup or mustard or onion)\n",
       "```"
      ],
      "text/plain": [
       "Correct: \n",
       "\n",
       "One solution looks like:\n",
       "```python\n",
       "return not ketchup and not mustard and not onion\n",
       "```\n",
       "\n",
       "We can also [\"factor out\" the nots](https://en.wikipedia.org/wiki/De_Morgan%27s_laws) to get:\n",
       "\n",
       "```python\n",
       "return not (ketchup or mustard or onion)\n",
       "```"
      ]
     },
     "metadata": {},
     "output_type": "display_data"
    }
   ],
   "source": [
    "def wants_plain_hotdog(ketchup, mustard, onion):\n",
    "    \"\"\"Return whether the customer wants a plain hot dog with no toppings.\n",
    "    \"\"\"\n",
    "    return not (ketchup or mustard or onion)\n",
    "\n",
    "# Check your answer\n",
    "q5.b.check()"
   ]
  },
  {
   "cell_type": "code",
   "execution_count": 16,
   "id": "aa463a0d",
   "metadata": {
    "execution": {
     "iopub.execute_input": "2022-04-22T22:34:57.952562Z",
     "iopub.status.busy": "2022-04-22T22:34:57.952130Z",
     "iopub.status.idle": "2022-04-22T22:34:57.955641Z",
     "shell.execute_reply": "2022-04-22T22:34:57.954675Z"
    },
    "papermill": {
     "duration": 0.069639,
     "end_time": "2022-04-22T22:34:57.957785",
     "exception": false,
     "start_time": "2022-04-22T22:34:57.888146",
     "status": "completed"
    },
    "tags": []
   },
   "outputs": [],
   "source": [
    "#q5.b.hint()\n",
    "#q5.b.solution()"
   ]
  },
  {
   "cell_type": "markdown",
   "id": "05f7b353",
   "metadata": {
    "papermill": {
     "duration": 0.065705,
     "end_time": "2022-04-22T22:34:58.087694",
     "exception": false,
     "start_time": "2022-04-22T22:34:58.021989",
     "status": "completed"
    },
    "tags": []
   },
   "source": [
    "# 5c.\n",
    "\n",
    "You know what to do: for the next function, fill in the body to match the English description in the docstring."
   ]
  },
  {
   "cell_type": "code",
   "execution_count": 17,
   "id": "5f56be1a",
   "metadata": {
    "execution": {
     "iopub.execute_input": "2022-04-22T22:34:58.218654Z",
     "iopub.status.busy": "2022-04-22T22:34:58.218267Z",
     "iopub.status.idle": "2022-04-22T22:34:58.224665Z",
     "shell.execute_reply": "2022-04-22T22:34:58.224041Z"
    },
    "papermill": {
     "duration": 0.075521,
     "end_time": "2022-04-22T22:34:58.227007",
     "exception": false,
     "start_time": "2022-04-22T22:34:58.151486",
     "status": "completed"
    },
    "tags": []
   },
   "outputs": [
    {
     "data": {
      "application/javascript": [
       "parent.postMessage({\"jupyterEvent\": \"custom.exercise_interaction\", \"data\": {\"outcomeType\": 1, \"valueTowardsCompletion\": 0.2, \"interactionType\": 1, \"questionType\": 2, \"questionId\": \"5.3_OneSauce\", \"learnToolsVersion\": \"0.3.4\", \"failureMessage\": \"\", \"exceptionClass\": \"\", \"trace\": \"\"}}, \"*\")"
      ],
      "text/plain": [
       "<IPython.core.display.Javascript object>"
      ]
     },
     "metadata": {},
     "output_type": "display_data"
    },
    {
     "data": {
      "text/markdown": [
       "<span style=\"color:#33cc33\">Correct</span>"
      ],
      "text/plain": [
       "Correct"
      ]
     },
     "metadata": {},
     "output_type": "display_data"
    }
   ],
   "source": [
    "def exactly_one_sauce(ketchup, mustard, onion):\n",
    "    \"\"\"Return whether the customer wants either ketchup or mustard, but not both.\n",
    "    (You may be familiar with this operation under the name \"exclusive or\")\n",
    "    \"\"\"\n",
    "    if ketchup and mustard == True:\n",
    "        return False\n",
    "    elif (ketchup or mustard == True) and ketchup != mustard:\n",
    "        return True\n",
    "    else:\n",
    "        return False\n",
    "\n",
    "# Check your answer\n",
    "q5.c.check()"
   ]
  },
  {
   "cell_type": "code",
   "execution_count": 18,
   "id": "58f5c0c0",
   "metadata": {
    "execution": {
     "iopub.execute_input": "2022-04-22T22:34:58.363606Z",
     "iopub.status.busy": "2022-04-22T22:34:58.363218Z",
     "iopub.status.idle": "2022-04-22T22:34:58.373448Z",
     "shell.execute_reply": "2022-04-22T22:34:58.372710Z"
    },
    "papermill": {
     "duration": 0.08118,
     "end_time": "2022-04-22T22:34:58.375489",
     "exception": false,
     "start_time": "2022-04-22T22:34:58.294309",
     "status": "completed"
    },
    "tags": []
   },
   "outputs": [
    {
     "data": {
      "application/javascript": [
       "parent.postMessage({\"jupyterEvent\": \"custom.exercise_interaction\", \"data\": {\"interactionType\": 2, \"questionType\": 2, \"questionId\": \"5.3_OneSauce\", \"learnToolsVersion\": \"0.3.4\", \"valueTowardsCompletion\": 0.0, \"failureMessage\": \"\", \"exceptionClass\": \"\", \"trace\": \"\", \"outcomeType\": 4}}, \"*\")"
      ],
      "text/plain": [
       "<IPython.core.display.Javascript object>"
      ]
     },
     "metadata": {},
     "output_type": "display_data"
    },
    {
     "data": {
      "text/markdown": [
       "<span style=\"color:#3366cc\">Hint:</span> There are exactly two ways to set ketchup and mustard to make this true. What are they?"
      ],
      "text/plain": [
       "Hint: There are exactly two ways to set ketchup and mustard to make this true. What are they?"
      ]
     },
     "metadata": {},
     "output_type": "display_data"
    },
    {
     "data": {
      "application/javascript": [
       "parent.postMessage({\"jupyterEvent\": \"custom.exercise_interaction\", \"data\": {\"interactionType\": 3, \"questionType\": 2, \"questionId\": \"5.3_OneSauce\", \"learnToolsVersion\": \"0.3.4\", \"valueTowardsCompletion\": 0.0, \"failureMessage\": \"\", \"exceptionClass\": \"\", \"trace\": \"\", \"outcomeType\": 4}}, \"*\")"
      ],
      "text/plain": [
       "<IPython.core.display.Javascript object>"
      ]
     },
     "metadata": {},
     "output_type": "display_data"
    },
    {
     "data": {
      "text/markdown": [
       "<span style=\"color:#33cc99\">Solution:</span> \n",
       "```python\n",
       "return (ketchup and not mustard) or (mustard and not ketchup)\n",
       "```"
      ],
      "text/plain": [
       "Solution: \n",
       "```python\n",
       "return (ketchup and not mustard) or (mustard and not ketchup)\n",
       "```"
      ]
     },
     "metadata": {},
     "output_type": "display_data"
    }
   ],
   "source": [
    "q5.c.hint()\n",
    "q5.c.solution()"
   ]
  },
  {
   "cell_type": "markdown",
   "id": "d543423e",
   "metadata": {
    "papermill": {
     "duration": 0.070198,
     "end_time": "2022-04-22T22:34:58.517555",
     "exception": false,
     "start_time": "2022-04-22T22:34:58.447357",
     "status": "completed"
    },
    "tags": []
   },
   "source": [
    "# 6. <span title=\"A bit spicy\" style=\"color: darkgreen \">🌶️</span>\n",
    "\n",
    "We’ve seen that calling `bool()` on an integer returns `False` if it’s equal to 0 and `True` otherwise. What happens if we call `int()` on a bool? Try it out in the notebook cell below.\n",
    "\n",
    "Can you take advantage of this to write a succinct function that corresponds to the English sentence \"does the customer want exactly one topping?\"?"
   ]
  },
  {
   "cell_type": "code",
   "execution_count": 19,
   "id": "54f1536a",
   "metadata": {
    "execution": {
     "iopub.execute_input": "2022-04-22T22:34:58.662944Z",
     "iopub.status.busy": "2022-04-22T22:34:58.662418Z",
     "iopub.status.idle": "2022-04-22T22:34:58.669559Z",
     "shell.execute_reply": "2022-04-22T22:34:58.668464Z"
    },
    "papermill": {
     "duration": 0.081609,
     "end_time": "2022-04-22T22:34:58.671484",
     "exception": false,
     "start_time": "2022-04-22T22:34:58.589875",
     "status": "completed"
    },
    "tags": []
   },
   "outputs": [
    {
     "data": {
      "text/plain": [
       "0"
      ]
     },
     "execution_count": 19,
     "metadata": {},
     "output_type": "execute_result"
    }
   ],
   "source": [
    "int(True)\n",
    "int(False)"
   ]
  },
  {
   "cell_type": "code",
   "execution_count": 20,
   "id": "ac85df1c",
   "metadata": {
    "execution": {
     "iopub.execute_input": "2022-04-22T22:34:58.768342Z",
     "iopub.status.busy": "2022-04-22T22:34:58.768061Z",
     "iopub.status.idle": "2022-04-22T22:34:58.775444Z",
     "shell.execute_reply": "2022-04-22T22:34:58.775034Z"
    },
    "papermill": {
     "duration": 0.059135,
     "end_time": "2022-04-22T22:34:58.776999",
     "exception": false,
     "start_time": "2022-04-22T22:34:58.717864",
     "status": "completed"
    },
    "tags": []
   },
   "outputs": [
    {
     "data": {
      "application/javascript": [
       "parent.postMessage({\"jupyterEvent\": \"custom.exercise_interaction\", \"data\": {\"outcomeType\": 1, \"valueTowardsCompletion\": 0.2, \"interactionType\": 1, \"questionType\": 2, \"questionId\": \"6_OneTopping\", \"learnToolsVersion\": \"0.3.4\", \"failureMessage\": \"\", \"exceptionClass\": \"\", \"trace\": \"\"}}, \"*\")"
      ],
      "text/plain": [
       "<IPython.core.display.Javascript object>"
      ]
     },
     "metadata": {},
     "output_type": "display_data"
    },
    {
     "data": {
      "text/markdown": [
       "<span style=\"color:#33cc33\">Correct:</span> \n",
       "\n",
       "This condition would be pretty complicated to express using just `and`, `or` and `not`, but using boolean-to-integer conversion gives us this short solution:\n",
       "```python\n",
       "return (int(ketchup) + int(mustard) + int(onion)) == 1\n",
       "```\n",
       "\n",
       "Fun fact: we don't technically need to call `int` on the arguments. Just by doing addition with booleans, Python implicitly does the integer conversion. So we could also write...\n",
       "\n",
       "```python\n",
       "return (ketchup + mustard + onion) == 1\n",
       "```"
      ],
      "text/plain": [
       "Correct: \n",
       "\n",
       "This condition would be pretty complicated to express using just `and`, `or` and `not`, but using boolean-to-integer conversion gives us this short solution:\n",
       "```python\n",
       "return (int(ketchup) + int(mustard) + int(onion)) == 1\n",
       "```\n",
       "\n",
       "Fun fact: we don't technically need to call `int` on the arguments. Just by doing addition with booleans, Python implicitly does the integer conversion. So we could also write...\n",
       "\n",
       "```python\n",
       "return (ketchup + mustard + onion) == 1\n",
       "```"
      ]
     },
     "metadata": {},
     "output_type": "display_data"
    }
   ],
   "source": [
    "def exactly_one_topping(ketchup, mustard, onion):\n",
    "    \"\"\"Return whether the customer wants exactly one of the three available toppings\n",
    "    on their hot dog.\n",
    "    \"\"\"\n",
    "    if (ketchup + mustard + onion) == 1:\n",
    "        return True\n",
    "    else:\n",
    "        return False\n",
    "\n",
    "# Check your answer\n",
    "q6.check()"
   ]
  },
  {
   "cell_type": "code",
   "execution_count": 21,
   "id": "efcb6384",
   "metadata": {
    "execution": {
     "iopub.execute_input": "2022-04-22T22:34:58.875373Z",
     "iopub.status.busy": "2022-04-22T22:34:58.874544Z",
     "iopub.status.idle": "2022-04-22T22:34:58.886069Z",
     "shell.execute_reply": "2022-04-22T22:34:58.884959Z"
    },
    "papermill": {
     "duration": 0.062993,
     "end_time": "2022-04-22T22:34:58.888060",
     "exception": false,
     "start_time": "2022-04-22T22:34:58.825067",
     "status": "completed"
    },
    "tags": []
   },
   "outputs": [
    {
     "data": {
      "application/javascript": [
       "parent.postMessage({\"jupyterEvent\": \"custom.exercise_interaction\", \"data\": {\"interactionType\": 2, \"questionType\": 2, \"questionId\": \"6_OneTopping\", \"learnToolsVersion\": \"0.3.4\", \"valueTowardsCompletion\": 0.0, \"failureMessage\": \"\", \"exceptionClass\": \"\", \"trace\": \"\", \"outcomeType\": 4}}, \"*\")"
      ],
      "text/plain": [
       "<IPython.core.display.Javascript object>"
      ]
     },
     "metadata": {},
     "output_type": "display_data"
    },
    {
     "data": {
      "text/markdown": [
       "<span style=\"color:#3366cc\">Hint:</span> You may have already found that `int(True)` is 1, and `int(False)` is 0. Think about what kinds of basic arithmetic operations you might want to perform on `ketchup`, `mustard`, and `onion` after converting them to integers."
      ],
      "text/plain": [
       "Hint: You may have already found that `int(True)` is 1, and `int(False)` is 0. Think about what kinds of basic arithmetic operations you might want to perform on `ketchup`, `mustard`, and `onion` after converting them to integers."
      ]
     },
     "metadata": {},
     "output_type": "display_data"
    },
    {
     "data": {
      "application/javascript": [
       "parent.postMessage({\"jupyterEvent\": \"custom.exercise_interaction\", \"data\": {\"interactionType\": 3, \"questionType\": 2, \"questionId\": \"6_OneTopping\", \"learnToolsVersion\": \"0.3.4\", \"valueTowardsCompletion\": 0.0, \"failureMessage\": \"\", \"exceptionClass\": \"\", \"trace\": \"\", \"outcomeType\": 4}}, \"*\")"
      ],
      "text/plain": [
       "<IPython.core.display.Javascript object>"
      ]
     },
     "metadata": {},
     "output_type": "display_data"
    },
    {
     "data": {
      "text/markdown": [
       "<span style=\"color:#33cc99\">Solution:</span> This condition would be pretty complicated to express using just `and`, `or` and `not`, but using boolean-to-integer conversion gives us this short solution:\n",
       "```python\n",
       "return (int(ketchup) + int(mustard) + int(onion)) == 1\n",
       "```\n",
       "\n",
       "Fun fact: we don't technically need to call `int` on the arguments. Just by doing addition with booleans, Python implicitly does the integer conversion. So we could also write...\n",
       "\n",
       "```python\n",
       "return (ketchup + mustard + onion) == 1\n",
       "```"
      ],
      "text/plain": [
       "Solution: This condition would be pretty complicated to express using just `and`, `or` and `not`, but using boolean-to-integer conversion gives us this short solution:\n",
       "```python\n",
       "return (int(ketchup) + int(mustard) + int(onion)) == 1\n",
       "```\n",
       "\n",
       "Fun fact: we don't technically need to call `int` on the arguments. Just by doing addition with booleans, Python implicitly does the integer conversion. So we could also write...\n",
       "\n",
       "```python\n",
       "return (ketchup + mustard + onion) == 1\n",
       "```"
      ]
     },
     "metadata": {},
     "output_type": "display_data"
    }
   ],
   "source": [
    "q6.hint()\n",
    "q6.solution()"
   ]
  },
  {
   "cell_type": "markdown",
   "id": "77d728e4",
   "metadata": {
    "papermill": {
     "duration": 0.047897,
     "end_time": "2022-04-22T22:34:58.985593",
     "exception": false,
     "start_time": "2022-04-22T22:34:58.937696",
     "status": "completed"
    },
    "tags": []
   },
   "source": [
    "# 7. <span title=\"A bit spicy\" style=\"color: darkgreen \">🌶️</span> (Optional)\n",
    "\n",
    "In this problem we'll be working with a simplified version of [blackjack](https://en.wikipedia.org/wiki/Blackjack) (aka twenty-one). In this version there is one player (who you'll control) and a dealer. Play proceeds as follows:\n",
    "\n",
    "- The player is dealt two face-up cards. The dealer is dealt one face-up card.\n",
    "- The player may ask to be dealt another card ('hit') as many times as they wish. If the sum of their cards exceeds 21, they lose the round immediately.\n",
    "- The dealer then deals additional cards to himself until either:\n",
    "    - the sum of the dealer's cards exceeds 21, in which case the player wins the round\n",
    "    - the sum of the dealer's cards is greater than or equal to 17. If the player's total is greater than the dealer's, the player wins. Otherwise, the dealer wins (even in case of a tie).\n",
    "    \n",
    "When calculating the sum of cards, Jack, Queen, and King count for 10. Aces can count as 1 or 11 (when referring to a player's \"total\" above, we mean the largest total that can be made without exceeding 21. So e.g. A+8 = 19, A+8+8 = 17)\n",
    "\n",
    "For this problem, you'll write a function representing the player's decision-making strategy in this game. We've provided a very unintelligent implementation below:"
   ]
  },
  {
   "cell_type": "code",
   "execution_count": 22,
   "id": "2ce67836",
   "metadata": {
    "execution": {
     "iopub.execute_input": "2022-04-22T22:34:59.084076Z",
     "iopub.status.busy": "2022-04-22T22:34:59.083642Z",
     "iopub.status.idle": "2022-04-22T22:34:59.088863Z",
     "shell.execute_reply": "2022-04-22T22:34:59.087524Z"
    },
    "papermill": {
     "duration": 0.057146,
     "end_time": "2022-04-22T22:34:59.091176",
     "exception": false,
     "start_time": "2022-04-22T22:34:59.034030",
     "status": "completed"
    },
    "tags": []
   },
   "outputs": [],
   "source": [
    "def should_hit(dealer_total, player_total, player_low_aces, player_high_aces):\n",
    "    \"\"\"Return True if the player should hit (request another card) given the current game\n",
    "    state, or False if the player should stay.\n",
    "    When calculating a hand's total value, we count aces as \"high\" (with value 11) if doing so\n",
    "    doesn't bring the total above 21, otherwise we count them as low (with value 1). \n",
    "    For example, if the player's hand is {A, A, A, 7}, we will count it as 11 + 1 + 1 + 7,\n",
    "    and therefore set player_total=20, player_low_aces=2, player_high_aces=1.\n",
    "    \"\"\"\n",
    "    return False"
   ]
  },
  {
   "cell_type": "markdown",
   "id": "1825275b",
   "metadata": {
    "papermill": {
     "duration": 0.0492,
     "end_time": "2022-04-22T22:34:59.198410",
     "exception": false,
     "start_time": "2022-04-22T22:34:59.149210",
     "status": "completed"
    },
    "tags": []
   },
   "source": [
    "This very conservative agent *always* sticks with the hand of two cards that they're dealt.\n",
    "\n",
    "We'll be simulating games between your player agent and our own dealer agent by calling your function.\n",
    "\n",
    "Try running the function below to see an example of a simulated game:"
   ]
  },
  {
   "cell_type": "code",
   "execution_count": 23,
   "id": "ba336b2d",
   "metadata": {
    "execution": {
     "iopub.execute_input": "2022-04-22T22:34:59.301052Z",
     "iopub.status.busy": "2022-04-22T22:34:59.300500Z",
     "iopub.status.idle": "2022-04-22T22:34:59.307547Z",
     "shell.execute_reply": "2022-04-22T22:34:59.305620Z"
    },
    "papermill": {
     "duration": 0.060759,
     "end_time": "2022-04-22T22:34:59.309930",
     "exception": false,
     "start_time": "2022-04-22T22:34:59.249171",
     "status": "completed"
    },
    "tags": []
   },
   "outputs": [
    {
     "name": "stdout",
     "output_type": "stream",
     "text": [
      "Player starts with J and 2 (total = 12)\n",
      "Dealer starts with 4\n",
      "\n",
      "__Player's turn__\n",
      "Player stays\n",
      "\n",
      "__Dealer's turn__\n",
      "Dealer hits and receives Q. (total = 14)\n",
      "Dealer hits and receives A. (total = 15)\n",
      "Dealer hits and receives K. (total = 25)\n",
      "Dealer busts! Player wins.\n"
     ]
    }
   ],
   "source": [
    "q7.simulate_one_game()"
   ]
  },
  {
   "cell_type": "markdown",
   "id": "85f27f33",
   "metadata": {
    "papermill": {
     "duration": 0.05112,
     "end_time": "2022-04-22T22:34:59.415490",
     "exception": false,
     "start_time": "2022-04-22T22:34:59.364370",
     "status": "completed"
    },
    "tags": []
   },
   "source": [
    "The real test of your agent's mettle is their average win rate over many games. Try calling the function below to simulate 50000 games of blackjack (it may take a couple seconds):"
   ]
  },
  {
   "cell_type": "code",
   "execution_count": 24,
   "id": "99045e33",
   "metadata": {
    "execution": {
     "iopub.execute_input": "2022-04-22T22:34:59.516868Z",
     "iopub.status.busy": "2022-04-22T22:34:59.516493Z",
     "iopub.status.idle": "2022-04-22T22:35:02.032951Z",
     "shell.execute_reply": "2022-04-22T22:35:02.032100Z"
    },
    "papermill": {
     "duration": 2.569629,
     "end_time": "2022-04-22T22:35:02.035831",
     "exception": false,
     "start_time": "2022-04-22T22:34:59.466202",
     "status": "completed"
    },
    "tags": []
   },
   "outputs": [
    {
     "name": "stdout",
     "output_type": "stream",
     "text": [
      "Player won 18912 out of 50000 games (win rate = 37.8%)\n"
     ]
    }
   ],
   "source": [
    "q7.simulate(n_games=50000)"
   ]
  },
  {
   "cell_type": "markdown",
   "id": "6e905798",
   "metadata": {
    "papermill": {
     "duration": 0.073586,
     "end_time": "2022-04-22T22:35:02.184022",
     "exception": false,
     "start_time": "2022-04-22T22:35:02.110436",
     "status": "completed"
    },
    "tags": []
   },
   "source": [
    "Our dumb agent that completely ignores the game state still manages to win shockingly often!\n",
    "\n",
    "Try adding some more smarts to the `should_hit` function and see how it affects the results."
   ]
  },
  {
   "cell_type": "code",
   "execution_count": 25,
   "id": "25f340b4",
   "metadata": {
    "execution": {
     "iopub.execute_input": "2022-04-22T22:35:02.300832Z",
     "iopub.status.busy": "2022-04-22T22:35:02.300631Z",
     "iopub.status.idle": "2022-04-22T22:35:03.874829Z",
     "shell.execute_reply": "2022-04-22T22:35:03.874111Z"
    },
    "papermill": {
     "duration": 1.627889,
     "end_time": "2022-04-22T22:35:03.877032",
     "exception": false,
     "start_time": "2022-04-22T22:35:02.249143",
     "status": "completed"
    },
    "tags": []
   },
   "outputs": [
    {
     "name": "stdout",
     "output_type": "stream",
     "text": [
      "Player won 20321 out of 50000 games (win rate = 40.6%)\n"
     ]
    }
   ],
   "source": [
    "def should_hit(dealer_total, player_total, player_low_aces, player_high_aces):\n",
    "    \"\"\"Return True if the player should hit (request another card) given the current game\n",
    "    state, or False if the player should stay.\n",
    "    When calculating a hand's total value, we count aces as \"high\" (with value 11) if doing so\n",
    "    doesn't bring the total above 21, otherwise we count them as low (with value 1). \n",
    "    For example, if the player's hand is {A, A, A, 7}, we will count it as 11 + 1 + 1 + 7,\n",
    "    and therefore set player_total=20, player_low_aces=2, player_high_aces=1.\n",
    "    \"\"\"\n",
    "    if player_total < 17:\n",
    "        return True\n",
    "    else:\n",
    "        return False\n",
    "\n",
    "q7.simulate(n_games=50000)"
   ]
  },
  {
   "cell_type": "markdown",
   "id": "ee16deed",
   "metadata": {
    "papermill": {
     "duration": 0.076195,
     "end_time": "2022-04-22T22:35:04.028560",
     "exception": false,
     "start_time": "2022-04-22T22:35:03.952365",
     "status": "completed"
    },
    "tags": []
   },
   "source": [
    "# Keep Going\n",
    "\n",
    "Learn about **[lists and tuples](https://www.kaggle.com/colinmorris/lists)** to handle multiple items of data in a systematic way."
   ]
  },
  {
   "cell_type": "markdown",
   "id": "1c8e3f43",
   "metadata": {
    "papermill": {
     "duration": 0.074226,
     "end_time": "2022-04-22T22:35:04.177961",
     "exception": false,
     "start_time": "2022-04-22T22:35:04.103735",
     "status": "completed"
    },
    "tags": []
   },
   "source": [
    "---\n",
    "\n",
    "\n",
    "\n",
    "\n",
    "*Have questions or comments? Visit the [course discussion forum](https://www.kaggle.com/learn/python/discussion) to chat with other learners.*"
   ]
  }
 ],
 "metadata": {
  "kernelspec": {
   "display_name": "Python 3",
   "language": "python",
   "name": "python3"
  },
  "language_info": {
   "codemirror_mode": {
    "name": "ipython",
    "version": 3
   },
   "file_extension": ".py",
   "mimetype": "text/x-python",
   "name": "python",
   "nbconvert_exporter": "python",
   "pygments_lexer": "ipython3",
   "version": "3.7.12"
  },
  "papermill": {
   "default_parameters": {},
   "duration": 18.311143,
   "end_time": "2022-04-22T22:35:05.074722",
   "environment_variables": {},
   "exception": null,
   "input_path": "__notebook__.ipynb",
   "output_path": "__notebook__.ipynb",
   "parameters": {},
   "start_time": "2022-04-22T22:34:46.763579",
   "version": "2.3.4"
  }
 },
 "nbformat": 4,
 "nbformat_minor": 5
}
