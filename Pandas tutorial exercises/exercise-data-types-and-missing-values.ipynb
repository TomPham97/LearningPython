{
 "cells": [
  {
   "cell_type": "markdown",
   "id": "b93f04d8",
   "metadata": {
    "papermill": {
     "duration": 0.005297,
     "end_time": "2022-06-30T19:02:21.126485",
     "exception": false,
     "start_time": "2022-06-30T19:02:21.121188",
     "status": "completed"
    },
    "tags": []
   },
   "source": [
    "**This notebook is an exercise in the [Pandas](https://www.kaggle.com/learn/pandas) course.  You can reference the tutorial at [this link](https://www.kaggle.com/residentmario/data-types-and-missing-values).**\n",
    "\n",
    "---\n"
   ]
  },
  {
   "cell_type": "markdown",
   "id": "701734a8",
   "metadata": {
    "papermill": {
     "duration": 0.004116,
     "end_time": "2022-06-30T19:02:21.135068",
     "exception": false,
     "start_time": "2022-06-30T19:02:21.130952",
     "status": "completed"
    },
    "tags": []
   },
   "source": [
    "# Introduction\n",
    "\n",
    "Run the following cell to load your data and some utility functions."
   ]
  },
  {
   "cell_type": "code",
   "execution_count": 1,
   "id": "15db694b",
   "metadata": {
    "execution": {
     "iopub.execute_input": "2022-06-30T19:02:21.145416Z",
     "iopub.status.busy": "2022-06-30T19:02:21.144946Z",
     "iopub.status.idle": "2022-06-30T19:02:24.160536Z",
     "shell.execute_reply": "2022-06-30T19:02:24.159270Z"
    },
    "papermill": {
     "duration": 3.023828,
     "end_time": "2022-06-30T19:02:24.163118",
     "exception": false,
     "start_time": "2022-06-30T19:02:21.139290",
     "status": "completed"
    },
    "tags": []
   },
   "outputs": [
    {
     "name": "stdout",
     "output_type": "stream",
     "text": [
      "Setup complete.\n"
     ]
    }
   ],
   "source": [
    "import pandas as pd\n",
    "\n",
    "reviews = pd.read_csv(\"../input/wine-reviews/winemag-data-130k-v2.csv\", index_col=0)\n",
    "\n",
    "from learntools.core import binder; binder.bind(globals())\n",
    "from learntools.pandas.data_types_and_missing_data import *\n",
    "print(\"Setup complete.\")"
   ]
  },
  {
   "cell_type": "markdown",
   "id": "cf46fe1a",
   "metadata": {
    "papermill": {
     "duration": 0.003989,
     "end_time": "2022-06-30T19:02:24.171567",
     "exception": false,
     "start_time": "2022-06-30T19:02:24.167578",
     "status": "completed"
    },
    "tags": []
   },
   "source": [
    "# Exercises"
   ]
  },
  {
   "cell_type": "markdown",
   "id": "797e7550",
   "metadata": {
    "papermill": {
     "duration": 0.004201,
     "end_time": "2022-06-30T19:02:24.180235",
     "exception": false,
     "start_time": "2022-06-30T19:02:24.176034",
     "status": "completed"
    },
    "tags": []
   },
   "source": [
    "## 1. \n",
    "What is the data type of the `points` column in the dataset?"
   ]
  },
  {
   "cell_type": "code",
   "execution_count": 2,
   "id": "4bd08ad5",
   "metadata": {
    "execution": {
     "iopub.execute_input": "2022-06-30T19:02:24.190950Z",
     "iopub.status.busy": "2022-06-30T19:02:24.190241Z",
     "iopub.status.idle": "2022-06-30T19:02:24.201692Z",
     "shell.execute_reply": "2022-06-30T19:02:24.200619Z"
    },
    "papermill": {
     "duration": 0.019167,
     "end_time": "2022-06-30T19:02:24.203893",
     "exception": false,
     "start_time": "2022-06-30T19:02:24.184726",
     "status": "completed"
    },
    "tags": []
   },
   "outputs": [
    {
     "data": {
      "application/javascript": [
       "parent.postMessage({\"jupyterEvent\": \"custom.exercise_interaction\", \"data\": {\"outcomeType\": 1, \"valueTowardsCompletion\": 0.25, \"interactionType\": 1, \"questionType\": 1, \"questionId\": \"1_PointsDtype\", \"learnToolsVersion\": \"0.3.4\", \"failureMessage\": \"\", \"exceptionClass\": \"\", \"trace\": \"\"}}, \"*\")"
      ],
      "text/plain": [
       "<IPython.core.display.Javascript object>"
      ]
     },
     "metadata": {},
     "output_type": "display_data"
    },
    {
     "data": {
      "text/markdown": [
       "<span style=\"color:#33cc33\">Correct</span>"
      ],
      "text/plain": [
       "Correct"
      ]
     },
     "metadata": {},
     "output_type": "display_data"
    }
   ],
   "source": [
    "# Your code here\n",
    "dtype = reviews.points.dtype\n",
    "\n",
    "# Check your answer\n",
    "q1.check()"
   ]
  },
  {
   "cell_type": "code",
   "execution_count": 3,
   "id": "3f1358b2",
   "metadata": {
    "execution": {
     "iopub.execute_input": "2022-06-30T19:02:24.214827Z",
     "iopub.status.busy": "2022-06-30T19:02:24.214470Z",
     "iopub.status.idle": "2022-06-30T19:02:24.218338Z",
     "shell.execute_reply": "2022-06-30T19:02:24.217463Z"
    },
    "papermill": {
     "duration": 0.011447,
     "end_time": "2022-06-30T19:02:24.220226",
     "exception": false,
     "start_time": "2022-06-30T19:02:24.208779",
     "status": "completed"
    },
    "tags": []
   },
   "outputs": [],
   "source": [
    "#q1.hint()\n",
    "#q1.solution()"
   ]
  },
  {
   "cell_type": "markdown",
   "id": "27096dce",
   "metadata": {
    "papermill": {
     "duration": 0.004432,
     "end_time": "2022-06-30T19:02:24.229257",
     "exception": false,
     "start_time": "2022-06-30T19:02:24.224825",
     "status": "completed"
    },
    "tags": []
   },
   "source": [
    "## 2. \n",
    "Create a Series from entries in the `points` column, but convert the entries to strings. Hint: strings are `str` in native Python."
   ]
  },
  {
   "cell_type": "code",
   "execution_count": 4,
   "id": "69c969ef",
   "metadata": {
    "execution": {
     "iopub.execute_input": "2022-06-30T19:02:24.240042Z",
     "iopub.status.busy": "2022-06-30T19:02:24.239697Z",
     "iopub.status.idle": "2022-06-30T19:02:24.377197Z",
     "shell.execute_reply": "2022-06-30T19:02:24.376295Z"
    },
    "papermill": {
     "duration": 0.145288,
     "end_time": "2022-06-30T19:02:24.379267",
     "exception": false,
     "start_time": "2022-06-30T19:02:24.233979",
     "status": "completed"
    },
    "tags": []
   },
   "outputs": [
    {
     "data": {
      "application/javascript": [
       "parent.postMessage({\"jupyterEvent\": \"custom.exercise_interaction\", \"data\": {\"outcomeType\": 1, \"valueTowardsCompletion\": 0.25, \"interactionType\": 1, \"questionType\": 1, \"questionId\": \"2_StrPoints\", \"learnToolsVersion\": \"0.3.4\", \"failureMessage\": \"\", \"exceptionClass\": \"\", \"trace\": \"\"}}, \"*\")"
      ],
      "text/plain": [
       "<IPython.core.display.Javascript object>"
      ]
     },
     "metadata": {},
     "output_type": "display_data"
    },
    {
     "data": {
      "text/markdown": [
       "<span style=\"color:#33cc33\">Correct</span>"
      ],
      "text/plain": [
       "Correct"
      ]
     },
     "metadata": {},
     "output_type": "display_data"
    }
   ],
   "source": [
    "point_strings = reviews.points.astype('str')\n",
    "\n",
    "# Check your answer\n",
    "q2.check()"
   ]
  },
  {
   "cell_type": "code",
   "execution_count": 5,
   "id": "a178bb4a",
   "metadata": {
    "execution": {
     "iopub.execute_input": "2022-06-30T19:02:24.390682Z",
     "iopub.status.busy": "2022-06-30T19:02:24.390349Z",
     "iopub.status.idle": "2022-06-30T19:02:24.394358Z",
     "shell.execute_reply": "2022-06-30T19:02:24.393465Z"
    },
    "papermill": {
     "duration": 0.012097,
     "end_time": "2022-06-30T19:02:24.396444",
     "exception": false,
     "start_time": "2022-06-30T19:02:24.384347",
     "status": "completed"
    },
    "tags": []
   },
   "outputs": [],
   "source": [
    "#q2.hint()\n",
    "#q2.solution()"
   ]
  },
  {
   "cell_type": "markdown",
   "id": "8c2108d2",
   "metadata": {
    "papermill": {
     "duration": 0.004661,
     "end_time": "2022-06-30T19:02:24.405918",
     "exception": false,
     "start_time": "2022-06-30T19:02:24.401257",
     "status": "completed"
    },
    "tags": []
   },
   "source": [
    "## 3.\n",
    "Sometimes the price column is null. How many reviews in the dataset are missing a price?"
   ]
  },
  {
   "cell_type": "code",
   "execution_count": 6,
   "id": "10d44c77",
   "metadata": {
    "execution": {
     "iopub.execute_input": "2022-06-30T19:02:24.417579Z",
     "iopub.status.busy": "2022-06-30T19:02:24.417223Z",
     "iopub.status.idle": "2022-06-30T19:02:24.445193Z",
     "shell.execute_reply": "2022-06-30T19:02:24.444176Z"
    },
    "papermill": {
     "duration": 0.036537,
     "end_time": "2022-06-30T19:02:24.447474",
     "exception": false,
     "start_time": "2022-06-30T19:02:24.410937",
     "status": "completed"
    },
    "tags": []
   },
   "outputs": [
    {
     "data": {
      "application/javascript": [
       "parent.postMessage({\"jupyterEvent\": \"custom.exercise_interaction\", \"data\": {\"outcomeType\": 1, \"valueTowardsCompletion\": 0.25, \"interactionType\": 1, \"questionType\": 1, \"questionId\": \"3_CountMissingPrices\", \"learnToolsVersion\": \"0.3.4\", \"failureMessage\": \"\", \"exceptionClass\": \"\", \"trace\": \"\"}}, \"*\")"
      ],
      "text/plain": [
       "<IPython.core.display.Javascript object>"
      ]
     },
     "metadata": {},
     "output_type": "display_data"
    },
    {
     "data": {
      "text/markdown": [
       "<span style=\"color:#33cc33\">Correct</span>"
      ],
      "text/plain": [
       "Correct"
      ]
     },
     "metadata": {},
     "output_type": "display_data"
    }
   ],
   "source": [
    "n_missing_prices = sum(pd.isnull(reviews.price))\n",
    "\n",
    "# Check your answer\n",
    "q3.check()"
   ]
  },
  {
   "cell_type": "code",
   "execution_count": 7,
   "id": "51ab70e0",
   "metadata": {
    "execution": {
     "iopub.execute_input": "2022-06-30T19:02:24.460520Z",
     "iopub.status.busy": "2022-06-30T19:02:24.459575Z",
     "iopub.status.idle": "2022-06-30T19:02:24.463251Z",
     "shell.execute_reply": "2022-06-30T19:02:24.462577Z"
    },
    "papermill": {
     "duration": 0.012141,
     "end_time": "2022-06-30T19:02:24.465208",
     "exception": false,
     "start_time": "2022-06-30T19:02:24.453067",
     "status": "completed"
    },
    "tags": []
   },
   "outputs": [],
   "source": [
    "#q3.hint()\n",
    "#q3.solution()"
   ]
  },
  {
   "cell_type": "markdown",
   "id": "08633f5b",
   "metadata": {
    "papermill": {
     "duration": 0.005139,
     "end_time": "2022-06-30T19:02:24.475767",
     "exception": false,
     "start_time": "2022-06-30T19:02:24.470628",
     "status": "completed"
    },
    "tags": []
   },
   "source": [
    "## 4.\n",
    "What are the most common wine-producing regions? Create a Series counting the number of times each value occurs in the `region_1` field. This field is often missing data, so replace missing values with `Unknown`. Sort in descending order.  Your output should look something like this:\n",
    "\n",
    "```\n",
    "Unknown                    21247\n",
    "Napa Valley                 4480\n",
    "                           ...  \n",
    "Bardolino Superiore            1\n",
    "Primitivo del Tarantino        1\n",
    "Name: region_1, Length: 1230, dtype: int64\n",
    "```"
   ]
  },
  {
   "cell_type": "code",
   "execution_count": 8,
   "id": "53cda2fc",
   "metadata": {
    "execution": {
     "iopub.execute_input": "2022-06-30T19:02:24.488026Z",
     "iopub.status.busy": "2022-06-30T19:02:24.487678Z",
     "iopub.status.idle": "2022-06-30T19:02:24.560960Z",
     "shell.execute_reply": "2022-06-30T19:02:24.559922Z"
    },
    "papermill": {
     "duration": 0.082134,
     "end_time": "2022-06-30T19:02:24.563217",
     "exception": false,
     "start_time": "2022-06-30T19:02:24.481083",
     "status": "completed"
    },
    "tags": []
   },
   "outputs": [
    {
     "data": {
      "application/javascript": [
       "parent.postMessage({\"jupyterEvent\": \"custom.exercise_interaction\", \"data\": {\"outcomeType\": 1, \"valueTowardsCompletion\": 0.25, \"interactionType\": 1, \"questionType\": 2, \"questionId\": \"4_ReviewsPerRegion\", \"learnToolsVersion\": \"0.3.4\", \"failureMessage\": \"\", \"exceptionClass\": \"\", \"trace\": \"\"}}, \"*\")"
      ],
      "text/plain": [
       "<IPython.core.display.Javascript object>"
      ]
     },
     "metadata": {},
     "output_type": "display_data"
    },
    {
     "data": {
      "text/markdown": [
       "<span style=\"color:#33cc33\">Correct</span>"
      ],
      "text/plain": [
       "Correct"
      ]
     },
     "metadata": {},
     "output_type": "display_data"
    }
   ],
   "source": [
    "reviews_unknown = reviews.region_1.fillna(\"Unknown\")\n",
    "reviews_unsorted = reviews_unknown.value_counts()\n",
    "reviews_per_region = reviews_unsorted.sort_values(ascending = False)\n",
    "\n",
    "# Check your answer\n",
    "q4.check()"
   ]
  },
  {
   "cell_type": "code",
   "execution_count": 9,
   "id": "eb5e780a",
   "metadata": {
    "execution": {
     "iopub.execute_input": "2022-06-30T19:02:24.575980Z",
     "iopub.status.busy": "2022-06-30T19:02:24.575664Z",
     "iopub.status.idle": "2022-06-30T19:02:24.583223Z",
     "shell.execute_reply": "2022-06-30T19:02:24.582220Z"
    },
    "papermill": {
     "duration": 0.01662,
     "end_time": "2022-06-30T19:02:24.585417",
     "exception": false,
     "start_time": "2022-06-30T19:02:24.568797",
     "status": "completed"
    },
    "tags": []
   },
   "outputs": [
    {
     "data": {
      "application/javascript": [
       "parent.postMessage({\"jupyterEvent\": \"custom.exercise_interaction\", \"data\": {\"interactionType\": 2, \"questionType\": 2, \"questionId\": \"4_ReviewsPerRegion\", \"learnToolsVersion\": \"0.3.4\", \"valueTowardsCompletion\": 0.0, \"failureMessage\": \"\", \"exceptionClass\": \"\", \"trace\": \"\", \"outcomeType\": 4}}, \"*\")"
      ],
      "text/plain": [
       "<IPython.core.display.Javascript object>"
      ]
     },
     "metadata": {},
     "output_type": "display_data"
    },
    {
     "data": {
      "text/markdown": [
       "<span style=\"color:#3366cc\">Hint:</span> Use `fillna()`, `value_counts()`, and `sort_values()`."
      ],
      "text/plain": [
       "Hint: Use `fillna()`, `value_counts()`, and `sort_values()`."
      ]
     },
     "metadata": {},
     "output_type": "display_data"
    }
   ],
   "source": [
    "q4.hint()\n",
    "#q4.solution()"
   ]
  },
  {
   "cell_type": "markdown",
   "id": "9e232fce",
   "metadata": {
    "papermill": {
     "duration": 0.00586,
     "end_time": "2022-06-30T19:02:24.597202",
     "exception": false,
     "start_time": "2022-06-30T19:02:24.591342",
     "status": "completed"
    },
    "tags": []
   },
   "source": [
    "# Keep going\n",
    "\n",
    "Move on to **[renaming and combining](https://www.kaggle.com/residentmario/renaming-and-combining)**."
   ]
  },
  {
   "cell_type": "markdown",
   "id": "c06745d7",
   "metadata": {
    "papermill": {
     "duration": 0.005725,
     "end_time": "2022-06-30T19:02:24.608899",
     "exception": false,
     "start_time": "2022-06-30T19:02:24.603174",
     "status": "completed"
    },
    "tags": []
   },
   "source": [
    "---\n",
    "\n",
    "\n",
    "\n",
    "\n",
    "*Have questions or comments? Visit the [course discussion forum](https://www.kaggle.com/learn/pandas/discussion) to chat with other learners.*"
   ]
  }
 ],
 "metadata": {
  "kernelspec": {
   "display_name": "Python 3",
   "language": "python",
   "name": "python3"
  },
  "language_info": {
   "codemirror_mode": {
    "name": "ipython",
    "version": 3
   },
   "file_extension": ".py",
   "mimetype": "text/x-python",
   "name": "python",
   "nbconvert_exporter": "python",
   "pygments_lexer": "ipython3",
   "version": "3.7.12"
  },
  "papermill": {
   "default_parameters": {},
   "duration": 12.982163,
   "end_time": "2022-06-30T19:02:25.236101",
   "environment_variables": {},
   "exception": null,
   "input_path": "__notebook__.ipynb",
   "output_path": "__notebook__.ipynb",
   "parameters": {},
   "start_time": "2022-06-30T19:02:12.253938",
   "version": "2.3.4"
  }
 },
 "nbformat": 4,
 "nbformat_minor": 5
}
