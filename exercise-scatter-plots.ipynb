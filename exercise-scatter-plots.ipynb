{
 "cells": [
  {
   "cell_type": "markdown",
   "id": "0897c446",
   "metadata": {
    "papermill": {
     "duration": 0.008094,
     "end_time": "2022-07-08T10:13:04.249806",
     "exception": false,
     "start_time": "2022-07-08T10:13:04.241712",
     "status": "completed"
    },
    "tags": []
   },
   "source": [
    "**This notebook is an exercise in the [Data Visualization](https://www.kaggle.com/learn/data-visualization) course.  You can reference the tutorial at [this link](https://www.kaggle.com/alexisbcook/scatter-plots).**\n",
    "\n",
    "---\n"
   ]
  },
  {
   "cell_type": "markdown",
   "id": "9cc425d3",
   "metadata": {
    "papermill": {
     "duration": 0.006259,
     "end_time": "2022-07-08T10:13:04.262846",
     "exception": false,
     "start_time": "2022-07-08T10:13:04.256587",
     "status": "completed"
    },
    "tags": []
   },
   "source": [
    "In this exercise, you will use your new knowledge to propose a solution to a real-world scenario.  To succeed, you will need to import data into Python, answer questions using the data, and generate **scatter plots** to understand patterns in the data.\n",
    "\n",
    "## Scenario\n",
    "\n",
    "You work for a major candy producer, and your goal is to write a report that your company can use to guide the design of its next product.  Soon after starting your research, you stumble across this [very interesting dataset](https://fivethirtyeight.com/features/the-ultimate-halloween-candy-power-ranking/) containing results from a fun survey to crowdsource favorite candies.\n",
    "\n",
    "## Setup\n",
    "\n",
    "Run the next cell to import and configure the Python libraries that you need to complete the exercise."
   ]
  },
  {
   "cell_type": "code",
   "execution_count": 1,
   "id": "b9c56d55",
   "metadata": {
    "execution": {
     "iopub.execute_input": "2022-07-08T10:13:04.278560Z",
     "iopub.status.busy": "2022-07-08T10:13:04.277636Z",
     "iopub.status.idle": "2022-07-08T10:13:05.492926Z",
     "shell.execute_reply": "2022-07-08T10:13:05.491698Z"
    },
    "papermill": {
     "duration": 1.226116,
     "end_time": "2022-07-08T10:13:05.495494",
     "exception": false,
     "start_time": "2022-07-08T10:13:04.269378",
     "status": "completed"
    },
    "tags": []
   },
   "outputs": [
    {
     "name": "stdout",
     "output_type": "stream",
     "text": [
      "Setup Complete\n"
     ]
    }
   ],
   "source": [
    "import pandas as pd\n",
    "pd.plotting.register_matplotlib_converters()\n",
    "import matplotlib.pyplot as plt\n",
    "%matplotlib inline\n",
    "import seaborn as sns\n",
    "print(\"Setup Complete\")"
   ]
  },
  {
   "cell_type": "markdown",
   "id": "14e89445",
   "metadata": {
    "papermill": {
     "duration": 0.006631,
     "end_time": "2022-07-08T10:13:05.509146",
     "exception": false,
     "start_time": "2022-07-08T10:13:05.502515",
     "status": "completed"
    },
    "tags": []
   },
   "source": [
    "The questions below will give you feedback on your work. Run the following cell to set up our feedback system."
   ]
  },
  {
   "cell_type": "code",
   "execution_count": 2,
   "id": "38d4e1f0",
   "metadata": {
    "execution": {
     "iopub.execute_input": "2022-07-08T10:13:05.524943Z",
     "iopub.status.busy": "2022-07-08T10:13:05.524211Z",
     "iopub.status.idle": "2022-07-08T10:13:05.607269Z",
     "shell.execute_reply": "2022-07-08T10:13:05.605916Z"
    },
    "papermill": {
     "duration": 0.093338,
     "end_time": "2022-07-08T10:13:05.609387",
     "exception": false,
     "start_time": "2022-07-08T10:13:05.516049",
     "status": "completed"
    },
    "tags": []
   },
   "outputs": [
    {
     "name": "stdout",
     "output_type": "stream",
     "text": [
      "Setup Complete\n"
     ]
    }
   ],
   "source": [
    "# Set up code checking\n",
    "import os\n",
    "if not os.path.exists(\"../input/candy.csv\"):\n",
    "    os.symlink(\"../input/data-for-datavis/candy.csv\", \"../input/candy.csv\") \n",
    "from learntools.core import binder\n",
    "binder.bind(globals())\n",
    "from learntools.data_viz_to_coder.ex4 import *\n",
    "print(\"Setup Complete\")"
   ]
  },
  {
   "cell_type": "markdown",
   "id": "bd6f160a",
   "metadata": {
    "papermill": {
     "duration": 0.006435,
     "end_time": "2022-07-08T10:13:05.622649",
     "exception": false,
     "start_time": "2022-07-08T10:13:05.616214",
     "status": "completed"
    },
    "tags": []
   },
   "source": [
    "## Step 1: Load the Data\n",
    "\n",
    "Read the candy data file into `candy_data`.  Use the `\"id\"` column to label the rows."
   ]
  },
  {
   "cell_type": "code",
   "execution_count": 3,
   "id": "7e47900c",
   "metadata": {
    "execution": {
     "iopub.execute_input": "2022-07-08T10:13:05.637859Z",
     "iopub.status.busy": "2022-07-08T10:13:05.637492Z",
     "iopub.status.idle": "2022-07-08T10:13:05.650682Z",
     "shell.execute_reply": "2022-07-08T10:13:05.649494Z"
    },
    "papermill": {
     "duration": 0.023371,
     "end_time": "2022-07-08T10:13:05.652808",
     "exception": false,
     "start_time": "2022-07-08T10:13:05.629437",
     "status": "completed"
    },
    "tags": []
   },
   "outputs": [
    {
     "data": {
      "application/javascript": [
       "parent.postMessage({\"jupyterEvent\": \"custom.exercise_interaction\", \"data\": {\"outcomeType\": 1, \"valueTowardsCompletion\": 0.3333333333333333, \"interactionType\": 1, \"questionType\": 1, \"questionId\": \"1_LoadData\", \"learnToolsVersion\": \"0.3.4\", \"failureMessage\": \"\", \"exceptionClass\": \"\", \"trace\": \"\"}}, \"*\")"
      ],
      "text/plain": [
       "<IPython.core.display.Javascript object>"
      ]
     },
     "metadata": {},
     "output_type": "display_data"
    },
    {
     "data": {
      "text/markdown": [
       "<span style=\"color:#33cc33\">Correct</span>"
      ],
      "text/plain": [
       "Correct"
      ]
     },
     "metadata": {},
     "output_type": "display_data"
    }
   ],
   "source": [
    "# Path of the file to read\n",
    "candy_filepath = \"../input/candy.csv\"\n",
    "\n",
    "# Fill in the line below to read the file into a variable candy_data\n",
    "candy_data = pd.read_csv(candy_filepath, index_col = \"id\")\n",
    "\n",
    "# Run the line below with no changes to check that you've loaded the data correctly\n",
    "step_1.check()"
   ]
  },
  {
   "cell_type": "code",
   "execution_count": 4,
   "id": "6ef9d975",
   "metadata": {
    "execution": {
     "iopub.execute_input": "2022-07-08T10:13:05.669088Z",
     "iopub.status.busy": "2022-07-08T10:13:05.668670Z",
     "iopub.status.idle": "2022-07-08T10:13:05.673798Z",
     "shell.execute_reply": "2022-07-08T10:13:05.672338Z"
    },
    "papermill": {
     "duration": 0.01608,
     "end_time": "2022-07-08T10:13:05.676476",
     "exception": false,
     "start_time": "2022-07-08T10:13:05.660396",
     "status": "completed"
    },
    "tags": []
   },
   "outputs": [],
   "source": [
    "# Lines below will give you a hint or solution code\n",
    "#step_1.hint()\n",
    "#step_1.solution()"
   ]
  },
  {
   "cell_type": "markdown",
   "id": "3fb3bb59",
   "metadata": {
    "papermill": {
     "duration": 0.006685,
     "end_time": "2022-07-08T10:13:05.690887",
     "exception": false,
     "start_time": "2022-07-08T10:13:05.684202",
     "status": "completed"
    },
    "tags": []
   },
   "source": [
    "## Step 2: Review the data\n",
    "\n",
    "Use a Python command to print the first five rows of the data."
   ]
  },
  {
   "cell_type": "code",
   "execution_count": 5,
   "id": "d518b68a",
   "metadata": {
    "execution": {
     "iopub.execute_input": "2022-07-08T10:13:05.707673Z",
     "iopub.status.busy": "2022-07-08T10:13:05.707290Z",
     "iopub.status.idle": "2022-07-08T10:13:05.726856Z",
     "shell.execute_reply": "2022-07-08T10:13:05.726083Z"
    },
    "papermill": {
     "duration": 0.030846,
     "end_time": "2022-07-08T10:13:05.728890",
     "exception": false,
     "start_time": "2022-07-08T10:13:05.698044",
     "status": "completed"
    },
    "tags": []
   },
   "outputs": [
    {
     "data": {
      "text/html": [
       "<div>\n",
       "<style scoped>\n",
       "    .dataframe tbody tr th:only-of-type {\n",
       "        vertical-align: middle;\n",
       "    }\n",
       "\n",
       "    .dataframe tbody tr th {\n",
       "        vertical-align: top;\n",
       "    }\n",
       "\n",
       "    .dataframe thead th {\n",
       "        text-align: right;\n",
       "    }\n",
       "</style>\n",
       "<table border=\"1\" class=\"dataframe\">\n",
       "  <thead>\n",
       "    <tr style=\"text-align: right;\">\n",
       "      <th></th>\n",
       "      <th>competitorname</th>\n",
       "      <th>chocolate</th>\n",
       "      <th>fruity</th>\n",
       "      <th>caramel</th>\n",
       "      <th>peanutyalmondy</th>\n",
       "      <th>nougat</th>\n",
       "      <th>crispedricewafer</th>\n",
       "      <th>hard</th>\n",
       "      <th>bar</th>\n",
       "      <th>pluribus</th>\n",
       "      <th>sugarpercent</th>\n",
       "      <th>pricepercent</th>\n",
       "      <th>winpercent</th>\n",
       "    </tr>\n",
       "    <tr>\n",
       "      <th>id</th>\n",
       "      <th></th>\n",
       "      <th></th>\n",
       "      <th></th>\n",
       "      <th></th>\n",
       "      <th></th>\n",
       "      <th></th>\n",
       "      <th></th>\n",
       "      <th></th>\n",
       "      <th></th>\n",
       "      <th></th>\n",
       "      <th></th>\n",
       "      <th></th>\n",
       "      <th></th>\n",
       "    </tr>\n",
       "  </thead>\n",
       "  <tbody>\n",
       "    <tr>\n",
       "      <th>0</th>\n",
       "      <td>100 Grand</td>\n",
       "      <td>Yes</td>\n",
       "      <td>No</td>\n",
       "      <td>Yes</td>\n",
       "      <td>No</td>\n",
       "      <td>No</td>\n",
       "      <td>Yes</td>\n",
       "      <td>No</td>\n",
       "      <td>Yes</td>\n",
       "      <td>No</td>\n",
       "      <td>0.732</td>\n",
       "      <td>0.860</td>\n",
       "      <td>66.971725</td>\n",
       "    </tr>\n",
       "    <tr>\n",
       "      <th>1</th>\n",
       "      <td>3 Musketeers</td>\n",
       "      <td>Yes</td>\n",
       "      <td>No</td>\n",
       "      <td>No</td>\n",
       "      <td>No</td>\n",
       "      <td>Yes</td>\n",
       "      <td>No</td>\n",
       "      <td>No</td>\n",
       "      <td>Yes</td>\n",
       "      <td>No</td>\n",
       "      <td>0.604</td>\n",
       "      <td>0.511</td>\n",
       "      <td>67.602936</td>\n",
       "    </tr>\n",
       "    <tr>\n",
       "      <th>2</th>\n",
       "      <td>Air Heads</td>\n",
       "      <td>No</td>\n",
       "      <td>Yes</td>\n",
       "      <td>No</td>\n",
       "      <td>No</td>\n",
       "      <td>No</td>\n",
       "      <td>No</td>\n",
       "      <td>No</td>\n",
       "      <td>No</td>\n",
       "      <td>No</td>\n",
       "      <td>0.906</td>\n",
       "      <td>0.511</td>\n",
       "      <td>52.341465</td>\n",
       "    </tr>\n",
       "    <tr>\n",
       "      <th>3</th>\n",
       "      <td>Almond Joy</td>\n",
       "      <td>Yes</td>\n",
       "      <td>No</td>\n",
       "      <td>No</td>\n",
       "      <td>Yes</td>\n",
       "      <td>No</td>\n",
       "      <td>No</td>\n",
       "      <td>No</td>\n",
       "      <td>Yes</td>\n",
       "      <td>No</td>\n",
       "      <td>0.465</td>\n",
       "      <td>0.767</td>\n",
       "      <td>50.347546</td>\n",
       "    </tr>\n",
       "    <tr>\n",
       "      <th>4</th>\n",
       "      <td>Baby Ruth</td>\n",
       "      <td>Yes</td>\n",
       "      <td>No</td>\n",
       "      <td>Yes</td>\n",
       "      <td>Yes</td>\n",
       "      <td>Yes</td>\n",
       "      <td>No</td>\n",
       "      <td>No</td>\n",
       "      <td>Yes</td>\n",
       "      <td>No</td>\n",
       "      <td>0.604</td>\n",
       "      <td>0.767</td>\n",
       "      <td>56.914547</td>\n",
       "    </tr>\n",
       "  </tbody>\n",
       "</table>\n",
       "</div>"
      ],
      "text/plain": [
       "   competitorname chocolate fruity caramel peanutyalmondy nougat  \\\n",
       "id                                                                 \n",
       "0       100 Grand       Yes     No     Yes             No     No   \n",
       "1    3 Musketeers       Yes     No      No             No    Yes   \n",
       "2       Air Heads        No    Yes      No             No     No   \n",
       "3      Almond Joy       Yes     No      No            Yes     No   \n",
       "4       Baby Ruth       Yes     No     Yes            Yes    Yes   \n",
       "\n",
       "   crispedricewafer hard  bar pluribus  sugarpercent  pricepercent  winpercent  \n",
       "id                                                                              \n",
       "0               Yes   No  Yes       No         0.732         0.860   66.971725  \n",
       "1                No   No  Yes       No         0.604         0.511   67.602936  \n",
       "2                No   No   No       No         0.906         0.511   52.341465  \n",
       "3                No   No  Yes       No         0.465         0.767   50.347546  \n",
       "4                No   No  Yes       No         0.604         0.767   56.914547  "
      ]
     },
     "execution_count": 5,
     "metadata": {},
     "output_type": "execute_result"
    }
   ],
   "source": [
    "# Print the first five rows of the data\n",
    "candy_data.head() # Your code here"
   ]
  },
  {
   "cell_type": "markdown",
   "id": "6b220ddd",
   "metadata": {
    "papermill": {
     "duration": 0.006998,
     "end_time": "2022-07-08T10:13:05.743314",
     "exception": false,
     "start_time": "2022-07-08T10:13:05.736316",
     "status": "completed"
    },
    "tags": []
   },
   "source": [
    "The dataset contains 83 rows, where each corresponds to a different candy bar.  There are 13 columns:\n",
    "- `'competitorname'` contains the name of the candy bar. \n",
    "- the next **9** columns (from `'chocolate'` to `'pluribus'`) describe the candy.  For instance, rows with chocolate candies have `\"Yes\"` in the `'chocolate'` column (and candies without chocolate have `\"No\"` in the same column).\n",
    "- `'sugarpercent'` provides some indication of the amount of sugar, where higher values signify higher sugar content.\n",
    "- `'pricepercent'` shows the price per unit, relative to the other candies in the dataset.\n",
    "- `'winpercent'` is calculated from the survey results; higher values indicate that the candy was more popular with survey respondents.\n",
    "\n",
    "Use the first five rows of the data to answer the questions below."
   ]
  },
  {
   "cell_type": "code",
   "execution_count": 6,
   "id": "01b48215",
   "metadata": {
    "execution": {
     "iopub.execute_input": "2022-07-08T10:13:05.760067Z",
     "iopub.status.busy": "2022-07-08T10:13:05.759449Z",
     "iopub.status.idle": "2022-07-08T10:13:05.767800Z",
     "shell.execute_reply": "2022-07-08T10:13:05.767046Z"
    },
    "papermill": {
     "duration": 0.018708,
     "end_time": "2022-07-08T10:13:05.769747",
     "exception": false,
     "start_time": "2022-07-08T10:13:05.751039",
     "status": "completed"
    },
    "tags": []
   },
   "outputs": [
    {
     "data": {
      "application/javascript": [
       "parent.postMessage({\"jupyterEvent\": \"custom.exercise_interaction\", \"data\": {\"outcomeType\": 1, \"valueTowardsCompletion\": 0.3333333333333333, \"interactionType\": 1, \"questionType\": 1, \"questionId\": \"2_ReviewData\", \"learnToolsVersion\": \"0.3.4\", \"failureMessage\": \"\", \"exceptionClass\": \"\", \"trace\": \"\"}}, \"*\")"
      ],
      "text/plain": [
       "<IPython.core.display.Javascript object>"
      ]
     },
     "metadata": {},
     "output_type": "display_data"
    },
    {
     "data": {
      "text/markdown": [
       "<span style=\"color:#33cc33\">Correct</span>"
      ],
      "text/plain": [
       "Correct"
      ]
     },
     "metadata": {},
     "output_type": "display_data"
    }
   ],
   "source": [
    "# Fill in the line below: Which candy was more popular with survey respondents:\n",
    "# '3 Musketeers' or 'Almond Joy'?  (Please enclose your answer in single quotes.)\n",
    "more_popular = '3 Musketeers'\n",
    "\n",
    "# Fill in the line below: Which candy has higher sugar content: 'Air Heads'\n",
    "# or 'Baby Ruth'? (Please enclose your answer in single quotes.)\n",
    "more_sugar = 'Air Heads'\n",
    "\n",
    "# Check your answers\n",
    "step_2.check()"
   ]
  },
  {
   "cell_type": "code",
   "execution_count": 7,
   "id": "a48c646c",
   "metadata": {
    "execution": {
     "iopub.execute_input": "2022-07-08T10:13:05.786774Z",
     "iopub.status.busy": "2022-07-08T10:13:05.786159Z",
     "iopub.status.idle": "2022-07-08T10:13:05.790537Z",
     "shell.execute_reply": "2022-07-08T10:13:05.789427Z"
    },
    "papermill": {
     "duration": 0.015452,
     "end_time": "2022-07-08T10:13:05.792827",
     "exception": false,
     "start_time": "2022-07-08T10:13:05.777375",
     "status": "completed"
    },
    "tags": []
   },
   "outputs": [],
   "source": [
    "# Lines below will give you a hint or solution code\n",
    "#step_2.hint()\n",
    "#step_2.solution()"
   ]
  },
  {
   "cell_type": "markdown",
   "id": "3e04d66a",
   "metadata": {
    "papermill": {
     "duration": 0.007065,
     "end_time": "2022-07-08T10:13:05.807478",
     "exception": false,
     "start_time": "2022-07-08T10:13:05.800413",
     "status": "completed"
    },
    "tags": []
   },
   "source": [
    "## Step 3: The role of sugar\n",
    "\n",
    "Do people tend to prefer candies with higher sugar content?  \n",
    "\n",
    "#### Part A\n",
    "\n",
    "Create a scatter plot that shows the relationship between `'sugarpercent'` (on the horizontal x-axis) and `'winpercent'` (on the vertical y-axis).  _Don't add a regression line just yet -- you'll do that in the next step!_"
   ]
  },
  {
   "cell_type": "code",
   "execution_count": 8,
   "id": "b56cdc92",
   "metadata": {
    "execution": {
     "iopub.execute_input": "2022-07-08T10:13:05.823859Z",
     "iopub.status.busy": "2022-07-08T10:13:05.823475Z",
     "iopub.status.idle": "2022-07-08T10:13:06.055612Z",
     "shell.execute_reply": "2022-07-08T10:13:06.054541Z"
    },
    "papermill": {
     "duration": 0.24297,
     "end_time": "2022-07-08T10:13:06.057909",
     "exception": false,
     "start_time": "2022-07-08T10:13:05.814939",
     "status": "completed"
    },
    "tags": []
   },
   "outputs": [
    {
     "data": {
      "application/javascript": [
       "parent.postMessage({\"jupyterEvent\": \"custom.exercise_interaction\", \"data\": {\"outcomeType\": 1, \"valueTowardsCompletion\": 0.3333333333333333, \"interactionType\": 1, \"questionType\": 2, \"questionId\": \"3.1_PlotBlueScatter\", \"learnToolsVersion\": \"0.3.4\", \"failureMessage\": \"\", \"exceptionClass\": \"\", \"trace\": \"\"}}, \"*\")"
      ],
      "text/plain": [
       "<IPython.core.display.Javascript object>"
      ]
     },
     "metadata": {},
     "output_type": "display_data"
    },
    {
     "data": {
      "text/markdown": [
       "<span style=\"color:#33cc33\">Correct</span>"
      ],
      "text/plain": [
       "Correct"
      ]
     },
     "metadata": {},
     "output_type": "display_data"
    },
    {
     "data": {
      "image/png": "[encoded data removed]",
      "text/plain": [
       "<Figure size 432x288 with 1 Axes>"
      ]
     },
     "metadata": {
      "needs_background": "light"
     },
     "output_type": "display_data"
    }
   ],
   "source": [
    "# Scatter plot showing the relationship between 'sugarpercent' and 'winpercent'\n",
    "sns.scatterplot(x = candy_data['sugarpercent'], y = candy_data['winpercent']) # Your code here\n",
    "\n",
    "# Check your answer\n",
    "step_3.a.check()"
   ]
  },
  {
   "cell_type": "code",
   "execution_count": 9,
   "id": "38f15090",
   "metadata": {
    "execution": {
     "iopub.execute_input": "2022-07-08T10:13:06.076947Z",
     "iopub.status.busy": "2022-07-08T10:13:06.075879Z",
     "iopub.status.idle": "2022-07-08T10:13:06.080936Z",
     "shell.execute_reply": "2022-07-08T10:13:06.079925Z"
    },
    "papermill": {
     "duration": 0.016906,
     "end_time": "2022-07-08T10:13:06.083182",
     "exception": false,
     "start_time": "2022-07-08T10:13:06.066276",
     "status": "completed"
    },
    "tags": []
   },
   "outputs": [],
   "source": [
    "# Lines below will give you a hint or solution code\n",
    "#step_3.a.hint()\n",
    "#step_3.a.solution_plot()"
   ]
  },
  {
   "cell_type": "markdown",
   "id": "191b0418",
   "metadata": {
    "papermill": {
     "duration": 0.007744,
     "end_time": "2022-07-08T10:13:06.099265",
     "exception": false,
     "start_time": "2022-07-08T10:13:06.091521",
     "status": "completed"
    },
    "tags": []
   },
   "source": [
    "#### Part B\n",
    "\n",
    "Does the scatter plot show a **strong** correlation between the two variables?  If so, are candies with more sugar relatively more or less popular with the survey respondents?"
   ]
  },
  {
   "cell_type": "code",
   "execution_count": 10,
   "id": "89f7cffb",
   "metadata": {
    "execution": {
     "iopub.execute_input": "2022-07-08T10:13:06.117555Z",
     "iopub.status.busy": "2022-07-08T10:13:06.116449Z",
     "iopub.status.idle": "2022-07-08T10:13:06.121584Z",
     "shell.execute_reply": "2022-07-08T10:13:06.120848Z"
    },
    "papermill": {
     "duration": 0.016296,
     "end_time": "2022-07-08T10:13:06.123621",
     "exception": false,
     "start_time": "2022-07-08T10:13:06.107325",
     "status": "completed"
    },
    "tags": []
   },
   "outputs": [],
   "source": [
    "#step_3.b.hint()"
   ]
  },
  {
   "cell_type": "code",
   "execution_count": 11,
   "id": "7a0ba893",
   "metadata": {
    "execution": {
     "iopub.execute_input": "2022-07-08T10:13:06.142042Z",
     "iopub.status.busy": "2022-07-08T10:13:06.141332Z",
     "iopub.status.idle": "2022-07-08T10:13:06.150439Z",
     "shell.execute_reply": "2022-07-08T10:13:06.149400Z"
    },
    "papermill": {
     "duration": 0.020689,
     "end_time": "2022-07-08T10:13:06.152523",
     "exception": false,
     "start_time": "2022-07-08T10:13:06.131834",
     "status": "completed"
    },
    "tags": []
   },
   "outputs": [
    {
     "data": {
      "application/javascript": [
       "parent.postMessage({\"jupyterEvent\": \"custom.exercise_interaction\", \"data\": {\"interactionType\": 3, \"questionType\": 4, \"questionId\": \"3.2_ThinkBlueScatter\", \"learnToolsVersion\": \"0.3.4\", \"valueTowardsCompletion\": 0.0, \"failureMessage\": \"\", \"exceptionClass\": \"\", \"trace\": \"\", \"outcomeType\": 4}}, \"*\")"
      ],
      "text/plain": [
       "<IPython.core.display.Javascript object>"
      ]
     },
     "metadata": {},
     "output_type": "display_data"
    },
    {
     "data": {
      "text/markdown": [
       "<span style=\"color:#33cc99\">Solution:</span> The scatter plot does not show a strong correlation between the two variables. Since there is no clear relationship between the two variables, this tells us that sugar content does not play a strong role in candy popularity."
      ],
      "text/plain": [
       "Solution: The scatter plot does not show a strong correlation between the two variables. Since there is no clear relationship between the two variables, this tells us that sugar content does not play a strong role in candy popularity."
      ]
     },
     "metadata": {},
     "output_type": "display_data"
    }
   ],
   "source": [
    "# Check your answer (Run this code cell to receive credit!)\n",
    "step_3.b.solution()"
   ]
  },
  {
   "cell_type": "markdown",
   "id": "7ddf90a6",
   "metadata": {
    "papermill": {
     "duration": 0.007759,
     "end_time": "2022-07-08T10:13:06.168317",
     "exception": false,
     "start_time": "2022-07-08T10:13:06.160558",
     "status": "completed"
    },
    "tags": []
   },
   "source": [
    "## Step 4: Take a closer look\n",
    "\n",
    "#### Part A\n",
    "\n",
    "Create the same scatter plot you created in **Step 3**, but now with a regression line!"
   ]
  },
  {
   "cell_type": "code",
   "execution_count": 12,
   "id": "3167c36c",
   "metadata": {
    "execution": {
     "iopub.execute_input": "2022-07-08T10:13:06.186608Z",
     "iopub.status.busy": "2022-07-08T10:13:06.185881Z",
     "iopub.status.idle": "2022-07-08T10:13:06.457652Z",
     "shell.execute_reply": "2022-07-08T10:13:06.456428Z"
    },
    "papermill": {
     "duration": 0.283453,
     "end_time": "2022-07-08T10:13:06.459901",
     "exception": false,
     "start_time": "2022-07-08T10:13:06.176448",
     "status": "completed"
    },
    "tags": []
   },
   "outputs": [
    {
     "data": {
      "application/javascript": [
       "parent.postMessage({\"jupyterEvent\": \"custom.exercise_interaction\", \"data\": {\"outcomeType\": 1, \"valueTowardsCompletion\": 0.3333333333333333, \"interactionType\": 1, \"questionType\": 2, \"questionId\": \"4.1_PlotBlueReg\", \"learnToolsVersion\": \"0.3.4\", \"failureMessage\": \"\", \"exceptionClass\": \"\", \"trace\": \"\"}}, \"*\")"
      ],
      "text/plain": [
       "<IPython.core.display.Javascript object>"
      ]
     },
     "metadata": {},
     "output_type": "display_data"
    },
    {
     "data": {
      "text/markdown": [
       "<span style=\"color:#33cc33\">Correct</span>"
      ],
      "text/plain": [
       "Correct"
      ]
     },
     "metadata": {},
     "output_type": "display_data"
    },
    {
     "data": {
      "image/png": "[encoded data removed]",
      "text/plain": [
       "<Figure size 432x288 with 1 Axes>"
      ]
     },
     "metadata": {
      "needs_background": "light"
     },
     "output_type": "display_data"
    }
   ],
   "source": [
    "# Scatter plot w/ regression line showing the relationship between 'sugarpercent' and 'winpercent'\n",
    "sns.regplot(x = candy_data['sugarpercent'], y = candy_data['winpercent']) # Your code here\n",
    "\n",
    "# Check your answer\n",
    "step_4.a.check()"
   ]
  },
  {
   "cell_type": "code",
   "execution_count": 13,
   "id": "c32c6911",
   "metadata": {
    "execution": {
     "iopub.execute_input": "2022-07-08T10:13:06.478932Z",
     "iopub.status.busy": "2022-07-08T10:13:06.478575Z",
     "iopub.status.idle": "2022-07-08T10:13:06.482503Z",
     "shell.execute_reply": "2022-07-08T10:13:06.481522Z"
    },
    "papermill": {
     "duration": 0.015992,
     "end_time": "2022-07-08T10:13:06.484557",
     "exception": false,
     "start_time": "2022-07-08T10:13:06.468565",
     "status": "completed"
    },
    "tags": []
   },
   "outputs": [],
   "source": [
    "# Lines below will give you a hint or solution code\n",
    "#step_4.a.hint()\n",
    "#step_4.a.solution_plot()"
   ]
  },
  {
   "cell_type": "markdown",
   "id": "29112e01",
   "metadata": {
    "papermill": {
     "duration": 0.008386,
     "end_time": "2022-07-08T10:13:06.501670",
     "exception": false,
     "start_time": "2022-07-08T10:13:06.493284",
     "status": "completed"
    },
    "tags": []
   },
   "source": [
    "#### Part B\n",
    "\n",
    "According to the plot above, is there a **slight** correlation between `'winpercent'` and `'sugarpercent'`?  What does this tell you about the candy that people tend to prefer?"
   ]
  },
  {
   "cell_type": "code",
   "execution_count": 14,
   "id": "04c09881",
   "metadata": {
    "execution": {
     "iopub.execute_input": "2022-07-08T10:13:06.520876Z",
     "iopub.status.busy": "2022-07-08T10:13:06.520241Z",
     "iopub.status.idle": "2022-07-08T10:13:06.523826Z",
     "shell.execute_reply": "2022-07-08T10:13:06.523074Z"
    },
    "papermill": {
     "duration": 0.01547,
     "end_time": "2022-07-08T10:13:06.525740",
     "exception": false,
     "start_time": "2022-07-08T10:13:06.510270",
     "status": "completed"
    },
    "tags": []
   },
   "outputs": [],
   "source": [
    "#step_4.b.hint()"
   ]
  },
  {
   "cell_type": "code",
   "execution_count": 15,
   "id": "4b29bfe4",
   "metadata": {
    "execution": {
     "iopub.execute_input": "2022-07-08T10:13:06.545242Z",
     "iopub.status.busy": "2022-07-08T10:13:06.544609Z",
     "iopub.status.idle": "2022-07-08T10:13:06.550945Z",
     "shell.execute_reply": "2022-07-08T10:13:06.550209Z"
    },
    "papermill": {
     "duration": 0.018512,
     "end_time": "2022-07-08T10:13:06.552902",
     "exception": false,
     "start_time": "2022-07-08T10:13:06.534390",
     "status": "completed"
    },
    "tags": []
   },
   "outputs": [
    {
     "data": {
      "application/javascript": [
       "parent.postMessage({\"jupyterEvent\": \"custom.exercise_interaction\", \"data\": {\"interactionType\": 3, \"questionType\": 4, \"questionId\": \"4.2_ThinkBlueReg\", \"learnToolsVersion\": \"0.3.4\", \"valueTowardsCompletion\": 0.0, \"failureMessage\": \"\", \"exceptionClass\": \"\", \"trace\": \"\", \"outcomeType\": 4}}, \"*\")"
      ],
      "text/plain": [
       "<IPython.core.display.Javascript object>"
      ]
     },
     "metadata": {},
     "output_type": "display_data"
    },
    {
     "data": {
      "text/markdown": [
       "<span style=\"color:#33cc99\">Solution:</span> Since the regression line has a slightly positive slope, this tells us that there is a slightly positive correlation between `'winpercent'` and `'sugarpercent'`. Thus, people have a slight preference for candies containing relatively more sugar."
      ],
      "text/plain": [
       "Solution: Since the regression line has a slightly positive slope, this tells us that there is a slightly positive correlation between `'winpercent'` and `'sugarpercent'`. Thus, people have a slight preference for candies containing relatively more sugar."
      ]
     },
     "metadata": {},
     "output_type": "display_data"
    }
   ],
   "source": [
    "# Check your answer (Run this code cell to receive credit!)\n",
    "step_4.b.solution()"
   ]
  },
  {
   "cell_type": "markdown",
   "id": "eba40ad2",
   "metadata": {
    "papermill": {
     "duration": 0.008536,
     "end_time": "2022-07-08T10:13:06.570442",
     "exception": false,
     "start_time": "2022-07-08T10:13:06.561906",
     "status": "completed"
    },
    "tags": []
   },
   "source": [
    "## Step 5: Chocolate!\n",
    "\n",
    "In the code cell below, create a scatter plot to show the relationship between `'pricepercent'` (on the horizontal x-axis) and `'winpercent'` (on the vertical y-axis). Use the `'chocolate'` column to color-code the points.  _Don't add any regression lines just yet -- you'll do that in the next step!_"
   ]
  },
  {
   "cell_type": "code",
   "execution_count": 16,
   "id": "8f1b646d",
   "metadata": {
    "execution": {
     "iopub.execute_input": "2022-07-08T10:13:06.589889Z",
     "iopub.status.busy": "2022-07-08T10:13:06.589256Z",
     "iopub.status.idle": "2022-07-08T10:13:06.822726Z",
     "shell.execute_reply": "2022-07-08T10:13:06.821535Z"
    },
    "papermill": {
     "duration": 0.246018,
     "end_time": "2022-07-08T10:13:06.825239",
     "exception": false,
     "start_time": "2022-07-08T10:13:06.579221",
     "status": "completed"
    },
    "tags": []
   },
   "outputs": [
    {
     "data": {
      "application/javascript": [
       "parent.postMessage({\"jupyterEvent\": \"custom.exercise_interaction\", \"data\": {\"outcomeType\": 1, \"valueTowardsCompletion\": 0.3333333333333333, \"interactionType\": 1, \"questionType\": 2, \"questionId\": \"5_ColorScatter\", \"learnToolsVersion\": \"0.3.4\", \"failureMessage\": \"\", \"exceptionClass\": \"\", \"trace\": \"\"}}, \"*\")"
      ],
      "text/plain": [
       "<IPython.core.display.Javascript object>"
      ]
     },
     "metadata": {},
     "output_type": "display_data"
    },
    {
     "data": {
      "text/markdown": [
       "<span style=\"color:#33cc33\">Correct</span>"
      ],
      "text/plain": [
       "Correct"
      ]
     },
     "metadata": {},
     "output_type": "display_data"
    },
    {
     "data": {
      "image/png": "[encoded data removed]",
      "text/plain": [
       "<Figure size 432x288 with 1 Axes>"
      ]
     },
     "metadata": {
      "needs_background": "light"
     },
     "output_type": "display_data"
    }
   ],
   "source": [
    "# Scatter plot showing the relationship between 'pricepercent', 'winpercent', and 'chocolate'\n",
    "sns.scatterplot(x = candy_data['pricepercent'], y = candy_data['winpercent'], hue = candy_data['chocolate']) # Your code here\n",
    "\n",
    "# Check your answer\n",
    "step_5.check()"
   ]
  },
  {
   "cell_type": "code",
   "execution_count": 17,
   "id": "dcdaccd1",
   "metadata": {
    "execution": {
     "iopub.execute_input": "2022-07-08T10:13:06.846665Z",
     "iopub.status.busy": "2022-07-08T10:13:06.846275Z",
     "iopub.status.idle": "2022-07-08T10:13:06.850504Z",
     "shell.execute_reply": "2022-07-08T10:13:06.849642Z"
    },
    "papermill": {
     "duration": 0.01734,
     "end_time": "2022-07-08T10:13:06.852597",
     "exception": false,
     "start_time": "2022-07-08T10:13:06.835257",
     "status": "completed"
    },
    "tags": []
   },
   "outputs": [],
   "source": [
    "# Lines below will give you a hint or solution code\n",
    "#step_5.hint()\n",
    "#step_5.solution_plot()"
   ]
  },
  {
   "cell_type": "markdown",
   "id": "ec4ca7d8",
   "metadata": {
    "papermill": {
     "duration": 0.009278,
     "end_time": "2022-07-08T10:13:06.871532",
     "exception": false,
     "start_time": "2022-07-08T10:13:06.862254",
     "status": "completed"
    },
    "tags": []
   },
   "source": [
    "Can you see any interesting patterns in the scatter plot?  We'll investigate this plot further  by adding regression lines in the next step!\n",
    "\n",
    "## Step 6: Investigate chocolate\n",
    "\n",
    "#### Part A\n",
    "\n",
    "Create the same scatter plot you created in **Step 5**, but now with two regression lines, corresponding to (1) chocolate candies and (2) candies without chocolate."
   ]
  },
  {
   "cell_type": "code",
   "execution_count": 18,
   "id": "08b0e79f",
   "metadata": {
    "execution": {
     "iopub.execute_input": "2022-07-08T10:13:06.893904Z",
     "iopub.status.busy": "2022-07-08T10:13:06.893244Z",
     "iopub.status.idle": "2022-07-08T10:13:07.439203Z",
     "shell.execute_reply": "2022-07-08T10:13:07.438148Z"
    },
    "papermill": {
     "duration": 0.55971,
     "end_time": "2022-07-08T10:13:07.441476",
     "exception": false,
     "start_time": "2022-07-08T10:13:06.881766",
     "status": "completed"
    },
    "tags": []
   },
   "outputs": [
    {
     "data": {
      "application/javascript": [
       "parent.postMessage({\"jupyterEvent\": \"custom.exercise_interaction\", \"data\": {\"outcomeType\": 1, \"valueTowardsCompletion\": 0.3333333333333333, \"interactionType\": 1, \"questionType\": 2, \"questionId\": \"6.1_PlotColorReg\", \"learnToolsVersion\": \"0.3.4\", \"failureMessage\": \"\", \"exceptionClass\": \"\", \"trace\": \"\"}}, \"*\")"
      ],
      "text/plain": [
       "<IPython.core.display.Javascript object>"
      ]
     },
     "metadata": {},
     "output_type": "display_data"
    },
    {
     "data": {
      "text/markdown": [
       "<span style=\"color:#33cc33\">Correct</span>"
      ],
      "text/plain": [
       "Correct"
      ]
     },
     "metadata": {},
     "output_type": "display_data"
    },
    {
     "data": {
      "image/png": "[encoded data removed]",
      "text/plain": [
       "<Figure size 416.375x360 with 1 Axes>"
      ]
     },
     "metadata": {
      "needs_background": "light"
     },
     "output_type": "display_data"
    }
   ],
   "source": [
    "# Color-coded scatter plot w/ regression lines\n",
    "sns.lmplot(x = 'pricepercent', y = 'winpercent', hue = 'chocolate', data = candy_data) # Your code here\n",
    "\n",
    "# Check your answer\n",
    "step_6.a.check()"
   ]
  },
  {
   "cell_type": "code",
   "execution_count": 19,
   "id": "2187a521",
   "metadata": {
    "execution": {
     "iopub.execute_input": "2022-07-08T10:13:07.463431Z",
     "iopub.status.busy": "2022-07-08T10:13:07.463058Z",
     "iopub.status.idle": "2022-07-08T10:13:07.467758Z",
     "shell.execute_reply": "2022-07-08T10:13:07.466583Z"
    },
    "papermill": {
     "duration": 0.01842,
     "end_time": "2022-07-08T10:13:07.470105",
     "exception": false,
     "start_time": "2022-07-08T10:13:07.451685",
     "status": "completed"
    },
    "tags": []
   },
   "outputs": [],
   "source": [
    "# Lines below will give you a hint or solution code\n",
    "#step_6.a.hint()\n",
    "#step_6.a.solution_plot()"
   ]
  },
  {
   "cell_type": "markdown",
   "id": "7e799b56",
   "metadata": {
    "papermill": {
     "duration": 0.00971,
     "end_time": "2022-07-08T10:13:07.490067",
     "exception": false,
     "start_time": "2022-07-08T10:13:07.480357",
     "status": "completed"
    },
    "tags": []
   },
   "source": [
    "#### Part B\n",
    "\n",
    "Using the regression lines, what conclusions can you draw about the effects of chocolate and price on candy popularity?"
   ]
  },
  {
   "cell_type": "code",
   "execution_count": 20,
   "id": "9539f0c6",
   "metadata": {
    "execution": {
     "iopub.execute_input": "2022-07-08T10:13:07.511865Z",
     "iopub.status.busy": "2022-07-08T10:13:07.511218Z",
     "iopub.status.idle": "2022-07-08T10:13:07.515384Z",
     "shell.execute_reply": "2022-07-08T10:13:07.514415Z"
    },
    "papermill": {
     "duration": 0.017469,
     "end_time": "2022-07-08T10:13:07.517507",
     "exception": false,
     "start_time": "2022-07-08T10:13:07.500038",
     "status": "completed"
    },
    "tags": []
   },
   "outputs": [],
   "source": [
    "#step_6.b.hint()"
   ]
  },
  {
   "cell_type": "code",
   "execution_count": 21,
   "id": "ebf5e014",
   "metadata": {
    "execution": {
     "iopub.execute_input": "2022-07-08T10:13:07.539729Z",
     "iopub.status.busy": "2022-07-08T10:13:07.539068Z",
     "iopub.status.idle": "2022-07-08T10:13:07.546975Z",
     "shell.execute_reply": "2022-07-08T10:13:07.545801Z"
    },
    "papermill": {
     "duration": 0.021553,
     "end_time": "2022-07-08T10:13:07.549148",
     "exception": false,
     "start_time": "2022-07-08T10:13:07.527595",
     "status": "completed"
    },
    "tags": []
   },
   "outputs": [
    {
     "data": {
      "application/javascript": [
       "parent.postMessage({\"jupyterEvent\": \"custom.exercise_interaction\", \"data\": {\"interactionType\": 3, \"questionType\": 4, \"questionId\": \"6.2_ThinkColorReg\", \"learnToolsVersion\": \"0.3.4\", \"valueTowardsCompletion\": 0.0, \"failureMessage\": \"\", \"exceptionClass\": \"\", \"trace\": \"\", \"outcomeType\": 4}}, \"*\")"
      ],
      "text/plain": [
       "<IPython.core.display.Javascript object>"
      ]
     },
     "metadata": {},
     "output_type": "display_data"
    },
    {
     "data": {
      "text/markdown": [
       "<span style=\"color:#33cc99\">Solution:</span> We'll begin with the regression line for chocolate candies. Since this line has a slightly positive slope, we can say that more expensive chocolate candies tend to be more popular (than relatively cheaper chocolate candies).  Likewise, since the regression line for candies without chocolate has a negative slope, we can say that if candies don't contain chocolate, they tend to be more popular when they are cheaper.  One important note, however, is that the dataset is quite small -- so we shouldn't invest too much trust in these patterns!  To inspire more confidence in the results, we should add more candies to the dataset."
      ],
      "text/plain": [
       "Solution: We'll begin with the regression line for chocolate candies. Since this line has a slightly positive slope, we can say that more expensive chocolate candies tend to be more popular (than relatively cheaper chocolate candies).  Likewise, since the regression line for candies without chocolate has a negative slope, we can say that if candies don't contain chocolate, they tend to be more popular when they are cheaper.  One important note, however, is that the dataset is quite small -- so we shouldn't invest too much trust in these patterns!  To inspire more confidence in the results, we should add more candies to the dataset."
      ]
     },
     "metadata": {},
     "output_type": "display_data"
    }
   ],
   "source": [
    "# Check your answer (Run this code cell to receive credit!)\n",
    "step_6.b.solution()"
   ]
  },
  {
   "cell_type": "markdown",
   "id": "a9c85629",
   "metadata": {
    "papermill": {
     "duration": 0.010059,
     "end_time": "2022-07-08T10:13:07.569692",
     "exception": false,
     "start_time": "2022-07-08T10:13:07.559633",
     "status": "completed"
    },
    "tags": []
   },
   "source": [
    "## Step 7: Everybody loves chocolate.\n",
    "\n",
    "#### Part A\n",
    "\n",
    "Create a categorical scatter plot to highlight the relationship between `'chocolate'` and `'winpercent'`.  Put `'chocolate'` on the (horizontal) x-axis, and `'winpercent'` on the (vertical) y-axis."
   ]
  },
  {
   "cell_type": "code",
   "execution_count": 22,
   "id": "c035bd3c",
   "metadata": {
    "execution": {
     "iopub.execute_input": "2022-07-08T10:13:07.592357Z",
     "iopub.status.busy": "2022-07-08T10:13:07.591960Z",
     "iopub.status.idle": "2022-07-08T10:13:07.770761Z",
     "shell.execute_reply": "2022-07-08T10:13:07.769916Z"
    },
    "papermill": {
     "duration": 0.192789,
     "end_time": "2022-07-08T10:13:07.772796",
     "exception": false,
     "start_time": "2022-07-08T10:13:07.580007",
     "status": "completed"
    },
    "tags": []
   },
   "outputs": [
    {
     "data": {
      "application/javascript": [
       "parent.postMessage({\"jupyterEvent\": \"custom.exercise_interaction\", \"data\": {\"outcomeType\": 1, \"valueTowardsCompletion\": 0.3333333333333333, \"interactionType\": 1, \"questionType\": 2, \"questionId\": \"7.1_PlotSwarm\", \"learnToolsVersion\": \"0.3.4\", \"failureMessage\": \"\", \"exceptionClass\": \"\", \"trace\": \"\"}}, \"*\")"
      ],
      "text/plain": [
       "<IPython.core.display.Javascript object>"
      ]
     },
     "metadata": {},
     "output_type": "display_data"
    },
    {
     "data": {
      "text/markdown": [
       "<span style=\"color:#33cc33\">Correct</span>"
      ],
      "text/plain": [
       "Correct"
      ]
     },
     "metadata": {},
     "output_type": "display_data"
    },
    {
     "data": {
      "image/png": "[encoded data removed]",
      "text/plain": [
       "<Figure size 432x288 with 1 Axes>"
      ]
     },
     "metadata": {
      "needs_background": "light"
     },
     "output_type": "display_data"
    }
   ],
   "source": [
    "# Scatter plot showing the relationship between 'chocolate' and 'winpercent'\n",
    "sns.swarmplot(x = candy_data['chocolate'],\n",
    "             y = candy_data['winpercent']) # Your code here\n",
    "\n",
    "# Check your answer\n",
    "step_7.a.check()"
   ]
  },
  {
   "cell_type": "code",
   "execution_count": 23,
   "id": "ab8f7b52",
   "metadata": {
    "execution": {
     "iopub.execute_input": "2022-07-08T10:13:07.797396Z",
     "iopub.status.busy": "2022-07-08T10:13:07.796576Z",
     "iopub.status.idle": "2022-07-08T10:13:07.800373Z",
     "shell.execute_reply": "2022-07-08T10:13:07.799558Z"
    },
    "papermill": {
     "duration": 0.017873,
     "end_time": "2022-07-08T10:13:07.802326",
     "exception": false,
     "start_time": "2022-07-08T10:13:07.784453",
     "status": "completed"
    },
    "tags": []
   },
   "outputs": [],
   "source": [
    "# Lines below will give you a hint or solution code\n",
    "#step_7.a.hint()\n",
    "#step_7.a.solution_plot()"
   ]
  },
  {
   "cell_type": "markdown",
   "id": "589b78ab",
   "metadata": {
    "papermill": {
     "duration": 0.010554,
     "end_time": "2022-07-08T10:13:07.823855",
     "exception": false,
     "start_time": "2022-07-08T10:13:07.813301",
     "status": "completed"
    },
    "tags": []
   },
   "source": [
    "#### Part B\n",
    "\n",
    "You decide to dedicate a section of your report to the fact that chocolate candies tend to be more popular than candies without chocolate.  Which plot is more appropriate to tell this story: the plot from **Step 6**, or the plot from **Step 7**?"
   ]
  },
  {
   "cell_type": "code",
   "execution_count": 24,
   "id": "b0592a2e",
   "metadata": {
    "execution": {
     "iopub.execute_input": "2022-07-08T10:13:07.847041Z",
     "iopub.status.busy": "2022-07-08T10:13:07.846654Z",
     "iopub.status.idle": "2022-07-08T10:13:07.850813Z",
     "shell.execute_reply": "2022-07-08T10:13:07.849715Z"
    },
    "papermill": {
     "duration": 0.018225,
     "end_time": "2022-07-08T10:13:07.852804",
     "exception": false,
     "start_time": "2022-07-08T10:13:07.834579",
     "status": "completed"
    },
    "tags": []
   },
   "outputs": [],
   "source": [
    "#step_7.b.hint()"
   ]
  },
  {
   "cell_type": "code",
   "execution_count": 25,
   "id": "c20e4273",
   "metadata": {
    "execution": {
     "iopub.execute_input": "2022-07-08T10:13:07.876459Z",
     "iopub.status.busy": "2022-07-08T10:13:07.876086Z",
     "iopub.status.idle": "2022-07-08T10:13:07.884267Z",
     "shell.execute_reply": "2022-07-08T10:13:07.883468Z"
    },
    "papermill": {
     "duration": 0.022274,
     "end_time": "2022-07-08T10:13:07.886196",
     "exception": false,
     "start_time": "2022-07-08T10:13:07.863922",
     "status": "completed"
    },
    "tags": []
   },
   "outputs": [
    {
     "data": {
      "application/javascript": [
       "parent.postMessage({\"jupyterEvent\": \"custom.exercise_interaction\", \"data\": {\"interactionType\": 3, \"questionType\": 4, \"questionId\": \"7.2_ThinkSwarm\", \"learnToolsVersion\": \"0.3.4\", \"valueTowardsCompletion\": 0.0, \"failureMessage\": \"\", \"exceptionClass\": \"\", \"trace\": \"\", \"outcomeType\": 4}}, \"*\")"
      ],
      "text/plain": [
       "<IPython.core.display.Javascript object>"
      ]
     },
     "metadata": {},
     "output_type": "display_data"
    },
    {
     "data": {
      "text/markdown": [
       "<span style=\"color:#33cc99\">Solution:</span> In this case, the categorical scatter plot from **Step 7** is the more appropriate plot. While both plots tell the desired story, the plot from **Step 6** conveys far more information that could distract from the main point."
      ],
      "text/plain": [
       "Solution: In this case, the categorical scatter plot from **Step 7** is the more appropriate plot. While both plots tell the desired story, the plot from **Step 6** conveys far more information that could distract from the main point."
      ]
     },
     "metadata": {},
     "output_type": "display_data"
    }
   ],
   "source": [
    "# Check your answer (Run this code cell to receive credit!)\n",
    "step_7.b.solution()"
   ]
  },
  {
   "cell_type": "markdown",
   "id": "9363fdfb",
   "metadata": {
    "papermill": {
     "duration": 0.010794,
     "end_time": "2022-07-08T10:13:07.908135",
     "exception": false,
     "start_time": "2022-07-08T10:13:07.897341",
     "status": "completed"
    },
    "tags": []
   },
   "source": [
    "## Keep going\n",
    "\n",
    "Explore **[histograms and density plots](https://www.kaggle.com/alexisbcook/distributions)**."
   ]
  },
  {
   "cell_type": "markdown",
   "id": "f14f8801",
   "metadata": {
    "papermill": {
     "duration": 0.010641,
     "end_time": "2022-07-08T10:13:07.929719",
     "exception": false,
     "start_time": "2022-07-08T10:13:07.919078",
     "status": "completed"
    },
    "tags": []
   },
   "source": [
    "---\n",
    "\n",
    "\n",
    "\n",
    "\n",
    "*Have questions or comments? Visit the [course discussion forum](https://www.kaggle.com/learn/data-visualization/discussion) to chat with other learners.*"
   ]
  }
 ],
 "metadata": {
  "kernelspec": {
   "display_name": "Python 3",
   "language": "python",
   "name": "python3"
  },
  "language_info": {
   "codemirror_mode": {
    "name": "ipython",
    "version": 3
   },
   "file_extension": ".py",
   "mimetype": "text/x-python",
   "name": "python",
   "nbconvert_exporter": "python",
   "pygments_lexer": "ipython3",
   "version": "3.7.12"
  },
  "papermill": {
   "default_parameters": {},
   "duration": 13.525233,
   "end_time": "2022-07-08T10:13:08.661588",
   "environment_variables": {},
   "exception": null,
   "input_path": "__notebook__.ipynb",
   "output_path": "__notebook__.ipynb",
   "parameters": {},
   "start_time": "2022-07-08T10:12:55.136355",
   "version": "2.3.4"
  }
 },
 "nbformat": 4,
 "nbformat_minor": 5
}
