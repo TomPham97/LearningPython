{
 "cells": [
  {
   "cell_type": "markdown",
   "id": "ea796980",
   "metadata": {
    "papermill": {
     "duration": 0.015871,
     "end_time": "2022-04-23T13:35:19.062909",
     "exception": false,
     "start_time": "2022-04-23T13:35:19.047038",
     "status": "completed"
    },
    "tags": []
   },
   "source": [
    "**This notebook is an exercise in the [Python](https://www.kaggle.com/learn/python) course.  You can reference the tutorial at [this link](https://www.kaggle.com/colinmorris/lists).**\n",
    "\n",
    "---\n"
   ]
  },
  {
   "cell_type": "markdown",
   "id": "3f713091",
   "metadata": {
    "papermill": {
     "duration": 0.014114,
     "end_time": "2022-04-23T13:35:19.091539",
     "exception": false,
     "start_time": "2022-04-23T13:35:19.077425",
     "status": "completed"
    },
    "tags": []
   },
   "source": [
    "Things get more interesting with lists. You'll apply your new knowledge to solve the questions below. Remember to run the following cell first."
   ]
  },
  {
   "cell_type": "code",
   "execution_count": 1,
   "id": "b3ddb075",
   "metadata": {
    "execution": {
     "iopub.execute_input": "2022-04-23T13:35:19.124129Z",
     "iopub.status.busy": "2022-04-23T13:35:19.122903Z",
     "iopub.status.idle": "2022-04-23T13:35:19.167913Z",
     "shell.execute_reply": "2022-04-23T13:35:19.167012Z"
    },
    "papermill": {
     "duration": 0.065224,
     "end_time": "2022-04-23T13:35:19.170507",
     "exception": false,
     "start_time": "2022-04-23T13:35:19.105283",
     "status": "completed"
    },
    "tags": []
   },
   "outputs": [
    {
     "name": "stdout",
     "output_type": "stream",
     "text": [
      "Setup complete.\n"
     ]
    }
   ],
   "source": [
    "from learntools.core import binder; binder.bind(globals())\n",
    "from learntools.python.ex4 import *\n",
    "print('Setup complete.')"
   ]
  },
  {
   "cell_type": "markdown",
   "id": "4ba24359",
   "metadata": {
    "papermill": {
     "duration": 0.01379,
     "end_time": "2022-04-23T13:35:19.199017",
     "exception": false,
     "start_time": "2022-04-23T13:35:19.185227",
     "status": "completed"
    },
    "tags": []
   },
   "source": [
    "# 1.\n",
    "\n",
    "Complete the function below according to its docstring."
   ]
  },
  {
   "cell_type": "code",
   "execution_count": 2,
   "id": "beadaaf0",
   "metadata": {
    "execution": {
     "iopub.execute_input": "2022-04-23T13:35:19.233017Z",
     "iopub.status.busy": "2022-04-23T13:35:19.232604Z",
     "iopub.status.idle": "2022-04-23T13:35:19.242626Z",
     "shell.execute_reply": "2022-04-23T13:35:19.241797Z"
    },
    "papermill": {
     "duration": 0.031633,
     "end_time": "2022-04-23T13:35:19.244572",
     "exception": false,
     "start_time": "2022-04-23T13:35:19.212939",
     "status": "completed"
    },
    "tags": []
   },
   "outputs": [
    {
     "data": {
      "application/javascript": [
       "parent.postMessage({\"jupyterEvent\": \"custom.exercise_interaction\", \"data\": {\"outcomeType\": 1, \"valueTowardsCompletion\": 0.2, \"interactionType\": 1, \"questionType\": 2, \"questionId\": \"1_SelectSecondItem\", \"learnToolsVersion\": \"0.3.4\", \"failureMessage\": \"\", \"exceptionClass\": \"\", \"trace\": \"\"}}, \"*\")"
      ],
      "text/plain": [
       "<IPython.core.display.Javascript object>"
      ]
     },
     "metadata": {},
     "output_type": "display_data"
    },
    {
     "data": {
      "text/markdown": [
       "<span style=\"color:#33cc33\">Correct</span>"
      ],
      "text/plain": [
       "Correct"
      ]
     },
     "metadata": {},
     "output_type": "display_data"
    }
   ],
   "source": [
    "def select_second(L):\n",
    "    \"\"\"Return the second element of the given list. If the list has no second\n",
    "    element, return None.\n",
    "    \"\"\"\n",
    "    if len(L) < 2:\n",
    "        return None\n",
    "    else:\n",
    "        return L[1]\n",
    "\n",
    "# Check your answer\n",
    "q1.check()"
   ]
  },
  {
   "cell_type": "code",
   "execution_count": 3,
   "id": "3b440bf4",
   "metadata": {
    "collapsed": true,
    "execution": {
     "iopub.execute_input": "2022-04-23T13:35:19.275994Z",
     "iopub.status.busy": "2022-04-23T13:35:19.275579Z",
     "iopub.status.idle": "2022-04-23T13:35:19.278813Z",
     "shell.execute_reply": "2022-04-23T13:35:19.278260Z"
    },
    "jupyter": {
     "outputs_hidden": true
    },
    "papermill": {
     "duration": 0.021097,
     "end_time": "2022-04-23T13:35:19.280417",
     "exception": false,
     "start_time": "2022-04-23T13:35:19.259320",
     "status": "completed"
    },
    "tags": []
   },
   "outputs": [],
   "source": [
    "#q1.hint()\n",
    "#q1.solution()"
   ]
  },
  {
   "cell_type": "markdown",
   "id": "0663a519",
   "metadata": {
    "papermill": {
     "duration": 0.016162,
     "end_time": "2022-04-23T13:35:19.311257",
     "exception": false,
     "start_time": "2022-04-23T13:35:19.295095",
     "status": "completed"
    },
    "tags": []
   },
   "source": [
    "# 2.\n",
    "\n",
    "You are analyzing sports teams.  Members of each team are stored in a list. The Coach is the first name in the list, the captain is the second name in the list, and other players are listed after that. \n",
    "These lists are stored in another list, which starts with the best team and proceeds through the list to the worst team last.  Complete the function below to select the **captain** of the worst team."
   ]
  },
  {
   "cell_type": "code",
   "execution_count": 4,
   "id": "3dde5df7",
   "metadata": {
    "execution": {
     "iopub.execute_input": "2022-04-23T13:35:19.347022Z",
     "iopub.status.busy": "2022-04-23T13:35:19.346577Z",
     "iopub.status.idle": "2022-04-23T13:35:19.354929Z",
     "shell.execute_reply": "2022-04-23T13:35:19.354106Z"
    },
    "papermill": {
     "duration": 0.027809,
     "end_time": "2022-04-23T13:35:19.356816",
     "exception": false,
     "start_time": "2022-04-23T13:35:19.329007",
     "status": "completed"
    },
    "tags": []
   },
   "outputs": [
    {
     "data": {
      "application/javascript": [
       "parent.postMessage({\"jupyterEvent\": \"custom.exercise_interaction\", \"data\": {\"outcomeType\": 1, \"valueTowardsCompletion\": 0.2, \"interactionType\": 1, \"questionType\": 2, \"questionId\": \"2_LosingTeamCaptain\", \"learnToolsVersion\": \"0.3.4\", \"failureMessage\": \"\", \"exceptionClass\": \"\", \"trace\": \"\"}}, \"*\")"
      ],
      "text/plain": [
       "<IPython.core.display.Javascript object>"
      ]
     },
     "metadata": {},
     "output_type": "display_data"
    },
    {
     "data": {
      "text/markdown": [
       "<span style=\"color:#33cc33\">Correct</span>"
      ],
      "text/plain": [
       "Correct"
      ]
     },
     "metadata": {},
     "output_type": "display_data"
    }
   ],
   "source": [
    "def losing_team_captain(teams):\n",
    "    \"\"\"Given a list of teams, where each team is a list of names, return the 2nd player (captain)\n",
    "    from the last listed team\n",
    "    \"\"\"\n",
    "    worst_team = teams[-1]\n",
    "    return worst_team[1]\n",
    "    \n",
    "\n",
    "# Check your answer\n",
    "q2.check()"
   ]
  },
  {
   "cell_type": "code",
   "execution_count": 5,
   "id": "40973cc1",
   "metadata": {
    "collapsed": true,
    "execution": {
     "iopub.execute_input": "2022-04-23T13:35:19.391520Z",
     "iopub.status.busy": "2022-04-23T13:35:19.390964Z",
     "iopub.status.idle": "2022-04-23T13:35:19.394401Z",
     "shell.execute_reply": "2022-04-23T13:35:19.393878Z"
    },
    "jupyter": {
     "outputs_hidden": true
    },
    "papermill": {
     "duration": 0.023242,
     "end_time": "2022-04-23T13:35:19.397025",
     "exception": false,
     "start_time": "2022-04-23T13:35:19.373783",
     "status": "completed"
    },
    "tags": []
   },
   "outputs": [],
   "source": [
    "#q2.hint()\n",
    "#q2.solution()"
   ]
  },
  {
   "cell_type": "markdown",
   "id": "e3a25d44",
   "metadata": {
    "papermill": {
     "duration": 0.015494,
     "end_time": "2022-04-23T13:35:19.428590",
     "exception": false,
     "start_time": "2022-04-23T13:35:19.413096",
     "status": "completed"
    },
    "tags": []
   },
   "source": [
    "# 3.\n",
    "\n",
    "The next iteration of Mario Kart will feature an extra-infuriating new item, the *Purple Shell*. When used, it warps the last place racer into first place and the first place racer into last place. Complete the function below to implement the Purple Shell's effect."
   ]
  },
  {
   "cell_type": "code",
   "execution_count": 6,
   "id": "56d859d2",
   "metadata": {
    "execution": {
     "iopub.execute_input": "2022-04-23T13:35:19.463330Z",
     "iopub.status.busy": "2022-04-23T13:35:19.462797Z",
     "iopub.status.idle": "2022-04-23T13:35:19.470905Z",
     "shell.execute_reply": "2022-04-23T13:35:19.470269Z"
    },
    "papermill": {
     "duration": 0.028421,
     "end_time": "2022-04-23T13:35:19.472694",
     "exception": false,
     "start_time": "2022-04-23T13:35:19.444273",
     "status": "completed"
    },
    "tags": []
   },
   "outputs": [
    {
     "data": {
      "application/javascript": [
       "parent.postMessage({\"jupyterEvent\": \"custom.exercise_interaction\", \"data\": {\"outcomeType\": 1, \"valueTowardsCompletion\": 0.2, \"interactionType\": 1, \"questionType\": 2, \"questionId\": \"3_PurpleShell\", \"learnToolsVersion\": \"0.3.4\", \"failureMessage\": \"\", \"exceptionClass\": \"\", \"trace\": \"\"}}, \"*\")"
      ],
      "text/plain": [
       "<IPython.core.display.Javascript object>"
      ]
     },
     "metadata": {},
     "output_type": "display_data"
    },
    {
     "data": {
      "text/markdown": [
       "<span style=\"color:#33cc33\">Correct</span>"
      ],
      "text/plain": [
       "Correct"
      ]
     },
     "metadata": {},
     "output_type": "display_data"
    }
   ],
   "source": [
    "def purple_shell(racers):\n",
    "    \"\"\"Given a list of racers, set the first place racer (at the front of the list) to last\n",
    "    place and vice versa.\n",
    "    \n",
    "    >>> r = [\"Mario\", \"Bowser\", \"Luigi\"]\n",
    "    >>> purple_shell(r)\n",
    "    >>> r\n",
    "    [\"Luigi\", \"Bowser\", \"Mario\"]\n",
    "    \"\"\"\n",
    "    racers[0], racers[-1] = racers[-1], racers[0]\n",
    "\n",
    "# Check your answer\n",
    "q3.check()"
   ]
  },
  {
   "cell_type": "code",
   "execution_count": 7,
   "id": "0c8cbe52",
   "metadata": {
    "execution": {
     "iopub.execute_input": "2022-04-23T13:35:19.507980Z",
     "iopub.status.busy": "2022-04-23T13:35:19.507393Z",
     "iopub.status.idle": "2022-04-23T13:35:19.510891Z",
     "shell.execute_reply": "2022-04-23T13:35:19.510325Z"
    },
    "papermill": {
     "duration": 0.023189,
     "end_time": "2022-04-23T13:35:19.512634",
     "exception": false,
     "start_time": "2022-04-23T13:35:19.489445",
     "status": "completed"
    },
    "tags": []
   },
   "outputs": [],
   "source": [
    "#q3.hint()\n",
    "#q3.solution()"
   ]
  },
  {
   "cell_type": "markdown",
   "id": "49dd0654",
   "metadata": {
    "papermill": {
     "duration": 0.016556,
     "end_time": "2022-04-23T13:35:19.546142",
     "exception": false,
     "start_time": "2022-04-23T13:35:19.529586",
     "status": "completed"
    },
    "tags": []
   },
   "source": [
    "# 4.\n",
    "\n",
    "What are the lengths of the following lists? Fill in the variable `lengths` with your predictions. (Try to make a prediction for each list *without* just calling `len()` on it.)"
   ]
  },
  {
   "cell_type": "code",
   "execution_count": 8,
   "id": "40f3b4fc",
   "metadata": {
    "execution": {
     "iopub.execute_input": "2022-04-23T13:35:19.582135Z",
     "iopub.status.busy": "2022-04-23T13:35:19.581586Z",
     "iopub.status.idle": "2022-04-23T13:35:19.589964Z",
     "shell.execute_reply": "2022-04-23T13:35:19.589373Z"
    },
    "papermill": {
     "duration": 0.028415,
     "end_time": "2022-04-23T13:35:19.591744",
     "exception": false,
     "start_time": "2022-04-23T13:35:19.563329",
     "status": "completed"
    },
    "tags": []
   },
   "outputs": [
    {
     "data": {
      "application/javascript": [
       "parent.postMessage({\"jupyterEvent\": \"custom.exercise_interaction\", \"data\": {\"outcomeType\": 1, \"valueTowardsCompletion\": 0.2, \"interactionType\": 1, \"questionType\": 1, \"questionId\": \"4_UnderstandLen\", \"learnToolsVersion\": \"0.3.4\", \"failureMessage\": \"\", \"exceptionClass\": \"\", \"trace\": \"\"}}, \"*\")"
      ],
      "text/plain": [
       "<IPython.core.display.Javascript object>"
      ]
     },
     "metadata": {},
     "output_type": "display_data"
    },
    {
     "data": {
      "text/markdown": [
       "<span style=\"color:#33cc33\">Correct:</span> \n",
       "\n",
       "\n",
       "- a: There are three items in this list. Nothing tricky yet.\n",
       "- b: The list `[2, 3]` counts as a single item. It has one item before it. So we have 2 items in the list\n",
       "- c: The empty list has 0 items\n",
       "- d: The expression is the same as the list `[2, 3]`, which has length 2."
      ],
      "text/plain": [
       "Correct: \n",
       "\n",
       "\n",
       "- a: There are three items in this list. Nothing tricky yet.\n",
       "- b: The list `[2, 3]` counts as a single item. It has one item before it. So we have 2 items in the list\n",
       "- c: The empty list has 0 items\n",
       "- d: The expression is the same as the list `[2, 3]`, which has length 2."
      ]
     },
     "metadata": {},
     "output_type": "display_data"
    }
   ],
   "source": [
    "a = [1, 2, 3]\n",
    "b = [1, [2, 3]]\n",
    "c = []\n",
    "d = [1, 2, 3][1:]\n",
    "\n",
    "# Put your predictions in the list below. Lengths should contain 4 numbers, the\n",
    "# first being the length of a, the second being the length of b and so on.\n",
    "lengths = [3, 2, 0, 2]\n",
    "\n",
    "# Check your answer\n",
    "q4.check()"
   ]
  },
  {
   "cell_type": "code",
   "execution_count": 9,
   "id": "b74f65ad",
   "metadata": {
    "collapsed": true,
    "execution": {
     "iopub.execute_input": "2022-04-23T13:35:19.629356Z",
     "iopub.status.busy": "2022-04-23T13:35:19.629077Z",
     "iopub.status.idle": "2022-04-23T13:35:19.632254Z",
     "shell.execute_reply": "2022-04-23T13:35:19.631434Z"
    },
    "jupyter": {
     "outputs_hidden": true
    },
    "papermill": {
     "duration": 0.024449,
     "end_time": "2022-04-23T13:35:19.634194",
     "exception": false,
     "start_time": "2022-04-23T13:35:19.609745",
     "status": "completed"
    },
    "tags": []
   },
   "outputs": [],
   "source": [
    "# line below provides some explanation\n",
    "#q4.solution()"
   ]
  },
  {
   "cell_type": "markdown",
   "id": "7d9aa23d",
   "metadata": {
    "papermill": {
     "duration": 0.017965,
     "end_time": "2022-04-23T13:35:19.670153",
     "exception": false,
     "start_time": "2022-04-23T13:35:19.652188",
     "status": "completed"
    },
    "tags": []
   },
   "source": [
    "# 5. <span title=\"A bit spicy\" style=\"color: darkgreen \">🌶️</span>\n",
    "\n",
    "We're using lists to record people who attended our party and what order they arrived in. For example, the following list represents a party with 7 guests, in which Adela showed up first and Ford was the last to arrive:\n",
    "\n",
    "    party_attendees = ['Adela', 'Fleda', 'Owen', 'May', 'Mona', 'Gilbert', 'Ford']\n",
    "\n",
    "A guest is considered 'fashionably late' if they arrived after at least half of the party's guests. However, they must not be the very last guest (that's taking it too far). In the above example, Mona and Gilbert are the only guests who were fashionably late.\n",
    "\n",
    "Complete the function below which takes a list of party attendees as well as a person, and tells us whether that person is fashionably late."
   ]
  },
  {
   "cell_type": "code",
   "execution_count": 10,
   "id": "b17904ce",
   "metadata": {
    "execution": {
     "iopub.execute_input": "2022-04-23T13:35:19.708328Z",
     "iopub.status.busy": "2022-04-23T13:35:19.707814Z",
     "iopub.status.idle": "2022-04-23T13:35:19.716414Z",
     "shell.execute_reply": "2022-04-23T13:35:19.715786Z"
    },
    "papermill": {
     "duration": 0.029778,
     "end_time": "2022-04-23T13:35:19.718214",
     "exception": false,
     "start_time": "2022-04-23T13:35:19.688436",
     "status": "completed"
    },
    "tags": []
   },
   "outputs": [
    {
     "data": {
      "application/javascript": [
       "parent.postMessage({\"jupyterEvent\": \"custom.exercise_interaction\", \"data\": {\"outcomeType\": 1, \"valueTowardsCompletion\": 0.2, \"interactionType\": 1, \"questionType\": 2, \"questionId\": \"5_FashionablyLate\", \"learnToolsVersion\": \"0.3.4\", \"failureMessage\": \"\", \"exceptionClass\": \"\", \"trace\": \"\"}}, \"*\")"
      ],
      "text/plain": [
       "<IPython.core.display.Javascript object>"
      ]
     },
     "metadata": {},
     "output_type": "display_data"
    },
    {
     "data": {
      "text/markdown": [
       "<span style=\"color:#33cc33\">Correct</span>"
      ],
      "text/plain": [
       "Correct"
      ]
     },
     "metadata": {},
     "output_type": "display_data"
    }
   ],
   "source": [
    "def fashionably_late(arrivals, name):\n",
    "    \"\"\"Given an ordered list of arrivals to the party and a name, return whether the guest with that\n",
    "    name was fashionably late.\n",
    "    \"\"\"\n",
    "    guest_order = arrivals.index(name) + 1\n",
    "    total_guest = len(arrivals)\n",
    "    if (guest_order > round((total_guest / 2))) and (guest_order != total_guest):\n",
    "        return True\n",
    "    else:\n",
    "        return False\n",
    "\n",
    "# Check your answer\n",
    "q5.check()"
   ]
  },
  {
   "cell_type": "code",
   "execution_count": 11,
   "id": "d4fac764",
   "metadata": {
    "execution": {
     "iopub.execute_input": "2022-04-23T13:35:19.757442Z",
     "iopub.status.busy": "2022-04-23T13:35:19.756864Z",
     "iopub.status.idle": "2022-04-23T13:35:19.764921Z",
     "shell.execute_reply": "2022-04-23T13:35:19.763873Z"
    },
    "papermill": {
     "duration": 0.030268,
     "end_time": "2022-04-23T13:35:19.766996",
     "exception": false,
     "start_time": "2022-04-23T13:35:19.736728",
     "status": "completed"
    },
    "tags": []
   },
   "outputs": [
    {
     "name": "stdout",
     "output_type": "stream",
     "text": [
      "Help on method_descriptor:\n",
      "\n",
      "index(self, value, start=0, stop=9223372036854775807, /)\n",
      "    Return first index of value.\n",
      "    \n",
      "    Raises ValueError if the value is not present.\n",
      "\n",
      "Help on built-in function round in module builtins:\n",
      "\n",
      "round(number, ndigits=None)\n",
      "    Round a number to a given precision in decimal digits.\n",
      "    \n",
      "    The return value is an integer if ndigits is omitted or None.  Otherwise\n",
      "    the return value has the same type as the number.  ndigits may be negative.\n",
      "\n"
     ]
    }
   ],
   "source": [
    "help(list.index)\n",
    "help(round)"
   ]
  },
  {
   "cell_type": "code",
   "execution_count": 12,
   "id": "5fbdca5c",
   "metadata": {
    "execution": {
     "iopub.execute_input": "2022-04-23T13:35:19.807678Z",
     "iopub.status.busy": "2022-04-23T13:35:19.807372Z",
     "iopub.status.idle": "2022-04-23T13:35:19.815350Z",
     "shell.execute_reply": "2022-04-23T13:35:19.814795Z"
    },
    "papermill": {
     "duration": 0.030006,
     "end_time": "2022-04-23T13:35:19.817063",
     "exception": false,
     "start_time": "2022-04-23T13:35:19.787057",
     "status": "completed"
    },
    "tags": []
   },
   "outputs": [
    {
     "data": {
      "application/javascript": [
       "parent.postMessage({\"jupyterEvent\": \"custom.exercise_interaction\", \"data\": {\"interactionType\": 2, \"questionType\": 2, \"questionId\": \"5_FashionablyLate\", \"learnToolsVersion\": \"0.3.4\", \"valueTowardsCompletion\": 0.0, \"failureMessage\": \"\", \"exceptionClass\": \"\", \"trace\": \"\", \"outcomeType\": 4}}, \"*\")"
      ],
      "text/plain": [
       "<IPython.core.display.Javascript object>"
      ]
     },
     "metadata": {},
     "output_type": "display_data"
    },
    {
     "data": {
      "text/markdown": [
       "<span style=\"color:#3366cc\">Hint:</span> Use the index method to find when the person arrived. Check whether that is a fashionably late spot given the list length (`len`). Think about 0-indexing"
      ],
      "text/plain": [
       "Hint: Use the index method to find when the person arrived. Check whether that is a fashionably late spot given the list length (`len`). Think about 0-indexing"
      ]
     },
     "metadata": {},
     "output_type": "display_data"
    },
    {
     "data": {
      "application/javascript": [
       "parent.postMessage({\"jupyterEvent\": \"custom.exercise_interaction\", \"data\": {\"interactionType\": 3, \"questionType\": 2, \"questionId\": \"5_FashionablyLate\", \"learnToolsVersion\": \"0.3.4\", \"valueTowardsCompletion\": 0.0, \"failureMessage\": \"\", \"exceptionClass\": \"\", \"trace\": \"\", \"outcomeType\": 4}}, \"*\")"
      ],
      "text/plain": [
       "<IPython.core.display.Javascript object>"
      ]
     },
     "metadata": {},
     "output_type": "display_data"
    },
    {
     "data": {
      "text/markdown": [
       "<span style=\"color:#33cc99\">Solution:</span> \n",
       "```python\n",
       "def fashionably_late(arrivals, name):\n",
       "    order = arrivals.index(name)\n",
       "    return order >= len(arrivals) / 2 and order != len(arrivals) - 1\n",
       "```"
      ],
      "text/plain": [
       "Solution: \n",
       "```python\n",
       "def fashionably_late(arrivals, name):\n",
       "    order = arrivals.index(name)\n",
       "    return order >= len(arrivals) / 2 and order != len(arrivals) - 1\n",
       "```"
      ]
     },
     "metadata": {},
     "output_type": "display_data"
    }
   ],
   "source": [
    "q5.hint()\n",
    "q5.solution()"
   ]
  },
  {
   "cell_type": "markdown",
   "id": "f6d36a90",
   "metadata": {
    "papermill": {
     "duration": 0.020895,
     "end_time": "2022-04-23T13:35:19.860411",
     "exception": false,
     "start_time": "2022-04-23T13:35:19.839516",
     "status": "completed"
    },
    "tags": []
   },
   "source": [
    "# Keep Going\n",
    "\n",
    "That's it for lists and tuples! Now you have the baseline knowledge to **[learn about loops](https://www.kaggle.com/colinmorris/loops-and-list-comprehensions)**, which is where lists and tuples get really interesting. "
   ]
  },
  {
   "cell_type": "markdown",
   "id": "1725f81d",
   "metadata": {
    "papermill": {
     "duration": 0.020791,
     "end_time": "2022-04-23T13:35:19.903504",
     "exception": false,
     "start_time": "2022-04-23T13:35:19.882713",
     "status": "completed"
    },
    "tags": []
   },
   "source": [
    "---\n",
    "\n",
    "\n",
    "\n",
    "\n",
    "*Have questions or comments? Visit the [course discussion forum](https://www.kaggle.com/learn/python/discussion) to chat with other learners.*"
   ]
  }
 ],
 "metadata": {
  "kernelspec": {
   "display_name": "Python 3",
   "language": "python",
   "name": "python3"
  },
  "language_info": {
   "codemirror_mode": {
    "name": "ipython",
    "version": 3
   },
   "file_extension": ".py",
   "mimetype": "text/x-python",
   "name": "python",
   "nbconvert_exporter": "python",
   "pygments_lexer": "ipython3",
   "version": "3.7.12"
  },
  "papermill": {
   "default_parameters": {},
   "duration": 9.447955,
   "end_time": "2022-04-23T13:35:20.645212",
   "environment_variables": {},
   "exception": null,
   "input_path": "__notebook__.ipynb",
   "output_path": "__notebook__.ipynb",
   "parameters": {},
   "start_time": "2022-04-23T13:35:11.197257",
   "version": "2.3.4"
  }
 },
 "nbformat": 4,
 "nbformat_minor": 5
}
