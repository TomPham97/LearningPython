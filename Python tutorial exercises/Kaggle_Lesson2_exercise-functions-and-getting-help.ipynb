{
 "cells": [
  {
   "cell_type": "markdown",
   "id": "5d522a43",
   "metadata": {
    "papermill": {
     "duration": 0.018981,
     "end_time": "2022-04-21T15:03:06.682752",
     "exception": false,
     "start_time": "2022-04-21T15:03:06.663771",
     "status": "completed"
    },
    "tags": []
   },
   "source": [
    "**This notebook is an exercise in the [Python](https://www.kaggle.com/learn/python) course.  You can reference the tutorial at [this link](https://www.kaggle.com/colinmorris/functions-and-getting-help).**\n",
    "\n",
    "---\n"
   ]
  },
  {
   "cell_type": "markdown",
   "id": "9d6181d7",
   "metadata": {
    "papermill": {
     "duration": 0.016469,
     "end_time": "2022-04-21T15:03:06.716118",
     "exception": false,
     "start_time": "2022-04-21T15:03:06.699649",
     "status": "completed"
    },
    "tags": []
   },
   "source": [
    "Functions are powerful. Try writing some yourself.\n",
    "\n",
    "As before, don't forget to run the setup code below before jumping into question 1."
   ]
  },
  {
   "cell_type": "code",
   "execution_count": 1,
   "id": "9fd0d421",
   "metadata": {
    "_kg_hide-input": true,
    "_kg_hide-output": true,
    "execution": {
     "iopub.execute_input": "2022-04-21T15:03:06.752360Z",
     "iopub.status.busy": "2022-04-21T15:03:06.751804Z",
     "iopub.status.idle": "2022-04-21T15:03:06.800202Z",
     "shell.execute_reply": "2022-04-21T15:03:06.799147Z"
    },
    "papermill": {
     "duration": 0.068997,
     "end_time": "2022-04-21T15:03:06.802593",
     "exception": false,
     "start_time": "2022-04-21T15:03:06.733596",
     "status": "completed"
    },
    "tags": []
   },
   "outputs": [
    {
     "name": "stdout",
     "output_type": "stream",
     "text": [
      "Setup complete.\n"
     ]
    }
   ],
   "source": [
    "# SETUP. You don't need to worry for now about what this code does or how it works.\n",
    "from learntools.core import binder; binder.bind(globals())\n",
    "from learntools.python.ex2 import *\n",
    "print('Setup complete.')"
   ]
  },
  {
   "cell_type": "markdown",
   "id": "a8cbd4da",
   "metadata": {
    "papermill": {
     "duration": 0.017407,
     "end_time": "2022-04-21T15:03:06.837947",
     "exception": false,
     "start_time": "2022-04-21T15:03:06.820540",
     "status": "completed"
    },
    "tags": []
   },
   "source": [
    "# 1.\n",
    "\n",
    "Complete the body of the following function according to its docstring.\n",
    "\n",
    "HINT: Python has a built-in function `round`."
   ]
  },
  {
   "cell_type": "code",
   "execution_count": 2,
   "id": "af1e0ee2",
   "metadata": {
    "execution": {
     "iopub.execute_input": "2022-04-21T15:03:06.874441Z",
     "iopub.status.busy": "2022-04-21T15:03:06.873991Z",
     "iopub.status.idle": "2022-04-21T15:03:06.884635Z",
     "shell.execute_reply": "2022-04-21T15:03:06.883810Z"
    },
    "papermill": {
     "duration": 0.031211,
     "end_time": "2022-04-21T15:03:06.886550",
     "exception": false,
     "start_time": "2022-04-21T15:03:06.855339",
     "status": "completed"
    },
    "tags": []
   },
   "outputs": [
    {
     "data": {
      "application/javascript": [
       "parent.postMessage({\"jupyterEvent\": \"custom.exercise_interaction\", \"data\": {\"outcomeType\": 1, \"valueTowardsCompletion\": 0.16666666666666666, \"interactionType\": 1, \"questionType\": 2, \"questionId\": \"1_RoundFunctionProblem\", \"learnToolsVersion\": \"0.3.4\", \"failureMessage\": \"\", \"exceptionClass\": \"\", \"trace\": \"\"}}, \"*\")"
      ],
      "text/plain": [
       "<IPython.core.display.Javascript object>"
      ]
     },
     "metadata": {},
     "output_type": "display_data"
    },
    {
     "data": {
      "text/markdown": [
       "<span style=\"color:#33cc33\">Correct</span>"
      ],
      "text/plain": [
       "Correct"
      ]
     },
     "metadata": {},
     "output_type": "display_data"
    }
   ],
   "source": [
    "def round_to_two_places(num):\n",
    "    \"\"\"Return the given number rounded to two decimal places. \n",
    "    \n",
    "    >>> round_to_two_places(3.14159)\n",
    "    3.14\n",
    "    \"\"\"\n",
    "    return round(num, 2)\n",
    "\n",
    "# Check your answer\n",
    "q1.check()"
   ]
  },
  {
   "cell_type": "code",
   "execution_count": 3,
   "id": "5fecf9d7",
   "metadata": {
    "execution": {
     "iopub.execute_input": "2022-04-21T15:03:06.925273Z",
     "iopub.status.busy": "2022-04-21T15:03:06.924982Z",
     "iopub.status.idle": "2022-04-21T15:03:06.928798Z",
     "shell.execute_reply": "2022-04-21T15:03:06.927862Z"
    },
    "papermill": {
     "duration": 0.025413,
     "end_time": "2022-04-21T15:03:06.930567",
     "exception": false,
     "start_time": "2022-04-21T15:03:06.905154",
     "status": "completed"
    },
    "tags": []
   },
   "outputs": [],
   "source": [
    "# Uncomment the following for a hint\n",
    "#q1.hint()\n",
    "# Or uncomment the following to peek at the solution\n",
    "#q1.solution()"
   ]
  },
  {
   "cell_type": "markdown",
   "id": "c404e40c",
   "metadata": {
    "papermill": {
     "duration": 0.018347,
     "end_time": "2022-04-21T15:03:06.967868",
     "exception": false,
     "start_time": "2022-04-21T15:03:06.949521",
     "status": "completed"
    },
    "tags": []
   },
   "source": [
    "# 2.\n",
    "The help for `round` says that `ndigits` (the second argument) may be negative.\n",
    "What do you think will happen when it is? Try some examples in the following cell."
   ]
  },
  {
   "cell_type": "code",
   "execution_count": 4,
   "id": "fc528e4d",
   "metadata": {
    "execution": {
     "iopub.execute_input": "2022-04-21T15:03:07.007035Z",
     "iopub.status.busy": "2022-04-21T15:03:07.006550Z",
     "iopub.status.idle": "2022-04-21T15:03:07.012703Z",
     "shell.execute_reply": "2022-04-21T15:03:07.011842Z"
    },
    "papermill": {
     "duration": 0.028267,
     "end_time": "2022-04-21T15:03:07.014783",
     "exception": false,
     "start_time": "2022-04-21T15:03:06.986516",
     "status": "completed"
    },
    "tags": []
   },
   "outputs": [
    {
     "data": {
      "text/plain": [
       "200.0"
      ]
     },
     "execution_count": 4,
     "metadata": {},
     "output_type": "execute_result"
    }
   ],
   "source": [
    "# Put your test code here\n",
    "round(235.21563, -2)"
   ]
  },
  {
   "cell_type": "markdown",
   "id": "b16c32a1",
   "metadata": {
    "papermill": {
     "duration": 0.019147,
     "end_time": "2022-04-21T15:03:07.053467",
     "exception": false,
     "start_time": "2022-04-21T15:03:07.034320",
     "status": "completed"
    },
    "tags": []
   },
   "source": [
    "Can you think of a case where this would be useful?  Once you're ready, run the code cell below to see the answer and to receive credit for completing the problem."
   ]
  },
  {
   "cell_type": "code",
   "execution_count": 5,
   "id": "24f74e90",
   "metadata": {
    "execution": {
     "iopub.execute_input": "2022-04-21T15:03:07.094385Z",
     "iopub.status.busy": "2022-04-21T15:03:07.094053Z",
     "iopub.status.idle": "2022-04-21T15:03:07.100313Z",
     "shell.execute_reply": "2022-04-21T15:03:07.099778Z"
    },
    "papermill": {
     "duration": 0.02866,
     "end_time": "2022-04-21T15:03:07.102067",
     "exception": false,
     "start_time": "2022-04-21T15:03:07.073407",
     "status": "completed"
    },
    "tags": []
   },
   "outputs": [
    {
     "data": {
      "application/javascript": [
       "parent.postMessage({\"jupyterEvent\": \"custom.exercise_interaction\", \"data\": {\"interactionType\": 3, \"questionType\": 4, \"questionId\": \"2_RoundNdigitsProblem\", \"learnToolsVersion\": \"0.3.4\", \"valueTowardsCompletion\": 0.0, \"failureMessage\": \"\", \"exceptionClass\": \"\", \"trace\": \"\", \"outcomeType\": 4}}, \"*\")"
      ],
      "text/plain": [
       "<IPython.core.display.Javascript object>"
      ]
     },
     "metadata": {},
     "output_type": "display_data"
    },
    {
     "data": {
      "text/markdown": [
       "<span style=\"color:#33cc99\">Solution:</span> As you've seen, `ndigits=-1` rounds to the nearest 10, `ndigits=-2` rounds to the nearest 100 and so on. Where might this be useful? Suppose we're dealing with large numbers:\n",
       "\n",
       "> The area of Finland is 338,424 km²  \n",
       "> The area of Greenland is 2,166,086 km²\n",
       "\n",
       "We probably don't care whether it's really 338,424, or 338,425, or 338,177. All those digits of accuracy are just distracting. We can chop them off by calling `round()` with `ndigits=-3`:\n",
       "\n",
       "> The area of Finland is 338,000 km²  \n",
       "> The area of Greenland is 2,166,000 km²\n",
       "\n",
       "(We'll talk about how we would get the commas later when we talk about string formatting :))\n"
      ],
      "text/plain": [
       "Solution: As you've seen, `ndigits=-1` rounds to the nearest 10, `ndigits=-2` rounds to the nearest 100 and so on. Where might this be useful? Suppose we're dealing with large numbers:\n",
       "\n",
       "> The area of Finland is 338,424 km²  \n",
       "> The area of Greenland is 2,166,086 km²\n",
       "\n",
       "We probably don't care whether it's really 338,424, or 338,425, or 338,177. All those digits of accuracy are just distracting. We can chop them off by calling `round()` with `ndigits=-3`:\n",
       "\n",
       "> The area of Finland is 338,000 km²  \n",
       "> The area of Greenland is 2,166,000 km²\n",
       "\n",
       "(We'll talk about how we would get the commas later when we talk about string formatting :))"
      ]
     },
     "metadata": {},
     "output_type": "display_data"
    }
   ],
   "source": [
    "# Check your answer (Run this code cell to receive credit!)\n",
    "q2.solution()"
   ]
  },
  {
   "cell_type": "markdown",
   "id": "877d7472",
   "metadata": {
    "papermill": {
     "duration": 0.020406,
     "end_time": "2022-04-21T15:03:07.143037",
     "exception": false,
     "start_time": "2022-04-21T15:03:07.122631",
     "status": "completed"
    },
    "tags": []
   },
   "source": [
    "# 3.\n",
    "\n",
    "In the previous exercise, the candy-sharing friends Alice, Bob and Carol tried to split candies evenly. For the sake of their friendship, any candies left over would be smashed. For example, if they collectively bring home 91 candies, they'll take 30 each and smash 1.\n",
    "\n",
    "Below is a simple function that will calculate the number of candies to smash for *any* number of total candies.\n",
    "\n",
    "Modify it so that it optionally takes a second argument representing the number of friends the candies are being split between. If no second argument is provided, it should assume 3 friends, as before.\n",
    "\n",
    "Update the docstring to reflect this new behaviour."
   ]
  },
  {
   "cell_type": "code",
   "execution_count": 6,
   "id": "dcff4656",
   "metadata": {
    "execution": {
     "iopub.execute_input": "2022-04-21T15:03:07.186516Z",
     "iopub.status.busy": "2022-04-21T15:03:07.185663Z",
     "iopub.status.idle": "2022-04-21T15:03:07.192777Z",
     "shell.execute_reply": "2022-04-21T15:03:07.191986Z"
    },
    "papermill": {
     "duration": 0.030972,
     "end_time": "2022-04-21T15:03:07.194673",
     "exception": false,
     "start_time": "2022-04-21T15:03:07.163701",
     "status": "completed"
    },
    "tags": []
   },
   "outputs": [
    {
     "data": {
      "application/javascript": [
       "parent.postMessage({\"jupyterEvent\": \"custom.exercise_interaction\", \"data\": {\"outcomeType\": 1, \"valueTowardsCompletion\": 0.16666666666666666, \"interactionType\": 1, \"questionType\": 2, \"questionId\": \"3_CandySmashingFunctionProblem\", \"learnToolsVersion\": \"0.3.4\", \"failureMessage\": \"\", \"exceptionClass\": \"\", \"trace\": \"\"}}, \"*\")"
      ],
      "text/plain": [
       "<IPython.core.display.Javascript object>"
      ]
     },
     "metadata": {},
     "output_type": "display_data"
    },
    {
     "data": {
      "text/markdown": [
       "<span style=\"color:#33cc33\">Correct</span>"
      ],
      "text/plain": [
       "Correct"
      ]
     },
     "metadata": {},
     "output_type": "display_data"
    }
   ],
   "source": [
    "def to_smash(total_candies, friends = 3):\n",
    "    \"\"\"Return the number of leftover candies that must be smashed after distributing\n",
    "    the given number of candies evenly between a given number of friends.\n",
    "    \n",
    "    >>> to_smash(91, 2)\n",
    "    1\n",
    "    \"\"\"\n",
    "    \n",
    "    return total_candies % friends\n",
    "\n",
    "# Check your answer\n",
    "q3.check()"
   ]
  },
  {
   "cell_type": "code",
   "execution_count": 7,
   "id": "cbaadf89",
   "metadata": {
    "execution": {
     "iopub.execute_input": "2022-04-21T15:03:07.240428Z",
     "iopub.status.busy": "2022-04-21T15:03:07.239408Z",
     "iopub.status.idle": "2022-04-21T15:03:07.243489Z",
     "shell.execute_reply": "2022-04-21T15:03:07.242938Z"
    },
    "papermill": {
     "duration": 0.028775,
     "end_time": "2022-04-21T15:03:07.245321",
     "exception": false,
     "start_time": "2022-04-21T15:03:07.216546",
     "status": "completed"
    },
    "tags": []
   },
   "outputs": [],
   "source": [
    "#q3.hint()"
   ]
  },
  {
   "cell_type": "code",
   "execution_count": 8,
   "id": "960c8f75",
   "metadata": {
    "execution": {
     "iopub.execute_input": "2022-04-21T15:03:07.290945Z",
     "iopub.status.busy": "2022-04-21T15:03:07.290392Z",
     "iopub.status.idle": "2022-04-21T15:03:07.294600Z",
     "shell.execute_reply": "2022-04-21T15:03:07.293695Z"
    },
    "papermill": {
     "duration": 0.029131,
     "end_time": "2022-04-21T15:03:07.296592",
     "exception": false,
     "start_time": "2022-04-21T15:03:07.267461",
     "status": "completed"
    },
    "tags": []
   },
   "outputs": [],
   "source": [
    "#q3.solution()"
   ]
  },
  {
   "cell_type": "markdown",
   "id": "d3b2d03d",
   "metadata": {
    "papermill": {
     "duration": 0.021361,
     "end_time": "2022-04-21T15:03:07.341499",
     "exception": false,
     "start_time": "2022-04-21T15:03:07.320138",
     "status": "completed"
    },
    "tags": []
   },
   "source": [
    "# 4. (Optional)\n",
    "\n",
    "It may not be fun, but reading and understanding error messages will be an important part of your Python career.\n",
    "\n",
    "Each code cell below contains some commented buggy code. For each cell...\n",
    "\n",
    "1. Read the code and predict what you think will happen when it's run.\n",
    "2. Then uncomment the code and run it to see what happens. (**Tip**: In the kernel editor, you can highlight several lines and press `ctrl`+`/` to toggle commenting.)\n",
    "3. Fix the code (so that it accomplishes its intended purpose without throwing an exception)\n",
    "\n",
    "<!-- TODO: should this be autochecked? Delta is probably pretty small. -->"
   ]
  },
  {
   "cell_type": "code",
   "execution_count": 9,
   "id": "7bf44ef6",
   "metadata": {
    "execution": {
     "iopub.execute_input": "2022-04-21T15:03:07.386638Z",
     "iopub.status.busy": "2022-04-21T15:03:07.386328Z",
     "iopub.status.idle": "2022-04-21T15:03:07.391448Z",
     "shell.execute_reply": "2022-04-21T15:03:07.390921Z"
    },
    "papermill": {
     "duration": 0.029904,
     "end_time": "2022-04-21T15:03:07.393160",
     "exception": false,
     "start_time": "2022-04-21T15:03:07.363256",
     "status": "completed"
    },
    "tags": []
   },
   "outputs": [
    {
     "data": {
      "text/plain": [
       "10.0"
      ]
     },
     "execution_count": 9,
     "metadata": {},
     "output_type": "execute_result"
    }
   ],
   "source": [
    "round_to_two_places(9.9999)"
   ]
  },
  {
   "cell_type": "code",
   "execution_count": 10,
   "id": "536345e6",
   "metadata": {
    "execution": {
     "iopub.execute_input": "2022-04-21T15:03:07.439839Z",
     "iopub.status.busy": "2022-04-21T15:03:07.439022Z",
     "iopub.status.idle": "2022-04-21T15:03:07.444996Z",
     "shell.execute_reply": "2022-04-21T15:03:07.443761Z"
    },
    "papermill": {
     "duration": 0.032821,
     "end_time": "2022-04-21T15:03:07.448418",
     "exception": false,
     "start_time": "2022-04-21T15:03:07.415597",
     "status": "completed"
    },
    "tags": []
   },
   "outputs": [
    {
     "name": "stdout",
     "output_type": "stream",
     "text": [
      "5\n"
     ]
    }
   ],
   "source": [
    "x = -10\n",
    "y = 5\n",
    "# # Which of the two variables above has the smallest absolute value?\n",
    "smallest_abs = min(abs(x), abs(y))\n",
    "print(smallest_abs)"
   ]
  },
  {
   "cell_type": "code",
   "execution_count": 11,
   "id": "8c08d045",
   "metadata": {
    "execution": {
     "iopub.execute_input": "2022-04-21T15:03:07.499188Z",
     "iopub.status.busy": "2022-04-21T15:03:07.498593Z",
     "iopub.status.idle": "2022-04-21T15:03:07.504621Z",
     "shell.execute_reply": "2022-04-21T15:03:07.503701Z"
    },
    "papermill": {
     "duration": 0.033586,
     "end_time": "2022-04-21T15:03:07.506561",
     "exception": false,
     "start_time": "2022-04-21T15:03:07.472975",
     "status": "completed"
    },
    "tags": []
   },
   "outputs": [
    {
     "name": "stdout",
     "output_type": "stream",
     "text": [
      "5\n"
     ]
    }
   ],
   "source": [
    "def f(x):\n",
    "    y = abs(x)\n",
    "    return y\n",
    "\n",
    "print(f(5))"
   ]
  },
  {
   "cell_type": "markdown",
   "id": "4424dfd8",
   "metadata": {
    "papermill": {
     "duration": 0.022704,
     "end_time": "2022-04-21T15:03:07.552213",
     "exception": false,
     "start_time": "2022-04-21T15:03:07.529509",
     "status": "completed"
    },
    "tags": []
   },
   "source": [
    "# Keep Going\n",
    "\n",
    "Nice job with the code. Next up, you'll learn about *conditionals*, which you'll need to **[write interesting programs](https://www.kaggle.com/colinmorris/booleans-and-conditionals)**. "
   ]
  },
  {
   "cell_type": "markdown",
   "id": "2443e1cb",
   "metadata": {
    "papermill": {
     "duration": 0.022532,
     "end_time": "2022-04-21T15:03:07.597799",
     "exception": false,
     "start_time": "2022-04-21T15:03:07.575267",
     "status": "completed"
    },
    "tags": []
   },
   "source": [
    "---\n",
    "\n",
    "\n",
    "\n",
    "\n",
    "*Have questions or comments? Visit the [course discussion forum](https://www.kaggle.com/learn/python/discussion) to chat with other learners.*"
   ]
  }
 ],
 "metadata": {
  "kernelspec": {
   "display_name": "Python 3",
   "language": "python",
   "name": "python3"
  },
  "language_info": {
   "codemirror_mode": {
    "name": "ipython",
    "version": 3
   },
   "file_extension": ".py",
   "mimetype": "text/x-python",
   "name": "python",
   "nbconvert_exporter": "python",
   "pygments_lexer": "ipython3",
   "version": "3.7.12"
  },
  "papermill": {
   "default_parameters": {},
   "duration": 11.683494,
   "end_time": "2022-04-21T15:03:08.240682",
   "environment_variables": {},
   "exception": null,
   "input_path": "__notebook__.ipynb",
   "output_path": "__notebook__.ipynb",
   "parameters": {},
   "start_time": "2022-04-21T15:02:56.557188",
   "version": "2.3.4"
  }
 },
 "nbformat": 4,
 "nbformat_minor": 5
}
