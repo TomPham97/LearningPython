{
 "cells": [
  {
   "cell_type": "markdown",
   "id": "4028a777",
   "metadata": {
    "papermill": {
     "duration": 0.006329,
     "end_time": "2022-06-30T19:19:15.044414",
     "exception": false,
     "start_time": "2022-06-30T19:19:15.038085",
     "status": "completed"
    },
    "tags": []
   },
   "source": [
    "**This notebook is an exercise in the [Pandas](https://www.kaggle.com/learn/pandas) course.  You can reference the tutorial at [this link](https://www.kaggle.com/residentmario/renaming-and-combining).**\n",
    "\n",
    "---\n"
   ]
  },
  {
   "cell_type": "markdown",
   "id": "7e4e9be0",
   "metadata": {
    "papermill": {
     "duration": 0.005254,
     "end_time": "2022-06-30T19:19:15.055194",
     "exception": false,
     "start_time": "2022-06-30T19:19:15.049940",
     "status": "completed"
    },
    "tags": []
   },
   "source": [
    "# Introduction\n",
    "\n",
    "Run the following cell to load your data and some utility functions."
   ]
  },
  {
   "cell_type": "code",
   "execution_count": 1,
   "id": "eab45e2d",
   "metadata": {
    "execution": {
     "iopub.execute_input": "2022-06-30T19:19:15.068135Z",
     "iopub.status.busy": "2022-06-30T19:19:15.067751Z",
     "iopub.status.idle": "2022-06-30T19:19:18.919937Z",
     "shell.execute_reply": "2022-06-30T19:19:18.918373Z"
    },
    "papermill": {
     "duration": 3.862998,
     "end_time": "2022-06-30T19:19:18.923517",
     "exception": false,
     "start_time": "2022-06-30T19:19:15.060519",
     "status": "completed"
    },
    "tags": []
   },
   "outputs": [
    {
     "name": "stdout",
     "output_type": "stream",
     "text": [
      "Setup complete.\n"
     ]
    }
   ],
   "source": [
    "import pandas as pd\n",
    "\n",
    "reviews = pd.read_csv(\"../input/wine-reviews/winemag-data-130k-v2.csv\", index_col=0)\n",
    "\n",
    "from learntools.core import binder; binder.bind(globals())\n",
    "from learntools.pandas.renaming_and_combining import *\n",
    "print(\"Setup complete.\")"
   ]
  },
  {
   "cell_type": "markdown",
   "id": "f8ce9889",
   "metadata": {
    "papermill": {
     "duration": 0.006099,
     "end_time": "2022-06-30T19:19:18.935418",
     "exception": false,
     "start_time": "2022-06-30T19:19:18.929319",
     "status": "completed"
    },
    "tags": []
   },
   "source": [
    "# Exercises\n",
    "\n",
    "View the first several lines of your data by running the cell below:"
   ]
  },
  {
   "cell_type": "code",
   "execution_count": 2,
   "id": "b01b4a1c",
   "metadata": {
    "execution": {
     "iopub.execute_input": "2022-06-30T19:19:18.947871Z",
     "iopub.status.busy": "2022-06-30T19:19:18.947497Z",
     "iopub.status.idle": "2022-06-30T19:19:18.971720Z",
     "shell.execute_reply": "2022-06-30T19:19:18.970668Z"
    },
    "papermill": {
     "duration": 0.033549,
     "end_time": "2022-06-30T19:19:18.974269",
     "exception": false,
     "start_time": "2022-06-30T19:19:18.940720",
     "status": "completed"
    },
    "tags": []
   },
   "outputs": [
    {
     "data": {
      "text/html": [
       "<div>\n",
       "<style scoped>\n",
       "    .dataframe tbody tr th:only-of-type {\n",
       "        vertical-align: middle;\n",
       "    }\n",
       "\n",
       "    .dataframe tbody tr th {\n",
       "        vertical-align: top;\n",
       "    }\n",
       "\n",
       "    .dataframe thead th {\n",
       "        text-align: right;\n",
       "    }\n",
       "</style>\n",
       "<table border=\"1\" class=\"dataframe\">\n",
       "  <thead>\n",
       "    <tr style=\"text-align: right;\">\n",
       "      <th></th>\n",
       "      <th>country</th>\n",
       "      <th>description</th>\n",
       "      <th>designation</th>\n",
       "      <th>points</th>\n",
       "      <th>price</th>\n",
       "      <th>province</th>\n",
       "      <th>region_1</th>\n",
       "      <th>region_2</th>\n",
       "      <th>taster_name</th>\n",
       "      <th>taster_twitter_handle</th>\n",
       "      <th>title</th>\n",
       "      <th>variety</th>\n",
       "      <th>winery</th>\n",
       "    </tr>\n",
       "  </thead>\n",
       "  <tbody>\n",
       "    <tr>\n",
       "      <th>0</th>\n",
       "      <td>Italy</td>\n",
       "      <td>Aromas include tropical fruit, broom, brimston...</td>\n",
       "      <td>Vulkà Bianco</td>\n",
       "      <td>87</td>\n",
       "      <td>NaN</td>\n",
       "      <td>Sicily &amp; Sardinia</td>\n",
       "      <td>Etna</td>\n",
       "      <td>NaN</td>\n",
       "      <td>Kerin O’Keefe</td>\n",
       "      <td>@kerinokeefe</td>\n",
       "      <td>Nicosia 2013 Vulkà Bianco  (Etna)</td>\n",
       "      <td>White Blend</td>\n",
       "      <td>Nicosia</td>\n",
       "    </tr>\n",
       "    <tr>\n",
       "      <th>1</th>\n",
       "      <td>Portugal</td>\n",
       "      <td>This is ripe and fruity, a wine that is smooth...</td>\n",
       "      <td>Avidagos</td>\n",
       "      <td>87</td>\n",
       "      <td>15.0</td>\n",
       "      <td>Douro</td>\n",
       "      <td>NaN</td>\n",
       "      <td>NaN</td>\n",
       "      <td>Roger Voss</td>\n",
       "      <td>@vossroger</td>\n",
       "      <td>Quinta dos Avidagos 2011 Avidagos Red (Douro)</td>\n",
       "      <td>Portuguese Red</td>\n",
       "      <td>Quinta dos Avidagos</td>\n",
       "    </tr>\n",
       "    <tr>\n",
       "      <th>2</th>\n",
       "      <td>US</td>\n",
       "      <td>Tart and snappy, the flavors of lime flesh and...</td>\n",
       "      <td>NaN</td>\n",
       "      <td>87</td>\n",
       "      <td>14.0</td>\n",
       "      <td>Oregon</td>\n",
       "      <td>Willamette Valley</td>\n",
       "      <td>Willamette Valley</td>\n",
       "      <td>Paul Gregutt</td>\n",
       "      <td>@paulgwine</td>\n",
       "      <td>Rainstorm 2013 Pinot Gris (Willamette Valley)</td>\n",
       "      <td>Pinot Gris</td>\n",
       "      <td>Rainstorm</td>\n",
       "    </tr>\n",
       "    <tr>\n",
       "      <th>3</th>\n",
       "      <td>US</td>\n",
       "      <td>Pineapple rind, lemon pith and orange blossom ...</td>\n",
       "      <td>Reserve Late Harvest</td>\n",
       "      <td>87</td>\n",
       "      <td>13.0</td>\n",
       "      <td>Michigan</td>\n",
       "      <td>Lake Michigan Shore</td>\n",
       "      <td>NaN</td>\n",
       "      <td>Alexander Peartree</td>\n",
       "      <td>NaN</td>\n",
       "      <td>St. Julian 2013 Reserve Late Harvest Riesling ...</td>\n",
       "      <td>Riesling</td>\n",
       "      <td>St. Julian</td>\n",
       "    </tr>\n",
       "    <tr>\n",
       "      <th>4</th>\n",
       "      <td>US</td>\n",
       "      <td>Much like the regular bottling from 2012, this...</td>\n",
       "      <td>Vintner's Reserve Wild Child Block</td>\n",
       "      <td>87</td>\n",
       "      <td>65.0</td>\n",
       "      <td>Oregon</td>\n",
       "      <td>Willamette Valley</td>\n",
       "      <td>Willamette Valley</td>\n",
       "      <td>Paul Gregutt</td>\n",
       "      <td>@paulgwine</td>\n",
       "      <td>Sweet Cheeks 2012 Vintner's Reserve Wild Child...</td>\n",
       "      <td>Pinot Noir</td>\n",
       "      <td>Sweet Cheeks</td>\n",
       "    </tr>\n",
       "  </tbody>\n",
       "</table>\n",
       "</div>"
      ],
      "text/plain": [
       "    country                                        description  \\\n",
       "0     Italy  Aromas include tropical fruit, broom, brimston...   \n",
       "1  Portugal  This is ripe and fruity, a wine that is smooth...   \n",
       "2        US  Tart and snappy, the flavors of lime flesh and...   \n",
       "3        US  Pineapple rind, lemon pith and orange blossom ...   \n",
       "4        US  Much like the regular bottling from 2012, this...   \n",
       "\n",
       "                          designation  points  price           province  \\\n",
       "0                        Vulkà Bianco      87    NaN  Sicily & Sardinia   \n",
       "1                            Avidagos      87   15.0              Douro   \n",
       "2                                 NaN      87   14.0             Oregon   \n",
       "3                Reserve Late Harvest      87   13.0           Michigan   \n",
       "4  Vintner's Reserve Wild Child Block      87   65.0             Oregon   \n",
       "\n",
       "              region_1           region_2         taster_name  \\\n",
       "0                 Etna                NaN       Kerin O’Keefe   \n",
       "1                  NaN                NaN          Roger Voss   \n",
       "2    Willamette Valley  Willamette Valley        Paul Gregutt   \n",
       "3  Lake Michigan Shore                NaN  Alexander Peartree   \n",
       "4    Willamette Valley  Willamette Valley        Paul Gregutt   \n",
       "\n",
       "  taster_twitter_handle                                              title  \\\n",
       "0          @kerinokeefe                  Nicosia 2013 Vulkà Bianco  (Etna)   \n",
       "1            @vossroger      Quinta dos Avidagos 2011 Avidagos Red (Douro)   \n",
       "2           @paulgwine       Rainstorm 2013 Pinot Gris (Willamette Valley)   \n",
       "3                   NaN  St. Julian 2013 Reserve Late Harvest Riesling ...   \n",
       "4           @paulgwine   Sweet Cheeks 2012 Vintner's Reserve Wild Child...   \n",
       "\n",
       "          variety               winery  \n",
       "0     White Blend              Nicosia  \n",
       "1  Portuguese Red  Quinta dos Avidagos  \n",
       "2      Pinot Gris            Rainstorm  \n",
       "3        Riesling           St. Julian  \n",
       "4      Pinot Noir         Sweet Cheeks  "
      ]
     },
     "execution_count": 2,
     "metadata": {},
     "output_type": "execute_result"
    }
   ],
   "source": [
    "reviews.head()"
   ]
  },
  {
   "cell_type": "markdown",
   "id": "f60eb54f",
   "metadata": {
    "papermill": {
     "duration": 0.005674,
     "end_time": "2022-06-30T19:19:18.985995",
     "exception": false,
     "start_time": "2022-06-30T19:19:18.980321",
     "status": "completed"
    },
    "tags": []
   },
   "source": [
    "## 1.\n",
    "`region_1` and `region_2` are pretty uninformative names for locale columns in the dataset. Create a copy of `reviews` with these columns renamed to `region` and `locale`, respectively."
   ]
  },
  {
   "cell_type": "code",
   "execution_count": 3,
   "id": "a94ecf26",
   "metadata": {
    "execution": {
     "iopub.execute_input": "2022-06-30T19:19:18.999463Z",
     "iopub.status.busy": "2022-06-30T19:19:18.998865Z",
     "iopub.status.idle": "2022-06-30T19:19:19.030263Z",
     "shell.execute_reply": "2022-06-30T19:19:19.029133Z"
    },
    "papermill": {
     "duration": 0.04081,
     "end_time": "2022-06-30T19:19:19.032623",
     "exception": false,
     "start_time": "2022-06-30T19:19:18.991813",
     "status": "completed"
    },
    "tags": []
   },
   "outputs": [
    {
     "data": {
      "application/javascript": [
       "parent.postMessage({\"jupyterEvent\": \"custom.exercise_interaction\", \"data\": {\"outcomeType\": 1, \"valueTowardsCompletion\": 0.25, \"interactionType\": 1, \"questionType\": 1, \"questionId\": \"1_RenameCols\", \"learnToolsVersion\": \"0.3.4\", \"failureMessage\": \"\", \"exceptionClass\": \"\", \"trace\": \"\"}}, \"*\")"
      ],
      "text/plain": [
       "<IPython.core.display.Javascript object>"
      ]
     },
     "metadata": {},
     "output_type": "display_data"
    },
    {
     "data": {
      "text/markdown": [
       "<span style=\"color:#33cc33\">Correct</span>"
      ],
      "text/plain": [
       "Correct"
      ]
     },
     "metadata": {},
     "output_type": "display_data"
    }
   ],
   "source": [
    "# Your code here\n",
    "renamed = reviews.rename(columns = {'region_1': 'region', 'region_2': 'locale'})\n",
    "\n",
    "# Check your answer\n",
    "q1.check()"
   ]
  },
  {
   "cell_type": "code",
   "execution_count": 4,
   "id": "a63b71d3",
   "metadata": {
    "execution": {
     "iopub.execute_input": "2022-06-30T19:19:19.046981Z",
     "iopub.status.busy": "2022-06-30T19:19:19.046401Z",
     "iopub.status.idle": "2022-06-30T19:19:19.050187Z",
     "shell.execute_reply": "2022-06-30T19:19:19.049041Z"
    },
    "papermill": {
     "duration": 0.013369,
     "end_time": "2022-06-30T19:19:19.052281",
     "exception": false,
     "start_time": "2022-06-30T19:19:19.038912",
     "status": "completed"
    },
    "tags": []
   },
   "outputs": [],
   "source": [
    "#q1.hint()\n",
    "#q1.solution()"
   ]
  },
  {
   "cell_type": "markdown",
   "id": "da13f242",
   "metadata": {
    "papermill": {
     "duration": 0.005808,
     "end_time": "2022-06-30T19:19:19.064358",
     "exception": false,
     "start_time": "2022-06-30T19:19:19.058550",
     "status": "completed"
    },
    "tags": []
   },
   "source": [
    "## 2.\n",
    "Set the index name in the dataset to `wines`."
   ]
  },
  {
   "cell_type": "code",
   "execution_count": 5,
   "id": "016ef007",
   "metadata": {
    "execution": {
     "iopub.execute_input": "2022-06-30T19:19:19.078129Z",
     "iopub.status.busy": "2022-06-30T19:19:19.077760Z",
     "iopub.status.idle": "2022-06-30T19:19:19.109481Z",
     "shell.execute_reply": "2022-06-30T19:19:19.108394Z"
    },
    "papermill": {
     "duration": 0.041175,
     "end_time": "2022-06-30T19:19:19.111738",
     "exception": false,
     "start_time": "2022-06-30T19:19:19.070563",
     "status": "completed"
    },
    "tags": []
   },
   "outputs": [
    {
     "data": {
      "application/javascript": [
       "parent.postMessage({\"jupyterEvent\": \"custom.exercise_interaction\", \"data\": {\"outcomeType\": 1, \"valueTowardsCompletion\": 0.25, \"interactionType\": 1, \"questionType\": 1, \"questionId\": \"2_RenameIndex\", \"learnToolsVersion\": \"0.3.4\", \"failureMessage\": \"\", \"exceptionClass\": \"\", \"trace\": \"\"}}, \"*\")"
      ],
      "text/plain": [
       "<IPython.core.display.Javascript object>"
      ]
     },
     "metadata": {},
     "output_type": "display_data"
    },
    {
     "data": {
      "text/markdown": [
       "<span style=\"color:#33cc33\">Correct</span>"
      ],
      "text/plain": [
       "Correct"
      ]
     },
     "metadata": {},
     "output_type": "display_data"
    }
   ],
   "source": [
    "reindexed = reviews.rename_axis(\"wines\", axis = 'rows')\n",
    "\n",
    "# Check your answer\n",
    "q2.check()"
   ]
  },
  {
   "cell_type": "code",
   "execution_count": 6,
   "id": "a676397c",
   "metadata": {
    "execution": {
     "iopub.execute_input": "2022-06-30T19:19:19.127800Z",
     "iopub.status.busy": "2022-06-30T19:19:19.126707Z",
     "iopub.status.idle": "2022-06-30T19:19:19.131271Z",
     "shell.execute_reply": "2022-06-30T19:19:19.130563Z"
    },
    "papermill": {
     "duration": 0.014816,
     "end_time": "2022-06-30T19:19:19.133228",
     "exception": false,
     "start_time": "2022-06-30T19:19:19.118412",
     "status": "completed"
    },
    "tags": []
   },
   "outputs": [],
   "source": [
    "#q2.hint()\n",
    "#q2.solution()"
   ]
  },
  {
   "cell_type": "markdown",
   "id": "422524b7",
   "metadata": {
    "papermill": {
     "duration": 0.006055,
     "end_time": "2022-06-30T19:19:19.145958",
     "exception": false,
     "start_time": "2022-06-30T19:19:19.139903",
     "status": "completed"
    },
    "tags": []
   },
   "source": [
    "## 3.\n",
    "The [Things on Reddit](https://www.kaggle.com/residentmario/things-on-reddit/data) dataset includes product links from a selection of top-ranked forums (\"subreddits\") on reddit.com. Run the cell below to load a dataframe of products mentioned on the */r/gaming* subreddit and another dataframe for products mentioned on the *r//movies* subreddit."
   ]
  },
  {
   "cell_type": "code",
   "execution_count": 7,
   "id": "943e11d6",
   "metadata": {
    "execution": {
     "iopub.execute_input": "2022-06-30T19:19:19.160696Z",
     "iopub.status.busy": "2022-06-30T19:19:19.159743Z",
     "iopub.status.idle": "2022-06-30T19:19:19.173251Z",
     "shell.execute_reply": "2022-06-30T19:19:19.172538Z"
    },
    "papermill": {
     "duration": 0.023116,
     "end_time": "2022-06-30T19:19:19.175256",
     "exception": false,
     "start_time": "2022-06-30T19:19:19.152140",
     "status": "completed"
    },
    "tags": []
   },
   "outputs": [],
   "source": [
    "gaming_products = pd.read_csv(\"../input/things-on-reddit/top-things/top-things/reddits/g/gaming.csv\")\n",
    "gaming_products['subreddit'] = \"r/gaming\"\n",
    "movie_products = pd.read_csv(\"../input/things-on-reddit/top-things/top-things/reddits/m/movies.csv\")\n",
    "movie_products['subreddit'] = \"r/movies\""
   ]
  },
  {
   "cell_type": "markdown",
   "id": "2ea7c42d",
   "metadata": {
    "papermill": {
     "duration": 0.006115,
     "end_time": "2022-06-30T19:19:19.187634",
     "exception": false,
     "start_time": "2022-06-30T19:19:19.181519",
     "status": "completed"
    },
    "tags": []
   },
   "source": [
    "Create a `DataFrame` of products mentioned on *either* subreddit."
   ]
  },
  {
   "cell_type": "code",
   "execution_count": 8,
   "id": "96981734",
   "metadata": {
    "execution": {
     "iopub.execute_input": "2022-06-30T19:19:19.201262Z",
     "iopub.status.busy": "2022-06-30T19:19:19.200940Z",
     "iopub.status.idle": "2022-06-30T19:19:19.214938Z",
     "shell.execute_reply": "2022-06-30T19:19:19.213939Z"
    },
    "papermill": {
     "duration": 0.023374,
     "end_time": "2022-06-30T19:19:19.217101",
     "exception": false,
     "start_time": "2022-06-30T19:19:19.193727",
     "status": "completed"
    },
    "tags": []
   },
   "outputs": [
    {
     "data": {
      "application/javascript": [
       "parent.postMessage({\"jupyterEvent\": \"custom.exercise_interaction\", \"data\": {\"outcomeType\": 1, \"valueTowardsCompletion\": 0.25, \"interactionType\": 1, \"questionType\": 2, \"questionId\": \"3_ConcatReddit\", \"learnToolsVersion\": \"0.3.4\", \"failureMessage\": \"\", \"exceptionClass\": \"\", \"trace\": \"\"}}, \"*\")"
      ],
      "text/plain": [
       "<IPython.core.display.Javascript object>"
      ]
     },
     "metadata": {},
     "output_type": "display_data"
    },
    {
     "data": {
      "text/markdown": [
       "<span style=\"color:#33cc33\">Correct</span>"
      ],
      "text/plain": [
       "Correct"
      ]
     },
     "metadata": {},
     "output_type": "display_data"
    }
   ],
   "source": [
    "combined_products = pd.concat([gaming_products, movie_products])\n",
    "\n",
    "# Check your answer\n",
    "q3.check()"
   ]
  },
  {
   "cell_type": "code",
   "execution_count": 9,
   "id": "2d429400",
   "metadata": {
    "execution": {
     "iopub.execute_input": "2022-06-30T19:19:19.232357Z",
     "iopub.status.busy": "2022-06-30T19:19:19.231996Z",
     "iopub.status.idle": "2022-06-30T19:19:19.236188Z",
     "shell.execute_reply": "2022-06-30T19:19:19.235186Z"
    },
    "papermill": {
     "duration": 0.014299,
     "end_time": "2022-06-30T19:19:19.238285",
     "exception": false,
     "start_time": "2022-06-30T19:19:19.223986",
     "status": "completed"
    },
    "tags": []
   },
   "outputs": [],
   "source": [
    "#q3.hint()\n",
    "#q3.solution()"
   ]
  },
  {
   "cell_type": "markdown",
   "id": "1ef7283e",
   "metadata": {
    "papermill": {
     "duration": 0.006524,
     "end_time": "2022-06-30T19:19:19.251726",
     "exception": false,
     "start_time": "2022-06-30T19:19:19.245202",
     "status": "completed"
    },
    "tags": []
   },
   "source": [
    "## 4.\n",
    "The [Powerlifting Database](https://www.kaggle.com/open-powerlifting/powerlifting-database) dataset on Kaggle includes one CSV table for powerlifting meets and a separate one for powerlifting competitors. Run the cell below to load these datasets into dataframes:"
   ]
  },
  {
   "cell_type": "code",
   "execution_count": 10,
   "id": "8c95eb29",
   "metadata": {
    "execution": {
     "iopub.execute_input": "2022-06-30T19:19:19.266977Z",
     "iopub.status.busy": "2022-06-30T19:19:19.266639Z",
     "iopub.status.idle": "2022-06-30T19:19:20.065221Z",
     "shell.execute_reply": "2022-06-30T19:19:20.064356Z"
    },
    "papermill": {
     "duration": 0.808715,
     "end_time": "2022-06-30T19:19:20.067597",
     "exception": false,
     "start_time": "2022-06-30T19:19:19.258882",
     "status": "completed"
    },
    "tags": []
   },
   "outputs": [],
   "source": [
    "powerlifting_meets = pd.read_csv(\"../input/powerlifting-database/meets.csv\")\n",
    "powerlifting_competitors = pd.read_csv(\"../input/powerlifting-database/openpowerlifting.csv\")"
   ]
  },
  {
   "cell_type": "markdown",
   "id": "04e5ea53",
   "metadata": {
    "papermill": {
     "duration": 0.006969,
     "end_time": "2022-06-30T19:19:20.081886",
     "exception": false,
     "start_time": "2022-06-30T19:19:20.074917",
     "status": "completed"
    },
    "tags": []
   },
   "source": [
    "Both tables include references to a `MeetID`, a unique key for each meet (competition) included in the database. Using this, generate a dataset combining the two tables into one."
   ]
  },
  {
   "cell_type": "code",
   "execution_count": 11,
   "id": "6b627de7",
   "metadata": {
    "execution": {
     "iopub.execute_input": "2022-06-30T19:19:20.097481Z",
     "iopub.status.busy": "2022-06-30T19:19:20.096892Z",
     "iopub.status.idle": "2022-06-30T19:19:21.166613Z",
     "shell.execute_reply": "2022-06-30T19:19:21.165449Z"
    },
    "papermill": {
     "duration": 1.080027,
     "end_time": "2022-06-30T19:19:21.168911",
     "exception": false,
     "start_time": "2022-06-30T19:19:20.088884",
     "status": "completed"
    },
    "tags": []
   },
   "outputs": [
    {
     "data": {
      "application/javascript": [
       "parent.postMessage({\"jupyterEvent\": \"custom.exercise_interaction\", \"data\": {\"outcomeType\": 1, \"valueTowardsCompletion\": 0.25, \"interactionType\": 1, \"questionType\": 2, \"questionId\": \"4_JoinLifting\", \"learnToolsVersion\": \"0.3.4\", \"failureMessage\": \"\", \"exceptionClass\": \"\", \"trace\": \"\"}}, \"*\")"
      ],
      "text/plain": [
       "<IPython.core.display.Javascript object>"
      ]
     },
     "metadata": {},
     "output_type": "display_data"
    },
    {
     "data": {
      "text/markdown": [
       "<span style=\"color:#33cc33\">Correct</span>"
      ],
      "text/plain": [
       "Correct"
      ]
     },
     "metadata": {},
     "output_type": "display_data"
    }
   ],
   "source": [
    "left = powerlifting_meets.set_index('MeetID')\n",
    "right = powerlifting_competitors.set_index('MeetID')\n",
    "powerlifting_combined = left.join(right, lsuffix = '_meets', rsuffix = '_competitors')\n",
    "\n",
    "# Check your answer\n",
    "q4.check()"
   ]
  },
  {
   "cell_type": "code",
   "execution_count": 12,
   "id": "02a2df51",
   "metadata": {
    "execution": {
     "iopub.execute_input": "2022-06-30T19:19:21.184426Z",
     "iopub.status.busy": "2022-06-30T19:19:21.183723Z",
     "iopub.status.idle": "2022-06-30T19:19:21.187431Z",
     "shell.execute_reply": "2022-06-30T19:19:21.186630Z"
    },
    "papermill": {
     "duration": 0.01371,
     "end_time": "2022-06-30T19:19:21.189552",
     "exception": false,
     "start_time": "2022-06-30T19:19:21.175842",
     "status": "completed"
    },
    "tags": []
   },
   "outputs": [],
   "source": [
    "#q4.hint()\n",
    "#q4.solution()"
   ]
  },
  {
   "cell_type": "markdown",
   "id": "af722404",
   "metadata": {
    "papermill": {
     "duration": 0.0067,
     "end_time": "2022-06-30T19:19:21.203285",
     "exception": false,
     "start_time": "2022-06-30T19:19:21.196585",
     "status": "completed"
    },
    "tags": []
   },
   "source": [
    "# Congratulations!\n",
    "\n",
    "You've finished the Pandas micro-course.  Many data scientists feel efficiency with Pandas is the most useful and practical skill they have, because it allows you to progress quickly in any project you have.\n",
    "\n",
    "If you'd like to apply your new skills to examining geospatial data, you're encouraged to check out our **[Geospatial Analysis](https://www.kaggle.com/learn/geospatial-analysis)** micro-course.\n",
    "\n",
    "You can also take advantage of your Pandas skills by entering a **[Kaggle Competition](https://www.kaggle.com/competitions)** or by answering a question you find interesting using **[Kaggle Datasets](https://www.kaggle.com/datasets)**."
   ]
  },
  {
   "cell_type": "markdown",
   "id": "1c0f26b3",
   "metadata": {
    "papermill": {
     "duration": 0.006623,
     "end_time": "2022-06-30T19:19:21.216564",
     "exception": false,
     "start_time": "2022-06-30T19:19:21.209941",
     "status": "completed"
    },
    "tags": []
   },
   "source": [
    "---\n",
    "\n",
    "\n",
    "\n",
    "\n",
    "*Have questions or comments? Visit the [course discussion forum](https://www.kaggle.com/learn/pandas/discussion) to chat with other learners.*"
   ]
  }
 ],
 "metadata": {
  "kernelspec": {
   "display_name": "Python 3",
   "language": "python",
   "name": "python3"
  },
  "language_info": {
   "codemirror_mode": {
    "name": "ipython",
    "version": 3
   },
   "file_extension": ".py",
   "mimetype": "text/x-python",
   "name": "python",
   "nbconvert_exporter": "python",
   "pygments_lexer": "ipython3",
   "version": "3.7.12"
  },
  "papermill": {
   "default_parameters": {},
   "duration": 16.439053,
   "end_time": "2022-06-30T19:19:21.943869",
   "environment_variables": {},
   "exception": null,
   "input_path": "__notebook__.ipynb",
   "output_path": "__notebook__.ipynb",
   "parameters": {},
   "start_time": "2022-06-30T19:19:05.504816",
   "version": "2.3.4"
  }
 },
 "nbformat": 4,
 "nbformat_minor": 5
}
