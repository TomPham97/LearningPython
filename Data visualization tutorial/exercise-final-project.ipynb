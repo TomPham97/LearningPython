{
 "cells": [
  {
   "cell_type": "markdown",
   "id": "fddc4510",
   "metadata": {
    "papermill": {
     "duration": 0.004379,
     "end_time": "2022-07-11T21:45:35.480503",
     "exception": false,
     "start_time": "2022-07-11T21:45:35.476124",
     "status": "completed"
    },
    "tags": []
   },
   "source": [
    "**This notebook is an exercise in the [Data Visualization](https://www.kaggle.com/learn/data-visualization) course.  You can reference the tutorial at [this link](https://www.kaggle.com/alexisbcook/final-project).**\n",
    "\n",
    "---\n"
   ]
  },
  {
   "cell_type": "markdown",
   "id": "64484bde",
   "metadata": {
    "papermill": {
     "duration": 0.003353,
     "end_time": "2022-07-11T21:45:35.487483",
     "exception": false,
     "start_time": "2022-07-11T21:45:35.484130",
     "status": "completed"
    },
    "tags": []
   },
   "source": [
    "Now it's time for you to demonstrate your new skills with a project of your own!\n",
    "\n",
    "In this exercise, you will work with a dataset of your choosing.  Once you've selected a dataset, you'll design and create your own plot to tell interesting stories behind the data!\n",
    "\n",
    "## Setup\n",
    "\n",
    "Run the next cell to import and configure the Python libraries that you need to complete the exercise."
   ]
  },
  {
   "cell_type": "code",
   "execution_count": 1,
   "id": "00fb2c12",
   "metadata": {
    "execution": {
     "iopub.execute_input": "2022-07-11T21:45:35.496219Z",
     "iopub.status.busy": "2022-07-11T21:45:35.495745Z",
     "iopub.status.idle": "2022-07-11T21:45:36.606979Z",
     "shell.execute_reply": "2022-07-11T21:45:36.605512Z"
    },
    "papermill": {
     "duration": 1.119017,
     "end_time": "2022-07-11T21:45:36.609926",
     "exception": false,
     "start_time": "2022-07-11T21:45:35.490909",
     "status": "completed"
    },
    "tags": []
   },
   "outputs": [
    {
     "name": "stdout",
     "output_type": "stream",
     "text": [
      "Setup Complete\n"
     ]
    }
   ],
   "source": [
    "import pandas as pd\n",
    "pd.plotting.register_matplotlib_converters()\n",
    "import matplotlib.pyplot as plt\n",
    "%matplotlib inline\n",
    "import seaborn as sns\n",
    "print(\"Setup Complete\")"
   ]
  },
  {
   "cell_type": "markdown",
   "id": "268d8114",
   "metadata": {
    "papermill": {
     "duration": 0.003332,
     "end_time": "2022-07-11T21:45:36.618198",
     "exception": false,
     "start_time": "2022-07-11T21:45:36.614866",
     "status": "completed"
    },
    "tags": []
   },
   "source": [
    "The questions below will give you feedback on your work. Run the following cell to set up the feedback system."
   ]
  },
  {
   "cell_type": "code",
   "execution_count": 2,
   "id": "b4c0cf6d",
   "metadata": {
    "execution": {
     "iopub.execute_input": "2022-07-11T21:45:36.629328Z",
     "iopub.status.busy": "2022-07-11T21:45:36.628296Z",
     "iopub.status.idle": "2022-07-11T21:45:36.677353Z",
     "shell.execute_reply": "2022-07-11T21:45:36.676005Z"
    },
    "papermill": {
     "duration": 0.058219,
     "end_time": "2022-07-11T21:45:36.679949",
     "exception": false,
     "start_time": "2022-07-11T21:45:36.621730",
     "status": "completed"
    },
    "tags": []
   },
   "outputs": [
    {
     "name": "stdout",
     "output_type": "stream",
     "text": [
      "Setup Complete\n"
     ]
    }
   ],
   "source": [
    "# Set up code checking\n",
    "from learntools.core import binder\n",
    "binder.bind(globals())\n",
    "from learntools.data_viz_to_coder.ex7 import *\n",
    "print(\"Setup Complete\")"
   ]
  },
  {
   "cell_type": "markdown",
   "id": "e8e2341f",
   "metadata": {
    "papermill": {
     "duration": 0.003422,
     "end_time": "2022-07-11T21:45:36.688104",
     "exception": false,
     "start_time": "2022-07-11T21:45:36.684682",
     "status": "completed"
    },
    "tags": []
   },
   "source": [
    "## Step 1: Attach a dataset to the notebook\n",
    "\n",
    "Begin by selecting a CSV dataset from [Kaggle Datasets](https://www.kaggle.com/datasets).  If you're unsure how to do this, please revisit the instructions in the previous tutorial.\n",
    "\n",
    "Once you have selected a dataset, click on the **[+ Add data]** option in the top right corner.  This will generate a pop-up window that you can use to search for your chosen dataset.  \n",
    "\n",
    "![ex6_search_dataset](https://i.imgur.com/cIIWPUS.png)\n",
    "\n",
    "Once you have found the dataset, click on the **[Add]** button to attach it to the notebook.  You can check that it was successful by looking at the **Data** dropdown menu to the right of the notebook -- look for an **input** folder containing a subfolder that matches the name of the dataset.\n",
    "\n",
    "<center>\n",
    "<img src=\"https://i.imgur.com/nMYc1Nu.png\" width=30%><br/>\n",
    "</center>\n",
    "\n",
    "You can click on the carat to the left of the name of the dataset to double-check that it contains a CSV file.  For instance, the image below shows that the example dataset contains two CSV files: (1) **dc-wikia-data.csv**, and (2) **marvel-wikia-data.csv**.\n",
    "\n",
    "<center>\n",
    "<img src=\"https://i.imgur.com/B4sJkVA.png\" width=30%><br/>\n",
    "</center>\n",
    "\n",
    "Once you've uploaded a dataset with a CSV file, run the code cell below **without changes** to receive credit for your work!"
   ]
  },
  {
   "cell_type": "code",
   "execution_count": 3,
   "id": "291a2dc0",
   "metadata": {
    "execution": {
     "iopub.execute_input": "2022-07-11T21:45:36.696673Z",
     "iopub.status.busy": "2022-07-11T21:45:36.696329Z",
     "iopub.status.idle": "2022-07-11T21:45:36.711319Z",
     "shell.execute_reply": "2022-07-11T21:45:36.710220Z"
    },
    "papermill": {
     "duration": 0.0218,
     "end_time": "2022-07-11T21:45:36.713322",
     "exception": false,
     "start_time": "2022-07-11T21:45:36.691522",
     "status": "completed"
    },
    "tags": []
   },
   "outputs": [
    {
     "data": {
      "application/javascript": [
       "parent.postMessage({\"jupyterEvent\": \"custom.exercise_interaction\", \"data\": {\"outcomeType\": 1, \"valueTowardsCompletion\": 0.25, \"interactionType\": 1, \"questionType\": 2, \"questionId\": \"1_AttachData\", \"learnToolsVersion\": \"0.3.4\", \"failureMessage\": \"\", \"exceptionClass\": \"\", \"trace\": \"\"}}, \"*\")"
      ],
      "text/plain": [
       "<IPython.core.display.Javascript object>"
      ]
     },
     "metadata": {},
     "output_type": "display_data"
    },
    {
     "data": {
      "text/markdown": [
       "<span style=\"color:#33cc33\">Correct:</span> \n",
       "\n"
      ],
      "text/plain": [
       "Correct: \n"
      ]
     },
     "metadata": {},
     "output_type": "display_data"
    }
   ],
   "source": [
    "# Check for a dataset with a CSV file\n",
    "step_1.check()"
   ]
  },
  {
   "cell_type": "markdown",
   "id": "bd5f5a35",
   "metadata": {
    "papermill": {
     "duration": 0.003464,
     "end_time": "2022-07-11T21:45:36.720392",
     "exception": false,
     "start_time": "2022-07-11T21:45:36.716928",
     "status": "completed"
    },
    "tags": []
   },
   "source": [
    "## Step 2: Specify the filepath\n",
    "\n",
    "Now that the dataset is attached to the notebook, you can find its filepath.  To do this, begin by clicking on the CSV file you'd like to use.  This will open the CSV file in a tab below the notebook.  You can find the filepath towards the top of this new tab.  \n",
    "\n",
    "![ex6_filepath](https://i.imgur.com/fgXQV47.png)\n",
    "\n",
    "After you find the filepath corresponding to your dataset, fill it in as the value for `my_filepath` in the code cell below, and run the code cell to check that you've provided a valid filepath.  For instance, in the case of this example dataset, we would set\n",
    "```\n",
    "my_filepath = \"../input/fivethirtyeight-comic-characters-dataset/dc-wikia-data.csv\"\n",
    "```  \n",
    "Note that **you must enclose the filepath in quotation marks**; otherwise, the code will return an error.\n",
    "\n",
    "Once you've entered the filepath, you can close the tab below the notebook by clicking on the **[X]** at the top of the tab."
   ]
  },
  {
   "cell_type": "code",
   "execution_count": 4,
   "id": "54a699ef",
   "metadata": {
    "execution": {
     "iopub.execute_input": "2022-07-11T21:45:36.729613Z",
     "iopub.status.busy": "2022-07-11T21:45:36.728623Z",
     "iopub.status.idle": "2022-07-11T21:45:36.737611Z",
     "shell.execute_reply": "2022-07-11T21:45:36.736671Z"
    },
    "papermill": {
     "duration": 0.015491,
     "end_time": "2022-07-11T21:45:36.739369",
     "exception": false,
     "start_time": "2022-07-11T21:45:36.723878",
     "status": "completed"
    },
    "tags": []
   },
   "outputs": [
    {
     "data": {
      "application/javascript": [
       "parent.postMessage({\"jupyterEvent\": \"custom.exercise_interaction\", \"data\": {\"outcomeType\": 1, \"valueTowardsCompletion\": 0.25, \"interactionType\": 1, \"questionType\": 2, \"questionId\": \"2_Filepath\", \"learnToolsVersion\": \"0.3.4\", \"failureMessage\": \"\", \"exceptionClass\": \"\", \"trace\": \"\"}}, \"*\")"
      ],
      "text/plain": [
       "<IPython.core.display.Javascript object>"
      ]
     },
     "metadata": {},
     "output_type": "display_data"
    },
    {
     "data": {
      "text/markdown": [
       "<span style=\"color:#33cc33\">Correct:</span> \n",
       "\n"
      ],
      "text/plain": [
       "Correct: \n"
      ]
     },
     "metadata": {},
     "output_type": "display_data"
    }
   ],
   "source": [
    "# Fill in the line below: Specify the path of the CSV file to read\n",
    "my_filepath = \"../input/netflix-tv-shows-and-movies/titles.csv\"\n",
    "\n",
    "# Check for a valid filepath to a CSV file in a dataset\n",
    "step_2.check()"
   ]
  },
  {
   "cell_type": "markdown",
   "id": "81c40ecb",
   "metadata": {
    "papermill": {
     "duration": 0.003704,
     "end_time": "2022-07-11T21:45:36.746991",
     "exception": false,
     "start_time": "2022-07-11T21:45:36.743287",
     "status": "completed"
    },
    "tags": []
   },
   "source": [
    "## Step 3: Load the data\n",
    "\n",
    "Use the next code cell to load your data file into `my_data`.  Use the filepath that you specified in the previous step."
   ]
  },
  {
   "cell_type": "code",
   "execution_count": 5,
   "id": "64c22639",
   "metadata": {
    "execution": {
     "iopub.execute_input": "2022-07-11T21:45:36.756651Z",
     "iopub.status.busy": "2022-07-11T21:45:36.755988Z",
     "iopub.status.idle": "2022-07-11T21:45:36.882732Z",
     "shell.execute_reply": "2022-07-11T21:45:36.881637Z"
    },
    "papermill": {
     "duration": 0.134574,
     "end_time": "2022-07-11T21:45:36.885406",
     "exception": false,
     "start_time": "2022-07-11T21:45:36.750832",
     "status": "completed"
    },
    "tags": []
   },
   "outputs": [
    {
     "data": {
      "application/javascript": [
       "parent.postMessage({\"jupyterEvent\": \"custom.exercise_interaction\", \"data\": {\"outcomeType\": 1, \"valueTowardsCompletion\": 0.25, \"interactionType\": 1, \"questionType\": 2, \"questionId\": \"3_LoadData\", \"learnToolsVersion\": \"0.3.4\", \"failureMessage\": \"\", \"exceptionClass\": \"\", \"trace\": \"\"}}, \"*\")"
      ],
      "text/plain": [
       "<IPython.core.display.Javascript object>"
      ]
     },
     "metadata": {},
     "output_type": "display_data"
    },
    {
     "data": {
      "text/markdown": [
       "<span style=\"color:#33cc33\">Correct:</span> \n",
       "\n"
      ],
      "text/plain": [
       "Correct: \n"
      ]
     },
     "metadata": {},
     "output_type": "display_data"
    }
   ],
   "source": [
    "# Fill in the line below: Read the file into a variable my_data\n",
    "my_data = pd.read_csv(my_filepath, index_col = \"id\")\n",
    "\n",
    "# Check that a dataset has been uploaded into my_data\n",
    "step_3.check()"
   ]
  },
  {
   "cell_type": "markdown",
   "id": "67968b58",
   "metadata": {
    "papermill": {
     "duration": 0.003942,
     "end_time": "2022-07-11T21:45:36.893571",
     "exception": false,
     "start_time": "2022-07-11T21:45:36.889629",
     "status": "completed"
    },
    "tags": []
   },
   "source": [
    "**_After the code cell above is marked correct_**, run the code cell below without changes to view the first five rows of the data."
   ]
  },
  {
   "cell_type": "code",
   "execution_count": 6,
   "id": "8e8a4130",
   "metadata": {
    "execution": {
     "iopub.execute_input": "2022-07-11T21:45:36.903883Z",
     "iopub.status.busy": "2022-07-11T21:45:36.903123Z",
     "iopub.status.idle": "2022-07-11T21:45:36.927069Z",
     "shell.execute_reply": "2022-07-11T21:45:36.925966Z"
    },
    "papermill": {
     "duration": 0.031746,
     "end_time": "2022-07-11T21:45:36.929392",
     "exception": false,
     "start_time": "2022-07-11T21:45:36.897646",
     "status": "completed"
    },
    "tags": []
   },
   "outputs": [
    {
     "data": {
      "text/html": [
       "<div>\n",
       "<style scoped>\n",
       "    .dataframe tbody tr th:only-of-type {\n",
       "        vertical-align: middle;\n",
       "    }\n",
       "\n",
       "    .dataframe tbody tr th {\n",
       "        vertical-align: top;\n",
       "    }\n",
       "\n",
       "    .dataframe thead th {\n",
       "        text-align: right;\n",
       "    }\n",
       "</style>\n",
       "<table border=\"1\" class=\"dataframe\">\n",
       "  <thead>\n",
       "    <tr style=\"text-align: right;\">\n",
       "      <th></th>\n",
       "      <th>title</th>\n",
       "      <th>type</th>\n",
       "      <th>description</th>\n",
       "      <th>release_year</th>\n",
       "      <th>age_certification</th>\n",
       "      <th>runtime</th>\n",
       "      <th>genres</th>\n",
       "      <th>production_countries</th>\n",
       "      <th>seasons</th>\n",
       "      <th>imdb_id</th>\n",
       "      <th>imdb_score</th>\n",
       "      <th>imdb_votes</th>\n",
       "      <th>tmdb_popularity</th>\n",
       "      <th>tmdb_score</th>\n",
       "    </tr>\n",
       "    <tr>\n",
       "      <th>id</th>\n",
       "      <th></th>\n",
       "      <th></th>\n",
       "      <th></th>\n",
       "      <th></th>\n",
       "      <th></th>\n",
       "      <th></th>\n",
       "      <th></th>\n",
       "      <th></th>\n",
       "      <th></th>\n",
       "      <th></th>\n",
       "      <th></th>\n",
       "      <th></th>\n",
       "      <th></th>\n",
       "      <th></th>\n",
       "    </tr>\n",
       "  </thead>\n",
       "  <tbody>\n",
       "    <tr>\n",
       "      <th>ts300399</th>\n",
       "      <td>Five Came Back: The Reference Films</td>\n",
       "      <td>SHOW</td>\n",
       "      <td>This collection includes 12 World War II-era p...</td>\n",
       "      <td>1945</td>\n",
       "      <td>TV-MA</td>\n",
       "      <td>48</td>\n",
       "      <td>['documentation']</td>\n",
       "      <td>['US']</td>\n",
       "      <td>1.0</td>\n",
       "      <td>NaN</td>\n",
       "      <td>NaN</td>\n",
       "      <td>NaN</td>\n",
       "      <td>0.600</td>\n",
       "      <td>NaN</td>\n",
       "    </tr>\n",
       "    <tr>\n",
       "      <th>tm84618</th>\n",
       "      <td>Taxi Driver</td>\n",
       "      <td>MOVIE</td>\n",
       "      <td>A mentally unstable Vietnam War veteran works ...</td>\n",
       "      <td>1976</td>\n",
       "      <td>R</td>\n",
       "      <td>113</td>\n",
       "      <td>['crime', 'drama']</td>\n",
       "      <td>['US']</td>\n",
       "      <td>NaN</td>\n",
       "      <td>tt0075314</td>\n",
       "      <td>8.3</td>\n",
       "      <td>795222.0</td>\n",
       "      <td>27.612</td>\n",
       "      <td>8.2</td>\n",
       "    </tr>\n",
       "    <tr>\n",
       "      <th>tm127384</th>\n",
       "      <td>Monty Python and the Holy Grail</td>\n",
       "      <td>MOVIE</td>\n",
       "      <td>King Arthur, accompanied by his squire, recrui...</td>\n",
       "      <td>1975</td>\n",
       "      <td>PG</td>\n",
       "      <td>91</td>\n",
       "      <td>['comedy', 'fantasy']</td>\n",
       "      <td>['GB']</td>\n",
       "      <td>NaN</td>\n",
       "      <td>tt0071853</td>\n",
       "      <td>8.2</td>\n",
       "      <td>530877.0</td>\n",
       "      <td>18.216</td>\n",
       "      <td>7.8</td>\n",
       "    </tr>\n",
       "    <tr>\n",
       "      <th>tm70993</th>\n",
       "      <td>Life of Brian</td>\n",
       "      <td>MOVIE</td>\n",
       "      <td>Brian Cohen is an average young Jewish man, bu...</td>\n",
       "      <td>1979</td>\n",
       "      <td>R</td>\n",
       "      <td>94</td>\n",
       "      <td>['comedy']</td>\n",
       "      <td>['GB']</td>\n",
       "      <td>NaN</td>\n",
       "      <td>tt0079470</td>\n",
       "      <td>8.0</td>\n",
       "      <td>392419.0</td>\n",
       "      <td>17.505</td>\n",
       "      <td>7.8</td>\n",
       "    </tr>\n",
       "    <tr>\n",
       "      <th>tm190788</th>\n",
       "      <td>The Exorcist</td>\n",
       "      <td>MOVIE</td>\n",
       "      <td>12-year-old Regan MacNeil begins to adapt an e...</td>\n",
       "      <td>1973</td>\n",
       "      <td>R</td>\n",
       "      <td>133</td>\n",
       "      <td>['horror']</td>\n",
       "      <td>['US']</td>\n",
       "      <td>NaN</td>\n",
       "      <td>tt0070047</td>\n",
       "      <td>8.1</td>\n",
       "      <td>391942.0</td>\n",
       "      <td>95.337</td>\n",
       "      <td>7.7</td>\n",
       "    </tr>\n",
       "  </tbody>\n",
       "</table>\n",
       "</div>"
      ],
      "text/plain": [
       "                                        title   type  \\\n",
       "id                                                     \n",
       "ts300399  Five Came Back: The Reference Films   SHOW   \n",
       "tm84618                           Taxi Driver  MOVIE   \n",
       "tm127384      Monty Python and the Holy Grail  MOVIE   \n",
       "tm70993                         Life of Brian  MOVIE   \n",
       "tm190788                         The Exorcist  MOVIE   \n",
       "\n",
       "                                                description  release_year  \\\n",
       "id                                                                          \n",
       "ts300399  This collection includes 12 World War II-era p...          1945   \n",
       "tm84618   A mentally unstable Vietnam War veteran works ...          1976   \n",
       "tm127384  King Arthur, accompanied by his squire, recrui...          1975   \n",
       "tm70993   Brian Cohen is an average young Jewish man, bu...          1979   \n",
       "tm190788  12-year-old Regan MacNeil begins to adapt an e...          1973   \n",
       "\n",
       "         age_certification  runtime                 genres  \\\n",
       "id                                                           \n",
       "ts300399             TV-MA       48      ['documentation']   \n",
       "tm84618                  R      113     ['crime', 'drama']   \n",
       "tm127384                PG       91  ['comedy', 'fantasy']   \n",
       "tm70993                  R       94             ['comedy']   \n",
       "tm190788                 R      133             ['horror']   \n",
       "\n",
       "         production_countries  seasons    imdb_id  imdb_score  imdb_votes  \\\n",
       "id                                                                          \n",
       "ts300399               ['US']      1.0        NaN         NaN         NaN   \n",
       "tm84618                ['US']      NaN  tt0075314         8.3    795222.0   \n",
       "tm127384               ['GB']      NaN  tt0071853         8.2    530877.0   \n",
       "tm70993                ['GB']      NaN  tt0079470         8.0    392419.0   \n",
       "tm190788               ['US']      NaN  tt0070047         8.1    391942.0   \n",
       "\n",
       "          tmdb_popularity  tmdb_score  \n",
       "id                                     \n",
       "ts300399            0.600         NaN  \n",
       "tm84618            27.612         8.2  \n",
       "tm127384           18.216         7.8  \n",
       "tm70993            17.505         7.8  \n",
       "tm190788           95.337         7.7  "
      ]
     },
     "execution_count": 6,
     "metadata": {},
     "output_type": "execute_result"
    }
   ],
   "source": [
    "# Print the first five rows of the data\n",
    "my_data.head()"
   ]
  },
  {
   "cell_type": "markdown",
   "id": "ab60a8d5",
   "metadata": {
    "papermill": {
     "duration": 0.004206,
     "end_time": "2022-07-11T21:45:36.938039",
     "exception": false,
     "start_time": "2022-07-11T21:45:36.933833",
     "status": "completed"
    },
    "tags": []
   },
   "source": [
    "## Step 4: Visualize the data\n",
    "\n",
    "Use the next code cell to create a figure that tells a story behind your dataset.  You can use any chart type (_line chart, bar chart, heatmap, etc_) of your choosing!"
   ]
  },
  {
   "cell_type": "code",
   "execution_count": 7,
   "id": "7ff63fe2",
   "metadata": {
    "execution": {
     "iopub.execute_input": "2022-07-11T21:45:36.948875Z",
     "iopub.status.busy": "2022-07-11T21:45:36.947859Z",
     "iopub.status.idle": "2022-07-11T21:45:37.216854Z",
     "shell.execute_reply": "2022-07-11T21:45:37.215757Z"
    },
    "papermill": {
     "duration": 0.276668,
     "end_time": "2022-07-11T21:45:37.218994",
     "exception": false,
     "start_time": "2022-07-11T21:45:36.942326",
     "status": "completed"
    },
    "tags": []
   },
   "outputs": [
    {
     "data": {
      "application/javascript": [
       "parent.postMessage({\"jupyterEvent\": \"custom.exercise_interaction\", \"data\": {\"outcomeType\": 1, \"valueTowardsCompletion\": 0.25, \"interactionType\": 1, \"questionType\": 2, \"questionId\": \"4_CreatePlot\", \"learnToolsVersion\": \"0.3.4\", \"failureMessage\": \"\", \"exceptionClass\": \"\", \"trace\": \"\"}}, \"*\")"
      ],
      "text/plain": [
       "<IPython.core.display.Javascript object>"
      ]
     },
     "metadata": {},
     "output_type": "display_data"
    },
    {
     "data": {
      "text/markdown": [
       "<span style=\"color:#33cc33\">Correct:</span> \n",
       "\n"
      ],
      "text/plain": [
       "Correct: \n"
      ]
     },
     "metadata": {},
     "output_type": "display_data"
    },
    {
     "data": {
      "image/png": "[encoded data removed]",
      "text/plain": [
       "<Figure size 432x288 with 1 Axes>"
      ]
     },
     "metadata": {
      "needs_background": "light"
     },
     "output_type": "display_data"
    }
   ],
   "source": [
    "# Create a plot\n",
    "sns.histplot(x = my_data[\"runtime\"]) # Your code here\n",
    "\n",
    "# Check that a figure appears below\n",
    "step_4.check()"
   ]
  },
  {
   "cell_type": "markdown",
   "id": "a3a5f634",
   "metadata": {
    "papermill": {
     "duration": 0.00448,
     "end_time": "2022-07-11T21:45:37.228831",
     "exception": false,
     "start_time": "2022-07-11T21:45:37.224351",
     "status": "completed"
    },
    "tags": []
   },
   "source": [
    "## Keep going\n",
    "\n",
    "Learn how to use your skills after completing the micro-course to create data visualizations in a **[final tutorial](https://www.kaggle.com/alexisbcook/creating-your-own-notebooks)**."
   ]
  },
  {
   "cell_type": "markdown",
   "id": "80aca7e9",
   "metadata": {
    "papermill": {
     "duration": 0.004623,
     "end_time": "2022-07-11T21:45:37.238325",
     "exception": false,
     "start_time": "2022-07-11T21:45:37.233702",
     "status": "completed"
    },
    "tags": []
   },
   "source": [
    "---\n",
    "\n",
    "\n",
    "\n",
    "\n",
    "*Have questions or comments? Visit the [course discussion forum](https://www.kaggle.com/learn/data-visualization/discussion) to chat with other learners.*"
   ]
  }
 ],
 "metadata": {
  "kernelspec": {
   "display_name": "Python 3",
   "language": "python",
   "name": "python3"
  },
  "language_info": {
   "codemirror_mode": {
    "name": "ipython",
    "version": 3
   },
   "file_extension": ".py",
   "mimetype": "text/x-python",
   "name": "python",
   "nbconvert_exporter": "python",
   "pygments_lexer": "ipython3",
   "version": "3.7.12"
  },
  "papermill": {
   "default_parameters": {},
   "duration": 11.256317,
   "end_time": "2022-07-11T21:45:37.964634",
   "environment_variables": {},
   "exception": null,
   "input_path": "__notebook__.ipynb",
   "output_path": "__notebook__.ipynb",
   "parameters": {},
   "start_time": "2022-07-11T21:45:26.708317",
   "version": "2.3.4"
  }
 },
 "nbformat": 4,
 "nbformat_minor": 5
}
