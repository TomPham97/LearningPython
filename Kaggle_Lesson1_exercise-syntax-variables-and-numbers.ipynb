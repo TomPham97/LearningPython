{
 "cells": [
  {
   "cell_type": "markdown",
   "id": "9926b0bc",
   "metadata": {
    "papermill": {
     "duration": 0.026715,
     "end_time": "2022-04-21T14:24:13.579261",
     "exception": false,
     "start_time": "2022-04-21T14:24:13.552546",
     "status": "completed"
    },
    "tags": []
   },
   "source": [
    "**This notebook is an exercise in the [Python](https://www.kaggle.com/learn/python) course.  You can reference the tutorial at [this link](https://www.kaggle.com/colinmorris/hello-python).**\n",
    "\n",
    "---\n"
   ]
  },
  {
   "cell_type": "markdown",
   "id": "f5d50def",
   "metadata": {
    "papermill": {
     "duration": 0.02548,
     "end_time": "2022-04-21T14:24:13.630467",
     "exception": false,
     "start_time": "2022-04-21T14:24:13.604987",
     "status": "completed"
    },
    "tags": []
   },
   "source": [
    "Welcome to your first set of Python coding problems.  If this is your first time using Kaggle Notebooks, welcome! \n",
    "\n",
    "Notebooks are composed of blocks (called \"cells\") of text and code. Each of these is editable, though you'll mainly be editing the code cells to answer some questions.\n",
    "\n",
    "To get started, try running the code cell below (by pressing the ► button, or clicking on the cell and pressing ctrl+enter on your keyboard)."
   ]
  },
  {
   "cell_type": "code",
   "execution_count": 1,
   "id": "8f06d960",
   "metadata": {
    "execution": {
     "iopub.execute_input": "2022-04-21T14:24:13.682753Z",
     "iopub.status.busy": "2022-04-21T14:24:13.682208Z",
     "iopub.status.idle": "2022-04-21T14:24:13.692779Z",
     "shell.execute_reply": "2022-04-21T14:24:13.692237Z"
    },
    "papermill": {
     "duration": 0.038969,
     "end_time": "2022-04-21T14:24:13.694726",
     "exception": false,
     "start_time": "2022-04-21T14:24:13.655757",
     "status": "completed"
    },
    "tags": []
   },
   "outputs": [
    {
     "name": "stdout",
     "output_type": "stream",
     "text": [
      "You've successfully run some Python code\n",
      "Congratulations!\n",
      "I am using Kaggle notebook.\n"
     ]
    }
   ],
   "source": [
    "print(\"You've successfully run some Python code\")\n",
    "print(\"Congratulations!\")\n",
    "print(\"I am using Kaggle notebook.\")"
   ]
  },
  {
   "cell_type": "code",
   "execution_count": 2,
   "id": "ac585856",
   "metadata": {
    "execution": {
     "iopub.execute_input": "2022-04-21T14:24:13.748934Z",
     "iopub.status.busy": "2022-04-21T14:24:13.748442Z",
     "iopub.status.idle": "2022-04-21T14:24:13.752618Z",
     "shell.execute_reply": "2022-04-21T14:24:13.751891Z"
    },
    "papermill": {
     "duration": 0.032956,
     "end_time": "2022-04-21T14:24:13.754349",
     "exception": false,
     "start_time": "2022-04-21T14:24:13.721393",
     "status": "completed"
    },
    "tags": []
   },
   "outputs": [
    {
     "name": "stdout",
     "output_type": "stream",
     "text": [
      "Addtional cell added using Escape -> b\n"
     ]
    }
   ],
   "source": [
    "print(\"Addtional cell added using Escape -> b\")"
   ]
  },
  {
   "cell_type": "markdown",
   "id": "e058455a",
   "metadata": {
    "papermill": {
     "duration": 0.026576,
     "end_time": "2022-04-21T14:24:13.807192",
     "exception": false,
     "start_time": "2022-04-21T14:24:13.780616",
     "status": "completed"
    },
    "tags": []
   },
   "source": [
    "Try adding another line of code in the cell above and re-running it. \n",
    "\n",
    "Now let's get a little fancier:  Add a new code cell by clicking on an existing code cell, hitting the escape key, and then hitting the `a` or `b` key.  The `a` key will add a cell above the current cell, and `b` adds a cell below.\n",
    "\n",
    "Great! Now you know how to use Notebooks.\n",
    "\n",
    "Each hands-on exercise starts by setting up our feedback and code checking mechanism. Run the code cell below to do that. Then you'll be ready to move on to question 0."
   ]
  },
  {
   "cell_type": "code",
   "execution_count": 3,
   "id": "1671890d",
   "metadata": {
    "_kg_hide-input": true,
    "_kg_hide-output": true,
    "execution": {
     "iopub.execute_input": "2022-04-21T14:24:13.862016Z",
     "iopub.status.busy": "2022-04-21T14:24:13.861514Z",
     "iopub.status.idle": "2022-04-21T14:24:13.898143Z",
     "shell.execute_reply": "2022-04-21T14:24:13.897556Z"
    },
    "papermill": {
     "duration": 0.066722,
     "end_time": "2022-04-21T14:24:13.900369",
     "exception": false,
     "start_time": "2022-04-21T14:24:13.833647",
     "status": "completed"
    },
    "tags": []
   },
   "outputs": [
    {
     "name": "stdout",
     "output_type": "stream",
     "text": [
      "Setup complete! You're ready to start question 0.\n"
     ]
    }
   ],
   "source": [
    "from learntools.core import binder; binder.bind(globals())\n",
    "from learntools.python.ex1 import *\n",
    "print(\"Setup complete! You're ready to start question 0.\")"
   ]
  },
  {
   "cell_type": "markdown",
   "id": "eb90b5ac",
   "metadata": {
    "papermill": {
     "duration": 0.027908,
     "end_time": "2022-04-21T14:24:13.955696",
     "exception": false,
     "start_time": "2022-04-21T14:24:13.927788",
     "status": "completed"
    },
    "tags": []
   },
   "source": [
    "# 0.\n",
    "\n",
    "*This is a silly question intended as an introduction to the format we use for hands-on exercises throughout all Kaggle courses.*\n",
    "\n",
    "**What is your favorite color? **\n",
    "\n",
    "To complete this question, create a variable called `color` in the cell below with an appropriate value. The function call `q0.check()` (which we've already provided in the cell below) will check your answer."
   ]
  },
  {
   "cell_type": "code",
   "execution_count": 4,
   "id": "54d6f945",
   "metadata": {
    "execution": {
     "iopub.execute_input": "2022-04-21T14:24:14.010818Z",
     "iopub.status.busy": "2022-04-21T14:24:14.010287Z",
     "iopub.status.idle": "2022-04-21T14:24:14.020003Z",
     "shell.execute_reply": "2022-04-21T14:24:14.019194Z"
    },
    "papermill": {
     "duration": 0.039279,
     "end_time": "2022-04-21T14:24:14.021814",
     "exception": false,
     "start_time": "2022-04-21T14:24:13.982535",
     "status": "completed"
    },
    "tags": []
   },
   "outputs": [
    {
     "data": {
      "application/javascript": [
       "parent.postMessage({\"jupyterEvent\": \"custom.exercise_interaction\", \"data\": {\"outcomeType\": 1, \"valueTowardsCompletion\": 0.25, \"interactionType\": 1, \"questionType\": 2, \"questionId\": \"0_ExerciseFormatTutorial\", \"learnToolsVersion\": \"0.3.4\", \"failureMessage\": \"\", \"exceptionClass\": \"\", \"trace\": \"\"}}, \"*\")"
      ],
      "text/plain": [
       "<IPython.core.display.Javascript object>"
      ]
     },
     "metadata": {},
     "output_type": "display_data"
    },
    {
     "data": {
      "text/markdown": [
       "<span style=\"color:#33cc33\">Correct:</span> What?! You got it right without needing a hint or anything? Drats. Well hey, you should still continue to the next step to get some practice asking for a hint and checking solutions. (Even though you obviously don't need any help here.)"
      ],
      "text/plain": [
       "Correct: What?! You got it right without needing a hint or anything? Drats. Well hey, you should still continue to the next step to get some practice asking for a hint and checking solutions. (Even though you obviously don't need any help here.)"
      ]
     },
     "metadata": {},
     "output_type": "display_data"
    }
   ],
   "source": [
    "# create a variable called color with an appropriate value on the line below\n",
    "color = \"blue\"\n",
    "# (Remember, strings in Python must be enclosed in 'single' or \"double\" quotes)\n",
    "____\n",
    "\n",
    "# Check your answer\n",
    "q0.check()"
   ]
  },
  {
   "cell_type": "markdown",
   "id": "12e9eefb",
   "metadata": {
    "papermill": {
     "duration": 0.027883,
     "end_time": "2022-04-21T14:24:14.078450",
     "exception": false,
     "start_time": "2022-04-21T14:24:14.050567",
     "status": "completed"
    },
    "tags": []
   },
   "source": [
    "Didn't get the right answer? How do you not even know your own favorite color?!\n",
    "\n",
    "Delete the `#` in the line below to make one of the lines run. You can choose between getting a hint or the full answer by choosing which line to remove the `#` from. \n",
    "\n",
    "Removing the `#` is called uncommenting, because it changes that line from a \"comment\" which Python doesn't run to code, which Python does run."
   ]
  },
  {
   "cell_type": "code",
   "execution_count": 5,
   "id": "eff7066f",
   "metadata": {
    "execution": {
     "iopub.execute_input": "2022-04-21T14:24:14.149707Z",
     "iopub.status.busy": "2022-04-21T14:24:14.148813Z",
     "iopub.status.idle": "2022-04-21T14:24:14.158561Z",
     "shell.execute_reply": "2022-04-21T14:24:14.157666Z"
    },
    "papermill": {
     "duration": 0.047591,
     "end_time": "2022-04-21T14:24:14.160968",
     "exception": false,
     "start_time": "2022-04-21T14:24:14.113377",
     "status": "completed"
    },
    "tags": []
   },
   "outputs": [
    {
     "data": {
      "application/javascript": [
       "parent.postMessage({\"jupyterEvent\": \"custom.exercise_interaction\", \"data\": {\"interactionType\": 2, \"questionType\": 2, \"questionId\": \"0_ExerciseFormatTutorial\", \"learnToolsVersion\": \"0.3.4\", \"valueTowardsCompletion\": 0.0, \"failureMessage\": \"\", \"exceptionClass\": \"\", \"trace\": \"\", \"outcomeType\": 4}}, \"*\")"
      ],
      "text/plain": [
       "<IPython.core.display.Javascript object>"
      ]
     },
     "metadata": {},
     "output_type": "display_data"
    },
    {
     "data": {
      "text/markdown": [
       "<span style=\"color:#3366cc\">Hint:</span> Your favorite color rhymes with *glue*."
      ],
      "text/plain": [
       "Hint: Your favorite color rhymes with *glue*."
      ]
     },
     "metadata": {},
     "output_type": "display_data"
    }
   ],
   "source": [
    "q0.hint()\n",
    "#q0.solution()"
   ]
  },
  {
   "cell_type": "markdown",
   "id": "cf3191bd",
   "metadata": {
    "papermill": {
     "duration": 0.029131,
     "end_time": "2022-04-21T14:24:14.223706",
     "exception": false,
     "start_time": "2022-04-21T14:24:14.194575",
     "status": "completed"
    },
    "tags": []
   },
   "source": [
    "The upcoming questions work the same way. The only thing that will change are the question numbers. For the next question, you'll call `q1.check()`, `q1.hint()`, `q1.solution()`, for question 2, you'll call `q2.check()`, and so on."
   ]
  },
  {
   "cell_type": "markdown",
   "id": "91593884",
   "metadata": {
    "papermill": {
     "duration": 0.028715,
     "end_time": "2022-04-21T14:24:14.281628",
     "exception": false,
     "start_time": "2022-04-21T14:24:14.252913",
     "status": "completed"
    },
    "tags": []
   },
   "source": [
    "<hr/>\n",
    "\n",
    "# 1.\n",
    "\n",
    "Complete the code below. In case it's helpful, here is the table of available arithmetic operations:\n",
    "\n",
    "\n",
    "\n",
    "| Operator     | Name           | Description                                            |\n",
    "|--------------|----------------|--------------------------------------------------------|\n",
    "| ``a + b``    | Addition       | Sum of ``a`` and ``b``                                 |\n",
    "| ``a - b``    | Subtraction    | Difference of ``a`` and ``b``                          |\n",
    "| ``a * b``    | Multiplication | Product of ``a`` and ``b``                             |\n",
    "| ``a / b``    | True division  | Quotient of ``a`` and ``b``                            |\n",
    "| ``a // b``   | Floor division | Quotient of ``a`` and ``b``, removing fractional parts |\n",
    "| ``a % b``    | Modulus        | Integer remainder after division of ``a`` by ``b``     |\n",
    "| ``a ** b``   | Exponentiation | ``a`` raised to the power of ``b``                     |\n",
    "| ``-a``       | Negation       | The negative of ``a``                                  |\n",
    "\n",
    "<span style=\"display:none\"></span>\n"
   ]
  },
  {
   "cell_type": "code",
   "execution_count": 6,
   "id": "12a5b320",
   "metadata": {
    "execution": {
     "iopub.execute_input": "2022-04-21T14:24:14.341346Z",
     "iopub.status.busy": "2022-04-21T14:24:14.341051Z",
     "iopub.status.idle": "2022-04-21T14:24:14.348504Z",
     "shell.execute_reply": "2022-04-21T14:24:14.347956Z"
    },
    "papermill": {
     "duration": 0.039405,
     "end_time": "2022-04-21T14:24:14.350114",
     "exception": false,
     "start_time": "2022-04-21T14:24:14.310709",
     "status": "completed"
    },
    "tags": []
   },
   "outputs": [
    {
     "data": {
      "application/javascript": [
       "parent.postMessage({\"jupyterEvent\": \"custom.exercise_interaction\", \"data\": {\"outcomeType\": 1, \"valueTowardsCompletion\": 0.25, \"interactionType\": 1, \"questionType\": 1, \"questionId\": \"1_CircleArea\", \"learnToolsVersion\": \"0.3.4\", \"failureMessage\": \"\", \"exceptionClass\": \"\", \"trace\": \"\"}}, \"*\")"
      ],
      "text/plain": [
       "<IPython.core.display.Javascript object>"
      ]
     },
     "metadata": {},
     "output_type": "display_data"
    },
    {
     "data": {
      "text/markdown": [
       "<span style=\"color:#33cc33\">Correct</span>"
      ],
      "text/plain": [
       "Correct"
      ]
     },
     "metadata": {},
     "output_type": "display_data"
    }
   ],
   "source": [
    "pi = 3.14159 # approximate\n",
    "diameter = 3\n",
    "\n",
    "# Create a variable called 'radius' equal to half the diameter\n",
    "radius = diameter / 2\n",
    "____\n",
    "\n",
    "# Create a variable called 'area', using the formula \n",
    "# for the area of a circle: pi times the radius squared\n",
    "area = pi * (radius ** 2)\n",
    "____\n",
    "\n",
    "# Check your answer\n",
    "q1.check()"
   ]
  },
  {
   "cell_type": "code",
   "execution_count": 7,
   "id": "5759e8f9",
   "metadata": {
    "execution": {
     "iopub.execute_input": "2022-04-21T14:24:14.412566Z",
     "iopub.status.busy": "2022-04-21T14:24:14.412023Z",
     "iopub.status.idle": "2022-04-21T14:24:14.415084Z",
     "shell.execute_reply": "2022-04-21T14:24:14.414503Z"
    },
    "papermill": {
     "duration": 0.036783,
     "end_time": "2022-04-21T14:24:14.417109",
     "exception": false,
     "start_time": "2022-04-21T14:24:14.380326",
     "status": "completed"
    },
    "tags": []
   },
   "outputs": [],
   "source": [
    "# Uncomment and run the lines below if you need help.\n",
    "#q1.hint()\n",
    "#q1.solution()"
   ]
  },
  {
   "cell_type": "markdown",
   "id": "10739553",
   "metadata": {
    "papermill": {
     "duration": 0.030109,
     "end_time": "2022-04-21T14:24:14.477770",
     "exception": false,
     "start_time": "2022-04-21T14:24:14.447661",
     "status": "completed"
    },
    "tags": []
   },
   "source": [
    "<hr/>\n",
    "\n",
    "# 2.\n",
    "\n",
    "Add code to the following cell to swap variables `a` and `b` (so that `a` refers to the object previously referred to by `b` and vice versa)."
   ]
  },
  {
   "cell_type": "code",
   "execution_count": 8,
   "id": "f835aa9e",
   "metadata": {
    "execution": {
     "iopub.execute_input": "2022-04-21T14:24:14.540403Z",
     "iopub.status.busy": "2022-04-21T14:24:14.539745Z",
     "iopub.status.idle": "2022-04-21T14:24:14.547057Z",
     "shell.execute_reply": "2022-04-21T14:24:14.546575Z"
    },
    "papermill": {
     "duration": 0.040326,
     "end_time": "2022-04-21T14:24:14.548615",
     "exception": false,
     "start_time": "2022-04-21T14:24:14.508289",
     "status": "completed"
    },
    "tags": []
   },
   "outputs": [
    {
     "data": {
      "application/javascript": [
       "parent.postMessage({\"jupyterEvent\": \"custom.exercise_interaction\", \"data\": {\"outcomeType\": 1, \"valueTowardsCompletion\": 0.25, \"interactionType\": 1, \"questionType\": 2, \"questionId\": \"2_VariableSwap\", \"learnToolsVersion\": \"0.3.4\", \"failureMessage\": \"\", \"exceptionClass\": \"\", \"trace\": \"\"}}, \"*\")"
      ],
      "text/plain": [
       "<IPython.core.display.Javascript object>"
      ]
     },
     "metadata": {},
     "output_type": "display_data"
    },
    {
     "data": {
      "text/markdown": [
       "<span style=\"color:#33cc33\">Correct:</span> \n",
       "\n",
       "The most straightforward solution is to use a third variable to temporarily store one of the old values. e.g.:\n",
       "\n",
       "    tmp = a\n",
       "    a = b\n",
       "    b = tmp\n",
       "\n",
       "If you've read lots of Python code, you might have seen the following trick to swap two variables in one line:\n",
       "\n",
       "    a, b = b, a\n",
       "\n",
       "We'll demystify this bit of Python magic later when we talk about *tuples*."
      ],
      "text/plain": [
       "Correct: \n",
       "\n",
       "The most straightforward solution is to use a third variable to temporarily store one of the old values. e.g.:\n",
       "\n",
       "    tmp = a\n",
       "    a = b\n",
       "    b = tmp\n",
       "\n",
       "If you've read lots of Python code, you might have seen the following trick to swap two variables in one line:\n",
       "\n",
       "    a, b = b, a\n",
       "\n",
       "We'll demystify this bit of Python magic later when we talk about *tuples*."
      ]
     },
     "metadata": {},
     "output_type": "display_data"
    }
   ],
   "source": [
    "########### Setup code - don't touch this part ######################\n",
    "# If you're curious, these are examples of lists. We'll talk about \n",
    "# them in depth a few lessons from now. For now, just know that they're\n",
    "# yet another type of Python object, like int or float.\n",
    "a = [1, 2, 3]\n",
    "b = [3, 2, 1]\n",
    "q2.store_original_ids()\n",
    "######################################################################\n",
    "\n",
    "# Your code goes here. Swap the values to which a and b refer.\n",
    "# If you get stuck, you can always uncomment one or both of the lines in\n",
    "# the next cell for a hint, or to peek at the solution.\n",
    "c = a\n",
    "d = b\n",
    "a = d\n",
    "b = c\n",
    "\n",
    "######################################################################\n",
    "\n",
    "# Check your answer\n",
    "q2.check()"
   ]
  },
  {
   "cell_type": "code",
   "execution_count": 9,
   "id": "3c57c7b7",
   "metadata": {
    "execution": {
     "iopub.execute_input": "2022-04-21T14:24:14.613860Z",
     "iopub.status.busy": "2022-04-21T14:24:14.613356Z",
     "iopub.status.idle": "2022-04-21T14:24:14.619048Z",
     "shell.execute_reply": "2022-04-21T14:24:14.618509Z"
    },
    "papermill": {
     "duration": 0.040656,
     "end_time": "2022-04-21T14:24:14.620772",
     "exception": false,
     "start_time": "2022-04-21T14:24:14.580116",
     "status": "completed"
    },
    "tags": []
   },
   "outputs": [
    {
     "data": {
      "application/javascript": [
       "parent.postMessage({\"jupyterEvent\": \"custom.exercise_interaction\", \"data\": {\"interactionType\": 2, \"questionType\": 2, \"questionId\": \"2_VariableSwap\", \"learnToolsVersion\": \"0.3.4\", \"valueTowardsCompletion\": 0.0, \"failureMessage\": \"\", \"exceptionClass\": \"\", \"trace\": \"\", \"outcomeType\": 4}}, \"*\")"
      ],
      "text/plain": [
       "<IPython.core.display.Javascript object>"
      ]
     },
     "metadata": {},
     "output_type": "display_data"
    },
    {
     "data": {
      "text/markdown": [
       "<span style=\"color:#3366cc\">Hint:</span> Try using a third variable."
      ],
      "text/plain": [
       "Hint: Try using a third variable."
      ]
     },
     "metadata": {},
     "output_type": "display_data"
    }
   ],
   "source": [
    "q2.hint()"
   ]
  },
  {
   "cell_type": "code",
   "execution_count": 10,
   "id": "43e5335a",
   "metadata": {
    "execution": {
     "iopub.execute_input": "2022-04-21T14:24:14.688759Z",
     "iopub.status.busy": "2022-04-21T14:24:14.688178Z",
     "iopub.status.idle": "2022-04-21T14:24:14.691618Z",
     "shell.execute_reply": "2022-04-21T14:24:14.690964Z"
    },
    "papermill": {
     "duration": 0.039843,
     "end_time": "2022-04-21T14:24:14.693574",
     "exception": false,
     "start_time": "2022-04-21T14:24:14.653731",
     "status": "completed"
    },
    "tags": []
   },
   "outputs": [],
   "source": [
    "#q2.solution()"
   ]
  },
  {
   "cell_type": "markdown",
   "id": "55b699c2",
   "metadata": {
    "papermill": {
     "duration": 0.033156,
     "end_time": "2022-04-21T14:24:14.760019",
     "exception": false,
     "start_time": "2022-04-21T14:24:14.726863",
     "status": "completed"
    },
    "tags": []
   },
   "source": [
    "<hr/>\n",
    "\n",
    "# 3a.\n",
    "\n",
    "Add parentheses to the following expression so that it evaluates to 1."
   ]
  },
  {
   "cell_type": "code",
   "execution_count": 11,
   "id": "8d57c499",
   "metadata": {
    "execution": {
     "iopub.execute_input": "2022-04-21T14:24:14.829822Z",
     "iopub.status.busy": "2022-04-21T14:24:14.828832Z",
     "iopub.status.idle": "2022-04-21T14:24:14.834016Z",
     "shell.execute_reply": "2022-04-21T14:24:14.833428Z"
    },
    "papermill": {
     "duration": 0.041656,
     "end_time": "2022-04-21T14:24:14.835844",
     "exception": false,
     "start_time": "2022-04-21T14:24:14.794188",
     "status": "completed"
    },
    "tags": []
   },
   "outputs": [
    {
     "data": {
      "text/plain": [
       "1"
      ]
     },
     "execution_count": 11,
     "metadata": {},
     "output_type": "execute_result"
    }
   ],
   "source": [
    "(5 - 3) // 2"
   ]
  },
  {
   "cell_type": "code",
   "execution_count": 12,
   "id": "cc5280e1",
   "metadata": {
    "execution": {
     "iopub.execute_input": "2022-04-21T14:24:14.905181Z",
     "iopub.status.busy": "2022-04-21T14:24:14.904694Z",
     "iopub.status.idle": "2022-04-21T14:24:14.907593Z",
     "shell.execute_reply": "2022-04-21T14:24:14.907060Z"
    },
    "papermill": {
     "duration": 0.039559,
     "end_time": "2022-04-21T14:24:14.909299",
     "exception": false,
     "start_time": "2022-04-21T14:24:14.869740",
     "status": "completed"
    },
    "tags": []
   },
   "outputs": [],
   "source": [
    "#q3.a.hint()"
   ]
  },
  {
   "cell_type": "code",
   "execution_count": 13,
   "id": "57048419",
   "metadata": {
    "execution": {
     "iopub.execute_input": "2022-04-21T14:24:14.980144Z",
     "iopub.status.busy": "2022-04-21T14:24:14.979843Z",
     "iopub.status.idle": "2022-04-21T14:24:14.986788Z",
     "shell.execute_reply": "2022-04-21T14:24:14.985947Z"
    },
    "papermill": {
     "duration": 0.044973,
     "end_time": "2022-04-21T14:24:14.988827",
     "exception": false,
     "start_time": "2022-04-21T14:24:14.943854",
     "status": "completed"
    },
    "tags": []
   },
   "outputs": [
    {
     "data": {
      "application/javascript": [
       "parent.postMessage({\"jupyterEvent\": \"custom.exercise_interaction\", \"data\": {\"interactionType\": 3, \"questionType\": 4, \"questionId\": \"3.1_ArithmeticParensEasy\", \"learnToolsVersion\": \"0.3.4\", \"valueTowardsCompletion\": 0.0, \"failureMessage\": \"\", \"exceptionClass\": \"\", \"trace\": \"\", \"outcomeType\": 4}}, \"*\")"
      ],
      "text/plain": [
       "<IPython.core.display.Javascript object>"
      ]
     },
     "metadata": {},
     "output_type": "display_data"
    },
    {
     "data": {
      "text/markdown": [
       "<span style=\"color:#33cc99\">Solution:</span> \n",
       "```python\n",
       "(5 - 3) // 2\n",
       "```"
      ],
      "text/plain": [
       "Solution: \n",
       "```python\n",
       "(5 - 3) // 2\n",
       "```"
      ]
     },
     "metadata": {},
     "output_type": "display_data"
    }
   ],
   "source": [
    "# Check your answer (Run this code cell to receive credit!)\n",
    "q3.a.solution()"
   ]
  },
  {
   "cell_type": "markdown",
   "id": "b45b75ca",
   "metadata": {
    "papermill": {
     "duration": 0.035117,
     "end_time": "2022-04-21T14:24:15.059195",
     "exception": false,
     "start_time": "2022-04-21T14:24:15.024078",
     "status": "completed"
    },
    "tags": []
   },
   "source": [
    "# 3b.  <span title=\"A bit spicy\" style=\"color: darkgreen \">🌶️</span>\n",
    "\n",
    "<small>Questions, like this one, marked a spicy pepper are a bit harder.</small>\n",
    "\n",
    "Add parentheses to the following expression so that it evaluates to 0."
   ]
  },
  {
   "cell_type": "code",
   "execution_count": 14,
   "id": "6d97f011",
   "metadata": {
    "execution": {
     "iopub.execute_input": "2022-04-21T14:24:15.131548Z",
     "iopub.status.busy": "2022-04-21T14:24:15.130944Z",
     "iopub.status.idle": "2022-04-21T14:24:15.136620Z",
     "shell.execute_reply": "2022-04-21T14:24:15.136031Z"
    },
    "papermill": {
     "duration": 0.044025,
     "end_time": "2022-04-21T14:24:15.138339",
     "exception": false,
     "start_time": "2022-04-21T14:24:15.094314",
     "status": "completed"
    },
    "tags": []
   },
   "outputs": [
    {
     "data": {
      "text/plain": [
       "0"
      ]
     },
     "execution_count": 14,
     "metadata": {},
     "output_type": "execute_result"
    }
   ],
   "source": [
    "(8 - 3) * (2 - (1 + 1))"
   ]
  },
  {
   "cell_type": "code",
   "execution_count": 15,
   "id": "a49cb47a",
   "metadata": {
    "execution": {
     "iopub.execute_input": "2022-04-21T14:24:15.211104Z",
     "iopub.status.busy": "2022-04-21T14:24:15.210313Z",
     "iopub.status.idle": "2022-04-21T14:24:15.214241Z",
     "shell.execute_reply": "2022-04-21T14:24:15.213463Z"
    },
    "papermill": {
     "duration": 0.042437,
     "end_time": "2022-04-21T14:24:15.216244",
     "exception": false,
     "start_time": "2022-04-21T14:24:15.173807",
     "status": "completed"
    },
    "tags": []
   },
   "outputs": [],
   "source": [
    "#q3.b.hint()"
   ]
  },
  {
   "cell_type": "code",
   "execution_count": 16,
   "id": "81c1ea0e",
   "metadata": {
    "execution": {
     "iopub.execute_input": "2022-04-21T14:24:15.288893Z",
     "iopub.status.busy": "2022-04-21T14:24:15.288618Z",
     "iopub.status.idle": "2022-04-21T14:24:15.294554Z",
     "shell.execute_reply": "2022-04-21T14:24:15.294037Z"
    },
    "papermill": {
     "duration": 0.04429,
     "end_time": "2022-04-21T14:24:15.296272",
     "exception": false,
     "start_time": "2022-04-21T14:24:15.251982",
     "status": "completed"
    },
    "tags": []
   },
   "outputs": [
    {
     "data": {
      "application/javascript": [
       "parent.postMessage({\"jupyterEvent\": \"custom.exercise_interaction\", \"data\": {\"interactionType\": 3, \"questionType\": 4, \"questionId\": \"3.2_ArithmeticParensHard\", \"learnToolsVersion\": \"0.3.4\", \"valueTowardsCompletion\": 0.0, \"failureMessage\": \"\", \"exceptionClass\": \"\", \"trace\": \"\", \"outcomeType\": 4}}, \"*\")"
      ],
      "text/plain": [
       "<IPython.core.display.Javascript object>"
      ]
     },
     "metadata": {},
     "output_type": "display_data"
    },
    {
     "data": {
      "text/markdown": [
       "<span style=\"color:#33cc99\">Solution:</span> `(8 - 3) * (2 - (1 + 1))` is one solution. There may be others."
      ],
      "text/plain": [
       "Solution: `(8 - 3) * (2 - (1 + 1))` is one solution. There may be others."
      ]
     },
     "metadata": {},
     "output_type": "display_data"
    }
   ],
   "source": [
    "# Check your answer (Run this code cell to receive credit!)\n",
    "q3.b.solution()"
   ]
  },
  {
   "cell_type": "markdown",
   "id": "ac531b8b",
   "metadata": {
    "papermill": {
     "duration": 0.036609,
     "end_time": "2022-04-21T14:24:15.369353",
     "exception": false,
     "start_time": "2022-04-21T14:24:15.332744",
     "status": "completed"
    },
    "tags": []
   },
   "source": [
    "<hr/>\n",
    "\n",
    "# 4. \n",
    "Alice, Bob and Carol have agreed to pool their Halloween candy and split it evenly among themselves.\n",
    "For the sake of their friendship, any candies left over will be smashed. For example, if they collectively\n",
    "bring home 91 candies, they'll take 30 each and smash 1.\n",
    "\n",
    "Write an arithmetic expression below to calculate how many candies they must smash for a given haul."
   ]
  },
  {
   "cell_type": "code",
   "execution_count": 17,
   "id": "de4f042f",
   "metadata": {
    "execution": {
     "iopub.execute_input": "2022-04-21T14:24:15.444107Z",
     "iopub.status.busy": "2022-04-21T14:24:15.443828Z",
     "iopub.status.idle": "2022-04-21T14:24:15.451512Z",
     "shell.execute_reply": "2022-04-21T14:24:15.450654Z"
    },
    "papermill": {
     "duration": 0.047398,
     "end_time": "2022-04-21T14:24:15.453316",
     "exception": false,
     "start_time": "2022-04-21T14:24:15.405918",
     "status": "completed"
    },
    "tags": []
   },
   "outputs": [
    {
     "data": {
      "application/javascript": [
       "parent.postMessage({\"jupyterEvent\": \"custom.exercise_interaction\", \"data\": {\"outcomeType\": 1, \"valueTowardsCompletion\": 0.25, \"interactionType\": 1, \"questionType\": 1, \"questionId\": \"4_CandySplitting\", \"learnToolsVersion\": \"0.3.4\", \"failureMessage\": \"\", \"exceptionClass\": \"\", \"trace\": \"\"}}, \"*\")"
      ],
      "text/plain": [
       "<IPython.core.display.Javascript object>"
      ]
     },
     "metadata": {},
     "output_type": "display_data"
    },
    {
     "data": {
      "text/markdown": [
       "<span style=\"color:#33cc33\">Correct</span>"
      ],
      "text/plain": [
       "Correct"
      ]
     },
     "metadata": {},
     "output_type": "display_data"
    }
   ],
   "source": [
    "# Variables representing the number of candies collected by alice, bob, and carol\n",
    "alice_candies = 121\n",
    "bob_candies = 77\n",
    "carol_candies = 109\n",
    "\n",
    "# Your code goes here! Replace the right-hand side of this assignment with an expression\n",
    "# involving alice_candies, bob_candies, and carol_candies\n",
    "to_smash = (alice_candies + bob_candies + carol_candies) % 3\n",
    "\n",
    "# Check your answer\n",
    "q4.check()"
   ]
  },
  {
   "cell_type": "code",
   "execution_count": 18,
   "id": "6016804b",
   "metadata": {
    "execution": {
     "iopub.execute_input": "2022-04-21T14:24:15.530284Z",
     "iopub.status.busy": "2022-04-21T14:24:15.529863Z",
     "iopub.status.idle": "2022-04-21T14:24:15.533229Z",
     "shell.execute_reply": "2022-04-21T14:24:15.532631Z"
    },
    "papermill": {
     "duration": 0.043805,
     "end_time": "2022-04-21T14:24:15.534919",
     "exception": false,
     "start_time": "2022-04-21T14:24:15.491114",
     "status": "completed"
    },
    "tags": []
   },
   "outputs": [],
   "source": [
    "#q4.hint()\n",
    "#q4.solution()"
   ]
  },
  {
   "cell_type": "markdown",
   "id": "a92cc1a0",
   "metadata": {
    "papermill": {
     "duration": 0.037928,
     "end_time": "2022-04-21T14:24:15.611048",
     "exception": false,
     "start_time": "2022-04-21T14:24:15.573120",
     "status": "completed"
    },
    "tags": []
   },
   "source": [
    "# Keep Going\n",
    "\n",
    "Next up, you'll **[learn to write new functions and understand functions others write](https://www.kaggle.com/colinmorris/functions-and-getting-help)**. This will make you at least 10 times more productive as a Python programmer. "
   ]
  },
  {
   "cell_type": "markdown",
   "id": "cf3ea285",
   "metadata": {
    "papermill": {
     "duration": 0.0377,
     "end_time": "2022-04-21T14:24:15.687032",
     "exception": false,
     "start_time": "2022-04-21T14:24:15.649332",
     "status": "completed"
    },
    "tags": []
   },
   "source": [
    "---\n",
    "\n",
    "\n",
    "\n",
    "\n",
    "*Have questions or comments? Visit the [course discussion forum](https://www.kaggle.com/learn/python/discussion) to chat with other learners.*"
   ]
  }
 ],
 "metadata": {
  "kernelspec": {
   "display_name": "Python 3",
   "language": "python",
   "name": "python3"
  },
  "language_info": {
   "codemirror_mode": {
    "name": "ipython",
    "version": 3
   },
   "file_extension": ".py",
   "mimetype": "text/x-python",
   "name": "python",
   "nbconvert_exporter": "python",
   "pygments_lexer": "ipython3",
   "version": "3.7.12"
  },
  "papermill": {
   "default_parameters": {},
   "duration": 12.354366,
   "end_time": "2022-04-21T14:24:16.345744",
   "environment_variables": {},
   "exception": null,
   "input_path": "__notebook__.ipynb",
   "output_path": "__notebook__.ipynb",
   "parameters": {},
   "start_time": "2022-04-21T14:24:03.991378",
   "version": "2.3.4"
  }
 },
 "nbformat": 4,
 "nbformat_minor": 5
}
